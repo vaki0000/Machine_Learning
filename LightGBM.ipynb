{
 "cells": [
  {
   "cell_type": "code",
   "execution_count": 3,
   "id": "e5265353-d230-4974-a7d7-185aaa14ee1a",
   "metadata": {
    "tags": []
   },
   "outputs": [],
   "source": [
    "# libraries for EDA\n",
    "import numpy as np\n",
    "import pandas as pd\n",
    "import matplotlib.pyplot as plt\n",
    "import seaborn as sns\n",
    "\n",
    "#To display the plots\n",
    "%matplotlib inline\n",
    "\n",
    "# scikit learn library for machine learning algorithms, data preprocessing, and evaluation\n",
    "from sklearn.preprocessing import StandardScaler, MinMaxScaler, RobustScaler, OrdinalEncoder, LabelEncoder, OneHotEncoder\n",
    "#from sklearn.model_selection import train_test_split, GridSearchCV, HalvingGridSearchCV, RandomizedSearchCV, cross_validate, cross_val_score\n",
    "from sklearn.experimental import enable_halving_search_cv\n",
    "from sklearn.linear_model import LogisticRegression\n",
    "from sklearn.svm import SVC\n",
    "from sklearn.neighbors import KNeighborsClassifier\n",
    "from sklearn.tree import DecisionTreeClassifier\n",
    "from sklearn.ensemble import BaggingClassifier, RandomForestClassifier\n",
    "from xgboost import XGBClassifier\n",
    "\n",
    "from sklearn.metrics import classification_report, confusion_matrix, log_loss, recall_score, accuracy_score, precision_score, f1_score, roc_auc_score\n",
    "from sklearn.metrics import make_scorer, average_precision_score, PrecisionRecallDisplay, precision_recall_curve, roc_curve\n",
    "from sklearn.metrics import ConfusionMatrixDisplay\n",
    "\n",
    "from sklearn.compose import make_column_transformer, ColumnTransformer\n",
    "from sklearn.preprocessing import MinMaxScaler, StandardScaler, RobustScaler, PowerTransformer\n",
    "from sklearn.pipeline import Pipeline\n",
    "\n",
    "import scikitplot as skplt\n",
    "\n",
    "# yellowbrick library for visualizing the model performance\n",
    "from yellowbrick.classifier import ConfusionMatrix, PrecisionRecallCurve\n",
    "from yellowbrick.classifier import PrecisionRecallCurve\n",
    "from sklearn.pipeline import Pipeline\n",
    "\n",
    "# to get rid of the warnings\n",
    "import warnings\n",
    "warnings.filterwarnings(\"ignore\")\n",
    "warnings.warn(\"this will not show\")\n",
    "\n",
    "plt.rcParams[\"figure.figsize\"] = (10,6)\n",
    "sns.set_style(\"whitegrid\", {'axes.grid' : True})\n",
    "\n",
    "# To display maximum columns\n",
    "pd.set_option('display.max_columns', 50)\n",
    "\n",
    "# To display maximum rows\n",
    "pd.set_option('display.max_rows', 50)\n",
    "\n",
    "# To set float format\n",
    "pd.set_option('display.float_format', lambda x: '%.2f' % x)"
   ]
  },
  {
   "cell_type": "code",
   "execution_count": 4,
   "id": "15723d03-99e7-4bbc-9b64-2a86a3980e50",
   "metadata": {
    "tags": []
   },
   "outputs": [],
   "source": [
    "def eval_metric(model, X, y, test):   \n",
    "    y_pred = model.predict(test)\n",
    "    y_train_pred = model.predict(X)\n",
    "    \n",
    "    print(\"Test_Set\")\n",
    "    print(confusion_matrix(y_test, y_pred))\n",
    "    print(classification_report(y_test, y_pred))\n",
    "    print()\n",
    "    print(\"Train_Set\")\n",
    "    print(confusion_matrix(y_train, y_train_pred))\n",
    "    print(classification_report(y_train, y_train_pred))"
   ]
  },
  {
   "cell_type": "code",
   "execution_count": 5,
   "id": "494d144d-5b6e-4c29-b216-9b0dc77aa92e",
   "metadata": {
    "tags": []
   },
   "outputs": [],
   "source": [
    "train = pd.read_csv('train.csv')\n",
    "test = pd.read_csv('test_x.csv')\n",
    "\n",
    "df = train.copy()"
   ]
  },
  {
   "cell_type": "code",
   "execution_count": null,
   "id": "5c082272",
   "metadata": {},
   "outputs": [],
   "source": [
    "from sklearn.ensemble import RandomForestClassifier\n",
    "\n",
    "X = train.drop(columns=[\"Obek İsmi\"])\n",
    "y = train[\"Obek İsmi\"]\n",
    "clf = RandomForestClassifier(max_depth=2, random_state=0)\n",
    "clf.fit(X, y)\n",
    "clf.predict(test)\n"
   ]
  },
  {
   "cell_type": "code",
   "execution_count": 6,
   "id": "bf698cca-cf42-4e75-ad0b-589d13d9cbbf",
   "metadata": {
    "tags": []
   },
   "outputs": [],
   "source": [
    "from sklearn.model_selection import train_test_split\n",
    "\n",
    "X = df.drop(\"Öbek İsmi\", axis=1)\n",
    "y = df[\"Öbek İsmi\"]\n",
    "\n",
    "X_test=test\n",
    "y_test=test\n",
    "\n",
    "#X_train, X_test, y_train, y_test = train_test_split(X, y, test_size=0.2, stratify=y, random_state=42)"
   ]
  },
  {
   "cell_type": "raw",
   "id": "42f8ac52-bdea-4732-aee6-469ac3e28f76",
   "metadata": {},
   "source": [
    "cat_onehot = ['Cinsiyet', 'Medeni Durum', 'İstihdam Durumu', 'En Çok İlgilendiği Ürün Grubu', 'Eğitime Devam Etme Durumu']\n",
    "cat_ordinal = ['Yaş Grubu', 'Eğitim Düzeyi', 'Yaşadığı Şehir']\n",
    "\n",
    "yaş = ['18-30', '31-40', '41-50', '51-60', '>60']\n",
    "eğitim = ['Eğitimsiz', 'İlkokul Mezunu', 'Ortaokul Mezunu',\n",
    "              'Lise Mezunu', 'Yüksekokul Mezunu', 'Üniversite Mezunu',\n",
    "              'Yüksek Lisans Mezunu', 'Doktora Mezunu', 'Doktora Ötesi']\n",
    "şehir = ['Köy veya Kasaba', 'Kırsal', 'Küçük Şehir', 'Büyük Şehir']"
   ]
  },
  {
   "cell_type": "raw",
   "id": "4e3948a2-aa71-4c09-8704-ed6170dee27a",
   "metadata": {},
   "source": [
    "from sklearn.compose import make_column_transformer\n",
    "from sklearn.preprocessing import OneHotEncoder, OrdinalEncoder\n",
    "\n",
    "column_trans = make_column_transformer(\n",
    "                        (OneHotEncoder(handle_unknown='ignore', sparse=False), cat_onehot), \n",
    "                        (OrdinalEncoder(categories = [yaş, eğitim, şehir]), cat_ordinal),\n",
    "                         remainder=StandardScaler(), \n",
    "                         verbose_feature_names_out=False) "
   ]
  },
  {
   "cell_type": "code",
   "execution_count": 11,
   "id": "7a9aa915-3c1e-44b4-853d-38f52114f598",
   "metadata": {
    "tags": []
   },
   "outputs": [
    {
     "data": {
      "text/plain": [
       "Index(['Cinsiyet', 'Yaş Grubu', 'Medeni Durum', 'Eğitim Düzeyi',\n",
       "       'İstihdam Durumu', 'Yaşadığı Şehir', 'En Çok İlgilendiği Ürün Grubu',\n",
       "       'Eğitime Devam Etme Durumu'],\n",
       "      dtype='object')"
      ]
     },
     "execution_count": 11,
     "metadata": {},
     "output_type": "execute_result"
    }
   ],
   "source": [
    "cat = X.select_dtypes(\"object\").columns\n",
    "cat "
   ]
  },
  {
   "cell_type": "code",
   "execution_count": 12,
   "id": "7315e59c-c788-4f01-8936-fa44290d6238",
   "metadata": {
    "tags": []
   },
   "outputs": [],
   "source": [
    "ord_enc = OrdinalEncoder(handle_unknown='use_encoded_value', \n",
    "                         unknown_value=-1)\n",
    "\n",
    "column_trans = make_column_transformer((ord_enc, cat), \n",
    "                                       remainder='passthrough')"
   ]
  },
  {
   "cell_type": "code",
   "execution_count": 13,
   "id": "93ea16ed-d3bb-4f9f-a66c-cefbb466bbc0",
   "metadata": {
    "tags": []
   },
   "outputs": [
    {
     "data": {
      "text/html": [
       "<style>#sk-container-id-1 {color: black;background-color: white;}#sk-container-id-1 pre{padding: 0;}#sk-container-id-1 div.sk-toggleable {background-color: white;}#sk-container-id-1 label.sk-toggleable__label {cursor: pointer;display: block;width: 100%;margin-bottom: 0;padding: 0.3em;box-sizing: border-box;text-align: center;}#sk-container-id-1 label.sk-toggleable__label-arrow:before {content: \"▸\";float: left;margin-right: 0.25em;color: #696969;}#sk-container-id-1 label.sk-toggleable__label-arrow:hover:before {color: black;}#sk-container-id-1 div.sk-estimator:hover label.sk-toggleable__label-arrow:before {color: black;}#sk-container-id-1 div.sk-toggleable__content {max-height: 0;max-width: 0;overflow: hidden;text-align: left;background-color: #f0f8ff;}#sk-container-id-1 div.sk-toggleable__content pre {margin: 0.2em;color: black;border-radius: 0.25em;background-color: #f0f8ff;}#sk-container-id-1 input.sk-toggleable__control:checked~div.sk-toggleable__content {max-height: 200px;max-width: 100%;overflow: auto;}#sk-container-id-1 input.sk-toggleable__control:checked~label.sk-toggleable__label-arrow:before {content: \"▾\";}#sk-container-id-1 div.sk-estimator input.sk-toggleable__control:checked~label.sk-toggleable__label {background-color: #d4ebff;}#sk-container-id-1 div.sk-label input.sk-toggleable__control:checked~label.sk-toggleable__label {background-color: #d4ebff;}#sk-container-id-1 input.sk-hidden--visually {border: 0;clip: rect(1px 1px 1px 1px);clip: rect(1px, 1px, 1px, 1px);height: 1px;margin: -1px;overflow: hidden;padding: 0;position: absolute;width: 1px;}#sk-container-id-1 div.sk-estimator {font-family: monospace;background-color: #f0f8ff;border: 1px dotted black;border-radius: 0.25em;box-sizing: border-box;margin-bottom: 0.5em;}#sk-container-id-1 div.sk-estimator:hover {background-color: #d4ebff;}#sk-container-id-1 div.sk-parallel-item::after {content: \"\";width: 100%;border-bottom: 1px solid gray;flex-grow: 1;}#sk-container-id-1 div.sk-label:hover label.sk-toggleable__label {background-color: #d4ebff;}#sk-container-id-1 div.sk-serial::before {content: \"\";position: absolute;border-left: 1px solid gray;box-sizing: border-box;top: 0;bottom: 0;left: 50%;z-index: 0;}#sk-container-id-1 div.sk-serial {display: flex;flex-direction: column;align-items: center;background-color: white;padding-right: 0.2em;padding-left: 0.2em;position: relative;}#sk-container-id-1 div.sk-item {position: relative;z-index: 1;}#sk-container-id-1 div.sk-parallel {display: flex;align-items: stretch;justify-content: center;background-color: white;position: relative;}#sk-container-id-1 div.sk-item::before, #sk-container-id-1 div.sk-parallel-item::before {content: \"\";position: absolute;border-left: 1px solid gray;box-sizing: border-box;top: 0;bottom: 0;left: 50%;z-index: -1;}#sk-container-id-1 div.sk-parallel-item {display: flex;flex-direction: column;z-index: 1;position: relative;background-color: white;}#sk-container-id-1 div.sk-parallel-item:first-child::after {align-self: flex-end;width: 50%;}#sk-container-id-1 div.sk-parallel-item:last-child::after {align-self: flex-start;width: 50%;}#sk-container-id-1 div.sk-parallel-item:only-child::after {width: 0;}#sk-container-id-1 div.sk-dashed-wrapped {border: 1px dashed gray;margin: 0 0.4em 0.5em 0.4em;box-sizing: border-box;padding-bottom: 0.4em;background-color: white;}#sk-container-id-1 div.sk-label label {font-family: monospace;font-weight: bold;display: inline-block;line-height: 1.2em;}#sk-container-id-1 div.sk-label-container {text-align: center;}#sk-container-id-1 div.sk-container {/* jupyter's `normalize.less` sets `[hidden] { display: none; }` but bootstrap.min.css set `[hidden] { display: none !important; }` so we also need the `!important` here to be able to override the default hidden behavior on the sphinx rendered scikit-learn.org. See: https://github.com/scikit-learn/scikit-learn/issues/21755 */display: inline-block !important;position: relative;}#sk-container-id-1 div.sk-text-repr-fallback {display: none;}</style><div id=\"sk-container-id-1\" class=\"sk-top-container\"><div class=\"sk-text-repr-fallback\"><pre>Pipeline(steps=[(&#x27;OrdinalEncoder&#x27;,\n",
       "                 ColumnTransformer(remainder=&#x27;passthrough&#x27;,\n",
       "                                   transformers=[(&#x27;ordinalencoder&#x27;,\n",
       "                                                  OrdinalEncoder(handle_unknown=&#x27;use_encoded_value&#x27;,\n",
       "                                                                 unknown_value=-1),\n",
       "                                                  Index([&#x27;Cinsiyet&#x27;, &#x27;Yaş Grubu&#x27;, &#x27;Medeni Durum&#x27;, &#x27;Eğitim Düzeyi&#x27;,\n",
       "       &#x27;İstihdam Durumu&#x27;, &#x27;Yaşadığı Şehir&#x27;, &#x27;En Çok İlgilendiği Ürün Grubu&#x27;,\n",
       "       &#x27;Eğitime Devam Etme Durumu&#x27;],\n",
       "      dtype=&#x27;object&#x27;))])),\n",
       "                (&#x27;lightgbm_model&#x27;, LGBMClassifier(random_state=42))])</pre><b>In a Jupyter environment, please rerun this cell to show the HTML representation or trust the notebook. <br />On GitHub, the HTML representation is unable to render, please try loading this page with nbviewer.org.</b></div><div class=\"sk-container\" hidden><div class=\"sk-item sk-dashed-wrapped\"><div class=\"sk-label-container\"><div class=\"sk-label sk-toggleable\"><input class=\"sk-toggleable__control sk-hidden--visually\" id=\"sk-estimator-id-1\" type=\"checkbox\" ><label for=\"sk-estimator-id-1\" class=\"sk-toggleable__label sk-toggleable__label-arrow\">Pipeline</label><div class=\"sk-toggleable__content\"><pre>Pipeline(steps=[(&#x27;OrdinalEncoder&#x27;,\n",
       "                 ColumnTransformer(remainder=&#x27;passthrough&#x27;,\n",
       "                                   transformers=[(&#x27;ordinalencoder&#x27;,\n",
       "                                                  OrdinalEncoder(handle_unknown=&#x27;use_encoded_value&#x27;,\n",
       "                                                                 unknown_value=-1),\n",
       "                                                  Index([&#x27;Cinsiyet&#x27;, &#x27;Yaş Grubu&#x27;, &#x27;Medeni Durum&#x27;, &#x27;Eğitim Düzeyi&#x27;,\n",
       "       &#x27;İstihdam Durumu&#x27;, &#x27;Yaşadığı Şehir&#x27;, &#x27;En Çok İlgilendiği Ürün Grubu&#x27;,\n",
       "       &#x27;Eğitime Devam Etme Durumu&#x27;],\n",
       "      dtype=&#x27;object&#x27;))])),\n",
       "                (&#x27;lightgbm_model&#x27;, LGBMClassifier(random_state=42))])</pre></div></div></div><div class=\"sk-serial\"><div class=\"sk-item sk-dashed-wrapped\"><div class=\"sk-label-container\"><div class=\"sk-label sk-toggleable\"><input class=\"sk-toggleable__control sk-hidden--visually\" id=\"sk-estimator-id-2\" type=\"checkbox\" ><label for=\"sk-estimator-id-2\" class=\"sk-toggleable__label sk-toggleable__label-arrow\">OrdinalEncoder: ColumnTransformer</label><div class=\"sk-toggleable__content\"><pre>ColumnTransformer(remainder=&#x27;passthrough&#x27;,\n",
       "                  transformers=[(&#x27;ordinalencoder&#x27;,\n",
       "                                 OrdinalEncoder(handle_unknown=&#x27;use_encoded_value&#x27;,\n",
       "                                                unknown_value=-1),\n",
       "                                 Index([&#x27;Cinsiyet&#x27;, &#x27;Yaş Grubu&#x27;, &#x27;Medeni Durum&#x27;, &#x27;Eğitim Düzeyi&#x27;,\n",
       "       &#x27;İstihdam Durumu&#x27;, &#x27;Yaşadığı Şehir&#x27;, &#x27;En Çok İlgilendiği Ürün Grubu&#x27;,\n",
       "       &#x27;Eğitime Devam Etme Durumu&#x27;],\n",
       "      dtype=&#x27;object&#x27;))])</pre></div></div></div><div class=\"sk-parallel\"><div class=\"sk-parallel-item\"><div class=\"sk-item\"><div class=\"sk-label-container\"><div class=\"sk-label sk-toggleable\"><input class=\"sk-toggleable__control sk-hidden--visually\" id=\"sk-estimator-id-3\" type=\"checkbox\" ><label for=\"sk-estimator-id-3\" class=\"sk-toggleable__label sk-toggleable__label-arrow\">ordinalencoder</label><div class=\"sk-toggleable__content\"><pre>Index([&#x27;Cinsiyet&#x27;, &#x27;Yaş Grubu&#x27;, &#x27;Medeni Durum&#x27;, &#x27;Eğitim Düzeyi&#x27;,\n",
       "       &#x27;İstihdam Durumu&#x27;, &#x27;Yaşadığı Şehir&#x27;, &#x27;En Çok İlgilendiği Ürün Grubu&#x27;,\n",
       "       &#x27;Eğitime Devam Etme Durumu&#x27;],\n",
       "      dtype=&#x27;object&#x27;)</pre></div></div></div><div class=\"sk-serial\"><div class=\"sk-item\"><div class=\"sk-estimator sk-toggleable\"><input class=\"sk-toggleable__control sk-hidden--visually\" id=\"sk-estimator-id-4\" type=\"checkbox\" ><label for=\"sk-estimator-id-4\" class=\"sk-toggleable__label sk-toggleable__label-arrow\">OrdinalEncoder</label><div class=\"sk-toggleable__content\"><pre>OrdinalEncoder(handle_unknown=&#x27;use_encoded_value&#x27;, unknown_value=-1)</pre></div></div></div></div></div></div><div class=\"sk-parallel-item\"><div class=\"sk-item\"><div class=\"sk-label-container\"><div class=\"sk-label sk-toggleable\"><input class=\"sk-toggleable__control sk-hidden--visually\" id=\"sk-estimator-id-5\" type=\"checkbox\" ><label for=\"sk-estimator-id-5\" class=\"sk-toggleable__label sk-toggleable__label-arrow\">remainder</label><div class=\"sk-toggleable__content\"><pre>[&#x27;index&#x27;, &#x27;Yıllık Ortalama Gelir&#x27;, &#x27;Yıllık Ortalama Satın Alım Miktarı&#x27;, &#x27;Yıllık Ortalama Sipariş Verilen Ürün Adedi&#x27;, &#x27;Yıllık Ortalama Sepete Atılan Ürün Adedi&#x27;]</pre></div></div></div><div class=\"sk-serial\"><div class=\"sk-item\"><div class=\"sk-estimator sk-toggleable\"><input class=\"sk-toggleable__control sk-hidden--visually\" id=\"sk-estimator-id-6\" type=\"checkbox\" ><label for=\"sk-estimator-id-6\" class=\"sk-toggleable__label sk-toggleable__label-arrow\">passthrough</label><div class=\"sk-toggleable__content\"><pre>passthrough</pre></div></div></div></div></div></div></div></div><div class=\"sk-item\"><div class=\"sk-estimator sk-toggleable\"><input class=\"sk-toggleable__control sk-hidden--visually\" id=\"sk-estimator-id-7\" type=\"checkbox\" ><label for=\"sk-estimator-id-7\" class=\"sk-toggleable__label sk-toggleable__label-arrow\">LGBMClassifier</label><div class=\"sk-toggleable__content\"><pre>LGBMClassifier(random_state=42)</pre></div></div></div></div></div></div></div>"
      ],
      "text/plain": [
       "Pipeline(steps=[('OrdinalEncoder',\n",
       "                 ColumnTransformer(remainder='passthrough',\n",
       "                                   transformers=[('ordinalencoder',\n",
       "                                                  OrdinalEncoder(handle_unknown='use_encoded_value',\n",
       "                                                                 unknown_value=-1),\n",
       "                                                  Index(['Cinsiyet', 'Yaş Grubu', 'Medeni Durum', 'Eğitim Düzeyi',\n",
       "       'İstihdam Durumu', 'Yaşadığı Şehir', 'En Çok İlgilendiği Ürün Grubu',\n",
       "       'Eğitime Devam Etme Durumu'],\n",
       "      dtype='object'))])),\n",
       "                ('lightgbm_model', LGBMClassifier(random_state=42))])"
      ]
     },
     "execution_count": 13,
     "metadata": {},
     "output_type": "execute_result"
    }
   ],
   "source": [
    "import lightgbm as lgb\n",
    "\n",
    "operations_lightgbm = [(\"OrdinalEncoder\", column_trans), \n",
    "                       (\"lightgbm_model\", lgb.LGBMClassifier(random_state=42))]\n",
    "\n",
    "lightgbm_model = Pipeline(steps=operations_lightgbm)\n",
    "\n",
    "lightgbm_model.fit(X, y)"
   ]
  },
  {
   "cell_type": "code",
   "execution_count": 14,
   "id": "93b96eae",
   "metadata": {},
   "outputs": [
    {
     "data": {
      "text/plain": [
       "array(['obek_3', 'obek_3', 'obek_2', ..., 'obek_7', 'obek_5', 'obek_6'],\n",
       "      dtype=object)"
      ]
     },
     "execution_count": 14,
     "metadata": {},
     "output_type": "execute_result"
    }
   ],
   "source": [
    "lightgbm_model.predict(test)"
   ]
  },
  {
   "cell_type": "code",
   "execution_count": 9,
   "id": "86369856-23cd-4d16-803a-0a61bfed48bf",
   "metadata": {
    "tags": []
   },
   "outputs": [
    {
     "name": "stdout",
     "output_type": "stream",
     "text": [
      "Test_Set\n",
      "[[131   1   3   0   0   0   1   2]\n",
      " [  0 104   2   0   0   0   1   2]\n",
      " [  0   0 135   0   1   3   0   0]\n",
      " [  1   0   2 137   0   1   2   1]\n",
      " [  1   1   1   1 134   2   0   1]\n",
      " [  1   1   0   0   0 133   2   1]\n",
      " [  1   1   1   0   0   1 135   0]\n",
      " [  0   0   2   2   0   0   2 138]]\n",
      "              precision    recall  f1-score   support\n",
      "\n",
      "      obek_1       0.97      0.95      0.96       138\n",
      "      obek_2       0.96      0.95      0.96       109\n",
      "      obek_3       0.92      0.97      0.95       139\n",
      "      obek_4       0.98      0.95      0.96       144\n",
      "      obek_5       0.99      0.95      0.97       141\n",
      "      obek_6       0.95      0.96      0.96       138\n",
      "      obek_7       0.94      0.97      0.96       139\n",
      "      obek_8       0.95      0.96      0.96       144\n",
      "\n",
      "    accuracy                           0.96      1092\n",
      "   macro avg       0.96      0.96      0.96      1092\n",
      "weighted avg       0.96      0.96      0.96      1092\n",
      "\n",
      "\n",
      "Train_Set\n",
      "[[554   0   0   0   0   0   0   0]\n",
      " [  0 438   0   0   0   0   0   0]\n",
      " [  0   0 556   0   0   0   0   0]\n",
      " [  0   0   0 576   0   0   0   0]\n",
      " [  0   0   0   0 565   0   0   0]\n",
      " [  0   0   0   0   0 550   0   0]\n",
      " [  0   0   0   0   0   0 556   0]\n",
      " [  0   0   0   0   0   0   0 573]]\n",
      "              precision    recall  f1-score   support\n",
      "\n",
      "      obek_1       1.00      1.00      1.00       554\n",
      "      obek_2       1.00      1.00      1.00       438\n",
      "      obek_3       1.00      1.00      1.00       556\n",
      "      obek_4       1.00      1.00      1.00       576\n",
      "      obek_5       1.00      1.00      1.00       565\n",
      "      obek_6       1.00      1.00      1.00       550\n",
      "      obek_7       1.00      1.00      1.00       556\n",
      "      obek_8       1.00      1.00      1.00       573\n",
      "\n",
      "    accuracy                           1.00      4368\n",
      "   macro avg       1.00      1.00      1.00      4368\n",
      "weighted avg       1.00      1.00      1.00      4368\n",
      "\n"
     ]
    }
   ],
   "source": [
    "eval_metric(lightgbm_model, X, y, X_test, y_test)"
   ]
  },
  {
   "cell_type": "code",
   "execution_count": 10,
   "id": "24e850a5-1d0b-46ce-8e79-572fc17552af",
   "metadata": {
    "tags": []
   },
   "outputs": [
    {
     "name": "stdout",
     "output_type": "stream",
     "text": [
      "LightGBM Model accuracy score: 0.9588\n"
     ]
    }
   ],
   "source": [
    "from sklearn.metrics import accuracy_score\n",
    "\n",
    "y_pred = lightgbm_model.predict(X_test)\n",
    "accuracy=accuracy_score(y_pred, y_test)\n",
    "print('LightGBM Model accuracy score: {0:0.4f}'.format(accuracy_score(y_test, y_pred)))"
   ]
  },
  {
   "cell_type": "code",
   "execution_count": 32,
   "id": "c1b109da-1211-46ea-9467-a80926ac4feb",
   "metadata": {
    "tags": []
   },
   "outputs": [],
   "source": [
    "param_grid = {\n",
    "    'lightgbm_model__boosting_type': ['gbdt', 'dart', 'goss'],  # Gradient boosting türü\n",
    "    'lightgbm_model__num_leaves': [30, 50, 70],  # Karar düğümlerinin sayısı\n",
    "    'lightgbm_model__learning_rate': [0.01, 0.1, 0.2],  # Öğrenme oranı\n",
    "    'lightgbm_model__n_estimators': [50, 100, 150],  # Tahmin edici (estimator) sayısı\n",
    "    'lightgbm_model__subsample_for_bin': [20000, 30000, 40000],  # Bölmeler için örnek sayısı\n",
    "    'lightgbm_model__min_child_samples': [20, 30, 50],  # Her yaprakta minimum örnek sayısı\n",
    "    'lightgbm_model__reg_alpha': [0, 0.1, 0.5],  # L1 düzenlemesi (alpha)\n",
    "    'lightgbm_model__reg_lambda': [0, 0.1, 0.5],  # L2 düzenlemesi (lambda)\n",
    "    'lightgbm_model__colsample_bytree': [0.6, 0.8, 1.0],  # Ağaç oluştururken sütun örnekleme oranı\n",
    "    'lightgbm_model__is_unbalance': [True, False],  # Dengesiz veri kümesi için kullanılır mı?\n",
    "    'lightgbm_model__scale_pos_weight': [1, 2, 4]  # Pozitif sınıf ağırlığı\n",
    "}\n",
    "\n",
    "operations_lightgbm = [(\"OrdinalEncoder\", column_trans), \n",
    "                       (\"lightgbm_model\", lgb.LGBMClassifier(random_state=42))]\n",
    "\n",
    "model = Pipeline(steps=operations_lightgbm)\n",
    "\n",
    "lgbm_grid_model = HalvingGridSearchCV(model,\n",
    "                               param_grid,\n",
    "                               scoring=\"accuracy\", \n",
    "                               cv=5,\n",
    "                               # n_iter=50,\n",
    "                               factor=3,\n",
    "                               n_jobs=-1,\n",
    "                               verbose=2,\n",
    "                               return_train_score=True)"
   ]
  },
  {
   "cell_type": "code",
   "execution_count": 33,
   "id": "58dec112-b1f0-4658-8906-ea88f38bc775",
   "metadata": {
    "tags": []
   },
   "outputs": [
    {
     "name": "stdout",
     "output_type": "stream",
     "text": [
      "n_iterations: 4\n",
      "n_required_iterations: 11\n",
      "n_possible_iterations: 4\n",
      "min_resources_: 80\n",
      "max_resources_: 4368\n",
      "aggressive_elimination: False\n",
      "factor: 3\n",
      "----------\n",
      "iter: 0\n",
      "n_candidates: 118098\n",
      "n_resources: 80\n",
      "Fitting 5 folds for each of 118098 candidates, totalling 590490 fits\n",
      "----------\n",
      "iter: 1\n",
      "n_candidates: 39366\n",
      "n_resources: 240\n",
      "Fitting 5 folds for each of 39366 candidates, totalling 196830 fits\n",
      "----------\n",
      "iter: 2\n",
      "n_candidates: 13122\n",
      "n_resources: 720\n",
      "Fitting 5 folds for each of 13122 candidates, totalling 65610 fits\n",
      "----------\n",
      "iter: 3\n",
      "n_candidates: 4374\n",
      "n_resources: 2160\n",
      "Fitting 5 folds for each of 4374 candidates, totalling 21870 fits\n",
      "Wall time: 2h 11min 51s\n"
     ]
    },
    {
     "data": {
      "text/html": [
       "<style>#sk-container-id-6 {color: black;background-color: white;}#sk-container-id-6 pre{padding: 0;}#sk-container-id-6 div.sk-toggleable {background-color: white;}#sk-container-id-6 label.sk-toggleable__label {cursor: pointer;display: block;width: 100%;margin-bottom: 0;padding: 0.3em;box-sizing: border-box;text-align: center;}#sk-container-id-6 label.sk-toggleable__label-arrow:before {content: \"▸\";float: left;margin-right: 0.25em;color: #696969;}#sk-container-id-6 label.sk-toggleable__label-arrow:hover:before {color: black;}#sk-container-id-6 div.sk-estimator:hover label.sk-toggleable__label-arrow:before {color: black;}#sk-container-id-6 div.sk-toggleable__content {max-height: 0;max-width: 0;overflow: hidden;text-align: left;background-color: #f0f8ff;}#sk-container-id-6 div.sk-toggleable__content pre {margin: 0.2em;color: black;border-radius: 0.25em;background-color: #f0f8ff;}#sk-container-id-6 input.sk-toggleable__control:checked~div.sk-toggleable__content {max-height: 200px;max-width: 100%;overflow: auto;}#sk-container-id-6 input.sk-toggleable__control:checked~label.sk-toggleable__label-arrow:before {content: \"▾\";}#sk-container-id-6 div.sk-estimator input.sk-toggleable__control:checked~label.sk-toggleable__label {background-color: #d4ebff;}#sk-container-id-6 div.sk-label input.sk-toggleable__control:checked~label.sk-toggleable__label {background-color: #d4ebff;}#sk-container-id-6 input.sk-hidden--visually {border: 0;clip: rect(1px 1px 1px 1px);clip: rect(1px, 1px, 1px, 1px);height: 1px;margin: -1px;overflow: hidden;padding: 0;position: absolute;width: 1px;}#sk-container-id-6 div.sk-estimator {font-family: monospace;background-color: #f0f8ff;border: 1px dotted black;border-radius: 0.25em;box-sizing: border-box;margin-bottom: 0.5em;}#sk-container-id-6 div.sk-estimator:hover {background-color: #d4ebff;}#sk-container-id-6 div.sk-parallel-item::after {content: \"\";width: 100%;border-bottom: 1px solid gray;flex-grow: 1;}#sk-container-id-6 div.sk-label:hover label.sk-toggleable__label {background-color: #d4ebff;}#sk-container-id-6 div.sk-serial::before {content: \"\";position: absolute;border-left: 1px solid gray;box-sizing: border-box;top: 0;bottom: 0;left: 50%;z-index: 0;}#sk-container-id-6 div.sk-serial {display: flex;flex-direction: column;align-items: center;background-color: white;padding-right: 0.2em;padding-left: 0.2em;position: relative;}#sk-container-id-6 div.sk-item {position: relative;z-index: 1;}#sk-container-id-6 div.sk-parallel {display: flex;align-items: stretch;justify-content: center;background-color: white;position: relative;}#sk-container-id-6 div.sk-item::before, #sk-container-id-6 div.sk-parallel-item::before {content: \"\";position: absolute;border-left: 1px solid gray;box-sizing: border-box;top: 0;bottom: 0;left: 50%;z-index: -1;}#sk-container-id-6 div.sk-parallel-item {display: flex;flex-direction: column;z-index: 1;position: relative;background-color: white;}#sk-container-id-6 div.sk-parallel-item:first-child::after {align-self: flex-end;width: 50%;}#sk-container-id-6 div.sk-parallel-item:last-child::after {align-self: flex-start;width: 50%;}#sk-container-id-6 div.sk-parallel-item:only-child::after {width: 0;}#sk-container-id-6 div.sk-dashed-wrapped {border: 1px dashed gray;margin: 0 0.4em 0.5em 0.4em;box-sizing: border-box;padding-bottom: 0.4em;background-color: white;}#sk-container-id-6 div.sk-label label {font-family: monospace;font-weight: bold;display: inline-block;line-height: 1.2em;}#sk-container-id-6 div.sk-label-container {text-align: center;}#sk-container-id-6 div.sk-container {/* jupyter's `normalize.less` sets `[hidden] { display: none; }` but bootstrap.min.css set `[hidden] { display: none !important; }` so we also need the `!important` here to be able to override the default hidden behavior on the sphinx rendered scikit-learn.org. See: https://github.com/scikit-learn/scikit-learn/issues/21755 */display: inline-block !important;position: relative;}#sk-container-id-6 div.sk-text-repr-fallback {display: none;}</style><div id=\"sk-container-id-6\" class=\"sk-top-container\"><div class=\"sk-text-repr-fallback\"><pre>HalvingGridSearchCV(estimator=Pipeline(steps=[(&#x27;OrdinalEncoder&#x27;,\n",
       "                                               ColumnTransformer(remainder=&#x27;passthrough&#x27;,\n",
       "                                                                 transformers=[(&#x27;ordinalencoder&#x27;,\n",
       "                                                                                OrdinalEncoder(handle_unknown=&#x27;use_encoded_value&#x27;,\n",
       "                                                                                               unknown_value=-1),\n",
       "                                                                                Index([&#x27;Cinsiyet&#x27;, &#x27;Yaş Grubu&#x27;, &#x27;Medeni Durum&#x27;, &#x27;Eğitim Düzeyi&#x27;,\n",
       "       &#x27;İstihdam Durumu&#x27;, &#x27;Yaşadığı Şehir&#x27;, &#x27;En Çok İlgilendiği Ürün Grubu&#x27;,\n",
       "       &#x27;Eğitime Devam Etme Durumu&#x27;]...\n",
       "                                &#x27;lightgbm_model__learning_rate&#x27;: [0.01, 0.1,\n",
       "                                                                  0.2],\n",
       "                                &#x27;lightgbm_model__min_child_samples&#x27;: [20, 30,\n",
       "                                                                      50],\n",
       "                                &#x27;lightgbm_model__n_estimators&#x27;: [50, 100, 150],\n",
       "                                &#x27;lightgbm_model__num_leaves&#x27;: [30, 50, 70],\n",
       "                                &#x27;lightgbm_model__reg_alpha&#x27;: [0, 0.1, 0.5],\n",
       "                                &#x27;lightgbm_model__reg_lambda&#x27;: [0, 0.1, 0.5],\n",
       "                                &#x27;lightgbm_model__scale_pos_weight&#x27;: [1, 2, 4],\n",
       "                                &#x27;lightgbm_model__subsample_for_bin&#x27;: [20000,\n",
       "                                                                      30000,\n",
       "                                                                      40000]},\n",
       "                    scoring=&#x27;accuracy&#x27;, verbose=2)</pre><b>In a Jupyter environment, please rerun this cell to show the HTML representation or trust the notebook. <br />On GitHub, the HTML representation is unable to render, please try loading this page with nbviewer.org.</b></div><div class=\"sk-container\" hidden><div class=\"sk-item sk-dashed-wrapped\"><div class=\"sk-label-container\"><div class=\"sk-label sk-toggleable\"><input class=\"sk-toggleable__control sk-hidden--visually\" id=\"sk-estimator-id-40\" type=\"checkbox\" ><label for=\"sk-estimator-id-40\" class=\"sk-toggleable__label sk-toggleable__label-arrow\">HalvingGridSearchCV</label><div class=\"sk-toggleable__content\"><pre>HalvingGridSearchCV(estimator=Pipeline(steps=[(&#x27;OrdinalEncoder&#x27;,\n",
       "                                               ColumnTransformer(remainder=&#x27;passthrough&#x27;,\n",
       "                                                                 transformers=[(&#x27;ordinalencoder&#x27;,\n",
       "                                                                                OrdinalEncoder(handle_unknown=&#x27;use_encoded_value&#x27;,\n",
       "                                                                                               unknown_value=-1),\n",
       "                                                                                Index([&#x27;Cinsiyet&#x27;, &#x27;Yaş Grubu&#x27;, &#x27;Medeni Durum&#x27;, &#x27;Eğitim Düzeyi&#x27;,\n",
       "       &#x27;İstihdam Durumu&#x27;, &#x27;Yaşadığı Şehir&#x27;, &#x27;En Çok İlgilendiği Ürün Grubu&#x27;,\n",
       "       &#x27;Eğitime Devam Etme Durumu&#x27;]...\n",
       "                                &#x27;lightgbm_model__learning_rate&#x27;: [0.01, 0.1,\n",
       "                                                                  0.2],\n",
       "                                &#x27;lightgbm_model__min_child_samples&#x27;: [20, 30,\n",
       "                                                                      50],\n",
       "                                &#x27;lightgbm_model__n_estimators&#x27;: [50, 100, 150],\n",
       "                                &#x27;lightgbm_model__num_leaves&#x27;: [30, 50, 70],\n",
       "                                &#x27;lightgbm_model__reg_alpha&#x27;: [0, 0.1, 0.5],\n",
       "                                &#x27;lightgbm_model__reg_lambda&#x27;: [0, 0.1, 0.5],\n",
       "                                &#x27;lightgbm_model__scale_pos_weight&#x27;: [1, 2, 4],\n",
       "                                &#x27;lightgbm_model__subsample_for_bin&#x27;: [20000,\n",
       "                                                                      30000,\n",
       "                                                                      40000]},\n",
       "                    scoring=&#x27;accuracy&#x27;, verbose=2)</pre></div></div></div><div class=\"sk-parallel\"><div class=\"sk-parallel-item\"><div class=\"sk-item\"><div class=\"sk-label-container\"><div class=\"sk-label sk-toggleable\"><input class=\"sk-toggleable__control sk-hidden--visually\" id=\"sk-estimator-id-41\" type=\"checkbox\" ><label for=\"sk-estimator-id-41\" class=\"sk-toggleable__label sk-toggleable__label-arrow\">estimator: Pipeline</label><div class=\"sk-toggleable__content\"><pre>Pipeline(steps=[(&#x27;OrdinalEncoder&#x27;,\n",
       "                 ColumnTransformer(remainder=&#x27;passthrough&#x27;,\n",
       "                                   transformers=[(&#x27;ordinalencoder&#x27;,\n",
       "                                                  OrdinalEncoder(handle_unknown=&#x27;use_encoded_value&#x27;,\n",
       "                                                                 unknown_value=-1),\n",
       "                                                  Index([&#x27;Cinsiyet&#x27;, &#x27;Yaş Grubu&#x27;, &#x27;Medeni Durum&#x27;, &#x27;Eğitim Düzeyi&#x27;,\n",
       "       &#x27;İstihdam Durumu&#x27;, &#x27;Yaşadığı Şehir&#x27;, &#x27;En Çok İlgilendiği Ürün Grubu&#x27;,\n",
       "       &#x27;Eğitime Devam Etme Durumu&#x27;],\n",
       "      dtype=&#x27;object&#x27;))])),\n",
       "                (&#x27;lightgbm_model&#x27;, LGBMClassifier(random_state=42))])</pre></div></div></div><div class=\"sk-serial\"><div class=\"sk-item\"><div class=\"sk-serial\"><div class=\"sk-item sk-dashed-wrapped\"><div class=\"sk-label-container\"><div class=\"sk-label sk-toggleable\"><input class=\"sk-toggleable__control sk-hidden--visually\" id=\"sk-estimator-id-42\" type=\"checkbox\" ><label for=\"sk-estimator-id-42\" class=\"sk-toggleable__label sk-toggleable__label-arrow\">OrdinalEncoder: ColumnTransformer</label><div class=\"sk-toggleable__content\"><pre>ColumnTransformer(remainder=&#x27;passthrough&#x27;,\n",
       "                  transformers=[(&#x27;ordinalencoder&#x27;,\n",
       "                                 OrdinalEncoder(handle_unknown=&#x27;use_encoded_value&#x27;,\n",
       "                                                unknown_value=-1),\n",
       "                                 Index([&#x27;Cinsiyet&#x27;, &#x27;Yaş Grubu&#x27;, &#x27;Medeni Durum&#x27;, &#x27;Eğitim Düzeyi&#x27;,\n",
       "       &#x27;İstihdam Durumu&#x27;, &#x27;Yaşadığı Şehir&#x27;, &#x27;En Çok İlgilendiği Ürün Grubu&#x27;,\n",
       "       &#x27;Eğitime Devam Etme Durumu&#x27;],\n",
       "      dtype=&#x27;object&#x27;))])</pre></div></div></div><div class=\"sk-parallel\"><div class=\"sk-parallel-item\"><div class=\"sk-item\"><div class=\"sk-label-container\"><div class=\"sk-label sk-toggleable\"><input class=\"sk-toggleable__control sk-hidden--visually\" id=\"sk-estimator-id-43\" type=\"checkbox\" ><label for=\"sk-estimator-id-43\" class=\"sk-toggleable__label sk-toggleable__label-arrow\">ordinalencoder</label><div class=\"sk-toggleable__content\"><pre>Index([&#x27;Cinsiyet&#x27;, &#x27;Yaş Grubu&#x27;, &#x27;Medeni Durum&#x27;, &#x27;Eğitim Düzeyi&#x27;,\n",
       "       &#x27;İstihdam Durumu&#x27;, &#x27;Yaşadığı Şehir&#x27;, &#x27;En Çok İlgilendiği Ürün Grubu&#x27;,\n",
       "       &#x27;Eğitime Devam Etme Durumu&#x27;],\n",
       "      dtype=&#x27;object&#x27;)</pre></div></div></div><div class=\"sk-serial\"><div class=\"sk-item\"><div class=\"sk-estimator sk-toggleable\"><input class=\"sk-toggleable__control sk-hidden--visually\" id=\"sk-estimator-id-44\" type=\"checkbox\" ><label for=\"sk-estimator-id-44\" class=\"sk-toggleable__label sk-toggleable__label-arrow\">OrdinalEncoder</label><div class=\"sk-toggleable__content\"><pre>OrdinalEncoder(handle_unknown=&#x27;use_encoded_value&#x27;, unknown_value=-1)</pre></div></div></div></div></div></div><div class=\"sk-parallel-item\"><div class=\"sk-item\"><div class=\"sk-label-container\"><div class=\"sk-label sk-toggleable\"><input class=\"sk-toggleable__control sk-hidden--visually\" id=\"sk-estimator-id-45\" type=\"checkbox\" ><label for=\"sk-estimator-id-45\" class=\"sk-toggleable__label sk-toggleable__label-arrow\">remainder</label><div class=\"sk-toggleable__content\"><pre>[&#x27;index&#x27;, &#x27;Yıllık Ortalama Gelir&#x27;, &#x27;Yıllık Ortalama Satın Alım Miktarı&#x27;, &#x27;Yıllık Ortalama Sipariş Verilen Ürün Adedi&#x27;, &#x27;Yıllık Ortalama Sepete Atılan Ürün Adedi&#x27;]</pre></div></div></div><div class=\"sk-serial\"><div class=\"sk-item\"><div class=\"sk-estimator sk-toggleable\"><input class=\"sk-toggleable__control sk-hidden--visually\" id=\"sk-estimator-id-46\" type=\"checkbox\" ><label for=\"sk-estimator-id-46\" class=\"sk-toggleable__label sk-toggleable__label-arrow\">passthrough</label><div class=\"sk-toggleable__content\"><pre>passthrough</pre></div></div></div></div></div></div></div></div><div class=\"sk-item\"><div class=\"sk-estimator sk-toggleable\"><input class=\"sk-toggleable__control sk-hidden--visually\" id=\"sk-estimator-id-47\" type=\"checkbox\" ><label for=\"sk-estimator-id-47\" class=\"sk-toggleable__label sk-toggleable__label-arrow\">LGBMClassifier</label><div class=\"sk-toggleable__content\"><pre>LGBMClassifier(random_state=42)</pre></div></div></div></div></div></div></div></div></div></div></div></div>"
      ],
      "text/plain": [
       "HalvingGridSearchCV(estimator=Pipeline(steps=[('OrdinalEncoder',\n",
       "                                               ColumnTransformer(remainder='passthrough',\n",
       "                                                                 transformers=[('ordinalencoder',\n",
       "                                                                                OrdinalEncoder(handle_unknown='use_encoded_value',\n",
       "                                                                                               unknown_value=-1),\n",
       "                                                                                Index(['Cinsiyet', 'Yaş Grubu', 'Medeni Durum', 'Eğitim Düzeyi',\n",
       "       'İstihdam Durumu', 'Yaşadığı Şehir', 'En Çok İlgilendiği Ürün Grubu',\n",
       "       'Eğitime Devam Etme Durumu']...\n",
       "                                'lightgbm_model__learning_rate': [0.01, 0.1,\n",
       "                                                                  0.2],\n",
       "                                'lightgbm_model__min_child_samples': [20, 30,\n",
       "                                                                      50],\n",
       "                                'lightgbm_model__n_estimators': [50, 100, 150],\n",
       "                                'lightgbm_model__num_leaves': [30, 50, 70],\n",
       "                                'lightgbm_model__reg_alpha': [0, 0.1, 0.5],\n",
       "                                'lightgbm_model__reg_lambda': [0, 0.1, 0.5],\n",
       "                                'lightgbm_model__scale_pos_weight': [1, 2, 4],\n",
       "                                'lightgbm_model__subsample_for_bin': [20000,\n",
       "                                                                      30000,\n",
       "                                                                      40000]},\n",
       "                    scoring='accuracy', verbose=2)"
      ]
     },
     "execution_count": 33,
     "metadata": {},
     "output_type": "execute_result"
    }
   ],
   "source": [
    "%%time\n",
    "\n",
    "lgbm_grid_model.fit(X_train, y_train)"
   ]
  },
  {
   "cell_type": "code",
   "execution_count": 34,
   "id": "ef4f3f96-7551-4053-8f77-7f33224f4050",
   "metadata": {
    "tags": []
   },
   "outputs": [
    {
     "name": "stdout",
     "output_type": "stream",
     "text": [
      "Test_Set\n",
      "[[131   1   3   0   0   0   1   2]\n",
      " [  0 104   2   0   0   0   1   2]\n",
      " [  0   0 135   0   1   3   0   0]\n",
      " [  1   0   2 137   0   1   2   1]\n",
      " [  1   1   1   1 134   2   0   1]\n",
      " [  1   1   0   0   0 133   2   1]\n",
      " [  1   1   1   0   0   1 135   0]\n",
      " [  0   0   2   2   0   0   2 138]]\n",
      "              precision    recall  f1-score   support\n",
      "\n",
      "      obek_1       0.97      0.95      0.96       138\n",
      "      obek_2       0.96      0.95      0.96       109\n",
      "      obek_3       0.92      0.97      0.95       139\n",
      "      obek_4       0.98      0.95      0.96       144\n",
      "      obek_5       0.99      0.95      0.97       141\n",
      "      obek_6       0.95      0.96      0.96       138\n",
      "      obek_7       0.94      0.97      0.96       139\n",
      "      obek_8       0.95      0.96      0.96       144\n",
      "\n",
      "    accuracy                           0.96      1092\n",
      "   macro avg       0.96      0.96      0.96      1092\n",
      "weighted avg       0.96      0.96      0.96      1092\n",
      "\n",
      "\n",
      "Train_Set\n",
      "[[534   1   4   6   3   3   2   1]\n",
      " [  3 430   1   1   0   1   2   0]\n",
      " [  4   0 544   1   1   4   0   2]\n",
      " [  1   2   3 563   1   2   2   2]\n",
      " [  3   0   2   1 554   2   2   1]\n",
      " [  2   1   1   3   1 538   1   3]\n",
      " [  2   1   5   3   0   3 539   3]\n",
      " [  1   2   2   4   1   1   1 561]]\n",
      "              precision    recall  f1-score   support\n",
      "\n",
      "      obek_1       0.97      0.96      0.97       554\n",
      "      obek_2       0.98      0.98      0.98       438\n",
      "      obek_3       0.97      0.98      0.97       556\n",
      "      obek_4       0.97      0.98      0.97       576\n",
      "      obek_5       0.99      0.98      0.98       565\n",
      "      obek_6       0.97      0.98      0.97       550\n",
      "      obek_7       0.98      0.97      0.98       556\n",
      "      obek_8       0.98      0.98      0.98       573\n",
      "\n",
      "    accuracy                           0.98      4368\n",
      "   macro avg       0.98      0.98      0.98      4368\n",
      "weighted avg       0.98      0.98      0.98      4368\n",
      "\n"
     ]
    }
   ],
   "source": [
    "eval_metric(lgbm_grid_model, X_train, y_train, X_test, y_test)"
   ]
  },
  {
   "cell_type": "code",
   "execution_count": 35,
   "id": "1a74f782-bb57-4fa0-b680-ddd752a6cd28",
   "metadata": {
    "tags": []
   },
   "outputs": [
    {
     "name": "stdout",
     "output_type": "stream",
     "text": [
      "LightGBM Model accuracy score: 0.9588\n"
     ]
    }
   ],
   "source": [
    "y_pred = lgbm_grid_model.predict(X_test)\n",
    "accuracy = accuracy_score(y_pred, y_test)\n",
    "print('LightGBM Model accuracy score: {0:0.4f}'.format(accuracy_score(y_test, y_pred)))"
   ]
  },
  {
   "cell_type": "code",
   "execution_count": 39,
   "id": "c18da890-87aa-4cfc-9c75-4810a530bfed",
   "metadata": {
    "tags": []
   },
   "outputs": [
    {
     "data": {
      "text/plain": [
       "{'lightgbm_model__boosting_type': 'dart',\n",
       " 'lightgbm_model__colsample_bytree': 0.6,\n",
       " 'lightgbm_model__is_unbalance': True,\n",
       " 'lightgbm_model__learning_rate': 0.1,\n",
       " 'lightgbm_model__min_child_samples': 30,\n",
       " 'lightgbm_model__n_estimators': 100,\n",
       " 'lightgbm_model__num_leaves': 70,\n",
       " 'lightgbm_model__reg_alpha': 0,\n",
       " 'lightgbm_model__reg_lambda': 0.5,\n",
       " 'lightgbm_model__scale_pos_weight': 4,\n",
       " 'lightgbm_model__subsample_for_bin': 30000}"
      ]
     },
     "execution_count": 39,
     "metadata": {},
     "output_type": "execute_result"
    }
   ],
   "source": [
    "lgbm_grid_model.best_params_"
   ]
  },
  {
   "cell_type": "code",
   "execution_count": 15,
   "id": "556c9fc1-9de9-4fbc-87a5-13c631597250",
   "metadata": {
    "tags": []
   },
   "outputs": [
    {
     "ename": "NameError",
     "evalue": "name 'lgbm_grid_model' is not defined",
     "output_type": "error",
     "traceback": [
      "\u001b[1;31m---------------------------------------------------------------------------\u001b[0m",
      "\u001b[1;31mNameError\u001b[0m                                 Traceback (most recent call last)",
      "\u001b[1;32m~\\AppData\\Local\\Temp\\ipykernel_7400\\881350785.py\u001b[0m in \u001b[0;36m<module>\u001b[1;34m\u001b[0m\n\u001b[1;32m----> 1\u001b[1;33m \u001b[0mpredict\u001b[0m \u001b[1;33m=\u001b[0m \u001b[0mlgbm_grid_model\u001b[0m\u001b[1;33m.\u001b[0m\u001b[0mpredict\u001b[0m\u001b[1;33m(\u001b[0m\u001b[0mtest\u001b[0m\u001b[1;33m)\u001b[0m\u001b[1;33m\u001b[0m\u001b[1;33m\u001b[0m\u001b[0m\n\u001b[0m",
      "\u001b[1;31mNameError\u001b[0m: name 'lgbm_grid_model' is not defined"
     ]
    }
   ],
   "source": [
    "predict = lgbm_grid_model.predict(test)"
   ]
  },
  {
   "cell_type": "code",
   "execution_count": 16,
   "id": "e768be69",
   "metadata": {},
   "outputs": [],
   "source": [
    "predict=lightgbm_model.predict(test)"
   ]
  },
  {
   "cell_type": "code",
   "execution_count": 17,
   "id": "9762a835",
   "metadata": {},
   "outputs": [
    {
     "data": {
      "text/html": [
       "<div>\n",
       "<style scoped>\n",
       "    .dataframe tbody tr th:only-of-type {\n",
       "        vertical-align: middle;\n",
       "    }\n",
       "\n",
       "    .dataframe tbody tr th {\n",
       "        vertical-align: top;\n",
       "    }\n",
       "\n",
       "    .dataframe thead th {\n",
       "        text-align: right;\n",
       "    }\n",
       "</style>\n",
       "<table border=\"1\" class=\"dataframe\">\n",
       "  <thead>\n",
       "    <tr style=\"text-align: right;\">\n",
       "      <th></th>\n",
       "      <th>Öbek İsmi</th>\n",
       "    </tr>\n",
       "    <tr>\n",
       "      <th>id</th>\n",
       "      <th></th>\n",
       "    </tr>\n",
       "  </thead>\n",
       "  <tbody>\n",
       "    <tr>\n",
       "      <th>0</th>\n",
       "      <td>obek_3</td>\n",
       "    </tr>\n",
       "    <tr>\n",
       "      <th>1</th>\n",
       "      <td>obek_3</td>\n",
       "    </tr>\n",
       "    <tr>\n",
       "      <th>2</th>\n",
       "      <td>obek_2</td>\n",
       "    </tr>\n",
       "    <tr>\n",
       "      <th>3</th>\n",
       "      <td>obek_6</td>\n",
       "    </tr>\n",
       "    <tr>\n",
       "      <th>4</th>\n",
       "      <td>obek_1</td>\n",
       "    </tr>\n",
       "    <tr>\n",
       "      <th>...</th>\n",
       "      <td>...</td>\n",
       "    </tr>\n",
       "    <tr>\n",
       "      <th>2335</th>\n",
       "      <td>obek_8</td>\n",
       "    </tr>\n",
       "    <tr>\n",
       "      <th>2336</th>\n",
       "      <td>obek_2</td>\n",
       "    </tr>\n",
       "    <tr>\n",
       "      <th>2337</th>\n",
       "      <td>obek_7</td>\n",
       "    </tr>\n",
       "    <tr>\n",
       "      <th>2338</th>\n",
       "      <td>obek_5</td>\n",
       "    </tr>\n",
       "    <tr>\n",
       "      <th>2339</th>\n",
       "      <td>obek_6</td>\n",
       "    </tr>\n",
       "  </tbody>\n",
       "</table>\n",
       "<p>2340 rows × 1 columns</p>\n",
       "</div>"
      ],
      "text/plain": [
       "     Öbek İsmi\n",
       "id            \n",
       "0       obek_3\n",
       "1       obek_3\n",
       "2       obek_2\n",
       "3       obek_6\n",
       "4       obek_1\n",
       "...        ...\n",
       "2335    obek_8\n",
       "2336    obek_2\n",
       "2337    obek_7\n",
       "2338    obek_5\n",
       "2339    obek_6\n",
       "\n",
       "[2340 rows x 1 columns]"
      ]
     },
     "execution_count": 17,
     "metadata": {},
     "output_type": "execute_result"
    }
   ],
   "source": [
    "data = {\n",
    "    'id': range(2340),\n",
    "    'Öbek İsmi': predict\n",
    "}\n",
    "sub_df = pd.DataFrame(data)\n",
    "sub_df.set_index('id', inplace=True)\n",
    "sub_df"
   ]
  },
  {
   "cell_type": "code",
   "execution_count": null,
   "id": "d1d01386",
   "metadata": {},
   "outputs": [],
   "source": [
    "from sklearn.metrics import accuracy_score\n",
    "\n",
    "y_pred = clf.predict(test)\n",
    "accuracy = accuracy_score(true_labels, y_pred)\n"
   ]
  },
  {
   "cell_type": "code",
   "execution_count": 37,
   "id": "ca08823b-14e4-4025-897b-d8fd4b787e6d",
   "metadata": {
    "tags": []
   },
   "outputs": [
    {
     "data": {
      "text/html": [
       "<div>\n",
       "<style scoped>\n",
       "    .dataframe tbody tr th:only-of-type {\n",
       "        vertical-align: middle;\n",
       "    }\n",
       "\n",
       "    .dataframe tbody tr th {\n",
       "        vertical-align: top;\n",
       "    }\n",
       "\n",
       "    .dataframe thead th {\n",
       "        text-align: right;\n",
       "    }\n",
       "</style>\n",
       "<table border=\"1\" class=\"dataframe\">\n",
       "  <thead>\n",
       "    <tr style=\"text-align: right;\">\n",
       "      <th></th>\n",
       "      <th>Öbek İsmi</th>\n",
       "    </tr>\n",
       "    <tr>\n",
       "      <th>id</th>\n",
       "      <th></th>\n",
       "    </tr>\n",
       "  </thead>\n",
       "  <tbody>\n",
       "    <tr>\n",
       "      <th>0</th>\n",
       "      <td>obek_3</td>\n",
       "    </tr>\n",
       "    <tr>\n",
       "      <th>1</th>\n",
       "      <td>obek_3</td>\n",
       "    </tr>\n",
       "    <tr>\n",
       "      <th>2</th>\n",
       "      <td>obek_2</td>\n",
       "    </tr>\n",
       "    <tr>\n",
       "      <th>3</th>\n",
       "      <td>obek_6</td>\n",
       "    </tr>\n",
       "    <tr>\n",
       "      <th>4</th>\n",
       "      <td>obek_1</td>\n",
       "    </tr>\n",
       "    <tr>\n",
       "      <th>...</th>\n",
       "      <td>...</td>\n",
       "    </tr>\n",
       "    <tr>\n",
       "      <th>2335</th>\n",
       "      <td>obek_8</td>\n",
       "    </tr>\n",
       "    <tr>\n",
       "      <th>2336</th>\n",
       "      <td>obek_2</td>\n",
       "    </tr>\n",
       "    <tr>\n",
       "      <th>2337</th>\n",
       "      <td>obek_7</td>\n",
       "    </tr>\n",
       "    <tr>\n",
       "      <th>2338</th>\n",
       "      <td>obek_5</td>\n",
       "    </tr>\n",
       "    <tr>\n",
       "      <th>2339</th>\n",
       "      <td>obek_6</td>\n",
       "    </tr>\n",
       "  </tbody>\n",
       "</table>\n",
       "<p>2340 rows × 1 columns</p>\n",
       "</div>"
      ],
      "text/plain": [
       "     Öbek İsmi\n",
       "id            \n",
       "0       obek_3\n",
       "1       obek_3\n",
       "2       obek_2\n",
       "3       obek_6\n",
       "4       obek_1\n",
       "...        ...\n",
       "2335    obek_8\n",
       "2336    obek_2\n",
       "2337    obek_7\n",
       "2338    obek_5\n",
       "2339    obek_6\n",
       "\n",
       "[2340 rows x 1 columns]"
      ]
     },
     "execution_count": 37,
     "metadata": {},
     "output_type": "execute_result"
    }
   ],
   "source": [
    "data = {\n",
    "    'id': range(2340),\n",
    "    'Öbek İsmi': predict\n",
    "}\n",
    "sub_df = pd.DataFrame(data)\n",
    "sub_df.set_index('id', inplace=True)\n",
    "sub_df"
   ]
  },
  {
   "cell_type": "code",
   "execution_count": 38,
   "id": "c59ababd-38d5-4911-990c-a861cac06dc0",
   "metadata": {
    "tags": []
   },
   "outputs": [],
   "source": [
    "sub_df.to_csv('submission_lgbm.csv')"
   ]
  },
  {
   "cell_type": "code",
   "execution_count": null,
   "id": "22f1ba1b-6fec-4adc-a33c-9d836d9b5035",
   "metadata": {},
   "outputs": [],
   "source": []
  }
 ],
 "metadata": {
  "kernelspec": {
   "display_name": "Python 3 (ipykernel)",
   "language": "python",
   "name": "python3"
  },
  "language_info": {
   "codemirror_mode": {
    "name": "ipython",
    "version": 3
   },
   "file_extension": ".py",
   "mimetype": "text/x-python",
   "name": "python",
   "nbconvert_exporter": "python",
   "pygments_lexer": "ipython3",
   "version": "3.9.13"
  }
 },
 "nbformat": 4,
 "nbformat_minor": 5
}
