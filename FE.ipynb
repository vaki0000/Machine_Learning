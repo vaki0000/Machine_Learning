{
 "cells": [
  {
   "cell_type": "code",
   "execution_count": 1,
   "id": "a731743a-28c1-43d0-ac64-c7f4c39636a6",
   "metadata": {
    "tags": []
   },
   "outputs": [],
   "source": [
    "# libraries for EDA\n",
    "import numpy as np\n",
    "import pandas as pd\n",
    "import matplotlib.pyplot as plt\n",
    "import seaborn as sns\n",
    "\n",
    "#To display the plots\n",
    "%matplotlib inline\n",
    "\n",
    "# scikit learn library for machine learning algorithms, data preprocessing, and evaluation\n",
    "from sklearn.preprocessing import StandardScaler, MinMaxScaler, RobustScaler, OrdinalEncoder, LabelEncoder, OneHotEncoder\n",
    "from sklearn.model_selection import train_test_split, GridSearchCV, RandomizedSearchCV, cross_validate, cross_val_score\n",
    "from sklearn.linear_model import LogisticRegression\n",
    "from sklearn.svm import SVC\n",
    "from sklearn.neighbors import KNeighborsClassifier\n",
    "from sklearn.tree import DecisionTreeClassifier\n",
    "from sklearn.ensemble import BaggingClassifier, RandomForestClassifier\n",
    "from xgboost import XGBClassifier\n",
    "\n",
    "from sklearn.metrics import classification_report, confusion_matrix, log_loss, recall_score, accuracy_score, precision_score, f1_score, roc_auc_score\n",
    "from sklearn.metrics import make_scorer, average_precision_score, PrecisionRecallDisplay, precision_recall_curve, roc_curve\n",
    "from sklearn.metrics import ConfusionMatrixDisplay\n",
    "\n",
    "from sklearn.compose import make_column_transformer, ColumnTransformer\n",
    "from sklearn.preprocessing import MinMaxScaler, StandardScaler, RobustScaler, PowerTransformer\n",
    "from sklearn.pipeline import Pipeline\n",
    "\n",
    "import scikitplot as skplt\n",
    "\n",
    "# yellowbrick library for visualizing the model performance\n",
    "from yellowbrick.classifier import ConfusionMatrix, PrecisionRecallCurve\n",
    "from yellowbrick.classifier import PrecisionRecallCurve\n",
    "from sklearn.pipeline import Pipeline\n",
    "\n",
    "# to get rid of the warnings\n",
    "import warnings\n",
    "warnings.filterwarnings(\"ignore\")\n",
    "warnings.warn(\"this will not show\")\n",
    "\n",
    "plt.rcParams[\"figure.figsize\"] = (10,6)\n",
    "sns.set_style(\"whitegrid\", {'axes.grid' : True})\n",
    "\n",
    "# To display maximum columns\n",
    "pd.set_option('display.max_columns', 50)\n",
    "\n",
    "# To display maximum rows\n",
    "pd.set_option('display.max_rows', 50)\n",
    "\n",
    "# To set float format\n",
    "pd.set_option('display.float_format', lambda x: '%.2f' % x)"
   ]
  },
  {
   "cell_type": "code",
   "execution_count": 2,
   "id": "e013450b-c61f-46d2-9a3e-615aeff7785b",
   "metadata": {
    "tags": []
   },
   "outputs": [],
   "source": [
    "def eval_metric(model, X_train, y_train, X_test, y_test):   \n",
    "    y_pred = model.predict(X_test)\n",
    "    y_train_pred = model.predict(X_train)\n",
    "    \n",
    "    print(\"Test_Set\")\n",
    "    print(confusion_matrix(y_test, y_pred))\n",
    "    print(classification_report(y_test, y_pred))\n",
    "    print()\n",
    "    print(\"Train_Set\")\n",
    "    print(confusion_matrix(y_train, y_train_pred))\n",
    "    print(classification_report(y_train, y_train_pred))"
   ]
  },
  {
   "cell_type": "code",
   "execution_count": 30,
   "id": "b6d85187-5922-42c1-a5a5-949a0ad5ae12",
   "metadata": {
    "tags": []
   },
   "outputs": [],
   "source": [
    "train = pd.read_csv('train.csv')\n",
    "test = pd.read_csv('test_x.csv')\n",
    "\n",
    "df = train.copy()"
   ]
  },
  {
   "cell_type": "code",
   "execution_count": 31,
   "id": "68cf9ad2-1cbe-4717-b84b-7e9fb2568451",
   "metadata": {
    "tags": []
   },
   "outputs": [],
   "source": [
    "df['A'] = df['Yıllık Ortalama Sipariş Verilen Ürün Adedi'] / df['Yıllık Ortalama Sepete Atılan Ürün Adedi']\n",
    "df['B'] = df['Yıllık Ortalama Satın Alım Miktarı'] / df['Yıllık Ortalama Gelir'] \n",
    "df['C'] = df['Yıllık Ortalama Satın Alım Miktarı'] / df['Yıllık Ortalama Sipariş Verilen Ürün Adedi']"
   ]
  },
  {
   "cell_type": "code",
   "execution_count": 32,
   "id": "5f5048af-cfeb-4013-94fb-4b05c844bdee",
   "metadata": {
    "tags": []
   },
   "outputs": [],
   "source": [
    "test['A'] = test['Yıllık Ortalama Sipariş Verilen Ürün Adedi'] / test['Yıllık Ortalama Sepete Atılan Ürün Adedi'] \n",
    "test['B'] = test['Yıllık Ortalama Satın Alım Miktarı'] / test['Yıllık Ortalama Gelir']\n",
    "test['C'] = test['Yıllık Ortalama Satın Alım Miktarı'] / test['Yıllık Ortalama Sipariş Verilen Ürün Adedi']"
   ]
  },
  {
   "cell_type": "code",
   "execution_count": 47,
   "id": "1801c1a8-1bb0-4f5a-a22f-69c911657b7f",
   "metadata": {
    "tags": []
   },
   "outputs": [
    {
     "data": {
      "text/html": [
       "<style type=\"text/css\">\n",
       "#T_9efe3_row0_col0, #T_9efe3_row0_col7, #T_9efe3_row1_col7, #T_9efe3_row2_col7, #T_9efe3_row3_col0, #T_9efe3_row4_col0, #T_9efe3_row5_col0, #T_9efe3_row6_col0 {\n",
       "  background-color: #5e4fa2;\n",
       "  color: #f1f1f1;\n",
       "}\n",
       "#T_9efe3_row0_col1, #T_9efe3_row0_col5 {\n",
       "  background-color: #fffebe;\n",
       "  color: #000000;\n",
       "}\n",
       "#T_9efe3_row0_col2 {\n",
       "  background-color: #fca55d;\n",
       "  color: #000000;\n",
       "}\n",
       "#T_9efe3_row0_col3, #T_9efe3_row1_col0, #T_9efe3_row2_col3, #T_9efe3_row3_col2, #T_9efe3_row3_col3, #T_9efe3_row3_col4, #T_9efe3_row3_col5, #T_9efe3_row4_col3, #T_9efe3_row4_col4, #T_9efe3_row5_col1, #T_9efe3_row5_col2, #T_9efe3_row5_col3, #T_9efe3_row5_col4, #T_9efe3_row5_col5, #T_9efe3_row5_col6, #T_9efe3_row5_col7, #T_9efe3_row6_col1, #T_9efe3_row6_col2, #T_9efe3_row6_col3, #T_9efe3_row6_col4, #T_9efe3_row6_col5, #T_9efe3_row6_col6, #T_9efe3_row6_col7 {\n",
       "  background-color: #9e0142;\n",
       "  color: #f1f1f1;\n",
       "}\n",
       "#T_9efe3_row0_col4 {\n",
       "  background-color: #f88c51;\n",
       "  color: #f1f1f1;\n",
       "}\n",
       "#T_9efe3_row0_col6 {\n",
       "  background-color: #89d0a4;\n",
       "  color: #000000;\n",
       "}\n",
       "#T_9efe3_row1_col1 {\n",
       "  background-color: #fdaf62;\n",
       "  color: #000000;\n",
       "}\n",
       "#T_9efe3_row1_col2 {\n",
       "  background-color: #ee6445;\n",
       "  color: #f1f1f1;\n",
       "}\n",
       "#T_9efe3_row1_col3 {\n",
       "  background-color: #af1446;\n",
       "  color: #f1f1f1;\n",
       "}\n",
       "#T_9efe3_row1_col4 {\n",
       "  background-color: #ed6246;\n",
       "  color: #f1f1f1;\n",
       "}\n",
       "#T_9efe3_row1_col5 {\n",
       "  background-color: #f7844e;\n",
       "  color: #f1f1f1;\n",
       "}\n",
       "#T_9efe3_row1_col6 {\n",
       "  background-color: #feda86;\n",
       "  color: #000000;\n",
       "}\n",
       "#T_9efe3_row2_col0 {\n",
       "  background-color: #bc2249;\n",
       "  color: #f1f1f1;\n",
       "}\n",
       "#T_9efe3_row2_col1 {\n",
       "  background-color: #fdad60;\n",
       "  color: #000000;\n",
       "}\n",
       "#T_9efe3_row2_col2 {\n",
       "  background-color: #f88950;\n",
       "  color: #f1f1f1;\n",
       "}\n",
       "#T_9efe3_row2_col4, #T_9efe3_row4_col7 {\n",
       "  background-color: #b61b48;\n",
       "  color: #f1f1f1;\n",
       "}\n",
       "#T_9efe3_row2_col5 {\n",
       "  background-color: #dc484c;\n",
       "  color: #f1f1f1;\n",
       "}\n",
       "#T_9efe3_row2_col6 {\n",
       "  background-color: #e1f399;\n",
       "  color: #000000;\n",
       "}\n",
       "#T_9efe3_row3_col1, #T_9efe3_row3_col6 {\n",
       "  background-color: #a00343;\n",
       "  color: #f1f1f1;\n",
       "}\n",
       "#T_9efe3_row3_col7, #T_9efe3_row4_col1, #T_9efe3_row4_col5 {\n",
       "  background-color: #a40844;\n",
       "  color: #f1f1f1;\n",
       "}\n",
       "#T_9efe3_row4_col2 {\n",
       "  background-color: #a20643;\n",
       "  color: #f1f1f1;\n",
       "}\n",
       "#T_9efe3_row4_col6 {\n",
       "  background-color: #a70b44;\n",
       "  color: #f1f1f1;\n",
       "}\n",
       "#T_9efe3_row7_col0, #T_9efe3_row7_col1, #T_9efe3_row7_col2, #T_9efe3_row7_col3, #T_9efe3_row7_col4, #T_9efe3_row7_col5, #T_9efe3_row7_col6, #T_9efe3_row7_col7 {\n",
       "  background-color: #000000;\n",
       "  color: #f1f1f1;\n",
       "}\n",
       "</style>\n",
       "<table id=\"T_9efe3\">\n",
       "  <thead>\n",
       "    <tr>\n",
       "      <th class=\"blank level0\" >&nbsp;</th>\n",
       "      <th id=\"T_9efe3_level0_col0\" class=\"col_heading level0 col0\" >count</th>\n",
       "      <th id=\"T_9efe3_level0_col1\" class=\"col_heading level0 col1\" >mean</th>\n",
       "      <th id=\"T_9efe3_level0_col2\" class=\"col_heading level0 col2\" >std</th>\n",
       "      <th id=\"T_9efe3_level0_col3\" class=\"col_heading level0 col3\" >min</th>\n",
       "      <th id=\"T_9efe3_level0_col4\" class=\"col_heading level0 col4\" >25%</th>\n",
       "      <th id=\"T_9efe3_level0_col5\" class=\"col_heading level0 col5\" >50%</th>\n",
       "      <th id=\"T_9efe3_level0_col6\" class=\"col_heading level0 col6\" >75%</th>\n",
       "      <th id=\"T_9efe3_level0_col7\" class=\"col_heading level0 col7\" >max</th>\n",
       "    </tr>\n",
       "  </thead>\n",
       "  <tbody>\n",
       "    <tr>\n",
       "      <th id=\"T_9efe3_level0_row0\" class=\"row_heading level0 row0\" >index</th>\n",
       "      <td id=\"T_9efe3_row0_col0\" class=\"data row0 col0\" >5460.000000</td>\n",
       "      <td id=\"T_9efe3_row0_col1\" class=\"data row0 col1\" >2729.500000</td>\n",
       "      <td id=\"T_9efe3_row0_col2\" class=\"data row0 col2\" >1576.310566</td>\n",
       "      <td id=\"T_9efe3_row0_col3\" class=\"data row0 col3\" >0.000000</td>\n",
       "      <td id=\"T_9efe3_row0_col4\" class=\"data row0 col4\" >1364.750000</td>\n",
       "      <td id=\"T_9efe3_row0_col5\" class=\"data row0 col5\" >2729.500000</td>\n",
       "      <td id=\"T_9efe3_row0_col6\" class=\"data row0 col6\" >4094.250000</td>\n",
       "      <td id=\"T_9efe3_row0_col7\" class=\"data row0 col7\" >5459.000000</td>\n",
       "    </tr>\n",
       "    <tr>\n",
       "      <th id=\"T_9efe3_level0_row1\" class=\"row_heading level0 row1\" >Yıllık Ortalama Gelir</th>\n",
       "      <td id=\"T_9efe3_row1_col0\" class=\"data row1 col0\" >5460.000000</td>\n",
       "      <td id=\"T_9efe3_row1_col1\" class=\"data row1 col1\" >363571.133428</td>\n",
       "      <td id=\"T_9efe3_row1_col2\" class=\"data row1 col2\" >219714.442407</td>\n",
       "      <td id=\"T_9efe3_row1_col3\" class=\"data row1 col3\" >43922.988693</td>\n",
       "      <td id=\"T_9efe3_row1_col4\" class=\"data row1 col4\" >215693.439307</td>\n",
       "      <td id=\"T_9efe3_row1_col5\" class=\"data row1 col5\" >286925.436073</td>\n",
       "      <td id=\"T_9efe3_row1_col6\" class=\"data row1 col6\" >468188.221798</td>\n",
       "      <td id=\"T_9efe3_row1_col7\" class=\"data row1 col7\" >1192437.145258</td>\n",
       "    </tr>\n",
       "    <tr>\n",
       "      <th id=\"T_9efe3_level0_row2\" class=\"row_heading level0 row2\" >Yıllık Ortalama Satın Alım Miktarı</th>\n",
       "      <td id=\"T_9efe3_row2_col0\" class=\"data row2 col0\" >5460.000000</td>\n",
       "      <td id=\"T_9efe3_row2_col1\" class=\"data row2 col1\" >16616.612217</td>\n",
       "      <td id=\"T_9efe3_row2_col2\" class=\"data row2 col2\" >14099.171704</td>\n",
       "      <td id=\"T_9efe3_row2_col3\" class=\"data row2 col3\" >2859.254000</td>\n",
       "      <td id=\"T_9efe3_row2_col4\" class=\"data row2 col4\" >4931.859057</td>\n",
       "      <td id=\"T_9efe3_row2_col5\" class=\"data row2 col5\" >8426.818967</td>\n",
       "      <td id=\"T_9efe3_row2_col6\" class=\"data row2 col6\" >30579.244695</td>\n",
       "      <td id=\"T_9efe3_row2_col7\" class=\"data row2 col7\" >48605.594415</td>\n",
       "    </tr>\n",
       "    <tr>\n",
       "      <th id=\"T_9efe3_level0_row3\" class=\"row_heading level0 row3\" >Yıllık Ortalama Sipariş Verilen Ürün Adedi</th>\n",
       "      <td id=\"T_9efe3_row3_col0\" class=\"data row3 col0\" >5460.000000</td>\n",
       "      <td id=\"T_9efe3_row3_col1\" class=\"data row3 col1\" >24.040884</td>\n",
       "      <td id=\"T_9efe3_row3_col2\" class=\"data row3 col2\" >14.945655</td>\n",
       "      <td id=\"T_9efe3_row3_col3\" class=\"data row3 col3\" >0.000000</td>\n",
       "      <td id=\"T_9efe3_row3_col4\" class=\"data row3 col4\" >11.550502</td>\n",
       "      <td id=\"T_9efe3_row3_col5\" class=\"data row3 col5\" >20.095924</td>\n",
       "      <td id=\"T_9efe3_row3_col6\" class=\"data row3 col6\" >35.918161</td>\n",
       "      <td id=\"T_9efe3_row3_col7\" class=\"data row3 col7\" >64.616196</td>\n",
       "    </tr>\n",
       "    <tr>\n",
       "      <th id=\"T_9efe3_level0_row4\" class=\"row_heading level0 row4\" >Yıllık Ortalama Sepete Atılan Ürün Adedi</th>\n",
       "      <td id=\"T_9efe3_row4_col0\" class=\"data row4 col0\" >5460.000000</td>\n",
       "      <td id=\"T_9efe3_row4_col1\" class=\"data row4 col1\" >73.445693</td>\n",
       "      <td id=\"T_9efe3_row4_col2\" class=\"data row4 col2\" >47.214184</td>\n",
       "      <td id=\"T_9efe3_row4_col3\" class=\"data row4 col3\" >3.977559</td>\n",
       "      <td id=\"T_9efe3_row4_col4\" class=\"data row4 col4\" >25.009168</td>\n",
       "      <td id=\"T_9efe3_row4_col5\" class=\"data row4 col5\" >82.485579</td>\n",
       "      <td id=\"T_9efe3_row4_col6\" class=\"data row4 col6\" >104.473291</td>\n",
       "      <td id=\"T_9efe3_row4_col7\" class=\"data row4 col7\" >242.308441</td>\n",
       "    </tr>\n",
       "    <tr>\n",
       "      <th id=\"T_9efe3_level0_row5\" class=\"row_heading level0 row5\" >A</th>\n",
       "      <td id=\"T_9efe3_row5_col0\" class=\"data row5 col0\" >5460.000000</td>\n",
       "      <td id=\"T_9efe3_row5_col1\" class=\"data row5 col1\" >0.421359</td>\n",
       "      <td id=\"T_9efe3_row5_col2\" class=\"data row5 col2\" >0.241901</td>\n",
       "      <td id=\"T_9efe3_row5_col3\" class=\"data row5 col3\" >0.000000</td>\n",
       "      <td id=\"T_9efe3_row5_col4\" class=\"data row5 col4\" >0.217668</td>\n",
       "      <td id=\"T_9efe3_row5_col5\" class=\"data row5 col5\" >0.389002</td>\n",
       "      <td id=\"T_9efe3_row5_col6\" class=\"data row5 col6\" >0.600176</td>\n",
       "      <td id=\"T_9efe3_row5_col7\" class=\"data row5 col7\" >1.000000</td>\n",
       "    </tr>\n",
       "    <tr>\n",
       "      <th id=\"T_9efe3_level0_row6\" class=\"row_heading level0 row6\" >B</th>\n",
       "      <td id=\"T_9efe3_row6_col0\" class=\"data row6 col0\" >5460.000000</td>\n",
       "      <td id=\"T_9efe3_row6_col1\" class=\"data row6 col1\" >0.041832</td>\n",
       "      <td id=\"T_9efe3_row6_col2\" class=\"data row6 col2\" >0.024536</td>\n",
       "      <td id=\"T_9efe3_row6_col3\" class=\"data row6 col3\" >0.010590</td>\n",
       "      <td id=\"T_9efe3_row6_col4\" class=\"data row6 col4\" >0.022040</td>\n",
       "      <td id=\"T_9efe3_row6_col5\" class=\"data row6 col5\" >0.033250</td>\n",
       "      <td id=\"T_9efe3_row6_col6\" class=\"data row6 col6\" >0.064344</td>\n",
       "      <td id=\"T_9efe3_row6_col7\" class=\"data row6 col7\" >0.147513</td>\n",
       "    </tr>\n",
       "    <tr>\n",
       "      <th id=\"T_9efe3_level0_row7\" class=\"row_heading level0 row7\" >C</th>\n",
       "      <td id=\"T_9efe3_row7_col0\" class=\"data row7 col0\" >5460.000000</td>\n",
       "      <td id=\"T_9efe3_row7_col1\" class=\"data row7 col1\" >inf</td>\n",
       "      <td id=\"T_9efe3_row7_col2\" class=\"data row7 col2\" >nan</td>\n",
       "      <td id=\"T_9efe3_row7_col3\" class=\"data row7 col3\" >109.115531</td>\n",
       "      <td id=\"T_9efe3_row7_col4\" class=\"data row7 col4\" >350.465116</td>\n",
       "      <td id=\"T_9efe3_row7_col5\" class=\"data row7 col5\" >604.526385</td>\n",
       "      <td id=\"T_9efe3_row7_col6\" class=\"data row7 col6\" >1244.863719</td>\n",
       "      <td id=\"T_9efe3_row7_col7\" class=\"data row7 col7\" >inf</td>\n",
       "    </tr>\n",
       "  </tbody>\n",
       "</table>\n"
      ],
      "text/plain": [
       "<pandas.io.formats.style.Styler at 0x282e89a4a10>"
      ]
     },
     "execution_count": 47,
     "metadata": {},
     "output_type": "execute_result"
    }
   ],
   "source": [
    "df.describe().T.style.background_gradient(axis=1, cmap=\"Spectral\")"
   ]
  },
  {
   "cell_type": "code",
   "execution_count": 33,
   "id": "d539e9ff-6899-4301-a72d-89c8957d87d7",
   "metadata": {
    "tags": []
   },
   "outputs": [],
   "source": [
    "from sklearn.model_selection import train_test_split\n",
    "\n",
    "X = df.drop([\"Öbek İsmi\", 'index'], axis=1)\n",
    "\n",
    "y = df[\"Öbek İsmi\"]\n",
    "\n",
    "X_train, X_test, y_train, y_test = train_test_split(X, y, test_size=0.15, stratify=y)"
   ]
  },
  {
   "cell_type": "code",
   "execution_count": 34,
   "id": "f426b63a-1f35-4fe9-adc1-e3a218faa5c5",
   "metadata": {
    "tags": []
   },
   "outputs": [
    {
     "data": {
      "text/plain": [
       "Index(['Cinsiyet', 'Yaş Grubu', 'Medeni Durum', 'Eğitim Düzeyi',\n",
       "       'İstihdam Durumu', 'Yaşadığı Şehir', 'En Çok İlgilendiği Ürün Grubu',\n",
       "       'Eğitime Devam Etme Durumu'],\n",
       "      dtype='object')"
      ]
     },
     "execution_count": 34,
     "metadata": {},
     "output_type": "execute_result"
    }
   ],
   "source": [
    "cat = X_train.select_dtypes(\"object\").columns\n",
    "cat"
   ]
  },
  {
   "cell_type": "code",
   "execution_count": 35,
   "id": "2ff09a99-fecc-497c-9a86-740f573fcd10",
   "metadata": {
    "tags": []
   },
   "outputs": [],
   "source": [
    "ord_enc = OrdinalEncoder(handle_unknown='use_encoded_value', \n",
    "                         unknown_value=-1)\n",
    "\n",
    "column_trans = make_column_transformer((ord_enc, cat), \n",
    "                                        remainder='passthrough')"
   ]
  },
  {
   "cell_type": "code",
   "execution_count": 36,
   "id": "2b1b1b4f-1131-473d-a5fe-0f983882511c",
   "metadata": {
    "tags": []
   },
   "outputs": [
    {
     "data": {
      "text/html": [
       "<style>#sk-container-id-5 {color: black;background-color: white;}#sk-container-id-5 pre{padding: 0;}#sk-container-id-5 div.sk-toggleable {background-color: white;}#sk-container-id-5 label.sk-toggleable__label {cursor: pointer;display: block;width: 100%;margin-bottom: 0;padding: 0.3em;box-sizing: border-box;text-align: center;}#sk-container-id-5 label.sk-toggleable__label-arrow:before {content: \"▸\";float: left;margin-right: 0.25em;color: #696969;}#sk-container-id-5 label.sk-toggleable__label-arrow:hover:before {color: black;}#sk-container-id-5 div.sk-estimator:hover label.sk-toggleable__label-arrow:before {color: black;}#sk-container-id-5 div.sk-toggleable__content {max-height: 0;max-width: 0;overflow: hidden;text-align: left;background-color: #f0f8ff;}#sk-container-id-5 div.sk-toggleable__content pre {margin: 0.2em;color: black;border-radius: 0.25em;background-color: #f0f8ff;}#sk-container-id-5 input.sk-toggleable__control:checked~div.sk-toggleable__content {max-height: 200px;max-width: 100%;overflow: auto;}#sk-container-id-5 input.sk-toggleable__control:checked~label.sk-toggleable__label-arrow:before {content: \"▾\";}#sk-container-id-5 div.sk-estimator input.sk-toggleable__control:checked~label.sk-toggleable__label {background-color: #d4ebff;}#sk-container-id-5 div.sk-label input.sk-toggleable__control:checked~label.sk-toggleable__label {background-color: #d4ebff;}#sk-container-id-5 input.sk-hidden--visually {border: 0;clip: rect(1px 1px 1px 1px);clip: rect(1px, 1px, 1px, 1px);height: 1px;margin: -1px;overflow: hidden;padding: 0;position: absolute;width: 1px;}#sk-container-id-5 div.sk-estimator {font-family: monospace;background-color: #f0f8ff;border: 1px dotted black;border-radius: 0.25em;box-sizing: border-box;margin-bottom: 0.5em;}#sk-container-id-5 div.sk-estimator:hover {background-color: #d4ebff;}#sk-container-id-5 div.sk-parallel-item::after {content: \"\";width: 100%;border-bottom: 1px solid gray;flex-grow: 1;}#sk-container-id-5 div.sk-label:hover label.sk-toggleable__label {background-color: #d4ebff;}#sk-container-id-5 div.sk-serial::before {content: \"\";position: absolute;border-left: 1px solid gray;box-sizing: border-box;top: 0;bottom: 0;left: 50%;z-index: 0;}#sk-container-id-5 div.sk-serial {display: flex;flex-direction: column;align-items: center;background-color: white;padding-right: 0.2em;padding-left: 0.2em;position: relative;}#sk-container-id-5 div.sk-item {position: relative;z-index: 1;}#sk-container-id-5 div.sk-parallel {display: flex;align-items: stretch;justify-content: center;background-color: white;position: relative;}#sk-container-id-5 div.sk-item::before, #sk-container-id-5 div.sk-parallel-item::before {content: \"\";position: absolute;border-left: 1px solid gray;box-sizing: border-box;top: 0;bottom: 0;left: 50%;z-index: -1;}#sk-container-id-5 div.sk-parallel-item {display: flex;flex-direction: column;z-index: 1;position: relative;background-color: white;}#sk-container-id-5 div.sk-parallel-item:first-child::after {align-self: flex-end;width: 50%;}#sk-container-id-5 div.sk-parallel-item:last-child::after {align-self: flex-start;width: 50%;}#sk-container-id-5 div.sk-parallel-item:only-child::after {width: 0;}#sk-container-id-5 div.sk-dashed-wrapped {border: 1px dashed gray;margin: 0 0.4em 0.5em 0.4em;box-sizing: border-box;padding-bottom: 0.4em;background-color: white;}#sk-container-id-5 div.sk-label label {font-family: monospace;font-weight: bold;display: inline-block;line-height: 1.2em;}#sk-container-id-5 div.sk-label-container {text-align: center;}#sk-container-id-5 div.sk-container {/* jupyter's `normalize.less` sets `[hidden] { display: none; }` but bootstrap.min.css set `[hidden] { display: none !important; }` so we also need the `!important` here to be able to override the default hidden behavior on the sphinx rendered scikit-learn.org. See: https://github.com/scikit-learn/scikit-learn/issues/21755 */display: inline-block !important;position: relative;}#sk-container-id-5 div.sk-text-repr-fallback {display: none;}</style><div id=\"sk-container-id-5\" class=\"sk-top-container\"><div class=\"sk-text-repr-fallback\"><pre>Pipeline(steps=[(&#x27;OrdinalEncoder&#x27;,\n",
       "                 ColumnTransformer(remainder=&#x27;passthrough&#x27;,\n",
       "                                   transformers=[(&#x27;ordinalencoder&#x27;,\n",
       "                                                  OrdinalEncoder(handle_unknown=&#x27;use_encoded_value&#x27;,\n",
       "                                                                 unknown_value=-1),\n",
       "                                                  Index([&#x27;Cinsiyet&#x27;, &#x27;Yaş Grubu&#x27;, &#x27;Medeni Durum&#x27;, &#x27;Eğitim Düzeyi&#x27;,\n",
       "       &#x27;İstihdam Durumu&#x27;, &#x27;Yaşadığı Şehir&#x27;, &#x27;En Çok İlgilendiği Ürün Grubu&#x27;,\n",
       "       &#x27;Eğitime Devam Etme Durumu&#x27;],\n",
       "      dtype=&#x27;object&#x27;))])),\n",
       "                (&#x27;lightgbm_model&#x27;, LGBMClassifier())])</pre><b>In a Jupyter environment, please rerun this cell to show the HTML representation or trust the notebook. <br />On GitHub, the HTML representation is unable to render, please try loading this page with nbviewer.org.</b></div><div class=\"sk-container\" hidden><div class=\"sk-item sk-dashed-wrapped\"><div class=\"sk-label-container\"><div class=\"sk-label sk-toggleable\"><input class=\"sk-toggleable__control sk-hidden--visually\" id=\"sk-estimator-id-29\" type=\"checkbox\" ><label for=\"sk-estimator-id-29\" class=\"sk-toggleable__label sk-toggleable__label-arrow\">Pipeline</label><div class=\"sk-toggleable__content\"><pre>Pipeline(steps=[(&#x27;OrdinalEncoder&#x27;,\n",
       "                 ColumnTransformer(remainder=&#x27;passthrough&#x27;,\n",
       "                                   transformers=[(&#x27;ordinalencoder&#x27;,\n",
       "                                                  OrdinalEncoder(handle_unknown=&#x27;use_encoded_value&#x27;,\n",
       "                                                                 unknown_value=-1),\n",
       "                                                  Index([&#x27;Cinsiyet&#x27;, &#x27;Yaş Grubu&#x27;, &#x27;Medeni Durum&#x27;, &#x27;Eğitim Düzeyi&#x27;,\n",
       "       &#x27;İstihdam Durumu&#x27;, &#x27;Yaşadığı Şehir&#x27;, &#x27;En Çok İlgilendiği Ürün Grubu&#x27;,\n",
       "       &#x27;Eğitime Devam Etme Durumu&#x27;],\n",
       "      dtype=&#x27;object&#x27;))])),\n",
       "                (&#x27;lightgbm_model&#x27;, LGBMClassifier())])</pre></div></div></div><div class=\"sk-serial\"><div class=\"sk-item sk-dashed-wrapped\"><div class=\"sk-label-container\"><div class=\"sk-label sk-toggleable\"><input class=\"sk-toggleable__control sk-hidden--visually\" id=\"sk-estimator-id-30\" type=\"checkbox\" ><label for=\"sk-estimator-id-30\" class=\"sk-toggleable__label sk-toggleable__label-arrow\">OrdinalEncoder: ColumnTransformer</label><div class=\"sk-toggleable__content\"><pre>ColumnTransformer(remainder=&#x27;passthrough&#x27;,\n",
       "                  transformers=[(&#x27;ordinalencoder&#x27;,\n",
       "                                 OrdinalEncoder(handle_unknown=&#x27;use_encoded_value&#x27;,\n",
       "                                                unknown_value=-1),\n",
       "                                 Index([&#x27;Cinsiyet&#x27;, &#x27;Yaş Grubu&#x27;, &#x27;Medeni Durum&#x27;, &#x27;Eğitim Düzeyi&#x27;,\n",
       "       &#x27;İstihdam Durumu&#x27;, &#x27;Yaşadığı Şehir&#x27;, &#x27;En Çok İlgilendiği Ürün Grubu&#x27;,\n",
       "       &#x27;Eğitime Devam Etme Durumu&#x27;],\n",
       "      dtype=&#x27;object&#x27;))])</pre></div></div></div><div class=\"sk-parallel\"><div class=\"sk-parallel-item\"><div class=\"sk-item\"><div class=\"sk-label-container\"><div class=\"sk-label sk-toggleable\"><input class=\"sk-toggleable__control sk-hidden--visually\" id=\"sk-estimator-id-31\" type=\"checkbox\" ><label for=\"sk-estimator-id-31\" class=\"sk-toggleable__label sk-toggleable__label-arrow\">ordinalencoder</label><div class=\"sk-toggleable__content\"><pre>Index([&#x27;Cinsiyet&#x27;, &#x27;Yaş Grubu&#x27;, &#x27;Medeni Durum&#x27;, &#x27;Eğitim Düzeyi&#x27;,\n",
       "       &#x27;İstihdam Durumu&#x27;, &#x27;Yaşadığı Şehir&#x27;, &#x27;En Çok İlgilendiği Ürün Grubu&#x27;,\n",
       "       &#x27;Eğitime Devam Etme Durumu&#x27;],\n",
       "      dtype=&#x27;object&#x27;)</pre></div></div></div><div class=\"sk-serial\"><div class=\"sk-item\"><div class=\"sk-estimator sk-toggleable\"><input class=\"sk-toggleable__control sk-hidden--visually\" id=\"sk-estimator-id-32\" type=\"checkbox\" ><label for=\"sk-estimator-id-32\" class=\"sk-toggleable__label sk-toggleable__label-arrow\">OrdinalEncoder</label><div class=\"sk-toggleable__content\"><pre>OrdinalEncoder(handle_unknown=&#x27;use_encoded_value&#x27;, unknown_value=-1)</pre></div></div></div></div></div></div><div class=\"sk-parallel-item\"><div class=\"sk-item\"><div class=\"sk-label-container\"><div class=\"sk-label sk-toggleable\"><input class=\"sk-toggleable__control sk-hidden--visually\" id=\"sk-estimator-id-33\" type=\"checkbox\" ><label for=\"sk-estimator-id-33\" class=\"sk-toggleable__label sk-toggleable__label-arrow\">remainder</label><div class=\"sk-toggleable__content\"><pre>[&#x27;Yıllık Ortalama Gelir&#x27;, &#x27;Yıllık Ortalama Satın Alım Miktarı&#x27;, &#x27;Yıllık Ortalama Sipariş Verilen Ürün Adedi&#x27;, &#x27;Yıllık Ortalama Sepete Atılan Ürün Adedi&#x27;, &#x27;A&#x27;, &#x27;B&#x27;, &#x27;C&#x27;]</pre></div></div></div><div class=\"sk-serial\"><div class=\"sk-item\"><div class=\"sk-estimator sk-toggleable\"><input class=\"sk-toggleable__control sk-hidden--visually\" id=\"sk-estimator-id-34\" type=\"checkbox\" ><label for=\"sk-estimator-id-34\" class=\"sk-toggleable__label sk-toggleable__label-arrow\">passthrough</label><div class=\"sk-toggleable__content\"><pre>passthrough</pre></div></div></div></div></div></div></div></div><div class=\"sk-item\"><div class=\"sk-estimator sk-toggleable\"><input class=\"sk-toggleable__control sk-hidden--visually\" id=\"sk-estimator-id-35\" type=\"checkbox\" ><label for=\"sk-estimator-id-35\" class=\"sk-toggleable__label sk-toggleable__label-arrow\">LGBMClassifier</label><div class=\"sk-toggleable__content\"><pre>LGBMClassifier()</pre></div></div></div></div></div></div></div>"
      ],
      "text/plain": [
       "Pipeline(steps=[('OrdinalEncoder',\n",
       "                 ColumnTransformer(remainder='passthrough',\n",
       "                                   transformers=[('ordinalencoder',\n",
       "                                                  OrdinalEncoder(handle_unknown='use_encoded_value',\n",
       "                                                                 unknown_value=-1),\n",
       "                                                  Index(['Cinsiyet', 'Yaş Grubu', 'Medeni Durum', 'Eğitim Düzeyi',\n",
       "       'İstihdam Durumu', 'Yaşadığı Şehir', 'En Çok İlgilendiği Ürün Grubu',\n",
       "       'Eğitime Devam Etme Durumu'],\n",
       "      dtype='object'))])),\n",
       "                ('lightgbm_model', LGBMClassifier())])"
      ]
     },
     "execution_count": 36,
     "metadata": {},
     "output_type": "execute_result"
    }
   ],
   "source": [
    "import lightgbm as lgb\n",
    "\n",
    "operations_lightgbm = [(\"OrdinalEncoder\", column_trans), \n",
    "                       (\"lightgbm_model\", lgb.LGBMClassifier())]\n",
    "\n",
    "lightgbm_model = Pipeline(steps=operations_lightgbm)\n",
    "\n",
    "lightgbm_model.fit(X_train, y_train)"
   ]
  },
  {
   "cell_type": "code",
   "execution_count": 37,
   "id": "cb394d10-9ff7-4804-ac48-7b6c58393116",
   "metadata": {
    "tags": []
   },
   "outputs": [
    {
     "name": "stdout",
     "output_type": "stream",
     "text": [
      "Test_Set\n",
      "[[ 96   1   2   1   0   2   1   1]\n",
      " [  1  80   0   0   0   1   0   0]\n",
      " [  0   0  97   0   0   4   1   2]\n",
      " [  1   0   1  99   3   0   1   3]\n",
      " [  1   0   0   1 104   0   0   0]\n",
      " [  1   0   0   2   0  97   2   1]\n",
      " [  0   1   1   0   0   0 101   1]\n",
      " [  1   0   1   2   0   1   0 103]]\n",
      "              precision    recall  f1-score   support\n",
      "\n",
      "      obek_1       0.95      0.92      0.94       104\n",
      "      obek_2       0.98      0.98      0.98        82\n",
      "      obek_3       0.95      0.93      0.94       104\n",
      "      obek_4       0.94      0.92      0.93       108\n",
      "      obek_5       0.97      0.98      0.98       106\n",
      "      obek_6       0.92      0.94      0.93       103\n",
      "      obek_7       0.95      0.97      0.96       104\n",
      "      obek_8       0.93      0.95      0.94       108\n",
      "\n",
      "    accuracy                           0.95       819\n",
      "   macro avg       0.95      0.95      0.95       819\n",
      "weighted avg       0.95      0.95      0.95       819\n",
      "\n",
      "\n",
      "Train_Set\n",
      "[[588   0   0   0   0   0   0   0]\n",
      " [  0 465   0   0   0   0   0   0]\n",
      " [  0   0 591   0   0   0   0   0]\n",
      " [  0   0   0 612   0   0   0   0]\n",
      " [  0   0   0   0 600   0   0   0]\n",
      " [  0   0   0   0   0 585   0   0]\n",
      " [  0   0   0   0   0   0 591   0]\n",
      " [  0   0   0   0   0   0   0 609]]\n",
      "              precision    recall  f1-score   support\n",
      "\n",
      "      obek_1       1.00      1.00      1.00       588\n",
      "      obek_2       1.00      1.00      1.00       465\n",
      "      obek_3       1.00      1.00      1.00       591\n",
      "      obek_4       1.00      1.00      1.00       612\n",
      "      obek_5       1.00      1.00      1.00       600\n",
      "      obek_6       1.00      1.00      1.00       585\n",
      "      obek_7       1.00      1.00      1.00       591\n",
      "      obek_8       1.00      1.00      1.00       609\n",
      "\n",
      "    accuracy                           1.00      4641\n",
      "   macro avg       1.00      1.00      1.00      4641\n",
      "weighted avg       1.00      1.00      1.00      4641\n",
      "\n"
     ]
    }
   ],
   "source": [
    "eval_metric(lightgbm_model, X_train, y_train, X_test, y_test)"
   ]
  },
  {
   "cell_type": "code",
   "execution_count": 26,
   "id": "96837051-1899-4e01-8c23-d8a462ef896d",
   "metadata": {
    "tags": []
   },
   "outputs": [
    {
     "name": "stdout",
     "output_type": "stream",
     "text": [
      "LightGBM Model accuracy score: 0.9548\n"
     ]
    }
   ],
   "source": [
    "from sklearn.metrics import accuracy_score\n",
    "\n",
    "y_pred = lightgbm_model.predict(X_test)\n",
    "accuracy=accuracy_score(y_pred, y_test)\n",
    "print('LightGBM Model accuracy score: {0:0.4f}'.format(accuracy_score(y_test, y_pred)))"
   ]
  },
  {
   "cell_type": "code",
   "execution_count": null,
   "id": "c6eb8bf6-8fcb-48a7-be9f-ee5e045171e8",
   "metadata": {},
   "outputs": [],
   "source": []
  },
  {
   "cell_type": "code",
   "execution_count": 42,
   "id": "0e105948-97a5-4a18-b493-94abf2b5b742",
   "metadata": {
    "tags": []
   },
   "outputs": [
    {
     "data": {
      "text/html": [
       "<style>#sk-container-id-6 {color: black;background-color: white;}#sk-container-id-6 pre{padding: 0;}#sk-container-id-6 div.sk-toggleable {background-color: white;}#sk-container-id-6 label.sk-toggleable__label {cursor: pointer;display: block;width: 100%;margin-bottom: 0;padding: 0.3em;box-sizing: border-box;text-align: center;}#sk-container-id-6 label.sk-toggleable__label-arrow:before {content: \"▸\";float: left;margin-right: 0.25em;color: #696969;}#sk-container-id-6 label.sk-toggleable__label-arrow:hover:before {color: black;}#sk-container-id-6 div.sk-estimator:hover label.sk-toggleable__label-arrow:before {color: black;}#sk-container-id-6 div.sk-toggleable__content {max-height: 0;max-width: 0;overflow: hidden;text-align: left;background-color: #f0f8ff;}#sk-container-id-6 div.sk-toggleable__content pre {margin: 0.2em;color: black;border-radius: 0.25em;background-color: #f0f8ff;}#sk-container-id-6 input.sk-toggleable__control:checked~div.sk-toggleable__content {max-height: 200px;max-width: 100%;overflow: auto;}#sk-container-id-6 input.sk-toggleable__control:checked~label.sk-toggleable__label-arrow:before {content: \"▾\";}#sk-container-id-6 div.sk-estimator input.sk-toggleable__control:checked~label.sk-toggleable__label {background-color: #d4ebff;}#sk-container-id-6 div.sk-label input.sk-toggleable__control:checked~label.sk-toggleable__label {background-color: #d4ebff;}#sk-container-id-6 input.sk-hidden--visually {border: 0;clip: rect(1px 1px 1px 1px);clip: rect(1px, 1px, 1px, 1px);height: 1px;margin: -1px;overflow: hidden;padding: 0;position: absolute;width: 1px;}#sk-container-id-6 div.sk-estimator {font-family: monospace;background-color: #f0f8ff;border: 1px dotted black;border-radius: 0.25em;box-sizing: border-box;margin-bottom: 0.5em;}#sk-container-id-6 div.sk-estimator:hover {background-color: #d4ebff;}#sk-container-id-6 div.sk-parallel-item::after {content: \"\";width: 100%;border-bottom: 1px solid gray;flex-grow: 1;}#sk-container-id-6 div.sk-label:hover label.sk-toggleable__label {background-color: #d4ebff;}#sk-container-id-6 div.sk-serial::before {content: \"\";position: absolute;border-left: 1px solid gray;box-sizing: border-box;top: 0;bottom: 0;left: 50%;z-index: 0;}#sk-container-id-6 div.sk-serial {display: flex;flex-direction: column;align-items: center;background-color: white;padding-right: 0.2em;padding-left: 0.2em;position: relative;}#sk-container-id-6 div.sk-item {position: relative;z-index: 1;}#sk-container-id-6 div.sk-parallel {display: flex;align-items: stretch;justify-content: center;background-color: white;position: relative;}#sk-container-id-6 div.sk-item::before, #sk-container-id-6 div.sk-parallel-item::before {content: \"\";position: absolute;border-left: 1px solid gray;box-sizing: border-box;top: 0;bottom: 0;left: 50%;z-index: -1;}#sk-container-id-6 div.sk-parallel-item {display: flex;flex-direction: column;z-index: 1;position: relative;background-color: white;}#sk-container-id-6 div.sk-parallel-item:first-child::after {align-self: flex-end;width: 50%;}#sk-container-id-6 div.sk-parallel-item:last-child::after {align-self: flex-start;width: 50%;}#sk-container-id-6 div.sk-parallel-item:only-child::after {width: 0;}#sk-container-id-6 div.sk-dashed-wrapped {border: 1px dashed gray;margin: 0 0.4em 0.5em 0.4em;box-sizing: border-box;padding-bottom: 0.4em;background-color: white;}#sk-container-id-6 div.sk-label label {font-family: monospace;font-weight: bold;display: inline-block;line-height: 1.2em;}#sk-container-id-6 div.sk-label-container {text-align: center;}#sk-container-id-6 div.sk-container {/* jupyter's `normalize.less` sets `[hidden] { display: none; }` but bootstrap.min.css set `[hidden] { display: none !important; }` so we also need the `!important` here to be able to override the default hidden behavior on the sphinx rendered scikit-learn.org. See: https://github.com/scikit-learn/scikit-learn/issues/21755 */display: inline-block !important;position: relative;}#sk-container-id-6 div.sk-text-repr-fallback {display: none;}</style><div id=\"sk-container-id-6\" class=\"sk-top-container\"><div class=\"sk-text-repr-fallback\"><pre>Pipeline(steps=[(&#x27;OrdinalEncoder&#x27;,\n",
       "                 ColumnTransformer(remainder=&#x27;passthrough&#x27;,\n",
       "                                   transformers=[(&#x27;ordinalencoder&#x27;,\n",
       "                                                  OrdinalEncoder(handle_unknown=&#x27;use_encoded_value&#x27;,\n",
       "                                                                 unknown_value=-1),\n",
       "                                                  Index([&#x27;Cinsiyet&#x27;, &#x27;Yaş Grubu&#x27;, &#x27;Medeni Durum&#x27;, &#x27;Eğitim Düzeyi&#x27;,\n",
       "       &#x27;İstihdam Durumu&#x27;, &#x27;Yaşadığı Şehir&#x27;, &#x27;En Çok İlgilendiği Ürün Grubu&#x27;,\n",
       "       &#x27;Eğitime Devam Etme Durumu&#x27;],\n",
       "      dtype=&#x27;object&#x27;))])),\n",
       "                (&#x27;lightgbm_model&#x27;,\n",
       "                 LGBMClassifier(boosting_type=&#x27;dart&#x27;, colsample_bytree=0.6,\n",
       "                                is_unbalance=True, learning_rate=0.01,\n",
       "                                min_child_samples=30, n_estimators=1000,\n",
       "                                num_leaves=70, reg_alpha=0, scale_pos_weight=4,\n",
       "                                subsample_for_bin=3000))])</pre><b>In a Jupyter environment, please rerun this cell to show the HTML representation or trust the notebook. <br />On GitHub, the HTML representation is unable to render, please try loading this page with nbviewer.org.</b></div><div class=\"sk-container\" hidden><div class=\"sk-item sk-dashed-wrapped\"><div class=\"sk-label-container\"><div class=\"sk-label sk-toggleable\"><input class=\"sk-toggleable__control sk-hidden--visually\" id=\"sk-estimator-id-36\" type=\"checkbox\" ><label for=\"sk-estimator-id-36\" class=\"sk-toggleable__label sk-toggleable__label-arrow\">Pipeline</label><div class=\"sk-toggleable__content\"><pre>Pipeline(steps=[(&#x27;OrdinalEncoder&#x27;,\n",
       "                 ColumnTransformer(remainder=&#x27;passthrough&#x27;,\n",
       "                                   transformers=[(&#x27;ordinalencoder&#x27;,\n",
       "                                                  OrdinalEncoder(handle_unknown=&#x27;use_encoded_value&#x27;,\n",
       "                                                                 unknown_value=-1),\n",
       "                                                  Index([&#x27;Cinsiyet&#x27;, &#x27;Yaş Grubu&#x27;, &#x27;Medeni Durum&#x27;, &#x27;Eğitim Düzeyi&#x27;,\n",
       "       &#x27;İstihdam Durumu&#x27;, &#x27;Yaşadığı Şehir&#x27;, &#x27;En Çok İlgilendiği Ürün Grubu&#x27;,\n",
       "       &#x27;Eğitime Devam Etme Durumu&#x27;],\n",
       "      dtype=&#x27;object&#x27;))])),\n",
       "                (&#x27;lightgbm_model&#x27;,\n",
       "                 LGBMClassifier(boosting_type=&#x27;dart&#x27;, colsample_bytree=0.6,\n",
       "                                is_unbalance=True, learning_rate=0.01,\n",
       "                                min_child_samples=30, n_estimators=1000,\n",
       "                                num_leaves=70, reg_alpha=0, scale_pos_weight=4,\n",
       "                                subsample_for_bin=3000))])</pre></div></div></div><div class=\"sk-serial\"><div class=\"sk-item sk-dashed-wrapped\"><div class=\"sk-label-container\"><div class=\"sk-label sk-toggleable\"><input class=\"sk-toggleable__control sk-hidden--visually\" id=\"sk-estimator-id-37\" type=\"checkbox\" ><label for=\"sk-estimator-id-37\" class=\"sk-toggleable__label sk-toggleable__label-arrow\">OrdinalEncoder: ColumnTransformer</label><div class=\"sk-toggleable__content\"><pre>ColumnTransformer(remainder=&#x27;passthrough&#x27;,\n",
       "                  transformers=[(&#x27;ordinalencoder&#x27;,\n",
       "                                 OrdinalEncoder(handle_unknown=&#x27;use_encoded_value&#x27;,\n",
       "                                                unknown_value=-1),\n",
       "                                 Index([&#x27;Cinsiyet&#x27;, &#x27;Yaş Grubu&#x27;, &#x27;Medeni Durum&#x27;, &#x27;Eğitim Düzeyi&#x27;,\n",
       "       &#x27;İstihdam Durumu&#x27;, &#x27;Yaşadığı Şehir&#x27;, &#x27;En Çok İlgilendiği Ürün Grubu&#x27;,\n",
       "       &#x27;Eğitime Devam Etme Durumu&#x27;],\n",
       "      dtype=&#x27;object&#x27;))])</pre></div></div></div><div class=\"sk-parallel\"><div class=\"sk-parallel-item\"><div class=\"sk-item\"><div class=\"sk-label-container\"><div class=\"sk-label sk-toggleable\"><input class=\"sk-toggleable__control sk-hidden--visually\" id=\"sk-estimator-id-38\" type=\"checkbox\" ><label for=\"sk-estimator-id-38\" class=\"sk-toggleable__label sk-toggleable__label-arrow\">ordinalencoder</label><div class=\"sk-toggleable__content\"><pre>Index([&#x27;Cinsiyet&#x27;, &#x27;Yaş Grubu&#x27;, &#x27;Medeni Durum&#x27;, &#x27;Eğitim Düzeyi&#x27;,\n",
       "       &#x27;İstihdam Durumu&#x27;, &#x27;Yaşadığı Şehir&#x27;, &#x27;En Çok İlgilendiği Ürün Grubu&#x27;,\n",
       "       &#x27;Eğitime Devam Etme Durumu&#x27;],\n",
       "      dtype=&#x27;object&#x27;)</pre></div></div></div><div class=\"sk-serial\"><div class=\"sk-item\"><div class=\"sk-estimator sk-toggleable\"><input class=\"sk-toggleable__control sk-hidden--visually\" id=\"sk-estimator-id-39\" type=\"checkbox\" ><label for=\"sk-estimator-id-39\" class=\"sk-toggleable__label sk-toggleable__label-arrow\">OrdinalEncoder</label><div class=\"sk-toggleable__content\"><pre>OrdinalEncoder(handle_unknown=&#x27;use_encoded_value&#x27;, unknown_value=-1)</pre></div></div></div></div></div></div><div class=\"sk-parallel-item\"><div class=\"sk-item\"><div class=\"sk-label-container\"><div class=\"sk-label sk-toggleable\"><input class=\"sk-toggleable__control sk-hidden--visually\" id=\"sk-estimator-id-40\" type=\"checkbox\" ><label for=\"sk-estimator-id-40\" class=\"sk-toggleable__label sk-toggleable__label-arrow\">remainder</label><div class=\"sk-toggleable__content\"><pre>[&#x27;Yıllık Ortalama Gelir&#x27;, &#x27;Yıllık Ortalama Satın Alım Miktarı&#x27;, &#x27;Yıllık Ortalama Sipariş Verilen Ürün Adedi&#x27;, &#x27;Yıllık Ortalama Sepete Atılan Ürün Adedi&#x27;, &#x27;A&#x27;, &#x27;B&#x27;, &#x27;C&#x27;]</pre></div></div></div><div class=\"sk-serial\"><div class=\"sk-item\"><div class=\"sk-estimator sk-toggleable\"><input class=\"sk-toggleable__control sk-hidden--visually\" id=\"sk-estimator-id-41\" type=\"checkbox\" ><label for=\"sk-estimator-id-41\" class=\"sk-toggleable__label sk-toggleable__label-arrow\">passthrough</label><div class=\"sk-toggleable__content\"><pre>passthrough</pre></div></div></div></div></div></div></div></div><div class=\"sk-item\"><div class=\"sk-estimator sk-toggleable\"><input class=\"sk-toggleable__control sk-hidden--visually\" id=\"sk-estimator-id-42\" type=\"checkbox\" ><label for=\"sk-estimator-id-42\" class=\"sk-toggleable__label sk-toggleable__label-arrow\">LGBMClassifier</label><div class=\"sk-toggleable__content\"><pre>LGBMClassifier(boosting_type=&#x27;dart&#x27;, colsample_bytree=0.6, is_unbalance=True,\n",
       "               learning_rate=0.01, min_child_samples=30, n_estimators=1000,\n",
       "               num_leaves=70, reg_alpha=0, scale_pos_weight=4,\n",
       "               subsample_for_bin=3000)</pre></div></div></div></div></div></div></div>"
      ],
      "text/plain": [
       "Pipeline(steps=[('OrdinalEncoder',\n",
       "                 ColumnTransformer(remainder='passthrough',\n",
       "                                   transformers=[('ordinalencoder',\n",
       "                                                  OrdinalEncoder(handle_unknown='use_encoded_value',\n",
       "                                                                 unknown_value=-1),\n",
       "                                                  Index(['Cinsiyet', 'Yaş Grubu', 'Medeni Durum', 'Eğitim Düzeyi',\n",
       "       'İstihdam Durumu', 'Yaşadığı Şehir', 'En Çok İlgilendiği Ürün Grubu',\n",
       "       'Eğitime Devam Etme Durumu'],\n",
       "      dtype='object'))])),\n",
       "                ('lightgbm_model',\n",
       "                 LGBMClassifier(boosting_type='dart', colsample_bytree=0.6,\n",
       "                                is_unbalance=True, learning_rate=0.01,\n",
       "                                min_child_samples=30, n_estimators=1000,\n",
       "                                num_leaves=70, reg_alpha=0, scale_pos_weight=4,\n",
       "                                subsample_for_bin=3000))])"
      ]
     },
     "execution_count": 42,
     "metadata": {},
     "output_type": "execute_result"
    }
   ],
   "source": [
    "import lightgbm as lgb\n",
    "\n",
    "operations_lightgbm = [(\"OrdinalEncoder\", column_trans), \n",
    "                       (\"lightgbm_model\", lgb.LGBMClassifier(boosting_type='dart',\n",
    "                                                             colsample_bytree=0.6,\n",
    "                                                             is_unbalance=True,\n",
    "                                                             learning_rate=0.01,\n",
    "                                                             min_child_samples=30,\n",
    "                                                             n_estimators=1000,\n",
    "                                                             num_leaves=70,\n",
    "                                                             reg_alpha=0,\n",
    "                                                             scale_pos_weight=4,\n",
    "                                                             subsample_for_bin=3000))]\n",
    "\n",
    "lightgbm_model = Pipeline(steps=operations_lightgbm)\n",
    "\n",
    "lightgbm_model.fit(X_train, y_train)"
   ]
  },
  {
   "cell_type": "code",
   "execution_count": 43,
   "id": "adb3792c-0431-422c-bb3e-414d58fd53de",
   "metadata": {
    "tags": []
   },
   "outputs": [
    {
     "name": "stdout",
     "output_type": "stream",
     "text": [
      "Test_Set\n",
      "[[ 97   1   1   1   0   2   1   1]\n",
      " [  1  80   0   0   0   1   0   0]\n",
      " [  0   0  97   0   0   4   1   2]\n",
      " [  1   0   1  99   3   0   1   3]\n",
      " [  1   0   0   1 104   0   0   0]\n",
      " [  1   0   0   2   0  97   2   1]\n",
      " [  0   1   1   0   0   0 101   1]\n",
      " [  1   0   1   1   0   1   1 103]]\n",
      "              precision    recall  f1-score   support\n",
      "\n",
      "      obek_1       0.95      0.93      0.94       104\n",
      "      obek_2       0.98      0.98      0.98        82\n",
      "      obek_3       0.96      0.93      0.95       104\n",
      "      obek_4       0.95      0.92      0.93       108\n",
      "      obek_5       0.97      0.98      0.98       106\n",
      "      obek_6       0.92      0.94      0.93       103\n",
      "      obek_7       0.94      0.97      0.96       104\n",
      "      obek_8       0.93      0.95      0.94       108\n",
      "\n",
      "    accuracy                           0.95       819\n",
      "   macro avg       0.95      0.95      0.95       819\n",
      "weighted avg       0.95      0.95      0.95       819\n",
      "\n",
      "\n",
      "Train_Set\n",
      "[[585   0   1   0   0   1   1   0]\n",
      " [  1 464   0   0   0   0   0   0]\n",
      " [  0   0 589   0   0   2   0   0]\n",
      " [  0   0   1 608   0   2   1   0]\n",
      " [  0   0   0   0 599   0   0   1]\n",
      " [  0   0   0   0   1 584   0   0]\n",
      " [  2   1   1   0   0   1 585   1]\n",
      " [  0   0   0   0   0   0   1 608]]\n",
      "              precision    recall  f1-score   support\n",
      "\n",
      "      obek_1       0.99      0.99      0.99       588\n",
      "      obek_2       1.00      1.00      1.00       465\n",
      "      obek_3       0.99      1.00      1.00       591\n",
      "      obek_4       1.00      0.99      1.00       612\n",
      "      obek_5       1.00      1.00      1.00       600\n",
      "      obek_6       0.99      1.00      0.99       585\n",
      "      obek_7       0.99      0.99      0.99       591\n",
      "      obek_8       1.00      1.00      1.00       609\n",
      "\n",
      "    accuracy                           1.00      4641\n",
      "   macro avg       1.00      1.00      1.00      4641\n",
      "weighted avg       1.00      1.00      1.00      4641\n",
      "\n"
     ]
    }
   ],
   "source": [
    "eval_metric(lightgbm_model, X_train, y_train, X_test, y_test)"
   ]
  },
  {
   "cell_type": "code",
   "execution_count": 29,
   "id": "e8747e79-a5b0-4870-979a-8c15b9df0523",
   "metadata": {
    "tags": []
   },
   "outputs": [
    {
     "name": "stdout",
     "output_type": "stream",
     "text": [
      "LightGBM Model accuracy score: 0.9548\n"
     ]
    }
   ],
   "source": [
    "from sklearn.metrics import accuracy_score\n",
    "\n",
    "y_pred = lightgbm_model.predict(X_test)\n",
    "accuracy=accuracy_score(y_pred, y_test)\n",
    "print('LightGBM Model accuracy score: {0:0.4f}'.format(accuracy_score(y_test, y_pred)))"
   ]
  },
  {
   "cell_type": "code",
   "execution_count": 84,
   "id": "19eb3c1c-1768-4d58-9f06-7f765d77e199",
   "metadata": {
    "tags": []
   },
   "outputs": [],
   "source": [
    "predict = lightgbm_model.predict(test)"
   ]
  },
  {
   "cell_type": "code",
   "execution_count": 85,
   "id": "df703400-2a17-46fb-9a51-413bd0f9d45e",
   "metadata": {
    "tags": []
   },
   "outputs": [
    {
     "data": {
      "text/html": [
       "<div>\n",
       "<style scoped>\n",
       "    .dataframe tbody tr th:only-of-type {\n",
       "        vertical-align: middle;\n",
       "    }\n",
       "\n",
       "    .dataframe tbody tr th {\n",
       "        vertical-align: top;\n",
       "    }\n",
       "\n",
       "    .dataframe thead th {\n",
       "        text-align: right;\n",
       "    }\n",
       "</style>\n",
       "<table border=\"1\" class=\"dataframe\">\n",
       "  <thead>\n",
       "    <tr style=\"text-align: right;\">\n",
       "      <th></th>\n",
       "      <th>Öbek İsmi</th>\n",
       "    </tr>\n",
       "    <tr>\n",
       "      <th>id</th>\n",
       "      <th></th>\n",
       "    </tr>\n",
       "  </thead>\n",
       "  <tbody>\n",
       "    <tr>\n",
       "      <th>0</th>\n",
       "      <td>obek_3</td>\n",
       "    </tr>\n",
       "    <tr>\n",
       "      <th>1</th>\n",
       "      <td>obek_3</td>\n",
       "    </tr>\n",
       "    <tr>\n",
       "      <th>2</th>\n",
       "      <td>obek_2</td>\n",
       "    </tr>\n",
       "    <tr>\n",
       "      <th>3</th>\n",
       "      <td>obek_6</td>\n",
       "    </tr>\n",
       "    <tr>\n",
       "      <th>4</th>\n",
       "      <td>obek_1</td>\n",
       "    </tr>\n",
       "    <tr>\n",
       "      <th>...</th>\n",
       "      <td>...</td>\n",
       "    </tr>\n",
       "    <tr>\n",
       "      <th>2335</th>\n",
       "      <td>obek_8</td>\n",
       "    </tr>\n",
       "    <tr>\n",
       "      <th>2336</th>\n",
       "      <td>obek_2</td>\n",
       "    </tr>\n",
       "    <tr>\n",
       "      <th>2337</th>\n",
       "      <td>obek_7</td>\n",
       "    </tr>\n",
       "    <tr>\n",
       "      <th>2338</th>\n",
       "      <td>obek_5</td>\n",
       "    </tr>\n",
       "    <tr>\n",
       "      <th>2339</th>\n",
       "      <td>obek_6</td>\n",
       "    </tr>\n",
       "  </tbody>\n",
       "</table>\n",
       "<p>2340 rows × 1 columns</p>\n",
       "</div>"
      ],
      "text/plain": [
       "     Öbek İsmi\n",
       "id            \n",
       "0       obek_3\n",
       "1       obek_3\n",
       "2       obek_2\n",
       "3       obek_6\n",
       "4       obek_1\n",
       "...        ...\n",
       "2335    obek_8\n",
       "2336    obek_2\n",
       "2337    obek_7\n",
       "2338    obek_5\n",
       "2339    obek_6\n",
       "\n",
       "[2340 rows x 1 columns]"
      ]
     },
     "execution_count": 85,
     "metadata": {},
     "output_type": "execute_result"
    }
   ],
   "source": [
    "data = {\n",
    "    'id': range(2340),\n",
    "    'Öbek İsmi': predict\n",
    "}\n",
    "sub_df = pd.DataFrame(data)\n",
    "sub_df.set_index('id', inplace=True)\n",
    "sub_df"
   ]
  },
  {
   "cell_type": "code",
   "execution_count": 86,
   "id": "57d63fc6-dbc1-47f7-b06f-dd4c4eae9a12",
   "metadata": {
    "tags": []
   },
   "outputs": [],
   "source": [
    "sub_df.to_csv('submission_lgbm_fe6.csv')"
   ]
  },
  {
   "cell_type": "code",
   "execution_count": 73,
   "id": "6b251c82-368c-4b2a-b0e1-e7367a155165",
   "metadata": {
    "tags": []
   },
   "outputs": [],
   "source": [
    "import optuna\n",
    "\n",
    "def objective(trial):\n",
    "    # LightGBM için hiperparametre aralıklarını belirleme\n",
    "    params = {\n",
    "        'objective': 'multiclass',  # Sınıflandırma olduğu için 'binary' olarak ayarlandı\n",
    "        'boosting_type': 'gbdt',\n",
    "        'num_leaves': trial.suggest_int('num_leaves', 10, 100),\n",
    "        'learning_rate': trial.suggest_float('learning_rate', 0.001, 0.1),\n",
    "        'feature_fraction': trial.suggest_float('feature_fraction', 0.1, 1.0),\n",
    "    }\n",
    "    \n",
    "    operations_lightgbm = [(\"OrdinalEncoder\", column_trans), \n",
    "                           (\"lightgbm_model\", lgb.LGBMClassifier(**params))]\n",
    "\n",
    "    lightgbm_model = Pipeline(steps=operations_lightgbm)\n",
    "    # LightGBM modelini oluşturma\n",
    "    # model = lgb.LGBMClassifier(**params)\n",
    "    # Modeli veri ile eğitme\n",
    "    lightgbm_model.fit(X_train, y_train)\n",
    "    # Doğrulama verisi üzerinde modelin performansını hesaplama (örneğin doğruluk)\n",
    "    accuracy = lightgbm_model.score(X_test, y_test)\n",
    "    return accuracy  # Amac fonksiyonu, maximize edilmeye çalışılan değeri döndürmelidir"
   ]
  },
  {
   "cell_type": "code",
   "execution_count": 74,
   "id": "b578e108-ea0d-46f9-8067-840b9d758b99",
   "metadata": {
    "collapsed": true,
    "jupyter": {
     "outputs_hidden": true
    },
    "tags": []
   },
   "outputs": [
    {
     "name": "stderr",
     "output_type": "stream",
     "text": [
      "[I 2023-08-24 21:29:55,044] A new study created in memory with name: no-name-64e952ab-9830-4705-bcf5-b560f7311cb1\n",
      "[I 2023-08-24 21:29:55,438] Trial 0 finished with value: 0.9560439560439561 and parameters: {'num_leaves': 33, 'learning_rate': 0.021406601638270958, 'feature_fraction': 0.9064070445205542}. Best is trial 0 with value: 0.9560439560439561.\n"
     ]
    },
    {
     "name": "stdout",
     "output_type": "stream",
     "text": [
      "[LightGBM] [Warning] feature_fraction is set=0.5686044281958337, colsample_bytree=1.0 will be ignored. Current value: feature_fraction=0.5686044281958337\n"
     ]
    },
    {
     "name": "stderr",
     "output_type": "stream",
     "text": [
      "[I 2023-08-24 21:29:56,298] Trial 1 finished with value: 0.9560439560439561 and parameters: {'num_leaves': 74, 'learning_rate': 0.007201565396984265, 'feature_fraction': 0.5686044281958337}. Best is trial 0 with value: 0.9560439560439561.\n"
     ]
    },
    {
     "name": "stdout",
     "output_type": "stream",
     "text": [
      "[LightGBM] [Warning] feature_fraction is set=0.5959831281472725, colsample_bytree=1.0 will be ignored. Current value: feature_fraction=0.5959831281472725\n"
     ]
    },
    {
     "name": "stderr",
     "output_type": "stream",
     "text": [
      "[I 2023-08-24 21:29:57,098] Trial 2 finished with value: 0.9578754578754579 and parameters: {'num_leaves': 63, 'learning_rate': 0.05357009914065205, 'feature_fraction': 0.5959831281472725}. Best is trial 2 with value: 0.9578754578754579.\n"
     ]
    },
    {
     "name": "stdout",
     "output_type": "stream",
     "text": [
      "[LightGBM] [Warning] feature_fraction is set=0.8219083960116862, colsample_bytree=1.0 will be ignored. Current value: feature_fraction=0.8219083960116862\n"
     ]
    },
    {
     "name": "stderr",
     "output_type": "stream",
     "text": [
      "[I 2023-08-24 21:29:57,367] Trial 3 finished with value: 0.9578754578754579 and parameters: {'num_leaves': 12, 'learning_rate': 0.028065943472511717, 'feature_fraction': 0.8219083960116862}. Best is trial 2 with value: 0.9578754578754579.\n"
     ]
    },
    {
     "name": "stdout",
     "output_type": "stream",
     "text": [
      "[LightGBM] [Warning] feature_fraction is set=0.7777079354304326, colsample_bytree=1.0 will be ignored. Current value: feature_fraction=0.7777079354304326\n"
     ]
    },
    {
     "name": "stderr",
     "output_type": "stream",
     "text": [
      "[I 2023-08-24 21:29:57,665] Trial 4 finished with value: 0.9578754578754579 and parameters: {'num_leaves': 20, 'learning_rate': 0.09566219634591548, 'feature_fraction': 0.7777079354304326}. Best is trial 2 with value: 0.9578754578754579.\n"
     ]
    },
    {
     "name": "stdout",
     "output_type": "stream",
     "text": [
      "[LightGBM] [Warning] feature_fraction is set=0.5272523507226217, colsample_bytree=1.0 will be ignored. Current value: feature_fraction=0.5272523507226217\n"
     ]
    },
    {
     "name": "stderr",
     "output_type": "stream",
     "text": [
      "[I 2023-08-24 21:29:58,078] Trial 5 finished with value: 0.9587912087912088 and parameters: {'num_leaves': 38, 'learning_rate': 0.04344729836905109, 'feature_fraction': 0.5272523507226217}. Best is trial 5 with value: 0.9587912087912088.\n"
     ]
    },
    {
     "name": "stdout",
     "output_type": "stream",
     "text": [
      "[LightGBM] [Warning] feature_fraction is set=0.9867672549559214, colsample_bytree=1.0 will be ignored. Current value: feature_fraction=0.9867672549559214\n"
     ]
    },
    {
     "name": "stderr",
     "output_type": "stream",
     "text": [
      "[I 2023-08-24 21:29:58,609] Trial 6 finished with value: 0.9587912087912088 and parameters: {'num_leaves': 44, 'learning_rate': 0.09754917952787263, 'feature_fraction': 0.9867672549559214}. Best is trial 5 with value: 0.9587912087912088.\n"
     ]
    },
    {
     "name": "stdout",
     "output_type": "stream",
     "text": [
      "[LightGBM] [Warning] feature_fraction is set=0.37408205108197745, colsample_bytree=1.0 will be ignored. Current value: feature_fraction=0.37408205108197745\n"
     ]
    },
    {
     "name": "stderr",
     "output_type": "stream",
     "text": [
      "[I 2023-08-24 21:29:58,891] Trial 7 finished with value: 0.9587912087912088 and parameters: {'num_leaves': 24, 'learning_rate': 0.08202034074166996, 'feature_fraction': 0.37408205108197745}. Best is trial 5 with value: 0.9587912087912088.\n"
     ]
    },
    {
     "name": "stdout",
     "output_type": "stream",
     "text": [
      "[LightGBM] [Warning] feature_fraction is set=0.7081502968796003, colsample_bytree=1.0 will be ignored. Current value: feature_fraction=0.7081502968796003\n"
     ]
    },
    {
     "name": "stderr",
     "output_type": "stream",
     "text": [
      "[I 2023-08-24 21:29:59,304] Trial 8 finished with value: 0.9560439560439561 and parameters: {'num_leaves': 36, 'learning_rate': 0.01447771311545893, 'feature_fraction': 0.7081502968796003}. Best is trial 5 with value: 0.9587912087912088.\n"
     ]
    },
    {
     "name": "stdout",
     "output_type": "stream",
     "text": [
      "[LightGBM] [Warning] feature_fraction is set=0.2807795289830015, colsample_bytree=1.0 will be ignored. Current value: feature_fraction=0.2807795289830015\n"
     ]
    },
    {
     "name": "stderr",
     "output_type": "stream",
     "text": [
      "[I 2023-08-24 21:29:59,834] Trial 9 finished with value: 0.9587912087912088 and parameters: {'num_leaves': 57, 'learning_rate': 0.06690944806656615, 'feature_fraction': 0.2807795289830015}. Best is trial 5 with value: 0.9587912087912088.\n"
     ]
    },
    {
     "name": "stdout",
     "output_type": "stream",
     "text": [
      "[LightGBM] [Warning] feature_fraction is set=0.10482858132830714, colsample_bytree=1.0 will be ignored. Current value: feature_fraction=0.10482858132830714\n"
     ]
    },
    {
     "name": "stderr",
     "output_type": "stream",
     "text": [
      "[I 2023-08-24 21:30:00,459] Trial 10 finished with value: 0.9542124542124543 and parameters: {'num_leaves': 94, 'learning_rate': 0.039993354433946415, 'feature_fraction': 0.10482858132830714}. Best is trial 5 with value: 0.9587912087912088.\n"
     ]
    },
    {
     "name": "stdout",
     "output_type": "stream",
     "text": [
      "[LightGBM] [Warning] feature_fraction is set=0.9883517172042662, colsample_bytree=1.0 will be ignored. Current value: feature_fraction=0.9883517172042662\n"
     ]
    },
    {
     "name": "stderr",
     "output_type": "stream",
     "text": [
      "[I 2023-08-24 21:30:01,114] Trial 11 finished with value: 0.9587912087912088 and parameters: {'num_leaves': 44, 'learning_rate': 0.05961961842758947, 'feature_fraction': 0.9883517172042662}. Best is trial 5 with value: 0.9587912087912088.\n"
     ]
    },
    {
     "name": "stdout",
     "output_type": "stream",
     "text": [
      "[LightGBM] [Warning] feature_fraction is set=0.9891112377623064, colsample_bytree=1.0 will be ignored. Current value: feature_fraction=0.9891112377623064\n"
     ]
    },
    {
     "name": "stderr",
     "output_type": "stream",
     "text": [
      "[I 2023-08-24 21:30:01,805] Trial 12 finished with value: 0.9587912087912088 and parameters: {'num_leaves': 51, 'learning_rate': 0.09819292135638086, 'feature_fraction': 0.9891112377623064}. Best is trial 5 with value: 0.9587912087912088.\n"
     ]
    },
    {
     "name": "stdout",
     "output_type": "stream",
     "text": [
      "[LightGBM] [Warning] feature_fraction is set=0.6770119443769701, colsample_bytree=1.0 will be ignored. Current value: feature_fraction=0.6770119443769701\n"
     ]
    },
    {
     "name": "stderr",
     "output_type": "stream",
     "text": [
      "[I 2023-08-24 21:30:02,532] Trial 13 finished with value: 0.9587912087912088 and parameters: {'num_leaves': 72, 'learning_rate': 0.03921932297121144, 'feature_fraction': 0.6770119443769701}. Best is trial 5 with value: 0.9587912087912088.\n"
     ]
    },
    {
     "name": "stdout",
     "output_type": "stream",
     "text": [
      "[LightGBM] [Warning] feature_fraction is set=0.44826393713610735, colsample_bytree=1.0 will be ignored. Current value: feature_fraction=0.44826393713610735\n"
     ]
    },
    {
     "name": "stderr",
     "output_type": "stream",
     "text": [
      "[I 2023-08-24 21:30:02,960] Trial 14 finished with value: 0.9587912087912088 and parameters: {'num_leaves': 37, 'learning_rate': 0.07136456089286564, 'feature_fraction': 0.44826393713610735}. Best is trial 5 with value: 0.9587912087912088.\n"
     ]
    },
    {
     "name": "stdout",
     "output_type": "stream",
     "text": [
      "[LightGBM] [Warning] feature_fraction is set=0.8371698440149893, colsample_bytree=1.0 will be ignored. Current value: feature_fraction=0.8371698440149893\n"
     ]
    },
    {
     "name": "stderr",
     "output_type": "stream",
     "text": [
      "[I 2023-08-24 21:30:03,528] Trial 15 finished with value: 0.9587912087912088 and parameters: {'num_leaves': 48, 'learning_rate': 0.04636990934756844, 'feature_fraction': 0.8371698440149893}. Best is trial 5 with value: 0.9587912087912088.\n"
     ]
    },
    {
     "name": "stdout",
     "output_type": "stream",
     "text": [
      "[LightGBM] [Warning] feature_fraction is set=0.6776944723221654, colsample_bytree=1.0 will be ignored. Current value: feature_fraction=0.6776944723221654\n"
     ]
    },
    {
     "name": "stderr",
     "output_type": "stream",
     "text": [
      "[I 2023-08-24 21:30:03,890] Trial 16 finished with value: 0.9578754578754579 and parameters: {'num_leaves': 27, 'learning_rate': 0.07971937589917977, 'feature_fraction': 0.6776944723221654}. Best is trial 5 with value: 0.9587912087912088.\n"
     ]
    },
    {
     "name": "stdout",
     "output_type": "stream",
     "text": [
      "[LightGBM] [Warning] feature_fraction is set=0.4969038923762157, colsample_bytree=1.0 will be ignored. Current value: feature_fraction=0.4969038923762157\n"
     ]
    },
    {
     "name": "stderr",
     "output_type": "stream",
     "text": [
      "[I 2023-08-24 21:30:04,782] Trial 17 finished with value: 0.9587912087912088 and parameters: {'num_leaves': 100, 'learning_rate': 0.057078138634352425, 'feature_fraction': 0.4969038923762157}. Best is trial 5 with value: 0.9587912087912088.\n"
     ]
    },
    {
     "name": "stdout",
     "output_type": "stream",
     "text": [
      "[LightGBM] [Warning] feature_fraction is set=0.5868211538686188, colsample_bytree=1.0 will be ignored. Current value: feature_fraction=0.5868211538686188\n"
     ]
    },
    {
     "name": "stderr",
     "output_type": "stream",
     "text": [
      "[I 2023-08-24 21:30:05,486] Trial 18 finished with value: 0.9587912087912088 and parameters: {'num_leaves': 63, 'learning_rate': 0.03201330563174348, 'feature_fraction': 0.5868211538686188}. Best is trial 5 with value: 0.9587912087912088.\n",
      "[I 2023-08-24 21:30:05,679] Trial 19 finished with value: 0.9578754578754579 and parameters: {'num_leaves': 10, 'learning_rate': 0.04787571117135377, 'feature_fraction': 0.8792254060127097}. Best is trial 5 with value: 0.9587912087912088.\n"
     ]
    },
    {
     "name": "stdout",
     "output_type": "stream",
     "text": [
      "[LightGBM] [Warning] feature_fraction is set=0.8792254060127097, colsample_bytree=1.0 will be ignored. Current value: feature_fraction=0.8792254060127097\n",
      "[LightGBM] [Warning] feature_fraction is set=0.7100871295687918, colsample_bytree=1.0 will be ignored. Current value: feature_fraction=0.7100871295687918\n"
     ]
    },
    {
     "name": "stderr",
     "output_type": "stream",
     "text": [
      "[I 2023-08-24 21:30:06,172] Trial 20 finished with value: 0.9587912087912088 and parameters: {'num_leaves': 43, 'learning_rate': 0.0874952884330743, 'feature_fraction': 0.7100871295687918}. Best is trial 5 with value: 0.9587912087912088.\n"
     ]
    },
    {
     "name": "stdout",
     "output_type": "stream",
     "text": [
      "[LightGBM] [Warning] feature_fraction is set=0.4068157816579492, colsample_bytree=1.0 will be ignored. Current value: feature_fraction=0.4068157816579492\n"
     ]
    },
    {
     "name": "stderr",
     "output_type": "stream",
     "text": [
      "[I 2023-08-24 21:30:06,493] Trial 21 finished with value: 0.9578754578754579 and parameters: {'num_leaves': 24, 'learning_rate': 0.08405118917965404, 'feature_fraction': 0.4068157816579492}. Best is trial 5 with value: 0.9587912087912088.\n"
     ]
    },
    {
     "name": "stdout",
     "output_type": "stream",
     "text": [
      "[LightGBM] [Warning] feature_fraction is set=0.3724196643779151, colsample_bytree=1.0 will be ignored. Current value: feature_fraction=0.3724196643779151\n"
     ]
    },
    {
     "name": "stderr",
     "output_type": "stream",
     "text": [
      "[I 2023-08-24 21:30:06,837] Trial 22 finished with value: 0.9587912087912088 and parameters: {'num_leaves': 29, 'learning_rate': 0.09286592621986849, 'feature_fraction': 0.3724196643779151}. Best is trial 5 with value: 0.9587912087912088.\n"
     ]
    },
    {
     "name": "stdout",
     "output_type": "stream",
     "text": [
      "[LightGBM] [Warning] feature_fraction is set=0.5051960967696711, colsample_bytree=1.0 will be ignored. Current value: feature_fraction=0.5051960967696711\n"
     ]
    },
    {
     "name": "stderr",
     "output_type": "stream",
     "text": [
      "[I 2023-08-24 21:30:07,299] Trial 23 finished with value: 0.9587912087912088 and parameters: {'num_leaves': 39, 'learning_rate': 0.07802805913003605, 'feature_fraction': 0.5051960967696711}. Best is trial 5 with value: 0.9587912087912088.\n"
     ]
    },
    {
     "name": "stdout",
     "output_type": "stream",
     "text": [
      "[LightGBM] [Warning] feature_fraction is set=0.36961167782757987, colsample_bytree=1.0 will be ignored. Current value: feature_fraction=0.36961167782757987\n"
     ]
    },
    {
     "name": "stderr",
     "output_type": "stream",
     "text": [
      "[I 2023-08-24 21:30:07,622] Trial 24 finished with value: 0.9587912087912088 and parameters: {'num_leaves': 18, 'learning_rate': 0.09998621993739151, 'feature_fraction': 0.36961167782757987}. Best is trial 5 with value: 0.9587912087912088.\n"
     ]
    },
    {
     "name": "stdout",
     "output_type": "stream",
     "text": [
      "[LightGBM] [Warning] feature_fraction is set=0.2852764316881247, colsample_bytree=1.0 will be ignored. Current value: feature_fraction=0.2852764316881247\n"
     ]
    },
    {
     "name": "stderr",
     "output_type": "stream",
     "text": [
      "[I 2023-08-24 21:30:08,271] Trial 25 finished with value: 0.9578754578754579 and parameters: {'num_leaves': 52, 'learning_rate': 0.09028761299892368, 'feature_fraction': 0.2852764316881247}. Best is trial 5 with value: 0.9587912087912088.\n"
     ]
    },
    {
     "name": "stdout",
     "output_type": "stream",
     "text": [
      "[LightGBM] [Warning] feature_fraction is set=0.6280888379632331, colsample_bytree=1.0 will be ignored. Current value: feature_fraction=0.6280888379632331\n"
     ]
    },
    {
     "name": "stderr",
     "output_type": "stream",
     "text": [
      "[I 2023-08-24 21:30:08,565] Trial 26 finished with value: 0.9578754578754579 and parameters: {'num_leaves': 19, 'learning_rate': 0.06566139866259374, 'feature_fraction': 0.6280888379632331}. Best is trial 5 with value: 0.9587912087912088.\n"
     ]
    },
    {
     "name": "stdout",
     "output_type": "stream",
     "text": [
      "[LightGBM] [Warning] feature_fraction is set=0.5263538734107548, colsample_bytree=1.0 will be ignored. Current value: feature_fraction=0.5263538734107548\n"
     ]
    },
    {
     "name": "stderr",
     "output_type": "stream",
     "text": [
      "[I 2023-08-24 21:30:08,986] Trial 27 finished with value: 0.9578754578754579 and parameters: {'num_leaves': 33, 'learning_rate': 0.08301955133714933, 'feature_fraction': 0.5263538734107548}. Best is trial 5 with value: 0.9587912087912088.\n"
     ]
    },
    {
     "name": "stdout",
     "output_type": "stream",
     "text": [
      "[LightGBM] [Warning] feature_fraction is set=0.7572455127657203, colsample_bytree=1.0 will be ignored. Current value: feature_fraction=0.7572455127657203\n"
     ]
    },
    {
     "name": "stderr",
     "output_type": "stream",
     "text": [
      "[I 2023-08-24 21:30:09,392] Trial 28 finished with value: 0.9578754578754579 and parameters: {'num_leaves': 29, 'learning_rate': 0.07655551813011777, 'feature_fraction': 0.7572455127657203}. Best is trial 5 with value: 0.9587912087912088.\n"
     ]
    },
    {
     "name": "stdout",
     "output_type": "stream",
     "text": [
      "[LightGBM] [Warning] feature_fraction is set=0.9548689312507662, colsample_bytree=1.0 will be ignored. Current value: feature_fraction=0.9548689312507662\n"
     ]
    },
    {
     "name": "stderr",
     "output_type": "stream",
     "text": [
      "[I 2023-08-24 21:30:10,045] Trial 29 finished with value: 0.9587912087912088 and parameters: {'num_leaves': 44, 'learning_rate': 0.09178785873682181, 'feature_fraction': 0.9548689312507662}. Best is trial 5 with value: 0.9587912087912088.\n"
     ]
    },
    {
     "name": "stdout",
     "output_type": "stream",
     "text": [
      "[LightGBM] [Warning] feature_fraction is set=0.9148567972989275, colsample_bytree=1.0 will be ignored. Current value: feature_fraction=0.9148567972989275\n"
     ]
    },
    {
     "name": "stderr",
     "output_type": "stream",
     "text": [
      "[I 2023-08-24 21:30:10,810] Trial 30 finished with value: 0.9587912087912088 and parameters: {'num_leaves': 59, 'learning_rate': 0.08731476453665002, 'feature_fraction': 0.9148567972989275}. Best is trial 5 with value: 0.9587912087912088.\n"
     ]
    },
    {
     "name": "stdout",
     "output_type": "stream",
     "text": [
      "[LightGBM] [Warning] feature_fraction is set=0.2536642789969298, colsample_bytree=1.0 will be ignored. Current value: feature_fraction=0.2536642789969298\n"
     ]
    },
    {
     "name": "stderr",
     "output_type": "stream",
     "text": [
      "[I 2023-08-24 21:30:11,348] Trial 31 finished with value: 0.9587912087912088 and parameters: {'num_leaves': 56, 'learning_rate': 0.07055914374947533, 'feature_fraction': 0.2536642789969298}. Best is trial 5 with value: 0.9587912087912088.\n"
     ]
    },
    {
     "name": "stdout",
     "output_type": "stream",
     "text": [
      "[LightGBM] [Warning] feature_fraction is set=0.5560385793402869, colsample_bytree=1.0 will be ignored. Current value: feature_fraction=0.5560385793402869\n"
     ]
    },
    {
     "name": "stderr",
     "output_type": "stream",
     "text": [
      "[I 2023-08-24 21:30:12,188] Trial 32 finished with value: 0.9578754578754579 and parameters: {'num_leaves': 74, 'learning_rate': 0.061973782258753725, 'feature_fraction': 0.5560385793402869}. Best is trial 5 with value: 0.9587912087912088.\n"
     ]
    },
    {
     "name": "stdout",
     "output_type": "stream",
     "text": [
      "[LightGBM] [Warning] feature_fraction is set=0.4612135925449593, colsample_bytree=1.0 will be ignored. Current value: feature_fraction=0.4612135925449593\n"
     ]
    },
    {
     "name": "stderr",
     "output_type": "stream",
     "text": [
      "[I 2023-08-24 21:30:12,989] Trial 33 finished with value: 0.9587912087912088 and parameters: {'num_leaves': 63, 'learning_rate': 0.0717636019417545, 'feature_fraction': 0.4612135925449593}. Best is trial 5 with value: 0.9587912087912088.\n"
     ]
    },
    {
     "name": "stdout",
     "output_type": "stream",
     "text": [
      "[LightGBM] [Warning] feature_fraction is set=0.6403925290914312, colsample_bytree=1.0 will be ignored. Current value: feature_fraction=0.6403925290914312\n"
     ]
    },
    {
     "name": "stderr",
     "output_type": "stream",
     "text": [
      "[I 2023-08-24 21:30:13,790] Trial 34 finished with value: 0.9578754578754579 and parameters: {'num_leaves': 68, 'learning_rate': 0.06426985196500451, 'feature_fraction': 0.6403925290914312}. Best is trial 5 with value: 0.9587912087912088.\n"
     ]
    },
    {
     "name": "stdout",
     "output_type": "stream",
     "text": [
      "[LightGBM] [Warning] feature_fraction is set=0.6056649761492063, colsample_bytree=1.0 will be ignored. Current value: feature_fraction=0.6056649761492063\n"
     ]
    },
    {
     "name": "stderr",
     "output_type": "stream",
     "text": [
      "[I 2023-08-24 21:30:14,192] Trial 35 finished with value: 0.9578754578754579 and parameters: {'num_leaves': 33, 'learning_rate': 0.053502278510428096, 'feature_fraction': 0.6056649761492063}. Best is trial 5 with value: 0.9587912087912088.\n"
     ]
    },
    {
     "name": "stdout",
     "output_type": "stream",
     "text": [
      "[LightGBM] [Warning] feature_fraction is set=0.5271759606284738, colsample_bytree=1.0 will be ignored. Current value: feature_fraction=0.5271759606284738\n"
     ]
    },
    {
     "name": "stderr",
     "output_type": "stream",
     "text": [
      "[I 2023-08-24 21:30:15,140] Trial 36 finished with value: 0.9587912087912088 and parameters: {'num_leaves': 81, 'learning_rate': 0.09474485994435197, 'feature_fraction': 0.5271759606284738}. Best is trial 5 with value: 0.9587912087912088.\n"
     ]
    },
    {
     "name": "stdout",
     "output_type": "stream",
     "text": [
      "[LightGBM] [Warning] feature_fraction is set=0.8190730412987339, colsample_bytree=1.0 will be ignored. Current value: feature_fraction=0.8190730412987339\n"
     ]
    },
    {
     "name": "stderr",
     "output_type": "stream",
     "text": [
      "[I 2023-08-24 21:30:15,635] Trial 37 finished with value: 0.9587912087912088 and parameters: {'num_leaves': 40, 'learning_rate': 0.08445157534527432, 'feature_fraction': 0.8190730412987339}. Best is trial 5 with value: 0.9587912087912088.\n"
     ]
    },
    {
     "name": "stdout",
     "output_type": "stream",
     "text": [
      "[LightGBM] [Warning] feature_fraction is set=0.30948372871728913, colsample_bytree=1.0 will be ignored. Current value: feature_fraction=0.30948372871728913\n"
     ]
    },
    {
     "name": "stderr",
     "output_type": "stream",
     "text": [
      "[I 2023-08-24 21:30:16,279] Trial 38 finished with value: 0.9578754578754579 and parameters: {'num_leaves': 49, 'learning_rate': 0.07624597721706539, 'feature_fraction': 0.30948372871728913}. Best is trial 5 with value: 0.9587912087912088.\n"
     ]
    },
    {
     "name": "stdout",
     "output_type": "stream",
     "text": [
      "[LightGBM] [Warning] feature_fraction is set=0.2143785914525001, colsample_bytree=1.0 will be ignored. Current value: feature_fraction=0.2143785914525001\n"
     ]
    },
    {
     "name": "stderr",
     "output_type": "stream",
     "text": [
      "[I 2023-08-24 21:30:16,941] Trial 39 finished with value: 0.9560439560439561 and parameters: {'num_leaves': 84, 'learning_rate': 0.019175210514426187, 'feature_fraction': 0.2143785914525001}. Best is trial 5 with value: 0.9587912087912088.\n"
     ]
    },
    {
     "name": "stdout",
     "output_type": "stream",
     "text": [
      "[LightGBM] [Warning] feature_fraction is set=0.5671077092415676, colsample_bytree=1.0 will be ignored. Current value: feature_fraction=0.5671077092415676\n"
     ]
    },
    {
     "name": "stderr",
     "output_type": "stream",
     "text": [
      "[I 2023-08-24 21:30:17,547] Trial 40 finished with value: 0.9587912087912088 and parameters: {'num_leaves': 58, 'learning_rate': 0.09998275220995391, 'feature_fraction': 0.5671077092415676}. Best is trial 5 with value: 0.9587912087912088.\n"
     ]
    },
    {
     "name": "stdout",
     "output_type": "stream",
     "text": [
      "[LightGBM] [Warning] feature_fraction is set=0.9501649301780812, colsample_bytree=1.0 will be ignored. Current value: feature_fraction=0.9501649301780812\n"
     ]
    },
    {
     "name": "stderr",
     "output_type": "stream",
     "text": [
      "[I 2023-08-24 21:30:18,078] Trial 41 finished with value: 0.9587912087912088 and parameters: {'num_leaves': 46, 'learning_rate': 0.06086984055016315, 'feature_fraction': 0.9501649301780812}. Best is trial 5 with value: 0.9587912087912088.\n"
     ]
    },
    {
     "name": "stdout",
     "output_type": "stream",
     "text": [
      "[LightGBM] [Warning] feature_fraction is set=0.996728418880387, colsample_bytree=1.0 will be ignored. Current value: feature_fraction=0.996728418880387\n"
     ]
    },
    {
     "name": "stderr",
     "output_type": "stream",
     "text": [
      "[I 2023-08-24 21:30:18,595] Trial 42 finished with value: 0.9587912087912088 and parameters: {'num_leaves': 42, 'learning_rate': 0.056840875066272153, 'feature_fraction': 0.996728418880387}. Best is trial 5 with value: 0.9587912087912088.\n"
     ]
    },
    {
     "name": "stdout",
     "output_type": "stream",
     "text": [
      "[LightGBM] [Warning] feature_fraction is set=0.8933665031052087, colsample_bytree=1.0 will be ignored. Current value: feature_fraction=0.8933665031052087\n"
     ]
    },
    {
     "name": "stderr",
     "output_type": "stream",
     "text": [
      "[I 2023-08-24 21:30:19,047] Trial 43 finished with value: 0.9578754578754579 and parameters: {'num_leaves': 36, 'learning_rate': 0.06903825810153971, 'feature_fraction': 0.8933665031052087}. Best is trial 5 with value: 0.9587912087912088.\n"
     ]
    },
    {
     "name": "stdout",
     "output_type": "stream",
     "text": [
      "[LightGBM] [Warning] feature_fraction is set=0.8628052786598337, colsample_bytree=1.0 will be ignored. Current value: feature_fraction=0.8628052786598337\n"
     ]
    },
    {
     "name": "stderr",
     "output_type": "stream",
     "text": [
      "[I 2023-08-24 21:30:19,677] Trial 44 finished with value: 0.9587912087912088 and parameters: {'num_leaves': 53, 'learning_rate': 0.05053815606405067, 'feature_fraction': 0.8628052786598337}. Best is trial 5 with value: 0.9587912087912088.\n"
     ]
    },
    {
     "name": "stdout",
     "output_type": "stream",
     "text": [
      "[LightGBM] [Warning] feature_fraction is set=0.934590058327358, colsample_bytree=1.0 will be ignored. Current value: feature_fraction=0.934590058327358\n"
     ]
    },
    {
     "name": "stderr",
     "output_type": "stream",
     "text": [
      "[I 2023-08-24 21:30:20,037] Trial 45 finished with value: 0.9578754578754579 and parameters: {'num_leaves': 23, 'learning_rate': 0.05830287822996504, 'feature_fraction': 0.934590058327358}. Best is trial 5 with value: 0.9587912087912088.\n"
     ]
    },
    {
     "name": "stdout",
     "output_type": "stream",
     "text": [
      "[LightGBM] [Warning] feature_fraction is set=0.9676943705061771, colsample_bytree=1.0 will be ignored. Current value: feature_fraction=0.9676943705061771\n"
     ]
    },
    {
     "name": "stderr",
     "output_type": "stream",
     "text": [
      "[I 2023-08-24 21:30:20,361] Trial 46 finished with value: 0.956959706959707 and parameters: {'num_leaves': 16, 'learning_rate': 0.04435583311499001, 'feature_fraction': 0.9676943705061771}. Best is trial 5 with value: 0.9587912087912088.\n"
     ]
    },
    {
     "name": "stdout",
     "output_type": "stream",
     "text": [
      "[LightGBM] [Warning] feature_fraction is set=0.7846382980984805, colsample_bytree=1.0 will be ignored. Current value: feature_fraction=0.7846382980984805\n"
     ]
    },
    {
     "name": "stderr",
     "output_type": "stream",
     "text": [
      "[I 2023-08-24 21:30:20,667] Trial 47 finished with value: 0.9578754578754579 and parameters: {'num_leaves': 14, 'learning_rate': 0.06694698564292942, 'feature_fraction': 0.7846382980984805}. Best is trial 5 with value: 0.9587912087912088.\n"
     ]
    },
    {
     "name": "stdout",
     "output_type": "stream",
     "text": [
      "[LightGBM] [Warning] feature_fraction is set=0.9058181097500677, colsample_bytree=1.0 will be ignored. Current value: feature_fraction=0.9058181097500677\n"
     ]
    },
    {
     "name": "stderr",
     "output_type": "stream",
     "text": [
      "[I 2023-08-24 21:30:21,331] Trial 48 finished with value: 0.9587912087912088 and parameters: {'num_leaves': 48, 'learning_rate': 0.07368912936049737, 'feature_fraction': 0.9058181097500677}. Best is trial 5 with value: 0.9587912087912088.\n"
     ]
    },
    {
     "name": "stdout",
     "output_type": "stream",
     "text": [
      "[LightGBM] [Warning] feature_fraction is set=0.4696243767728364, colsample_bytree=1.0 will be ignored. Current value: feature_fraction=0.4696243767728364\n"
     ]
    },
    {
     "name": "stderr",
     "output_type": "stream",
     "text": [
      "[I 2023-08-24 21:30:21,729] Trial 49 finished with value: 0.9578754578754579 and parameters: {'num_leaves': 24, 'learning_rate': 0.08144538936778264, 'feature_fraction': 0.4696243767728364}. Best is trial 5 with value: 0.9587912087912088.\n"
     ]
    },
    {
     "name": "stdout",
     "output_type": "stream",
     "text": [
      "[LightGBM] [Warning] feature_fraction is set=0.9823988480573971, colsample_bytree=1.0 will be ignored. Current value: feature_fraction=0.9823988480573971\n"
     ]
    },
    {
     "name": "stderr",
     "output_type": "stream",
     "text": [
      "[I 2023-08-24 21:30:22,532] Trial 50 finished with value: 0.9587912087912088 and parameters: {'num_leaves': 66, 'learning_rate': 0.09585677117884034, 'feature_fraction': 0.9823988480573971}. Best is trial 5 with value: 0.9587912087912088.\n"
     ]
    },
    {
     "name": "stdout",
     "output_type": "stream",
     "text": [
      "[LightGBM] [Warning] feature_fraction is set=0.9911277065010623, colsample_bytree=1.0 will be ignored. Current value: feature_fraction=0.9911277065010623\n"
     ]
    },
    {
     "name": "stderr",
     "output_type": "stream",
     "text": [
      "[I 2023-08-24 21:30:23,170] Trial 51 finished with value: 0.9587912087912088 and parameters: {'num_leaves': 50, 'learning_rate': 0.08956837081778056, 'feature_fraction': 0.9911277065010623}. Best is trial 5 with value: 0.9587912087912088.\n"
     ]
    },
    {
     "name": "stdout",
     "output_type": "stream",
     "text": [
      "[LightGBM] [Warning] feature_fraction is set=0.9187836695024494, colsample_bytree=1.0 will be ignored. Current value: feature_fraction=0.9187836695024494\n"
     ]
    },
    {
     "name": "stderr",
     "output_type": "stream",
     "text": [
      "[I 2023-08-24 21:30:23,834] Trial 52 finished with value: 0.9587912087912088 and parameters: {'num_leaves': 54, 'learning_rate': 0.08485144924325895, 'feature_fraction': 0.9187836695024494}. Best is trial 5 with value: 0.9587912087912088.\n"
     ]
    },
    {
     "name": "stdout",
     "output_type": "stream",
     "text": [
      "[LightGBM] [Warning] feature_fraction is set=0.8609766519569684, colsample_bytree=1.0 will be ignored. Current value: feature_fraction=0.8609766519569684\n"
     ]
    },
    {
     "name": "stderr",
     "output_type": "stream",
     "text": [
      "[I 2023-08-24 21:30:24,295] Trial 53 finished with value: 0.9578754578754579 and parameters: {'num_leaves': 33, 'learning_rate': 0.07763705823054794, 'feature_fraction': 0.8609766519569684}. Best is trial 5 with value: 0.9587912087912088.\n"
     ]
    },
    {
     "name": "stdout",
     "output_type": "stream",
     "text": [
      "[LightGBM] [Warning] feature_fraction is set=0.9983315490949324, colsample_bytree=1.0 will be ignored. Current value: feature_fraction=0.9983315490949324\n"
     ]
    },
    {
     "name": "stderr",
     "output_type": "stream",
     "text": [
      "[I 2023-08-24 21:30:24,882] Trial 54 finished with value: 0.9587912087912088 and parameters: {'num_leaves': 45, 'learning_rate': 0.09517056194256773, 'feature_fraction': 0.9983315490949324}. Best is trial 5 with value: 0.9587912087912088.\n"
     ]
    },
    {
     "name": "stdout",
     "output_type": "stream",
     "text": [
      "[LightGBM] [Warning] feature_fraction is set=0.9461257566660771, colsample_bytree=1.0 will be ignored. Current value: feature_fraction=0.9461257566660771\n"
     ]
    },
    {
     "name": "stderr",
     "output_type": "stream",
     "text": [
      "[I 2023-08-24 21:30:25,565] Trial 55 finished with value: 0.9587912087912088 and parameters: {'num_leaves': 60, 'learning_rate': 0.09022329070659704, 'feature_fraction': 0.9461257566660771}. Best is trial 5 with value: 0.9587912087912088.\n"
     ]
    },
    {
     "name": "stdout",
     "output_type": "stream",
     "text": [
      "[LightGBM] [Warning] feature_fraction is set=0.4036282395501259, colsample_bytree=1.0 will be ignored. Current value: feature_fraction=0.4036282395501259\n"
     ]
    },
    {
     "name": "stderr",
     "output_type": "stream",
     "text": [
      "[I 2023-08-24 21:30:25,997] Trial 56 finished with value: 0.9587912087912088 and parameters: {'num_leaves': 39, 'learning_rate': 0.08188602712330431, 'feature_fraction': 0.4036282395501259}. Best is trial 5 with value: 0.9587912087912088.\n"
     ]
    },
    {
     "name": "stdout",
     "output_type": "stream",
     "text": [
      "[LightGBM] [Warning] feature_fraction is set=0.8872076182209009, colsample_bytree=1.0 will be ignored. Current value: feature_fraction=0.8872076182209009\n"
     ]
    },
    {
     "name": "stderr",
     "output_type": "stream",
     "text": [
      "[I 2023-08-24 21:30:26,392] Trial 57 finished with value: 0.956959706959707 and parameters: {'num_leaves': 28, 'learning_rate': 0.08789708611495298, 'feature_fraction': 0.8872076182209009}. Best is trial 5 with value: 0.9587912087912088.\n"
     ]
    },
    {
     "name": "stdout",
     "output_type": "stream",
     "text": [
      "[LightGBM] [Warning] feature_fraction is set=0.733000009398333, colsample_bytree=1.0 will be ignored. Current value: feature_fraction=0.733000009398333\n"
     ]
    },
    {
     "name": "stderr",
     "output_type": "stream",
     "text": [
      "[I 2023-08-24 21:30:26,867] Trial 58 finished with value: 0.9587912087912088 and parameters: {'num_leaves': 42, 'learning_rate': 0.03656665792011544, 'feature_fraction': 0.733000009398333}. Best is trial 5 with value: 0.9587912087912088.\n"
     ]
    },
    {
     "name": "stdout",
     "output_type": "stream",
     "text": [
      "[LightGBM] [Warning] feature_fraction is set=0.8324984791648529, colsample_bytree=1.0 will be ignored. Current value: feature_fraction=0.8324984791648529\n"
     ]
    },
    {
     "name": "stderr",
     "output_type": "stream",
     "text": [
      "[I 2023-08-24 21:30:27,440] Trial 59 finished with value: 0.9578754578754579 and parameters: {'num_leaves': 50, 'learning_rate': 0.07459467543827564, 'feature_fraction': 0.8324984791648529}. Best is trial 5 with value: 0.9587912087912088.\n"
     ]
    },
    {
     "name": "stdout",
     "output_type": "stream",
     "text": [
      "[LightGBM] [Warning] feature_fraction is set=0.9229765735915507, colsample_bytree=1.0 will be ignored. Current value: feature_fraction=0.9229765735915507\n"
     ]
    },
    {
     "name": "stderr",
     "output_type": "stream",
     "text": [
      "[I 2023-08-24 21:30:27,978] Trial 60 finished with value: 0.9587912087912088 and parameters: {'num_leaves': 36, 'learning_rate': 0.08010578685601716, 'feature_fraction': 0.9229765735915507}. Best is trial 5 with value: 0.9587912087912088.\n"
     ]
    },
    {
     "name": "stdout",
     "output_type": "stream",
     "text": [
      "[LightGBM] [Warning] feature_fraction is set=0.6961797919197252, colsample_bytree=1.0 will be ignored. Current value: feature_fraction=0.6961797919197252\n"
     ]
    },
    {
     "name": "stderr",
     "output_type": "stream",
     "text": [
      "[I 2023-08-24 21:30:28,979] Trial 61 finished with value: 0.9578754578754579 and parameters: {'num_leaves': 76, 'learning_rate': 0.043077906947834095, 'feature_fraction': 0.6961797919197252}. Best is trial 5 with value: 0.9587912087912088.\n"
     ]
    },
    {
     "name": "stdout",
     "output_type": "stream",
     "text": [
      "[LightGBM] [Warning] feature_fraction is set=0.6502105123732735, colsample_bytree=1.0 will be ignored. Current value: feature_fraction=0.6502105123732735\n"
     ]
    },
    {
     "name": "stderr",
     "output_type": "stream",
     "text": [
      "[I 2023-08-24 21:30:29,892] Trial 62 finished with value: 0.9578754578754579 and parameters: {'num_leaves': 70, 'learning_rate': 0.03623259693449635, 'feature_fraction': 0.6502105123732735}. Best is trial 5 with value: 0.9587912087912088.\n"
     ]
    },
    {
     "name": "stdout",
     "output_type": "stream",
     "text": [
      "[LightGBM] [Warning] feature_fraction is set=0.963718173613376, colsample_bytree=1.0 will be ignored. Current value: feature_fraction=0.963718173613376\n"
     ]
    },
    {
     "name": "stderr",
     "output_type": "stream",
     "text": [
      "[I 2023-08-24 21:30:30,634] Trial 63 finished with value: 0.9587912087912088 and parameters: {'num_leaves': 57, 'learning_rate': 0.049668672363208995, 'feature_fraction': 0.963718173613376}. Best is trial 5 with value: 0.9587912087912088.\n"
     ]
    },
    {
     "name": "stdout",
     "output_type": "stream",
     "text": [
      "[LightGBM] [Warning] feature_fraction is set=0.796024354947219, colsample_bytree=1.0 will be ignored. Current value: feature_fraction=0.796024354947219\n"
     ]
    },
    {
     "name": "stderr",
     "output_type": "stream",
     "text": [
      "[I 2023-08-24 21:30:31,235] Trial 64 finished with value: 0.9587912087912088 and parameters: {'num_leaves': 52, 'learning_rate': 0.09262414170226392, 'feature_fraction': 0.796024354947219}. Best is trial 5 with value: 0.9587912087912088.\n"
     ]
    },
    {
     "name": "stdout",
     "output_type": "stream",
     "text": [
      "[LightGBM] [Warning] feature_fraction is set=0.596593794923325, colsample_bytree=1.0 will be ignored. Current value: feature_fraction=0.596593794923325\n"
     ]
    },
    {
     "name": "stderr",
     "output_type": "stream",
     "text": [
      "[I 2023-08-24 21:30:31,729] Trial 65 finished with value: 0.9587912087912088 and parameters: {'num_leaves': 46, 'learning_rate': 0.029626976488935884, 'feature_fraction': 0.596593794923325}. Best is trial 5 with value: 0.9587912087912088.\n"
     ]
    },
    {
     "name": "stdout",
     "output_type": "stream",
     "text": [
      "[LightGBM] [Warning] feature_fraction is set=0.5384931536945975, colsample_bytree=1.0 will be ignored. Current value: feature_fraction=0.5384931536945975\n"
     ]
    },
    {
     "name": "stderr",
     "output_type": "stream",
     "text": [
      "[I 2023-08-24 21:30:32,516] Trial 66 finished with value: 0.9587912087912088 and parameters: {'num_leaves': 89, 'learning_rate': 0.09855410201765083, 'feature_fraction': 0.5384931536945975}. Best is trial 5 with value: 0.9587912087912088.\n"
     ]
    },
    {
     "name": "stdout",
     "output_type": "stream",
     "text": [
      "[LightGBM] [Warning] feature_fraction is set=0.48607385162859146, colsample_bytree=1.0 will be ignored. Current value: feature_fraction=0.48607385162859146\n"
     ]
    },
    {
     "name": "stderr",
     "output_type": "stream",
     "text": [
      "[I 2023-08-24 21:30:33,005] Trial 67 finished with value: 0.9587912087912088 and parameters: {'num_leaves': 32, 'learning_rate': 0.08626237135446763, 'feature_fraction': 0.48607385162859146}. Best is trial 5 with value: 0.9587912087912088.\n"
     ]
    },
    {
     "name": "stdout",
     "output_type": "stream",
     "text": [
      "[LightGBM] [Warning] feature_fraction is set=0.7533257691536325, colsample_bytree=1.0 will be ignored. Current value: feature_fraction=0.7533257691536325\n"
     ]
    },
    {
     "name": "stderr",
     "output_type": "stream",
     "text": [
      "[I 2023-08-24 21:30:33,651] Trial 68 finished with value: 0.9587912087912088 and parameters: {'num_leaves': 60, 'learning_rate': 0.06755253315957246, 'feature_fraction': 0.7533257691536325}. Best is trial 5 with value: 0.9587912087912088.\n"
     ]
    },
    {
     "name": "stdout",
     "output_type": "stream",
     "text": [
      "[LightGBM] [Warning] feature_fraction is set=0.8672239695873317, colsample_bytree=1.0 will be ignored. Current value: feature_fraction=0.8672239695873317\n"
     ]
    },
    {
     "name": "stderr",
     "output_type": "stream",
     "text": [
      "[I 2023-08-24 21:30:34,569] Trial 69 finished with value: 0.9587912087912088 and parameters: {'num_leaves': 100, 'learning_rate': 0.09700569319476399, 'feature_fraction': 0.8672239695873317}. Best is trial 5 with value: 0.9587912087912088.\n"
     ]
    },
    {
     "name": "stdout",
     "output_type": "stream",
     "text": [
      "[LightGBM] [Warning] feature_fraction is set=0.9430337004401317, colsample_bytree=1.0 will be ignored. Current value: feature_fraction=0.9430337004401317\n"
     ]
    },
    {
     "name": "stderr",
     "output_type": "stream",
     "text": [
      "[I 2023-08-24 21:30:35,252] Trial 70 finished with value: 0.9587912087912088 and parameters: {'num_leaves': 64, 'learning_rate': 0.09136154352701936, 'feature_fraction': 0.9430337004401317}. Best is trial 5 with value: 0.9587912087912088.\n"
     ]
    },
    {
     "name": "stdout",
     "output_type": "stream",
     "text": [
      "[LightGBM] [Warning] feature_fraction is set=0.448110481626313, colsample_bytree=1.0 will be ignored. Current value: feature_fraction=0.448110481626313\n"
     ]
    },
    {
     "name": "stderr",
     "output_type": "stream",
     "text": [
      "[I 2023-08-24 21:30:35,707] Trial 71 finished with value: 0.9587912087912088 and parameters: {'num_leaves': 41, 'learning_rate': 0.06315238858626186, 'feature_fraction': 0.448110481626313}. Best is trial 5 with value: 0.9587912087912088.\n"
     ]
    },
    {
     "name": "stdout",
     "output_type": "stream",
     "text": [
      "[LightGBM] [Warning] feature_fraction is set=0.49848477709452305, colsample_bytree=1.0 will be ignored. Current value: feature_fraction=0.49848477709452305\n"
     ]
    },
    {
     "name": "stderr",
     "output_type": "stream",
     "text": [
      "[I 2023-08-24 21:30:36,138] Trial 72 finished with value: 0.9578754578754579 and parameters: {'num_leaves': 36, 'learning_rate': 0.07305438170574047, 'feature_fraction': 0.49848477709452305}. Best is trial 5 with value: 0.9587912087912088.\n"
     ]
    },
    {
     "name": "stdout",
     "output_type": "stream",
     "text": [
      "[LightGBM] [Warning] feature_fraction is set=0.5702986460649997, colsample_bytree=1.0 will be ignored. Current value: feature_fraction=0.5702986460649997\n"
     ]
    },
    {
     "name": "stderr",
     "output_type": "stream",
     "text": [
      "[I 2023-08-24 21:30:36,636] Trial 73 finished with value: 0.9587912087912088 and parameters: {'num_leaves': 31, 'learning_rate': 0.06547782822117565, 'feature_fraction': 0.5702986460649997}. Best is trial 5 with value: 0.9587912087912088.\n"
     ]
    },
    {
     "name": "stdout",
     "output_type": "stream",
     "text": [
      "[LightGBM] [Warning] feature_fraction is set=0.6663488753030777, colsample_bytree=1.0 will be ignored. Current value: feature_fraction=0.6663488753030777\n"
     ]
    },
    {
     "name": "stderr",
     "output_type": "stream",
     "text": [
      "[I 2023-08-24 21:30:37,101] Trial 74 finished with value: 0.9587912087912088 and parameters: {'num_leaves': 39, 'learning_rate': 0.07229190945727394, 'feature_fraction': 0.6663488753030777}. Best is trial 5 with value: 0.9587912087912088.\n"
     ]
    },
    {
     "name": "stdout",
     "output_type": "stream",
     "text": [
      "[LightGBM] [Warning] feature_fraction is set=0.9728925873560846, colsample_bytree=1.0 will be ignored. Current value: feature_fraction=0.9728925873560846\n"
     ]
    },
    {
     "name": "stderr",
     "output_type": "stream",
     "text": [
      "[I 2023-08-24 21:30:37,590] Trial 75 finished with value: 0.9578754578754579 and parameters: {'num_leaves': 36, 'learning_rate': 0.06995458646787057, 'feature_fraction': 0.9728925873560846}. Best is trial 5 with value: 0.9587912087912088.\n"
     ]
    },
    {
     "name": "stdout",
     "output_type": "stream",
     "text": [
      "[LightGBM] [Warning] feature_fraction is set=0.6159622271681129, colsample_bytree=1.0 will be ignored. Current value: feature_fraction=0.6159622271681129\n"
     ]
    },
    {
     "name": "stderr",
     "output_type": "stream",
     "text": [
      "[I 2023-08-24 21:30:37,961] Trial 76 finished with value: 0.9578754578754579 and parameters: {'num_leaves': 25, 'learning_rate': 0.07961341134375421, 'feature_fraction': 0.6159622271681129}. Best is trial 5 with value: 0.9587912087912088.\n"
     ]
    },
    {
     "name": "stdout",
     "output_type": "stream",
     "text": [
      "[LightGBM] [Warning] feature_fraction is set=0.34446264864606946, colsample_bytree=1.0 will be ignored. Current value: feature_fraction=0.34446264864606946\n"
     ]
    },
    {
     "name": "stderr",
     "output_type": "stream",
     "text": [
      "[I 2023-08-24 21:30:38,456] Trial 77 finished with value: 0.9587912087912088 and parameters: {'num_leaves': 43, 'learning_rate': 0.09341780722073498, 'feature_fraction': 0.34446264864606946}. Best is trial 5 with value: 0.9587912087912088.\n"
     ]
    },
    {
     "name": "stdout",
     "output_type": "stream",
     "text": [
      "[LightGBM] [Warning] feature_fraction is set=0.43152224245046855, colsample_bytree=1.0 will be ignored. Current value: feature_fraction=0.43152224245046855\n"
     ]
    },
    {
     "name": "stderr",
     "output_type": "stream",
     "text": [
      "[I 2023-08-24 21:30:38,958] Trial 78 finished with value: 0.9587912087912088 and parameters: {'num_leaves': 48, 'learning_rate': 0.06005744369323535, 'feature_fraction': 0.43152224245046855}. Best is trial 5 with value: 0.9587912087912088.\n"
     ]
    },
    {
     "name": "stdout",
     "output_type": "stream",
     "text": [
      "[LightGBM] [Warning] feature_fraction is set=0.5157827436204948, colsample_bytree=1.0 will be ignored. Current value: feature_fraction=0.5157827436204948\n"
     ]
    },
    {
     "name": "stderr",
     "output_type": "stream",
     "text": [
      "[I 2023-08-24 21:30:39,273] Trial 79 finished with value: 0.9578754578754579 and parameters: {'num_leaves': 21, 'learning_rate': 0.054738142171736184, 'feature_fraction': 0.5157827436204948}. Best is trial 5 with value: 0.9587912087912088.\n"
     ]
    },
    {
     "name": "stdout",
     "output_type": "stream",
     "text": [
      "[LightGBM] [Warning] feature_fraction is set=0.89945653168756, colsample_bytree=1.0 will be ignored. Current value: feature_fraction=0.89945653168756\n"
     ]
    },
    {
     "name": "stderr",
     "output_type": "stream",
     "text": [
      "[I 2023-08-24 21:30:40,024] Trial 80 finished with value: 0.9587912087912088 and parameters: {'num_leaves': 76, 'learning_rate': 0.09744706328066723, 'feature_fraction': 0.89945653168756}. Best is trial 5 with value: 0.9587912087912088.\n"
     ]
    },
    {
     "name": "stdout",
     "output_type": "stream",
     "text": [
      "[LightGBM] [Warning] feature_fraction is set=0.9659469137840487, colsample_bytree=1.0 will be ignored. Current value: feature_fraction=0.9659469137840487\n"
     ]
    },
    {
     "name": "stderr",
     "output_type": "stream",
     "text": [
      "[I 2023-08-24 21:30:40,584] Trial 81 finished with value: 0.9587912087912088 and parameters: {'num_leaves': 46, 'learning_rate': 0.06410407325350326, 'feature_fraction': 0.9659469137840487}. Best is trial 5 with value: 0.9587912087912088.\n"
     ]
    },
    {
     "name": "stdout",
     "output_type": "stream",
     "text": [
      "[LightGBM] [Warning] feature_fraction is set=0.9291293375118281, colsample_bytree=1.0 will be ignored. Current value: feature_fraction=0.9291293375118281\n"
     ]
    },
    {
     "name": "stderr",
     "output_type": "stream",
     "text": [
      "[I 2023-08-24 21:30:41,189] Trial 82 finished with value: 0.9578754578754579 and parameters: {'num_leaves': 55, 'learning_rate': 0.04612810091870388, 'feature_fraction': 0.9291293375118281}. Best is trial 5 with value: 0.9587912087912088.\n"
     ]
    },
    {
     "name": "stdout",
     "output_type": "stream",
     "text": [
      "[LightGBM] [Warning] feature_fraction is set=0.9953340872187233, colsample_bytree=1.0 will be ignored. Current value: feature_fraction=0.9953340872187233\n"
     ]
    },
    {
     "name": "stderr",
     "output_type": "stream",
     "text": [
      "[I 2023-08-24 21:30:41,670] Trial 83 finished with value: 0.9587912087912088 and parameters: {'num_leaves': 38, 'learning_rate': 0.05163133492334744, 'feature_fraction': 0.9953340872187233}. Best is trial 5 with value: 0.9587912087912088.\n"
     ]
    },
    {
     "name": "stdout",
     "output_type": "stream",
     "text": [
      "[LightGBM] [Warning] feature_fraction is set=0.8255724205065628, colsample_bytree=1.0 will be ignored. Current value: feature_fraction=0.8255724205065628\n"
     ]
    },
    {
     "name": "stderr",
     "output_type": "stream",
     "text": [
      "[I 2023-08-24 21:30:42,265] Trial 84 finished with value: 0.9587912087912088 and parameters: {'num_leaves': 51, 'learning_rate': 0.06934209874002925, 'feature_fraction': 0.8255724205065628}. Best is trial 5 with value: 0.9587912087912088.\n"
     ]
    },
    {
     "name": "stdout",
     "output_type": "stream",
     "text": [
      "[LightGBM] [Warning] feature_fraction is set=0.9353381736890516, colsample_bytree=1.0 will be ignored. Current value: feature_fraction=0.9353381736890516\n"
     ]
    },
    {
     "name": "stderr",
     "output_type": "stream",
     "text": [
      "[I 2023-08-24 21:30:42,920] Trial 85 finished with value: 0.9578754578754579 and parameters: {'num_leaves': 44, 'learning_rate': 0.04709311753830177, 'feature_fraction': 0.9353381736890516}. Best is trial 5 with value: 0.9587912087912088.\n"
     ]
    },
    {
     "name": "stdout",
     "output_type": "stream",
     "text": [
      "[LightGBM] [Warning] feature_fraction is set=0.9029660436605494, colsample_bytree=1.0 will be ignored. Current value: feature_fraction=0.9029660436605494\n"
     ]
    },
    {
     "name": "stderr",
     "output_type": "stream",
     "text": [
      "[I 2023-08-24 21:30:44,217] Trial 86 finished with value: 0.9578754578754579 and parameters: {'num_leaves': 96, 'learning_rate': 0.07632816591888923, 'feature_fraction': 0.9029660436605494}. Best is trial 5 with value: 0.9587912087912088.\n"
     ]
    },
    {
     "name": "stdout",
     "output_type": "stream",
     "text": [
      "[LightGBM] [Warning] feature_fraction is set=0.9607186314507153, colsample_bytree=1.0 will be ignored. Current value: feature_fraction=0.9607186314507153\n"
     ]
    },
    {
     "name": "stderr",
     "output_type": "stream",
     "text": [
      "[I 2023-08-24 21:30:45,363] Trial 87 finished with value: 0.9587912087912088 and parameters: {'num_leaves': 70, 'learning_rate': 0.08358095144362981, 'feature_fraction': 0.9607186314507153}. Best is trial 5 with value: 0.9587912087912088.\n"
     ]
    },
    {
     "name": "stdout",
     "output_type": "stream",
     "text": [
      "[LightGBM] [Warning] feature_fraction is set=0.9802903290848866, colsample_bytree=1.0 will be ignored. Current value: feature_fraction=0.9802903290848866\n"
     ]
    },
    {
     "name": "stderr",
     "output_type": "stream",
     "text": [
      "[I 2023-08-24 21:30:45,982] Trial 88 finished with value: 0.9587912087912088 and parameters: {'num_leaves': 48, 'learning_rate': 0.05985973988894106, 'feature_fraction': 0.9802903290848866}. Best is trial 5 with value: 0.9587912087912088.\n"
     ]
    },
    {
     "name": "stdout",
     "output_type": "stream",
     "text": [
      "[LightGBM] [Warning] feature_fraction is set=0.8453865458920687, colsample_bytree=1.0 will be ignored. Current value: feature_fraction=0.8453865458920687\n"
     ]
    },
    {
     "name": "stderr",
     "output_type": "stream",
     "text": [
      "[I 2023-08-24 21:30:46,591] Trial 89 finished with value: 0.9587912087912088 and parameters: {'num_leaves': 54, 'learning_rate': 0.09968219775190194, 'feature_fraction': 0.8453865458920687}. Best is trial 5 with value: 0.9587912087912088.\n"
     ]
    },
    {
     "name": "stdout",
     "output_type": "stream",
     "text": [
      "[LightGBM] [Warning] feature_fraction is set=0.8753048270091603, colsample_bytree=1.0 will be ignored. Current value: feature_fraction=0.8753048270091603\n"
     ]
    },
    {
     "name": "stderr",
     "output_type": "stream",
     "text": [
      "[I 2023-08-24 21:30:46,839] Trial 90 finished with value: 0.9578754578754579 and parameters: {'num_leaves': 12, 'learning_rate': 0.042541361546122855, 'feature_fraction': 0.8753048270091603}. Best is trial 5 with value: 0.9587912087912088.\n"
     ]
    },
    {
     "name": "stdout",
     "output_type": "stream",
     "text": [
      "[LightGBM] [Warning] feature_fraction is set=0.542304539066126, colsample_bytree=1.0 will be ignored. Current value: feature_fraction=0.542304539066126\n"
     ]
    },
    {
     "name": "stderr",
     "output_type": "stream",
     "text": [
      "[I 2023-08-24 21:30:47,334] Trial 91 finished with value: 0.9587912087912088 and parameters: {'num_leaves': 41, 'learning_rate': 0.06215177887470591, 'feature_fraction': 0.542304539066126}. Best is trial 5 with value: 0.9587912087912088.\n"
     ]
    },
    {
     "name": "stdout",
     "output_type": "stream",
     "text": [
      "[LightGBM] [Warning] feature_fraction is set=0.5097610750675112, colsample_bytree=1.0 will be ignored. Current value: feature_fraction=0.5097610750675112\n"
     ]
    },
    {
     "name": "stderr",
     "output_type": "stream",
     "text": [
      "[I 2023-08-24 21:30:48,313] Trial 92 finished with value: 0.9587912087912088 and parameters: {'num_leaves': 86, 'learning_rate': 0.04889531657214535, 'feature_fraction': 0.5097610750675112}. Best is trial 5 with value: 0.9587912087912088.\n"
     ]
    },
    {
     "name": "stdout",
     "output_type": "stream",
     "text": [
      "[LightGBM] [Warning] feature_fraction is set=0.478300919946516, colsample_bytree=1.0 will be ignored. Current value: feature_fraction=0.478300919946516\n"
     ]
    },
    {
     "name": "stderr",
     "output_type": "stream",
     "text": [
      "[I 2023-08-24 21:30:49,517] Trial 93 finished with value: 0.9578754578754579 and parameters: {'num_leaves': 91, 'learning_rate': 0.05359220901833936, 'feature_fraction': 0.478300919946516}. Best is trial 5 with value: 0.9587912087912088.\n"
     ]
    },
    {
     "name": "stdout",
     "output_type": "stream",
     "text": [
      "[LightGBM] [Warning] feature_fraction is set=0.8031524993265308, colsample_bytree=1.0 will be ignored. Current value: feature_fraction=0.8031524993265308\n"
     ]
    },
    {
     "name": "stderr",
     "output_type": "stream",
     "text": [
      "[I 2023-08-24 21:30:50,054] Trial 94 finished with value: 0.9587912087912088 and parameters: {'num_leaves': 47, 'learning_rate': 0.05728880971512183, 'feature_fraction': 0.8031524993265308}. Best is trial 5 with value: 0.9587912087912088.\n"
     ]
    },
    {
     "name": "stdout",
     "output_type": "stream",
     "text": [
      "[LightGBM] [Warning] feature_fraction is set=0.4058688665866419, colsample_bytree=1.0 will be ignored. Current value: feature_fraction=0.4058688665866419\n"
     ]
    },
    {
     "name": "stderr",
     "output_type": "stream",
     "text": [
      "[I 2023-08-24 21:30:50,450] Trial 95 finished with value: 0.9587912087912088 and parameters: {'num_leaves': 30, 'learning_rate': 0.05540201915446944, 'feature_fraction': 0.4058688665866419}. Best is trial 5 with value: 0.9587912087912088.\n"
     ]
    },
    {
     "name": "stdout",
     "output_type": "stream",
     "text": [
      "[LightGBM] [Warning] feature_fraction is set=0.9181696808418898, colsample_bytree=1.0 will be ignored. Current value: feature_fraction=0.9181696808418898\n"
     ]
    },
    {
     "name": "stderr",
     "output_type": "stream",
     "text": [
      "[I 2023-08-24 21:30:50,915] Trial 96 finished with value: 0.9587912087912088 and parameters: {'num_leaves': 34, 'learning_rate': 0.05205105530138971, 'feature_fraction': 0.9181696808418898}. Best is trial 5 with value: 0.9587912087912088.\n"
     ]
    },
    {
     "name": "stdout",
     "output_type": "stream",
     "text": [
      "[LightGBM] [Warning] feature_fraction is set=0.579885827912308, colsample_bytree=1.0 will be ignored. Current value: feature_fraction=0.579885827912308\n"
     ]
    },
    {
     "name": "stderr",
     "output_type": "stream",
     "text": [
      "[I 2023-08-24 21:30:51,448] Trial 97 finished with value: 0.9587912087912088 and parameters: {'num_leaves': 44, 'learning_rate': 0.06638294282792234, 'feature_fraction': 0.579885827912308}. Best is trial 5 with value: 0.9587912087912088.\n"
     ]
    },
    {
     "name": "stdout",
     "output_type": "stream",
     "text": [
      "[LightGBM] [Warning] feature_fraction is set=0.5597608048095633, colsample_bytree=1.0 will be ignored. Current value: feature_fraction=0.5597608048095633\n"
     ]
    },
    {
     "name": "stderr",
     "output_type": "stream",
     "text": [
      "[I 2023-08-24 21:30:52,219] Trial 98 finished with value: 0.9587912087912088 and parameters: {'num_leaves': 79, 'learning_rate': 0.09461942365021009, 'feature_fraction': 0.5597608048095633}. Best is trial 5 with value: 0.9587912087912088.\n"
     ]
    },
    {
     "name": "stdout",
     "output_type": "stream",
     "text": [
      "[LightGBM] [Warning] feature_fraction is set=0.9988582570546629, colsample_bytree=1.0 will be ignored. Current value: feature_fraction=0.9988582570546629\n"
     ]
    },
    {
     "name": "stderr",
     "output_type": "stream",
     "text": [
      "[I 2023-08-24 21:30:53,023] Trial 99 finished with value: 0.9587912087912088 and parameters: {'num_leaves': 61, 'learning_rate': 0.08674991106010442, 'feature_fraction': 0.9988582570546629}. Best is trial 5 with value: 0.9587912087912088.\n"
     ]
    }
   ],
   "source": [
    "study = optuna.create_study(direction='maximize')  # Doğruluğu maximize etmeye çalıştığımız için 'maximize'\n",
    "study.optimize(objective, n_trials=100)  # 100 deneme yaparak hiperparametre optimizasyonu gerçekleştirme"
   ]
  },
  {
   "cell_type": "code",
   "execution_count": 75,
   "id": "fb052a84-13b5-41df-8566-6e5418b72baf",
   "metadata": {
    "tags": []
   },
   "outputs": [
    {
     "name": "stdout",
     "output_type": "stream",
     "text": [
      "En iyi sonuç (doğruluk):  0.9587912087912088\n",
      "En iyi hiperparametreler:  {'num_leaves': 38, 'learning_rate': 0.04344729836905109, 'feature_fraction': 0.5272523507226217}\n"
     ]
    }
   ],
   "source": [
    "print('En iyi sonuç (doğruluk): ', study.best_value)\n",
    "print('En iyi hiperparametreler: ', study.best_params)"
   ]
  },
  {
   "cell_type": "code",
   "execution_count": null,
   "id": "ab374b21-3dd4-4a8f-b003-c9d51386c176",
   "metadata": {},
   "outputs": [],
   "source": []
  },
  {
   "cell_type": "code",
   "execution_count": null,
   "id": "1de15b70-5e2d-45c0-93da-5bbb74135124",
   "metadata": {},
   "outputs": [],
   "source": []
  },
  {
   "cell_type": "code",
   "execution_count": null,
   "id": "9a7b7110-fb0c-4f45-9213-623d16fc4e28",
   "metadata": {},
   "outputs": [],
   "source": []
  },
  {
   "cell_type": "code",
   "execution_count": null,
   "id": "bd1d0107-ce7a-4b7e-9070-408e836a5883",
   "metadata": {},
   "outputs": [],
   "source": []
  },
  {
   "cell_type": "code",
   "execution_count": null,
   "id": "4941c793-efbe-4baf-ad91-fcd5af12e153",
   "metadata": {},
   "outputs": [],
   "source": []
  },
  {
   "cell_type": "code",
   "execution_count": null,
   "id": "2212e194-ff13-44f1-b659-a3d0384688f9",
   "metadata": {},
   "outputs": [],
   "source": []
  }
 ],
 "metadata": {
  "kernelspec": {
   "display_name": "Python 3 (ipykernel)",
   "language": "python",
   "name": "python3"
  },
  "language_info": {
   "codemirror_mode": {
    "name": "ipython",
    "version": 3
   },
   "file_extension": ".py",
   "mimetype": "text/x-python",
   "name": "python",
   "nbconvert_exporter": "python",
   "pygments_lexer": "ipython3",
   "version": "3.9.13"
  }
 },
 "nbformat": 4,
 "nbformat_minor": 5
}
