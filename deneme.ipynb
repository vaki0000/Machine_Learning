{
 "cells": [
  {
   "cell_type": "code",
   "execution_count": null,
   "id": "51e02fcb",
   "metadata": {},
   "outputs": [],
   "source": []
  },
  {
   "cell_type": "code",
   "execution_count": 2,
   "id": "a94ed3e1-adec-43d6-827c-27a6add49e86",
   "metadata": {
    "tags": []
   },
   "outputs": [],
   "source": [
    "# libraries for EDA\n",
    "import numpy as np\n",
    "import pandas as pd\n",
    "import matplotlib.pyplot as plt\n",
    "import seaborn as sns\n",
    "\n",
    "#To display the plots\n",
    "%matplotlib inline\n",
    "\n",
    "# scikit learn library for machine learning algorithms, data preprocessing, and evaluation\n",
    "from sklearn.preprocessing import StandardScaler, MinMaxScaler, RobustScaler, OrdinalEncoder, LabelEncoder, OneHotEncoder\n",
    "from sklearn.model_selection import train_test_split, GridSearchCV, cross_validate, cross_val_score\n",
    "from sklearn.linear_model import LogisticRegression\n",
    "from sklearn.svm import SVC\n",
    "from sklearn.neighbors import KNeighborsClassifier\n",
    "from sklearn.tree import DecisionTreeClassifier\n",
    "from sklearn.ensemble import BaggingClassifier, RandomForestClassifier\n",
    "from xgboost import XGBClassifier\n",
    "\n",
    "from sklearn.metrics import classification_report, confusion_matrix, log_loss, recall_score, accuracy_score, precision_score, f1_score, roc_auc_score\n",
    "from sklearn.metrics import make_scorer, average_precision_score, PrecisionRecallDisplay, precision_recall_curve, roc_curve\n",
    "from sklearn.metrics import ConfusionMatrixDisplay\n",
    "\n",
    "from sklearn.compose import make_column_transformer, ColumnTransformer\n",
    "from sklearn.preprocessing import MinMaxScaler, StandardScaler, RobustScaler, PowerTransformer\n",
    "from sklearn.pipeline import Pipeline\n",
    "\n",
    "import scikitplot as skplt\n",
    "\n",
    "# yellowbrick library for visualizing the model performance\n",
    "from yellowbrick.classifier import ConfusionMatrix, PrecisionRecallCurve\n",
    "from yellowbrick.classifier import PrecisionRecallCurve\n",
    "from sklearn.pipeline import Pipeline\n",
    "\n",
    "# to get rid of the warnings\n",
    "import warnings\n",
    "warnings.filterwarnings(\"ignore\")\n",
    "warnings.warn(\"this will not show\")\n",
    "\n",
    "plt.rcParams[\"figure.figsize\"] = (10,6)\n",
    "sns.set_style(\"whitegrid\", {'axes.grid' : True})\n",
    "\n",
    "# To display maximum columns\n",
    "pd.set_option('display.max_columns', 50)\n",
    "\n",
    "# To display maximum rows\n",
    "pd.set_option('display.max_rows', 50)\n",
    "\n",
    "# To set float format\n",
    "pd.set_option('display.float_format', lambda x: '%.2f' % x)"
   ]
  },
  {
   "cell_type": "code",
   "execution_count": 3,
   "id": "de4cfe25-5515-4c94-bf97-9d1de80e3848",
   "metadata": {
    "tags": []
   },
   "outputs": [],
   "source": [
    "def eval_metric(model, X_train, y_train, X_test, y_test):   \n",
    "    y_pred = model.predict(X_test)\n",
    "    y_train_pred = model.predict(X_train)\n",
    "    \n",
    "    print(\"Test_Set\")\n",
    "    print(confusion_matrix(y_test, y_pred))\n",
    "    print(classification_report(y_test, y_pred))\n",
    "    print()\n",
    "    print(\"Train_Set\")\n",
    "    print(confusion_matrix(y_train, y_train_pred))\n",
    "    print(classification_report(y_train, y_train_pred))"
   ]
  },
  {
   "cell_type": "code",
   "execution_count": 4,
   "id": "b9bc0471-fae2-4281-9253-06e8aa66e71d",
   "metadata": {
    "tags": []
   },
   "outputs": [],
   "source": [
    "train = pd.read_csv('train.csv')\n",
    "test = pd.read_csv('test_x.csv')"
   ]
  },
  {
   "cell_type": "code",
   "execution_count": 3,
   "id": "9838c956-2f04-4852-9713-7ed6f4c15650",
   "metadata": {
    "tags": []
   },
   "outputs": [],
   "source": [
    "train[\"Cinsiyet\"] = train[\"Cinsiyet\"].replace([\"Erkek\"], 1)\n",
    "train[\"Cinsiyet\"] = train[\"Cinsiyet\"].replace([\"Kadın\"], 0)"
   ]
  },
  {
   "cell_type": "code",
   "execution_count": 4,
   "id": "2e62f345-1d85-405a-936a-f1a77b2b1f9e",
   "metadata": {
    "tags": []
   },
   "outputs": [],
   "source": [
    "train = pd.get_dummies(train, columns=['Yaş Grubu',\n",
    "                                       'Medeni Durum',\n",
    "                                       'Eğitim Düzeyi',\n",
    "                                       'Yaşadığı Şehir', \n",
    "                                       'İstihdam Durumu',\n",
    "                                       'Eğitime Devam Etme Durumu', \n",
    "                                       'En Çok İlgilendiği Ürün Grubu'], dtype=int)"
   ]
  },
  {
   "cell_type": "code",
   "execution_count": 8,
   "id": "bf285ff8-6df8-424e-b89f-b80fa3def9ed",
   "metadata": {
    "tags": []
   },
   "outputs": [],
   "source": [
    "test[\"Cinsiyet\"] =test[\"Cinsiyet\"].replace([\"Erkek\"],1)\n",
    "test[\"Cinsiyet\"] =test[\"Cinsiyet\"].replace([\"Kadın\"],0)\n",
    "test = pd.get_dummies(test, columns=['Yaş Grubu',\n",
    "                                     'Medeni Durum',\n",
    "                                     'Eğitim Düzeyi',\n",
    "                                     'Yaşadığı Şehir', \n",
    "                                     'İstihdam Durumu',\n",
    "                                     'Eğitime Devam Etme Durumu', \n",
    "                                     'En Çok İlgilendiği Ürün Grubu'], dtype=int)"
   ]
  },
  {
   "cell_type": "code",
   "execution_count": 10,
   "id": "7a562866-9b10-4345-8279-8897d18ece66",
   "metadata": {
    "tags": []
   },
   "outputs": [
    {
     "data": {
      "text/html": [
       "<style>#sk-container-id-1 {color: black;background-color: white;}#sk-container-id-1 pre{padding: 0;}#sk-container-id-1 div.sk-toggleable {background-color: white;}#sk-container-id-1 label.sk-toggleable__label {cursor: pointer;display: block;width: 100%;margin-bottom: 0;padding: 0.3em;box-sizing: border-box;text-align: center;}#sk-container-id-1 label.sk-toggleable__label-arrow:before {content: \"▸\";float: left;margin-right: 0.25em;color: #696969;}#sk-container-id-1 label.sk-toggleable__label-arrow:hover:before {color: black;}#sk-container-id-1 div.sk-estimator:hover label.sk-toggleable__label-arrow:before {color: black;}#sk-container-id-1 div.sk-toggleable__content {max-height: 0;max-width: 0;overflow: hidden;text-align: left;background-color: #f0f8ff;}#sk-container-id-1 div.sk-toggleable__content pre {margin: 0.2em;color: black;border-radius: 0.25em;background-color: #f0f8ff;}#sk-container-id-1 input.sk-toggleable__control:checked~div.sk-toggleable__content {max-height: 200px;max-width: 100%;overflow: auto;}#sk-container-id-1 input.sk-toggleable__control:checked~label.sk-toggleable__label-arrow:before {content: \"▾\";}#sk-container-id-1 div.sk-estimator input.sk-toggleable__control:checked~label.sk-toggleable__label {background-color: #d4ebff;}#sk-container-id-1 div.sk-label input.sk-toggleable__control:checked~label.sk-toggleable__label {background-color: #d4ebff;}#sk-container-id-1 input.sk-hidden--visually {border: 0;clip: rect(1px 1px 1px 1px);clip: rect(1px, 1px, 1px, 1px);height: 1px;margin: -1px;overflow: hidden;padding: 0;position: absolute;width: 1px;}#sk-container-id-1 div.sk-estimator {font-family: monospace;background-color: #f0f8ff;border: 1px dotted black;border-radius: 0.25em;box-sizing: border-box;margin-bottom: 0.5em;}#sk-container-id-1 div.sk-estimator:hover {background-color: #d4ebff;}#sk-container-id-1 div.sk-parallel-item::after {content: \"\";width: 100%;border-bottom: 1px solid gray;flex-grow: 1;}#sk-container-id-1 div.sk-label:hover label.sk-toggleable__label {background-color: #d4ebff;}#sk-container-id-1 div.sk-serial::before {content: \"\";position: absolute;border-left: 1px solid gray;box-sizing: border-box;top: 0;bottom: 0;left: 50%;z-index: 0;}#sk-container-id-1 div.sk-serial {display: flex;flex-direction: column;align-items: center;background-color: white;padding-right: 0.2em;padding-left: 0.2em;position: relative;}#sk-container-id-1 div.sk-item {position: relative;z-index: 1;}#sk-container-id-1 div.sk-parallel {display: flex;align-items: stretch;justify-content: center;background-color: white;position: relative;}#sk-container-id-1 div.sk-item::before, #sk-container-id-1 div.sk-parallel-item::before {content: \"\";position: absolute;border-left: 1px solid gray;box-sizing: border-box;top: 0;bottom: 0;left: 50%;z-index: -1;}#sk-container-id-1 div.sk-parallel-item {display: flex;flex-direction: column;z-index: 1;position: relative;background-color: white;}#sk-container-id-1 div.sk-parallel-item:first-child::after {align-self: flex-end;width: 50%;}#sk-container-id-1 div.sk-parallel-item:last-child::after {align-self: flex-start;width: 50%;}#sk-container-id-1 div.sk-parallel-item:only-child::after {width: 0;}#sk-container-id-1 div.sk-dashed-wrapped {border: 1px dashed gray;margin: 0 0.4em 0.5em 0.4em;box-sizing: border-box;padding-bottom: 0.4em;background-color: white;}#sk-container-id-1 div.sk-label label {font-family: monospace;font-weight: bold;display: inline-block;line-height: 1.2em;}#sk-container-id-1 div.sk-label-container {text-align: center;}#sk-container-id-1 div.sk-container {/* jupyter's `normalize.less` sets `[hidden] { display: none; }` but bootstrap.min.css set `[hidden] { display: none !important; }` so we also need the `!important` here to be able to override the default hidden behavior on the sphinx rendered scikit-learn.org. See: https://github.com/scikit-learn/scikit-learn/issues/21755 */display: inline-block !important;position: relative;}#sk-container-id-1 div.sk-text-repr-fallback {display: none;}</style><div id=\"sk-container-id-1\" class=\"sk-top-container\"><div class=\"sk-text-repr-fallback\"><pre>XGBClassifier(base_score=None, booster=None, callbacks=None,\n",
       "              colsample_bylevel=None, colsample_bynode=None,\n",
       "              colsample_bytree=None, early_stopping_rounds=None,\n",
       "              enable_categorical=False, eval_metric=None, feature_types=None,\n",
       "              gamma=None, gpu_id=None, grow_policy=None, importance_type=None,\n",
       "              interaction_constraints=None, learning_rate=None, max_bin=None,\n",
       "              max_cat_threshold=None, max_cat_to_onehot=None,\n",
       "              max_delta_step=None, max_depth=None, max_leaves=None,\n",
       "              min_child_weight=None, missing=nan, monotone_constraints=None,\n",
       "              n_estimators=100, n_jobs=None, num_parallel_tree=None,\n",
       "              objective=&#x27;multi:softprob&#x27;, predictor=None, ...)</pre><b>In a Jupyter environment, please rerun this cell to show the HTML representation or trust the notebook. <br />On GitHub, the HTML representation is unable to render, please try loading this page with nbviewer.org.</b></div><div class=\"sk-container\" hidden><div class=\"sk-item\"><div class=\"sk-estimator sk-toggleable\"><input class=\"sk-toggleable__control sk-hidden--visually\" id=\"sk-estimator-id-1\" type=\"checkbox\" checked><label for=\"sk-estimator-id-1\" class=\"sk-toggleable__label sk-toggleable__label-arrow\">XGBClassifier</label><div class=\"sk-toggleable__content\"><pre>XGBClassifier(base_score=None, booster=None, callbacks=None,\n",
       "              colsample_bylevel=None, colsample_bynode=None,\n",
       "              colsample_bytree=None, early_stopping_rounds=None,\n",
       "              enable_categorical=False, eval_metric=None, feature_types=None,\n",
       "              gamma=None, gpu_id=None, grow_policy=None, importance_type=None,\n",
       "              interaction_constraints=None, learning_rate=None, max_bin=None,\n",
       "              max_cat_threshold=None, max_cat_to_onehot=None,\n",
       "              max_delta_step=None, max_depth=None, max_leaves=None,\n",
       "              min_child_weight=None, missing=nan, monotone_constraints=None,\n",
       "              n_estimators=100, n_jobs=None, num_parallel_tree=None,\n",
       "              objective=&#x27;multi:softprob&#x27;, predictor=None, ...)</pre></div></div></div></div></div>"
      ],
      "text/plain": [
       "XGBClassifier(base_score=None, booster=None, callbacks=None,\n",
       "              colsample_bylevel=None, colsample_bynode=None,\n",
       "              colsample_bytree=None, early_stopping_rounds=None,\n",
       "              enable_categorical=False, eval_metric=None, feature_types=None,\n",
       "              gamma=None, gpu_id=None, grow_policy=None, importance_type=None,\n",
       "              interaction_constraints=None, learning_rate=None, max_bin=None,\n",
       "              max_cat_threshold=None, max_cat_to_onehot=None,\n",
       "              max_delta_step=None, max_depth=None, max_leaves=None,\n",
       "              min_child_weight=None, missing=nan, monotone_constraints=None,\n",
       "              n_estimators=100, n_jobs=None, num_parallel_tree=None,\n",
       "              objective='multi:softprob', predictor=None, ...)"
      ]
     },
     "execution_count": 10,
     "metadata": {},
     "output_type": "execute_result"
    }
   ],
   "source": [
    "X_train = train.drop(['Öbek İsmi'], axis=1)\n",
    "y_train = train['Öbek İsmi']\n",
    "\n",
    "xgb_model = XGBClassifier(random_state=42)\n",
    "\n",
    "y_train_xgb = y_train.map({'obek_1':0, 'obek_2':1, 'obek_3':2,\n",
    "                           'obek_4':3, 'obek_5':4, 'obek_6':5,\n",
    "                           'obek_7':6, 'obek_8':7}) # sıralama classification_report ile aynı olacak.\n",
    "\n",
    "xgb_model.fit(X_train, y_train_xgb)"
   ]
  },
  {
   "cell_type": "code",
   "execution_count": 11,
   "id": "16f25ebc-3058-46a2-9e51-49a54c49a14d",
   "metadata": {
    "tags": []
   },
   "outputs": [],
   "source": [
    "predict = xgb_model.predict(test)"
   ]
  },
  {
   "cell_type": "code",
   "execution_count": 12,
   "id": "c7a71b60-6778-42c9-b4ad-3edcbcc83264",
   "metadata": {
    "tags": []
   },
   "outputs": [
    {
     "data": {
      "text/plain": [
       "array([2, 2, 1, ..., 6, 4, 5], dtype=int64)"
      ]
     },
     "execution_count": 12,
     "metadata": {},
     "output_type": "execute_result"
    }
   ],
   "source": [
    "predict"
   ]
  },
  {
   "cell_type": "markdown",
   "id": "2d66d138-72d8-40e0-aabb-6b63e9a4dd7a",
   "metadata": {},
   "source": [
    "# ------------------------------"
   ]
  },
  {
   "cell_type": "code",
   "execution_count": 16,
   "id": "e28e3f44-a4e5-4289-8a98-cab7f3a36ae1",
   "metadata": {
    "tags": []
   },
   "outputs": [],
   "source": [
    "train = pd.read_csv('train.csv')\n",
    "test = pd.read_csv('test_x.csv')\n",
    "\n",
    "df = train.copy()"
   ]
  },
  {
   "cell_type": "code",
   "execution_count": 17,
   "id": "4758224a-d1b9-4aa8-b4a7-bd185167e98f",
   "metadata": {
    "tags": []
   },
   "outputs": [],
   "source": [
    "from sklearn.model_selection import train_test_split\n",
    "\n",
    "X = df.drop(\"Öbek İsmi\", axis=1)\n",
    "y = df[\"Öbek İsmi\"]\n",
    "\n",
    "X_train, X_test, y_train, y_test = train_test_split(X, y, test_size=0.2, stratify=y, random_state=42)"
   ]
  },
  {
   "cell_type": "code",
   "execution_count": 17,
   "id": "79455087-8729-4c49-947f-c69a10bee8af",
   "metadata": {
    "collapsed": true,
    "jupyter": {
     "outputs_hidden": true
    },
    "tags": []
   },
   "outputs": [
    {
     "name": "stdout",
     "output_type": "stream",
     "text": [
      "[flaml.automl.logger: 08-23 21:11:22] {1693} INFO - task = classification\n",
      "[flaml.automl.logger: 08-23 21:11:22] {1700} INFO - Data split method: stratified\n",
      "[flaml.automl.logger: 08-23 21:11:22] {1703} INFO - Evaluation method: cv\n",
      "[flaml.automl.logger: 08-23 21:11:22] {1801} INFO - Minimizing error metric: 1-accuracy\n",
      "[flaml.automl.logger: 08-23 21:11:22] {1911} INFO - List of ML learners in AutoML Run: ['lgbm', 'rf', 'catboost', 'xgboost', 'extra_tree', 'xgb_limitdepth', 'lrl1']\n",
      "[flaml.automl.logger: 08-23 21:11:22] {2221} INFO - iteration 0, current learner lgbm\n",
      "[flaml.automl.logger: 08-23 21:11:22] {2347} INFO - Estimated sufficient time budget=1800s. Estimated necessary time budget=44s.\n",
      "[flaml.automl.logger: 08-23 21:11:22] {2394} INFO -  at 0.2s,\testimator lgbm's best error=0.0602,\tbest estimator lgbm's best error=0.0602\n",
      "[flaml.automl.logger: 08-23 21:11:22] {2221} INFO - iteration 1, current learner lgbm\n",
      "[flaml.automl.logger: 08-23 21:11:22] {2394} INFO -  at 0.4s,\testimator lgbm's best error=0.0563,\tbest estimator lgbm's best error=0.0563\n",
      "[flaml.automl.logger: 08-23 21:11:22] {2221} INFO - iteration 2, current learner lgbm\n",
      "[flaml.automl.logger: 08-23 21:11:23] {2394} INFO -  at 0.6s,\testimator lgbm's best error=0.0538,\tbest estimator lgbm's best error=0.0538\n",
      "[flaml.automl.logger: 08-23 21:11:23] {2221} INFO - iteration 3, current learner lgbm\n",
      "[flaml.automl.logger: 08-23 21:11:23] {2394} INFO -  at 1.0s,\testimator lgbm's best error=0.0469,\tbest estimator lgbm's best error=0.0469\n",
      "[flaml.automl.logger: 08-23 21:11:23] {2221} INFO - iteration 4, current learner xgboost\n",
      "[flaml.automl.logger: 08-23 21:11:23] {2394} INFO -  at 1.2s,\testimator xgboost's best error=0.0559,\tbest estimator lgbm's best error=0.0469\n",
      "[flaml.automl.logger: 08-23 21:11:23] {2221} INFO - iteration 5, current learner lgbm\n",
      "[flaml.automl.logger: 08-23 21:11:23] {2394} INFO -  at 1.4s,\testimator lgbm's best error=0.0469,\tbest estimator lgbm's best error=0.0469\n",
      "[flaml.automl.logger: 08-23 21:11:23] {2221} INFO - iteration 6, current learner lgbm\n",
      "[flaml.automl.logger: 08-23 21:11:24] {2394} INFO -  at 2.1s,\testimator lgbm's best error=0.0469,\tbest estimator lgbm's best error=0.0469\n",
      "[flaml.automl.logger: 08-23 21:11:24] {2221} INFO - iteration 7, current learner lgbm\n",
      "[flaml.automl.logger: 08-23 21:11:24] {2394} INFO -  at 2.3s,\testimator lgbm's best error=0.0469,\tbest estimator lgbm's best error=0.0469\n",
      "[flaml.automl.logger: 08-23 21:11:24] {2221} INFO - iteration 8, current learner xgboost\n",
      "[flaml.automl.logger: 08-23 21:11:25] {2394} INFO -  at 2.5s,\testimator xgboost's best error=0.0497,\tbest estimator lgbm's best error=0.0469\n",
      "[flaml.automl.logger: 08-23 21:11:25] {2221} INFO - iteration 9, current learner xgboost\n",
      "[flaml.automl.logger: 08-23 21:11:25] {2394} INFO -  at 2.8s,\testimator xgboost's best error=0.0497,\tbest estimator lgbm's best error=0.0469\n",
      "[flaml.automl.logger: 08-23 21:11:25] {2221} INFO - iteration 10, current learner extra_tree\n",
      "[flaml.automl.logger: 08-23 21:11:25] {2394} INFO -  at 3.0s,\testimator extra_tree's best error=0.2386,\tbest estimator lgbm's best error=0.0469\n",
      "[flaml.automl.logger: 08-23 21:11:25] {2221} INFO - iteration 11, current learner xgboost\n",
      "[flaml.automl.logger: 08-23 21:11:25] {2394} INFO -  at 3.2s,\testimator xgboost's best error=0.0497,\tbest estimator lgbm's best error=0.0469\n",
      "[flaml.automl.logger: 08-23 21:11:25] {2221} INFO - iteration 12, current learner extra_tree\n",
      "[flaml.automl.logger: 08-23 21:11:25] {2394} INFO -  at 3.3s,\testimator extra_tree's best error=0.2386,\tbest estimator lgbm's best error=0.0469\n",
      "[flaml.automl.logger: 08-23 21:11:25] {2221} INFO - iteration 13, current learner rf\n",
      "[flaml.automl.logger: 08-23 21:11:25] {2394} INFO -  at 3.5s,\testimator rf's best error=0.3262,\tbest estimator lgbm's best error=0.0469\n",
      "[flaml.automl.logger: 08-23 21:11:25] {2221} INFO - iteration 14, current learner rf\n",
      "[flaml.automl.logger: 08-23 21:11:26] {2394} INFO -  at 3.7s,\testimator rf's best error=0.3233,\tbest estimator lgbm's best error=0.0469\n",
      "[flaml.automl.logger: 08-23 21:11:26] {2221} INFO - iteration 15, current learner extra_tree\n",
      "[flaml.automl.logger: 08-23 21:11:26] {2394} INFO -  at 3.9s,\testimator extra_tree's best error=0.1738,\tbest estimator lgbm's best error=0.0469\n",
      "[flaml.automl.logger: 08-23 21:11:26] {2221} INFO - iteration 16, current learner lgbm\n",
      "[flaml.automl.logger: 08-23 21:11:26] {2394} INFO -  at 4.4s,\testimator lgbm's best error=0.0469,\tbest estimator lgbm's best error=0.0469\n",
      "[flaml.automl.logger: 08-23 21:11:26] {2221} INFO - iteration 17, current learner extra_tree\n",
      "[flaml.automl.logger: 08-23 21:11:27] {2394} INFO -  at 4.6s,\testimator extra_tree's best error=0.0659,\tbest estimator lgbm's best error=0.0469\n",
      "[flaml.automl.logger: 08-23 21:11:27] {2221} INFO - iteration 18, current learner lgbm\n",
      "[flaml.automl.logger: 08-23 21:11:27] {2394} INFO -  at 4.9s,\testimator lgbm's best error=0.0469,\tbest estimator lgbm's best error=0.0469\n",
      "[flaml.automl.logger: 08-23 21:11:27] {2221} INFO - iteration 19, current learner extra_tree\n",
      "[flaml.automl.logger: 08-23 21:11:27] {2394} INFO -  at 5.1s,\testimator extra_tree's best error=0.0659,\tbest estimator lgbm's best error=0.0469\n",
      "[flaml.automl.logger: 08-23 21:11:27] {2221} INFO - iteration 20, current learner extra_tree\n",
      "[flaml.automl.logger: 08-23 21:11:27] {2394} INFO -  at 5.3s,\testimator extra_tree's best error=0.0646,\tbest estimator lgbm's best error=0.0469\n",
      "[flaml.automl.logger: 08-23 21:11:27] {2221} INFO - iteration 21, current learner xgboost\n",
      "[flaml.automl.logger: 08-23 21:11:28] {2394} INFO -  at 5.6s,\testimator xgboost's best error=0.0490,\tbest estimator lgbm's best error=0.0469\n",
      "[flaml.automl.logger: 08-23 21:11:28] {2221} INFO - iteration 22, current learner lgbm\n",
      "[flaml.automl.logger: 08-23 21:11:28] {2394} INFO -  at 6.0s,\testimator lgbm's best error=0.0469,\tbest estimator lgbm's best error=0.0469\n",
      "[flaml.automl.logger: 08-23 21:11:28] {2221} INFO - iteration 23, current learner lgbm\n",
      "[flaml.automl.logger: 08-23 21:11:28] {2394} INFO -  at 6.4s,\testimator lgbm's best error=0.0469,\tbest estimator lgbm's best error=0.0469\n",
      "[flaml.automl.logger: 08-23 21:11:28] {2221} INFO - iteration 24, current learner xgboost\n",
      "[flaml.automl.logger: 08-23 21:11:29] {2394} INFO -  at 6.6s,\testimator xgboost's best error=0.0490,\tbest estimator lgbm's best error=0.0469\n",
      "[flaml.automl.logger: 08-23 21:11:29] {2221} INFO - iteration 25, current learner extra_tree\n",
      "[flaml.automl.logger: 08-23 21:11:29] {2394} INFO -  at 6.8s,\testimator extra_tree's best error=0.0646,\tbest estimator lgbm's best error=0.0469\n",
      "[flaml.automl.logger: 08-23 21:11:29] {2221} INFO - iteration 26, current learner lgbm\n",
      "[flaml.automl.logger: 08-23 21:11:30] {2394} INFO -  at 7.5s,\testimator lgbm's best error=0.0469,\tbest estimator lgbm's best error=0.0469\n",
      "[flaml.automl.logger: 08-23 21:11:30] {2221} INFO - iteration 27, current learner catboost\n",
      "[flaml.automl.logger: 08-23 21:11:44] {2394} INFO -  at 22.3s,\testimator catboost's best error=0.0465,\tbest estimator catboost's best error=0.0465\n",
      "[flaml.automl.logger: 08-23 21:11:44] {2221} INFO - iteration 28, current learner xgboost\n",
      "[flaml.automl.logger: 08-23 21:11:45] {2394} INFO -  at 23.1s,\testimator xgboost's best error=0.0483,\tbest estimator catboost's best error=0.0465\n",
      "[flaml.automl.logger: 08-23 21:11:45] {2221} INFO - iteration 29, current learner xgboost\n",
      "[flaml.automl.logger: 08-23 21:11:46] {2394} INFO -  at 24.1s,\testimator xgboost's best error=0.0483,\tbest estimator catboost's best error=0.0465\n",
      "[flaml.automl.logger: 08-23 21:11:46] {2221} INFO - iteration 30, current learner extra_tree\n",
      "[flaml.automl.logger: 08-23 21:11:46] {2394} INFO -  at 24.3s,\testimator extra_tree's best error=0.0646,\tbest estimator catboost's best error=0.0465\n",
      "[flaml.automl.logger: 08-23 21:11:46] {2221} INFO - iteration 31, current learner lgbm\n",
      "[flaml.automl.logger: 08-23 21:11:47] {2394} INFO -  at 24.5s,\testimator lgbm's best error=0.0469,\tbest estimator catboost's best error=0.0465\n",
      "[flaml.automl.logger: 08-23 21:11:47] {2221} INFO - iteration 32, current learner lgbm\n",
      "[flaml.automl.logger: 08-23 21:11:47] {2394} INFO -  at 24.7s,\testimator lgbm's best error=0.0469,\tbest estimator catboost's best error=0.0465\n",
      "[flaml.automl.logger: 08-23 21:11:47] {2221} INFO - iteration 33, current learner lgbm\n",
      "[flaml.automl.logger: 08-23 21:11:48] {2394} INFO -  at 25.5s,\testimator lgbm's best error=0.0469,\tbest estimator catboost's best error=0.0465\n",
      "[flaml.automl.logger: 08-23 21:11:48] {2221} INFO - iteration 34, current learner xgboost\n",
      "[flaml.automl.logger: 08-23 21:11:48] {2394} INFO -  at 26.0s,\testimator xgboost's best error=0.0483,\tbest estimator catboost's best error=0.0465\n",
      "[flaml.automl.logger: 08-23 21:11:48] {2221} INFO - iteration 35, current learner lgbm\n",
      "[flaml.automl.logger: 08-23 21:11:49] {2394} INFO -  at 27.2s,\testimator lgbm's best error=0.0469,\tbest estimator catboost's best error=0.0465\n",
      "[flaml.automl.logger: 08-23 21:11:49] {2221} INFO - iteration 36, current learner lgbm\n",
      "[flaml.automl.logger: 08-23 21:11:49] {2394} INFO -  at 27.4s,\testimator lgbm's best error=0.0469,\tbest estimator catboost's best error=0.0465\n",
      "[flaml.automl.logger: 08-23 21:11:49] {2221} INFO - iteration 37, current learner extra_tree\n",
      "[flaml.automl.logger: 08-23 21:11:50] {2394} INFO -  at 27.8s,\testimator extra_tree's best error=0.0588,\tbest estimator catboost's best error=0.0465\n",
      "[flaml.automl.logger: 08-23 21:11:50] {2221} INFO - iteration 38, current learner xgboost\n",
      "[flaml.automl.logger: 08-23 21:11:50] {2394} INFO -  at 28.2s,\testimator xgboost's best error=0.0483,\tbest estimator catboost's best error=0.0465\n",
      "[flaml.automl.logger: 08-23 21:11:50] {2221} INFO - iteration 39, current learner extra_tree\n",
      "[flaml.automl.logger: 08-23 21:11:51] {2394} INFO -  at 29.1s,\testimator extra_tree's best error=0.0508,\tbest estimator catboost's best error=0.0465\n",
      "[flaml.automl.logger: 08-23 21:11:51] {2221} INFO - iteration 40, current learner extra_tree\n",
      "[flaml.automl.logger: 08-23 21:11:51] {2394} INFO -  at 29.5s,\testimator extra_tree's best error=0.0472,\tbest estimator catboost's best error=0.0465\n",
      "[flaml.automl.logger: 08-23 21:11:51] {2221} INFO - iteration 41, current learner extra_tree\n",
      "[flaml.automl.logger: 08-23 21:11:52] {2394} INFO -  at 29.9s,\testimator extra_tree's best error=0.0467,\tbest estimator catboost's best error=0.0465\n",
      "[flaml.automl.logger: 08-23 21:11:52] {2221} INFO - iteration 42, current learner extra_tree\n",
      "[flaml.automl.logger: 08-23 21:11:52] {2394} INFO -  at 30.3s,\testimator extra_tree's best error=0.0467,\tbest estimator catboost's best error=0.0465\n",
      "[flaml.automl.logger: 08-23 21:11:52] {2221} INFO - iteration 43, current learner lgbm\n",
      "[flaml.automl.logger: 08-23 21:11:52] {2394} INFO -  at 30.5s,\testimator lgbm's best error=0.0469,\tbest estimator catboost's best error=0.0465\n",
      "[flaml.automl.logger: 08-23 21:11:52] {2221} INFO - iteration 44, current learner extra_tree\n",
      "[flaml.automl.logger: 08-23 21:11:53] {2394} INFO -  at 30.9s,\testimator extra_tree's best error=0.0465,\tbest estimator catboost's best error=0.0465\n",
      "[flaml.automl.logger: 08-23 21:11:53] {2221} INFO - iteration 45, current learner extra_tree\n",
      "[flaml.automl.logger: 08-23 21:11:53] {2394} INFO -  at 31.3s,\testimator extra_tree's best error=0.0465,\tbest estimator catboost's best error=0.0465\n",
      "[flaml.automl.logger: 08-23 21:11:53] {2221} INFO - iteration 46, current learner extra_tree\n",
      "[flaml.automl.logger: 08-23 21:11:54] {2394} INFO -  at 31.8s,\testimator extra_tree's best error=0.0465,\tbest estimator catboost's best error=0.0465\n",
      "[flaml.automl.logger: 08-23 21:11:54] {2221} INFO - iteration 47, current learner extra_tree\n",
      "[flaml.automl.logger: 08-23 21:11:54] {2394} INFO -  at 32.2s,\testimator extra_tree's best error=0.0462,\tbest estimator extra_tree's best error=0.0462\n",
      "[flaml.automl.logger: 08-23 21:11:54] {2221} INFO - iteration 48, current learner extra_tree\n",
      "[flaml.automl.logger: 08-23 21:11:55] {2394} INFO -  at 32.6s,\testimator extra_tree's best error=0.0462,\tbest estimator extra_tree's best error=0.0462\n",
      "[flaml.automl.logger: 08-23 21:11:55] {2221} INFO - iteration 49, current learner lgbm\n",
      "[flaml.automl.logger: 08-23 21:11:56] {2394} INFO -  at 34.0s,\testimator lgbm's best error=0.0469,\tbest estimator extra_tree's best error=0.0462\n",
      "[flaml.automl.logger: 08-23 21:11:56] {2221} INFO - iteration 50, current learner extra_tree\n",
      "[flaml.automl.logger: 08-23 21:11:56] {2394} INFO -  at 34.4s,\testimator extra_tree's best error=0.0462,\tbest estimator extra_tree's best error=0.0462\n",
      "[flaml.automl.logger: 08-23 21:11:56] {2221} INFO - iteration 51, current learner extra_tree\n",
      "[flaml.automl.logger: 08-23 21:11:57] {2394} INFO -  at 34.8s,\testimator extra_tree's best error=0.0462,\tbest estimator extra_tree's best error=0.0462\n",
      "[flaml.automl.logger: 08-23 21:11:57] {2221} INFO - iteration 52, current learner extra_tree\n",
      "[flaml.automl.logger: 08-23 21:11:57] {2394} INFO -  at 35.5s,\testimator extra_tree's best error=0.0462,\tbest estimator extra_tree's best error=0.0462\n",
      "[flaml.automl.logger: 08-23 21:11:57] {2221} INFO - iteration 53, current learner catboost\n",
      "[flaml.automl.logger: 08-23 21:12:25] {2394} INFO -  at 62.8s,\testimator catboost's best error=0.0465,\tbest estimator extra_tree's best error=0.0462\n",
      "[flaml.automl.logger: 08-23 21:12:25] {2221} INFO - iteration 54, current learner lgbm\n",
      "[flaml.automl.logger: 08-23 21:12:26] {2394} INFO -  at 64.1s,\testimator lgbm's best error=0.0467,\tbest estimator extra_tree's best error=0.0462\n",
      "[flaml.automl.logger: 08-23 21:12:26] {2221} INFO - iteration 55, current learner lgbm\n",
      "[flaml.automl.logger: 08-23 21:12:27] {2394} INFO -  at 64.5s,\testimator lgbm's best error=0.0467,\tbest estimator extra_tree's best error=0.0462\n",
      "[flaml.automl.logger: 08-23 21:12:27] {2221} INFO - iteration 56, current learner extra_tree\n",
      "[flaml.automl.logger: 08-23 21:12:27] {2394} INFO -  at 65.0s,\testimator extra_tree's best error=0.0462,\tbest estimator extra_tree's best error=0.0462\n",
      "[flaml.automl.logger: 08-23 21:12:27] {2221} INFO - iteration 57, current learner extra_tree\n",
      "[flaml.automl.logger: 08-23 21:12:27] {2394} INFO -  at 65.3s,\testimator extra_tree's best error=0.0462,\tbest estimator extra_tree's best error=0.0462\n",
      "[flaml.automl.logger: 08-23 21:12:27] {2221} INFO - iteration 58, current learner extra_tree\n",
      "[flaml.automl.logger: 08-23 21:12:28] {2394} INFO -  at 65.7s,\testimator extra_tree's best error=0.0462,\tbest estimator extra_tree's best error=0.0462\n",
      "[flaml.automl.logger: 08-23 21:12:28] {2221} INFO - iteration 59, current learner extra_tree\n",
      "[flaml.automl.logger: 08-23 21:12:28] {2394} INFO -  at 66.2s,\testimator extra_tree's best error=0.0462,\tbest estimator extra_tree's best error=0.0462\n",
      "[flaml.automl.logger: 08-23 21:12:28] {2221} INFO - iteration 60, current learner lgbm\n",
      "[flaml.automl.logger: 08-23 21:12:30] {2394} INFO -  at 67.5s,\testimator lgbm's best error=0.0467,\tbest estimator extra_tree's best error=0.0462\n",
      "[flaml.automl.logger: 08-23 21:12:30] {2221} INFO - iteration 61, current learner extra_tree\n",
      "[flaml.automl.logger: 08-23 21:12:30] {2394} INFO -  at 67.8s,\testimator extra_tree's best error=0.0462,\tbest estimator extra_tree's best error=0.0462\n",
      "[flaml.automl.logger: 08-23 21:12:30] {2221} INFO - iteration 62, current learner catboost\n",
      "[flaml.automl.logger: 08-23 21:12:39] {2394} INFO -  at 77.4s,\testimator catboost's best error=0.0465,\tbest estimator extra_tree's best error=0.0462\n",
      "[flaml.automl.logger: 08-23 21:12:39] {2221} INFO - iteration 63, current learner extra_tree\n",
      "[flaml.automl.logger: 08-23 21:12:40] {2394} INFO -  at 78.0s,\testimator extra_tree's best error=0.0462,\tbest estimator extra_tree's best error=0.0462\n",
      "[flaml.automl.logger: 08-23 21:12:40] {2221} INFO - iteration 64, current learner extra_tree\n",
      "[flaml.automl.logger: 08-23 21:12:40] {2394} INFO -  at 78.3s,\testimator extra_tree's best error=0.0462,\tbest estimator extra_tree's best error=0.0462\n",
      "[flaml.automl.logger: 08-23 21:12:40] {2221} INFO - iteration 65, current learner rf\n",
      "[flaml.automl.logger: 08-23 21:12:40] {2394} INFO -  at 78.5s,\testimator rf's best error=0.0733,\tbest estimator extra_tree's best error=0.0462\n",
      "[flaml.automl.logger: 08-23 21:12:40] {2221} INFO - iteration 66, current learner rf\n",
      "[flaml.automl.logger: 08-23 21:12:41] {2394} INFO -  at 78.7s,\testimator rf's best error=0.0531,\tbest estimator extra_tree's best error=0.0462\n",
      "[flaml.automl.logger: 08-23 21:12:41] {2221} INFO - iteration 67, current learner rf\n",
      "[flaml.automl.logger: 08-23 21:12:41] {2394} INFO -  at 78.8s,\testimator rf's best error=0.0531,\tbest estimator extra_tree's best error=0.0462\n",
      "[flaml.automl.logger: 08-23 21:12:41] {2221} INFO - iteration 68, current learner rf\n",
      "[flaml.automl.logger: 08-23 21:12:41] {2394} INFO -  at 79.1s,\testimator rf's best error=0.0485,\tbest estimator extra_tree's best error=0.0462\n",
      "[flaml.automl.logger: 08-23 21:12:41] {2221} INFO - iteration 69, current learner rf\n",
      "[flaml.automl.logger: 08-23 21:12:41] {2394} INFO -  at 79.4s,\testimator rf's best error=0.0485,\tbest estimator extra_tree's best error=0.0462\n",
      "[flaml.automl.logger: 08-23 21:12:41] {2221} INFO - iteration 70, current learner rf\n",
      "[flaml.automl.logger: 08-23 21:12:42] {2394} INFO -  at 79.6s,\testimator rf's best error=0.0485,\tbest estimator extra_tree's best error=0.0462\n",
      "[flaml.automl.logger: 08-23 21:12:42] {2221} INFO - iteration 71, current learner rf\n",
      "[flaml.automl.logger: 08-23 21:12:42] {2394} INFO -  at 80.3s,\testimator rf's best error=0.0485,\tbest estimator extra_tree's best error=0.0462\n",
      "[flaml.automl.logger: 08-23 21:12:42] {2221} INFO - iteration 72, current learner rf\n",
      "[flaml.automl.logger: 08-23 21:12:43] {2394} INFO -  at 80.8s,\testimator rf's best error=0.0485,\tbest estimator extra_tree's best error=0.0462\n",
      "[flaml.automl.logger: 08-23 21:12:43] {2221} INFO - iteration 73, current learner extra_tree\n",
      "[flaml.automl.logger: 08-23 21:12:43] {2394} INFO -  at 81.3s,\testimator extra_tree's best error=0.0462,\tbest estimator extra_tree's best error=0.0462\n",
      "[flaml.automl.logger: 08-23 21:12:43] {2221} INFO - iteration 74, current learner rf\n",
      "[flaml.automl.logger: 08-23 21:12:44] {2394} INFO -  at 81.6s,\testimator rf's best error=0.0485,\tbest estimator extra_tree's best error=0.0462\n",
      "[flaml.automl.logger: 08-23 21:12:44] {2221} INFO - iteration 75, current learner extra_tree\n",
      "[flaml.automl.logger: 08-23 21:12:44] {2394} INFO -  at 82.2s,\testimator extra_tree's best error=0.0462,\tbest estimator extra_tree's best error=0.0462\n",
      "[flaml.automl.logger: 08-23 21:12:44] {2221} INFO - iteration 76, current learner rf\n",
      "[flaml.automl.logger: 08-23 21:12:45] {2394} INFO -  at 82.6s,\testimator rf's best error=0.0481,\tbest estimator extra_tree's best error=0.0462\n",
      "[flaml.automl.logger: 08-23 21:12:45] {2221} INFO - iteration 77, current learner rf\n",
      "[flaml.automl.logger: 08-23 21:12:45] {2394} INFO -  at 83.0s,\testimator rf's best error=0.0481,\tbest estimator extra_tree's best error=0.0462\n",
      "[flaml.automl.logger: 08-23 21:12:45] {2221} INFO - iteration 78, current learner extra_tree\n",
      "[flaml.automl.logger: 08-23 21:12:45] {2394} INFO -  at 83.3s,\testimator extra_tree's best error=0.0462,\tbest estimator extra_tree's best error=0.0462\n",
      "[flaml.automl.logger: 08-23 21:12:45] {2221} INFO - iteration 79, current learner extra_tree\n",
      "[flaml.automl.logger: 08-23 21:12:46] {2394} INFO -  at 83.6s,\testimator extra_tree's best error=0.0462,\tbest estimator extra_tree's best error=0.0462\n",
      "[flaml.automl.logger: 08-23 21:12:46] {2221} INFO - iteration 80, current learner rf\n",
      "[flaml.automl.logger: 08-23 21:12:46] {2394} INFO -  at 83.9s,\testimator rf's best error=0.0474,\tbest estimator extra_tree's best error=0.0462\n",
      "[flaml.automl.logger: 08-23 21:12:46] {2221} INFO - iteration 81, current learner extra_tree\n",
      "[flaml.automl.logger: 08-23 21:12:46] {2394} INFO -  at 84.3s,\testimator extra_tree's best error=0.0462,\tbest estimator extra_tree's best error=0.0462\n",
      "[flaml.automl.logger: 08-23 21:12:46] {2221} INFO - iteration 82, current learner rf\n",
      "[flaml.automl.logger: 08-23 21:12:47] {2394} INFO -  at 84.7s,\testimator rf's best error=0.0469,\tbest estimator extra_tree's best error=0.0462\n",
      "[flaml.automl.logger: 08-23 21:12:47] {2221} INFO - iteration 83, current learner rf\n",
      "[flaml.automl.logger: 08-23 21:12:47] {2394} INFO -  at 85.1s,\testimator rf's best error=0.0469,\tbest estimator extra_tree's best error=0.0462\n",
      "[flaml.automl.logger: 08-23 21:12:47] {2221} INFO - iteration 84, current learner rf\n",
      "[flaml.automl.logger: 08-23 21:12:47] {2394} INFO -  at 85.3s,\testimator rf's best error=0.0469,\tbest estimator extra_tree's best error=0.0462\n",
      "[flaml.automl.logger: 08-23 21:12:47] {2221} INFO - iteration 85, current learner extra_tree\n",
      "[flaml.automl.logger: 08-23 21:12:48] {2394} INFO -  at 85.6s,\testimator extra_tree's best error=0.0462,\tbest estimator extra_tree's best error=0.0462\n",
      "[flaml.automl.logger: 08-23 21:12:48] {2221} INFO - iteration 86, current learner rf\n",
      "[flaml.automl.logger: 08-23 21:12:48] {2394} INFO -  at 86.1s,\testimator rf's best error=0.0469,\tbest estimator extra_tree's best error=0.0462\n",
      "[flaml.automl.logger: 08-23 21:12:48] {2221} INFO - iteration 87, current learner extra_tree\n",
      "[flaml.automl.logger: 08-23 21:12:49] {2394} INFO -  at 86.9s,\testimator extra_tree's best error=0.0462,\tbest estimator extra_tree's best error=0.0462\n",
      "[flaml.automl.logger: 08-23 21:12:49] {2221} INFO - iteration 88, current learner rf\n",
      "[flaml.automl.logger: 08-23 21:12:49] {2394} INFO -  at 87.2s,\testimator rf's best error=0.0469,\tbest estimator extra_tree's best error=0.0462\n",
      "[flaml.automl.logger: 08-23 21:12:49] {2221} INFO - iteration 89, current learner rf\n",
      "[flaml.automl.logger: 08-23 21:12:49] {2394} INFO -  at 87.5s,\testimator rf's best error=0.0469,\tbest estimator extra_tree's best error=0.0462\n",
      "[flaml.automl.logger: 08-23 21:12:49] {2221} INFO - iteration 90, current learner extra_tree\n",
      "[flaml.automl.logger: 08-23 21:12:50] {2394} INFO -  at 87.8s,\testimator extra_tree's best error=0.0462,\tbest estimator extra_tree's best error=0.0462\n",
      "[flaml.automl.logger: 08-23 21:12:50] {2221} INFO - iteration 91, current learner rf\n",
      "[flaml.automl.logger: 08-23 21:12:50] {2394} INFO -  at 88.4s,\testimator rf's best error=0.0469,\tbest estimator extra_tree's best error=0.0462\n",
      "[flaml.automl.logger: 08-23 21:12:50] {2221} INFO - iteration 92, current learner extra_tree\n",
      "[flaml.automl.logger: 08-23 21:12:51] {2394} INFO -  at 88.8s,\testimator extra_tree's best error=0.0462,\tbest estimator extra_tree's best error=0.0462\n",
      "[flaml.automl.logger: 08-23 21:12:51] {2221} INFO - iteration 93, current learner extra_tree\n",
      "[flaml.automl.logger: 08-23 21:12:51] {2394} INFO -  at 89.3s,\testimator extra_tree's best error=0.0462,\tbest estimator extra_tree's best error=0.0462\n",
      "[flaml.automl.logger: 08-23 21:12:51] {2221} INFO - iteration 94, current learner catboost\n",
      "[flaml.automl.logger: 08-23 21:13:17] {2394} INFO -  at 114.8s,\testimator catboost's best error=0.0465,\tbest estimator extra_tree's best error=0.0462\n",
      "[flaml.automl.logger: 08-23 21:13:17] {2221} INFO - iteration 95, current learner rf\n",
      "[flaml.automl.logger: 08-23 21:13:17] {2394} INFO -  at 115.3s,\testimator rf's best error=0.0465,\tbest estimator extra_tree's best error=0.0462\n",
      "[flaml.automl.logger: 08-23 21:13:17] {2221} INFO - iteration 96, current learner extra_tree\n",
      "[flaml.automl.logger: 08-23 21:13:18] {2394} INFO -  at 115.9s,\testimator extra_tree's best error=0.0462,\tbest estimator extra_tree's best error=0.0462\n",
      "[flaml.automl.logger: 08-23 21:13:18] {2221} INFO - iteration 97, current learner rf\n",
      "[flaml.automl.logger: 08-23 21:13:18] {2394} INFO -  at 116.4s,\testimator rf's best error=0.0465,\tbest estimator extra_tree's best error=0.0462\n",
      "[flaml.automl.logger: 08-23 21:13:18] {2221} INFO - iteration 98, current learner rf\n",
      "[flaml.automl.logger: 08-23 21:13:19] {2394} INFO -  at 116.8s,\testimator rf's best error=0.0465,\tbest estimator extra_tree's best error=0.0462\n",
      "[flaml.automl.logger: 08-23 21:13:19] {2221} INFO - iteration 99, current learner rf\n",
      "[flaml.automl.logger: 08-23 21:13:19] {2394} INFO -  at 117.3s,\testimator rf's best error=0.0465,\tbest estimator extra_tree's best error=0.0462\n",
      "[flaml.automl.logger: 08-23 21:13:19] {2221} INFO - iteration 100, current learner rf\n",
      "[flaml.automl.logger: 08-23 21:13:20] {2394} INFO -  at 117.6s,\testimator rf's best error=0.0465,\tbest estimator extra_tree's best error=0.0462\n",
      "[flaml.automl.logger: 08-23 21:13:20] {2221} INFO - iteration 101, current learner extra_tree\n",
      "[flaml.automl.logger: 08-23 21:13:20] {2394} INFO -  at 118.0s,\testimator extra_tree's best error=0.0462,\tbest estimator extra_tree's best error=0.0462\n",
      "[flaml.automl.logger: 08-23 21:13:20] {2221} INFO - iteration 102, current learner rf\n",
      "[flaml.automl.logger: 08-23 21:13:21] {2394} INFO -  at 118.7s,\testimator rf's best error=0.0465,\tbest estimator extra_tree's best error=0.0462\n",
      "[flaml.automl.logger: 08-23 21:13:21] {2221} INFO - iteration 103, current learner lgbm\n",
      "[flaml.automl.logger: 08-23 21:13:22] {2394} INFO -  at 119.7s,\testimator lgbm's best error=0.0467,\tbest estimator extra_tree's best error=0.0462\n",
      "[flaml.automl.logger: 08-23 21:13:22] {2221} INFO - iteration 104, current learner rf\n",
      "[flaml.automl.logger: 08-23 21:13:22] {2394} INFO -  at 120.1s,\testimator rf's best error=0.0465,\tbest estimator extra_tree's best error=0.0462\n",
      "[flaml.automl.logger: 08-23 21:13:22] {2221} INFO - iteration 105, current learner rf\n",
      "[flaml.automl.logger: 08-23 21:13:23] {2394} INFO -  at 120.9s,\testimator rf's best error=0.0465,\tbest estimator extra_tree's best error=0.0462\n",
      "[flaml.automl.logger: 08-23 21:13:23] {2221} INFO - iteration 106, current learner rf\n",
      "[flaml.automl.logger: 08-23 21:13:24] {2394} INFO -  at 121.7s,\testimator rf's best error=0.0465,\tbest estimator extra_tree's best error=0.0462\n",
      "[flaml.automl.logger: 08-23 21:13:24] {2221} INFO - iteration 107, current learner extra_tree\n",
      "[flaml.automl.logger: 08-23 21:13:24] {2394} INFO -  at 122.0s,\testimator extra_tree's best error=0.0462,\tbest estimator extra_tree's best error=0.0462\n",
      "[flaml.automl.logger: 08-23 21:13:24] {2221} INFO - iteration 108, current learner rf\n",
      "[flaml.automl.logger: 08-23 21:13:24] {2394} INFO -  at 122.3s,\testimator rf's best error=0.0465,\tbest estimator extra_tree's best error=0.0462\n",
      "[flaml.automl.logger: 08-23 21:13:24] {2221} INFO - iteration 109, current learner extra_tree\n",
      "[flaml.automl.logger: 08-23 21:13:25] {2394} INFO -  at 122.7s,\testimator extra_tree's best error=0.0462,\tbest estimator extra_tree's best error=0.0462\n",
      "[flaml.automl.logger: 08-23 21:13:25] {2221} INFO - iteration 110, current learner catboost\n",
      "[flaml.automl.logger: 08-23 21:13:34] {2394} INFO -  at 132.0s,\testimator catboost's best error=0.0465,\tbest estimator extra_tree's best error=0.0462\n",
      "[flaml.automl.logger: 08-23 21:13:34] {2221} INFO - iteration 111, current learner lgbm\n",
      "[flaml.automl.logger: 08-23 21:13:34] {2394} INFO -  at 132.5s,\testimator lgbm's best error=0.0467,\tbest estimator extra_tree's best error=0.0462\n",
      "[flaml.automl.logger: 08-23 21:13:34] {2221} INFO - iteration 112, current learner extra_tree\n",
      "[flaml.automl.logger: 08-23 21:13:35] {2394} INFO -  at 132.8s,\testimator extra_tree's best error=0.0462,\tbest estimator extra_tree's best error=0.0462\n",
      "[flaml.automl.logger: 08-23 21:13:35] {2221} INFO - iteration 113, current learner extra_tree\n",
      "[flaml.automl.logger: 08-23 21:13:35] {2394} INFO -  at 133.3s,\testimator extra_tree's best error=0.0462,\tbest estimator extra_tree's best error=0.0462\n",
      "[flaml.automl.logger: 08-23 21:13:35] {2221} INFO - iteration 114, current learner extra_tree\n",
      "[flaml.automl.logger: 08-23 21:13:36] {2394} INFO -  at 133.7s,\testimator extra_tree's best error=0.0462,\tbest estimator extra_tree's best error=0.0462\n",
      "[flaml.automl.logger: 08-23 21:13:36] {2221} INFO - iteration 115, current learner rf\n",
      "[flaml.automl.logger: 08-23 21:13:36] {2394} INFO -  at 134.2s,\testimator rf's best error=0.0465,\tbest estimator extra_tree's best error=0.0462\n",
      "[flaml.automl.logger: 08-23 21:13:36] {2221} INFO - iteration 116, current learner rf\n",
      "[flaml.automl.logger: 08-23 21:13:37] {2394} INFO -  at 134.8s,\testimator rf's best error=0.0465,\tbest estimator extra_tree's best error=0.0462\n",
      "[flaml.automl.logger: 08-23 21:13:37] {2221} INFO - iteration 117, current learner extra_tree\n",
      "[flaml.automl.logger: 08-23 21:13:37] {2394} INFO -  at 135.1s,\testimator extra_tree's best error=0.0462,\tbest estimator extra_tree's best error=0.0462\n",
      "[flaml.automl.logger: 08-23 21:13:37] {2221} INFO - iteration 118, current learner extra_tree\n",
      "[flaml.automl.logger: 08-23 21:13:38] {2394} INFO -  at 135.7s,\testimator extra_tree's best error=0.0462,\tbest estimator extra_tree's best error=0.0462\n",
      "[flaml.automl.logger: 08-23 21:13:38] {2221} INFO - iteration 119, current learner lgbm\n",
      "[flaml.automl.logger: 08-23 21:13:41] {2394} INFO -  at 139.4s,\testimator lgbm's best error=0.0467,\tbest estimator extra_tree's best error=0.0462\n",
      "[flaml.automl.logger: 08-23 21:13:41] {2221} INFO - iteration 120, current learner extra_tree\n",
      "[flaml.automl.logger: 08-23 21:13:42] {2394} INFO -  at 139.8s,\testimator extra_tree's best error=0.0462,\tbest estimator extra_tree's best error=0.0462\n",
      "[flaml.automl.logger: 08-23 21:13:42] {2221} INFO - iteration 121, current learner extra_tree\n",
      "[flaml.automl.logger: 08-23 21:13:42] {2394} INFO -  at 140.3s,\testimator extra_tree's best error=0.0462,\tbest estimator extra_tree's best error=0.0462\n",
      "[flaml.automl.logger: 08-23 21:13:42] {2221} INFO - iteration 122, current learner extra_tree\n",
      "[flaml.automl.logger: 08-23 21:13:43] {2394} INFO -  at 140.7s,\testimator extra_tree's best error=0.0462,\tbest estimator extra_tree's best error=0.0462\n",
      "[flaml.automl.logger: 08-23 21:13:43] {2221} INFO - iteration 123, current learner extra_tree\n",
      "[flaml.automl.logger: 08-23 21:13:43] {2394} INFO -  at 141.1s,\testimator extra_tree's best error=0.0462,\tbest estimator extra_tree's best error=0.0462\n",
      "[flaml.automl.logger: 08-23 21:13:43] {2221} INFO - iteration 124, current learner rf\n",
      "[flaml.automl.logger: 08-23 21:13:43] {2394} INFO -  at 141.3s,\testimator rf's best error=0.0465,\tbest estimator extra_tree's best error=0.0462\n",
      "[flaml.automl.logger: 08-23 21:13:43] {2221} INFO - iteration 125, current learner lgbm\n",
      "[flaml.automl.logger: 08-23 21:13:45] {2394} INFO -  at 142.5s,\testimator lgbm's best error=0.0467,\tbest estimator extra_tree's best error=0.0462\n",
      "[flaml.automl.logger: 08-23 21:13:45] {2221} INFO - iteration 126, current learner lgbm\n",
      "[flaml.automl.logger: 08-23 21:13:46] {2394} INFO -  at 143.8s,\testimator lgbm's best error=0.0467,\tbest estimator extra_tree's best error=0.0462\n",
      "[flaml.automl.logger: 08-23 21:13:46] {2221} INFO - iteration 127, current learner lgbm\n",
      "[flaml.automl.logger: 08-23 21:13:47] {2394} INFO -  at 144.9s,\testimator lgbm's best error=0.0467,\tbest estimator extra_tree's best error=0.0462\n",
      "[flaml.automl.logger: 08-23 21:13:47] {2221} INFO - iteration 128, current learner rf\n",
      "[flaml.automl.logger: 08-23 21:13:48] {2394} INFO -  at 145.9s,\testimator rf's best error=0.0465,\tbest estimator extra_tree's best error=0.0462\n",
      "[flaml.automl.logger: 08-23 21:13:48] {2221} INFO - iteration 129, current learner extra_tree\n",
      "[flaml.automl.logger: 08-23 21:13:48] {2394} INFO -  at 146.2s,\testimator extra_tree's best error=0.0462,\tbest estimator extra_tree's best error=0.0462\n",
      "[flaml.automl.logger: 08-23 21:13:48] {2221} INFO - iteration 130, current learner rf\n",
      "[flaml.automl.logger: 08-23 21:13:49] {2394} INFO -  at 146.6s,\testimator rf's best error=0.0465,\tbest estimator extra_tree's best error=0.0462\n",
      "[flaml.automl.logger: 08-23 21:13:49] {2221} INFO - iteration 131, current learner rf\n",
      "[flaml.automl.logger: 08-23 21:13:49] {2394} INFO -  at 147.1s,\testimator rf's best error=0.0465,\tbest estimator extra_tree's best error=0.0462\n",
      "[flaml.automl.logger: 08-23 21:13:49] {2221} INFO - iteration 132, current learner extra_tree\n",
      "[flaml.automl.logger: 08-23 21:13:49] {2394} INFO -  at 147.4s,\testimator extra_tree's best error=0.0462,\tbest estimator extra_tree's best error=0.0462\n",
      "[flaml.automl.logger: 08-23 21:13:49] {2221} INFO - iteration 133, current learner rf\n",
      "[flaml.automl.logger: 08-23 21:13:50] {2394} INFO -  at 148.3s,\testimator rf's best error=0.0465,\tbest estimator extra_tree's best error=0.0462\n",
      "[flaml.automl.logger: 08-23 21:13:50] {2221} INFO - iteration 134, current learner rf\n",
      "[flaml.automl.logger: 08-23 21:13:51] {2394} INFO -  at 148.5s,\testimator rf's best error=0.0465,\tbest estimator extra_tree's best error=0.0462\n",
      "[flaml.automl.logger: 08-23 21:13:51] {2221} INFO - iteration 135, current learner catboost\n",
      "[flaml.automl.logger: 08-23 21:14:07] {2394} INFO -  at 165.2s,\testimator catboost's best error=0.0465,\tbest estimator extra_tree's best error=0.0462\n",
      "[flaml.automl.logger: 08-23 21:14:07] {2221} INFO - iteration 136, current learner extra_tree\n",
      "[flaml.automl.logger: 08-23 21:14:08] {2394} INFO -  at 165.6s,\testimator extra_tree's best error=0.0462,\tbest estimator extra_tree's best error=0.0462\n",
      "[flaml.automl.logger: 08-23 21:14:08] {2221} INFO - iteration 137, current learner rf\n",
      "[flaml.automl.logger: 08-23 21:14:08] {2394} INFO -  at 166.0s,\testimator rf's best error=0.0465,\tbest estimator extra_tree's best error=0.0462\n",
      "[flaml.automl.logger: 08-23 21:14:08] {2221} INFO - iteration 138, current learner xgb_limitdepth\n",
      "[flaml.automl.logger: 08-23 21:14:09] {2394} INFO -  at 166.9s,\testimator xgb_limitdepth's best error=0.0485,\tbest estimator extra_tree's best error=0.0462\n",
      "[flaml.automl.logger: 08-23 21:14:09] {2221} INFO - iteration 139, current learner rf\n",
      "[flaml.automl.logger: 08-23 21:14:09] {2394} INFO -  at 167.5s,\testimator rf's best error=0.0465,\tbest estimator extra_tree's best error=0.0462\n",
      "[flaml.automl.logger: 08-23 21:14:09] {2221} INFO - iteration 140, current learner xgb_limitdepth\n",
      "[flaml.automl.logger: 08-23 21:14:11] {2394} INFO -  at 168.5s,\testimator xgb_limitdepth's best error=0.0478,\tbest estimator extra_tree's best error=0.0462\n",
      "[flaml.automl.logger: 08-23 21:14:11] {2221} INFO - iteration 141, current learner rf\n",
      "[flaml.automl.logger: 08-23 21:14:11] {2394} INFO -  at 169.2s,\testimator rf's best error=0.0465,\tbest estimator extra_tree's best error=0.0462\n",
      "[flaml.automl.logger: 08-23 21:14:11] {2221} INFO - iteration 142, current learner xgb_limitdepth\n",
      "[flaml.automl.logger: 08-23 21:14:12] {2394} INFO -  at 170.2s,\testimator xgb_limitdepth's best error=0.0478,\tbest estimator extra_tree's best error=0.0462\n",
      "[flaml.automl.logger: 08-23 21:14:12] {2221} INFO - iteration 143, current learner extra_tree\n",
      "[flaml.automl.logger: 08-23 21:14:13] {2394} INFO -  at 170.8s,\testimator extra_tree's best error=0.0462,\tbest estimator extra_tree's best error=0.0462\n",
      "[flaml.automl.logger: 08-23 21:14:13] {2221} INFO - iteration 144, current learner xgb_limitdepth\n",
      "[flaml.automl.logger: 08-23 21:14:14] {2394} INFO -  at 171.5s,\testimator xgb_limitdepth's best error=0.0478,\tbest estimator extra_tree's best error=0.0462\n",
      "[flaml.automl.logger: 08-23 21:14:14] {2221} INFO - iteration 145, current learner xgb_limitdepth\n",
      "[flaml.automl.logger: 08-23 21:14:15] {2394} INFO -  at 173.0s,\testimator xgb_limitdepth's best error=0.0478,\tbest estimator extra_tree's best error=0.0462\n",
      "[flaml.automl.logger: 08-23 21:14:15] {2221} INFO - iteration 146, current learner catboost\n",
      "[flaml.automl.logger: 08-23 21:14:31] {2394} INFO -  at 189.1s,\testimator catboost's best error=0.0465,\tbest estimator extra_tree's best error=0.0462\n",
      "[flaml.automl.logger: 08-23 21:14:31] {2221} INFO - iteration 147, current learner rf\n",
      "[flaml.automl.logger: 08-23 21:14:32] {2394} INFO -  at 189.6s,\testimator rf's best error=0.0465,\tbest estimator extra_tree's best error=0.0462\n",
      "[flaml.automl.logger: 08-23 21:14:32] {2221} INFO - iteration 148, current learner lgbm\n",
      "[flaml.automl.logger: 08-23 21:14:33] {2394} INFO -  at 191.3s,\testimator lgbm's best error=0.0467,\tbest estimator extra_tree's best error=0.0462\n",
      "[flaml.automl.logger: 08-23 21:14:33] {2221} INFO - iteration 149, current learner rf\n",
      "[flaml.automl.logger: 08-23 21:14:34] {2394} INFO -  at 191.8s,\testimator rf's best error=0.0465,\tbest estimator extra_tree's best error=0.0462\n",
      "[flaml.automl.logger: 08-23 21:14:34] {2221} INFO - iteration 150, current learner lgbm\n",
      "[flaml.automl.logger: 08-23 21:14:35] {2394} INFO -  at 193.0s,\testimator lgbm's best error=0.0467,\tbest estimator extra_tree's best error=0.0462\n",
      "[flaml.automl.logger: 08-23 21:14:35] {2221} INFO - iteration 151, current learner rf\n",
      "[flaml.automl.logger: 08-23 21:14:35] {2394} INFO -  at 193.4s,\testimator rf's best error=0.0465,\tbest estimator extra_tree's best error=0.0462\n",
      "[flaml.automl.logger: 08-23 21:14:35] {2221} INFO - iteration 152, current learner rf\n",
      "[flaml.automl.logger: 08-23 21:14:36] {2394} INFO -  at 193.8s,\testimator rf's best error=0.0465,\tbest estimator extra_tree's best error=0.0462\n",
      "[flaml.automl.logger: 08-23 21:14:36] {2221} INFO - iteration 153, current learner extra_tree\n",
      "[flaml.automl.logger: 08-23 21:14:36] {2394} INFO -  at 194.0s,\testimator extra_tree's best error=0.0462,\tbest estimator extra_tree's best error=0.0462\n",
      "[flaml.automl.logger: 08-23 21:14:36] {2221} INFO - iteration 154, current learner catboost\n",
      "[flaml.automl.logger: 08-23 21:14:48] {2394} INFO -  at 206.3s,\testimator catboost's best error=0.0465,\tbest estimator extra_tree's best error=0.0462\n",
      "[flaml.automl.logger: 08-23 21:14:48] {2221} INFO - iteration 155, current learner lgbm\n",
      "[flaml.automl.logger: 08-23 21:14:50] {2394} INFO -  at 208.0s,\testimator lgbm's best error=0.0467,\tbest estimator extra_tree's best error=0.0462\n",
      "[flaml.automl.logger: 08-23 21:14:50] {2221} INFO - iteration 156, current learner rf\n",
      "[flaml.automl.logger: 08-23 21:14:51] {2394} INFO -  at 208.5s,\testimator rf's best error=0.0465,\tbest estimator extra_tree's best error=0.0462\n",
      "[flaml.automl.logger: 08-23 21:14:51] {2221} INFO - iteration 157, current learner extra_tree\n",
      "[flaml.automl.logger: 08-23 21:14:51] {2394} INFO -  at 209.1s,\testimator extra_tree's best error=0.0462,\tbest estimator extra_tree's best error=0.0462\n",
      "[flaml.automl.logger: 08-23 21:14:51] {2221} INFO - iteration 158, current learner catboost\n",
      "[flaml.automl.logger: 08-23 21:15:10] {2394} INFO -  at 228.1s,\testimator catboost's best error=0.0465,\tbest estimator extra_tree's best error=0.0462\n",
      "[flaml.automl.logger: 08-23 21:15:10] {2221} INFO - iteration 159, current learner rf\n",
      "[flaml.automl.logger: 08-23 21:15:10] {2394} INFO -  at 228.5s,\testimator rf's best error=0.0465,\tbest estimator extra_tree's best error=0.0462\n",
      "[flaml.automl.logger: 08-23 21:15:10] {2221} INFO - iteration 160, current learner rf\n",
      "[flaml.automl.logger: 08-23 21:15:11] {2394} INFO -  at 229.1s,\testimator rf's best error=0.0465,\tbest estimator extra_tree's best error=0.0462\n",
      "[flaml.automl.logger: 08-23 21:15:11] {2221} INFO - iteration 161, current learner extra_tree\n",
      "[flaml.automl.logger: 08-23 21:15:11] {2394} INFO -  at 229.5s,\testimator extra_tree's best error=0.0462,\tbest estimator extra_tree's best error=0.0462\n",
      "[flaml.automl.logger: 08-23 21:15:11] {2221} INFO - iteration 162, current learner rf\n",
      "[flaml.automl.logger: 08-23 21:15:12] {2394} INFO -  at 230.0s,\testimator rf's best error=0.0465,\tbest estimator extra_tree's best error=0.0462\n",
      "[flaml.automl.logger: 08-23 21:15:12] {2221} INFO - iteration 163, current learner extra_tree\n",
      "[flaml.automl.logger: 08-23 21:15:12] {2394} INFO -  at 230.4s,\testimator extra_tree's best error=0.0462,\tbest estimator extra_tree's best error=0.0462\n",
      "[flaml.automl.logger: 08-23 21:15:12] {2221} INFO - iteration 164, current learner extra_tree\n",
      "[flaml.automl.logger: 08-23 21:15:13] {2394} INFO -  at 230.9s,\testimator extra_tree's best error=0.0462,\tbest estimator extra_tree's best error=0.0462\n",
      "[flaml.automl.logger: 08-23 21:15:13] {2221} INFO - iteration 165, current learner extra_tree\n",
      "[flaml.automl.logger: 08-23 21:15:13] {2394} INFO -  at 231.2s,\testimator extra_tree's best error=0.0462,\tbest estimator extra_tree's best error=0.0462\n",
      "[flaml.automl.logger: 08-23 21:15:13] {2221} INFO - iteration 166, current learner rf\n",
      "[flaml.automl.logger: 08-23 21:15:14] {2394} INFO -  at 231.5s,\testimator rf's best error=0.0465,\tbest estimator extra_tree's best error=0.0462\n",
      "[flaml.automl.logger: 08-23 21:15:14] {2221} INFO - iteration 167, current learner rf\n",
      "[flaml.automl.logger: 08-23 21:15:14] {2394} INFO -  at 232.0s,\testimator rf's best error=0.0465,\tbest estimator extra_tree's best error=0.0462\n",
      "[flaml.automl.logger: 08-23 21:15:14] {2221} INFO - iteration 168, current learner extra_tree\n",
      "[flaml.automl.logger: 08-23 21:15:14] {2394} INFO -  at 232.3s,\testimator extra_tree's best error=0.0462,\tbest estimator extra_tree's best error=0.0462\n",
      "[flaml.automl.logger: 08-23 21:15:14] {2221} INFO - iteration 169, current learner extra_tree\n",
      "[flaml.automl.logger: 08-23 21:15:15] {2394} INFO -  at 232.8s,\testimator extra_tree's best error=0.0462,\tbest estimator extra_tree's best error=0.0462\n",
      "[flaml.automl.logger: 08-23 21:15:15] {2221} INFO - iteration 170, current learner rf\n",
      "[flaml.automl.logger: 08-23 21:15:15] {2394} INFO -  at 233.2s,\testimator rf's best error=0.0465,\tbest estimator extra_tree's best error=0.0462\n",
      "[flaml.automl.logger: 08-23 21:15:15] {2221} INFO - iteration 171, current learner lgbm\n",
      "[flaml.automl.logger: 08-23 21:15:16] {2394} INFO -  at 234.2s,\testimator lgbm's best error=0.0467,\tbest estimator extra_tree's best error=0.0462\n",
      "[flaml.automl.logger: 08-23 21:15:16] {2221} INFO - iteration 172, current learner lgbm\n",
      "[flaml.automl.logger: 08-23 21:15:18] {2394} INFO -  at 235.6s,\testimator lgbm's best error=0.0467,\tbest estimator extra_tree's best error=0.0462\n",
      "[flaml.automl.logger: 08-23 21:15:18] {2221} INFO - iteration 173, current learner rf\n",
      "[flaml.automl.logger: 08-23 21:15:18] {2394} INFO -  at 236.0s,\testimator rf's best error=0.0465,\tbest estimator extra_tree's best error=0.0462\n",
      "[flaml.automl.logger: 08-23 21:15:18] {2221} INFO - iteration 174, current learner extra_tree\n",
      "[flaml.automl.logger: 08-23 21:15:18] {2394} INFO -  at 236.4s,\testimator extra_tree's best error=0.0462,\tbest estimator extra_tree's best error=0.0462\n",
      "[flaml.automl.logger: 08-23 21:15:18] {2221} INFO - iteration 175, current learner extra_tree\n",
      "[flaml.automl.logger: 08-23 21:15:19] {2394} INFO -  at 236.9s,\testimator extra_tree's best error=0.0462,\tbest estimator extra_tree's best error=0.0462\n",
      "[flaml.automl.logger: 08-23 21:15:19] {2221} INFO - iteration 176, current learner rf\n",
      "[flaml.automl.logger: 08-23 21:15:19] {2394} INFO -  at 237.4s,\testimator rf's best error=0.0465,\tbest estimator extra_tree's best error=0.0462\n",
      "[flaml.automl.logger: 08-23 21:15:19] {2221} INFO - iteration 177, current learner extra_tree\n",
      "[flaml.automl.logger: 08-23 21:15:20] {2394} INFO -  at 238.0s,\testimator extra_tree's best error=0.0462,\tbest estimator extra_tree's best error=0.0462\n",
      "[flaml.automl.logger: 08-23 21:15:20] {2221} INFO - iteration 178, current learner extra_tree\n",
      "[flaml.automl.logger: 08-23 21:15:20] {2394} INFO -  at 238.2s,\testimator extra_tree's best error=0.0462,\tbest estimator extra_tree's best error=0.0462\n",
      "[flaml.automl.logger: 08-23 21:15:20] {2221} INFO - iteration 179, current learner rf\n",
      "[flaml.automl.logger: 08-23 21:15:20] {2394} INFO -  at 238.5s,\testimator rf's best error=0.0465,\tbest estimator extra_tree's best error=0.0462\n",
      "[flaml.automl.logger: 08-23 21:15:20] {2221} INFO - iteration 180, current learner rf\n",
      "[flaml.automl.logger: 08-23 21:15:21] {2394} INFO -  at 239.2s,\testimator rf's best error=0.0465,\tbest estimator extra_tree's best error=0.0462\n",
      "[flaml.automl.logger: 08-23 21:15:21] {2221} INFO - iteration 181, current learner extra_tree\n",
      "[flaml.automl.logger: 08-23 21:15:22] {2394} INFO -  at 239.6s,\testimator extra_tree's best error=0.0462,\tbest estimator extra_tree's best error=0.0462\n",
      "[flaml.automl.logger: 08-23 21:15:22] {2221} INFO - iteration 182, current learner lrl1\n",
      "[flaml.automl.logger: 08-23 21:15:22] {2394} INFO -  at 240.2s,\testimator lrl1's best error=0.6316,\tbest estimator extra_tree's best error=0.0462\n",
      "[flaml.automl.logger: 08-23 21:15:22] {2630} INFO - retrain extra_tree for 0.1s\n",
      "[flaml.automl.logger: 08-23 21:15:22] {2633} INFO - retrained model: ExtraTreesClassifier(criterion='entropy', max_features=0.45450215891045476,\n",
      "                     max_leaf_nodes=54, n_estimators=42, n_jobs=-1,\n",
      "                     random_state=12032022)\n",
      "[flaml.automl.logger: 08-23 21:15:22] {1941} INFO - fit succeeded\n",
      "[flaml.automl.logger: 08-23 21:15:22] {1942} INFO - Time taken to find the best model: 32.23477578163147\n"
     ]
    }
   ],
   "source": [
    "from flaml import AutoML\n",
    "\n",
    "automl = AutoML()\n",
    "settings = {\n",
    "    'time_budget': 240,\n",
    "    'metric': 'accuracy',\n",
    "    'task': 'classification',\n",
    "    'seed': 42\n",
    "}\n",
    "\n",
    "automl.fit(X_train, y_train, **settings)"
   ]
  },
  {
   "cell_type": "code",
   "execution_count": 18,
   "id": "de348685-75c7-45ce-8836-fd967174f7a1",
   "metadata": {
    "tags": []
   },
   "outputs": [
    {
     "name": "stdout",
     "output_type": "stream",
     "text": [
      "[[3.84720525e-03 1.58843930e-02 1.77434235e-02 ... 9.27205857e-01\n",
      "  1.74749380e-02 1.65406812e-03]\n",
      " [1.10375292e-02 6.21260458e-03 4.90752675e-03 ... 9.68316296e-03\n",
      "  3.70239459e-02 6.24548940e-03]\n",
      " [3.51838830e-02 1.06558899e-02 8.97563120e-01 ... 8.71580466e-03\n",
      "  2.38842115e-02 3.16115924e-03]\n",
      " ...\n",
      " [2.18393444e-02 1.97329248e-02 3.77539597e-02 ... 3.12872505e-02\n",
      "  8.57421017e-01 3.27162258e-03]\n",
      " [9.46562420e-03 9.57313430e-01 9.19319353e-04 ... 6.11695000e-03\n",
      "  3.96958080e-03 9.63771442e-03]\n",
      " [2.31475395e-03 1.36531118e-02 4.40067878e-03 ... 4.76707287e-03\n",
      "  8.22442836e-03 9.41853861e-01]]\n",
      "ExtraTreesClassifier(criterion='entropy', max_features=0.45450215891045476,\n",
      "                     max_leaf_nodes=54, n_estimators=42, n_jobs=-1,\n",
      "                     random_state=12032022)\n"
     ]
    }
   ],
   "source": [
    "# Predict\n",
    "print(automl.predict_proba(X_train))\n",
    "# Print the best model\n",
    "print(automl.model.estimator)"
   ]
  },
  {
   "cell_type": "code",
   "execution_count": 19,
   "id": "89feda5d-15b2-40a1-8fdf-bd2a8574e4a0",
   "metadata": {
    "tags": []
   },
   "outputs": [
    {
     "name": "stdout",
     "output_type": "stream",
     "text": [
      "Best ML leaner: extra_tree\n",
      "Best hyperparmeter config: {'n_estimators': 42, 'max_features': 0.45450215891045476, 'max_leaves': 54, 'criterion': 'entropy'}\n",
      "Best accuracy on validation data: 0.9538\n",
      "Training duration of best run: 0.09202 s\n"
     ]
    }
   ],
   "source": [
    "'''retrieve best config and best learner'''\n",
    "print('Best ML leaner:', automl.best_estimator)\n",
    "print('Best hyperparmeter config:', automl.best_config)\n",
    "print('Best accuracy on validation data: {0:.4g}'.format(1-automl.best_loss))\n",
    "print('Training duration of best run: {0:.4g} s'.format(automl.best_config_train_time))"
   ]
  },
  {
   "cell_type": "code",
   "execution_count": 20,
   "id": "53fc93f7-604d-4098-977f-be6bc6e75d0f",
   "metadata": {
    "tags": []
   },
   "outputs": [
    {
     "data": {
      "text/html": [
       "<style>#sk-container-id-2 {color: black;background-color: white;}#sk-container-id-2 pre{padding: 0;}#sk-container-id-2 div.sk-toggleable {background-color: white;}#sk-container-id-2 label.sk-toggleable__label {cursor: pointer;display: block;width: 100%;margin-bottom: 0;padding: 0.3em;box-sizing: border-box;text-align: center;}#sk-container-id-2 label.sk-toggleable__label-arrow:before {content: \"▸\";float: left;margin-right: 0.25em;color: #696969;}#sk-container-id-2 label.sk-toggleable__label-arrow:hover:before {color: black;}#sk-container-id-2 div.sk-estimator:hover label.sk-toggleable__label-arrow:before {color: black;}#sk-container-id-2 div.sk-toggleable__content {max-height: 0;max-width: 0;overflow: hidden;text-align: left;background-color: #f0f8ff;}#sk-container-id-2 div.sk-toggleable__content pre {margin: 0.2em;color: black;border-radius: 0.25em;background-color: #f0f8ff;}#sk-container-id-2 input.sk-toggleable__control:checked~div.sk-toggleable__content {max-height: 200px;max-width: 100%;overflow: auto;}#sk-container-id-2 input.sk-toggleable__control:checked~label.sk-toggleable__label-arrow:before {content: \"▾\";}#sk-container-id-2 div.sk-estimator input.sk-toggleable__control:checked~label.sk-toggleable__label {background-color: #d4ebff;}#sk-container-id-2 div.sk-label input.sk-toggleable__control:checked~label.sk-toggleable__label {background-color: #d4ebff;}#sk-container-id-2 input.sk-hidden--visually {border: 0;clip: rect(1px 1px 1px 1px);clip: rect(1px, 1px, 1px, 1px);height: 1px;margin: -1px;overflow: hidden;padding: 0;position: absolute;width: 1px;}#sk-container-id-2 div.sk-estimator {font-family: monospace;background-color: #f0f8ff;border: 1px dotted black;border-radius: 0.25em;box-sizing: border-box;margin-bottom: 0.5em;}#sk-container-id-2 div.sk-estimator:hover {background-color: #d4ebff;}#sk-container-id-2 div.sk-parallel-item::after {content: \"\";width: 100%;border-bottom: 1px solid gray;flex-grow: 1;}#sk-container-id-2 div.sk-label:hover label.sk-toggleable__label {background-color: #d4ebff;}#sk-container-id-2 div.sk-serial::before {content: \"\";position: absolute;border-left: 1px solid gray;box-sizing: border-box;top: 0;bottom: 0;left: 50%;z-index: 0;}#sk-container-id-2 div.sk-serial {display: flex;flex-direction: column;align-items: center;background-color: white;padding-right: 0.2em;padding-left: 0.2em;position: relative;}#sk-container-id-2 div.sk-item {position: relative;z-index: 1;}#sk-container-id-2 div.sk-parallel {display: flex;align-items: stretch;justify-content: center;background-color: white;position: relative;}#sk-container-id-2 div.sk-item::before, #sk-container-id-2 div.sk-parallel-item::before {content: \"\";position: absolute;border-left: 1px solid gray;box-sizing: border-box;top: 0;bottom: 0;left: 50%;z-index: -1;}#sk-container-id-2 div.sk-parallel-item {display: flex;flex-direction: column;z-index: 1;position: relative;background-color: white;}#sk-container-id-2 div.sk-parallel-item:first-child::after {align-self: flex-end;width: 50%;}#sk-container-id-2 div.sk-parallel-item:last-child::after {align-self: flex-start;width: 50%;}#sk-container-id-2 div.sk-parallel-item:only-child::after {width: 0;}#sk-container-id-2 div.sk-dashed-wrapped {border: 1px dashed gray;margin: 0 0.4em 0.5em 0.4em;box-sizing: border-box;padding-bottom: 0.4em;background-color: white;}#sk-container-id-2 div.sk-label label {font-family: monospace;font-weight: bold;display: inline-block;line-height: 1.2em;}#sk-container-id-2 div.sk-label-container {text-align: center;}#sk-container-id-2 div.sk-container {/* jupyter's `normalize.less` sets `[hidden] { display: none; }` but bootstrap.min.css set `[hidden] { display: none !important; }` so we also need the `!important` here to be able to override the default hidden behavior on the sphinx rendered scikit-learn.org. See: https://github.com/scikit-learn/scikit-learn/issues/21755 */display: inline-block !important;position: relative;}#sk-container-id-2 div.sk-text-repr-fallback {display: none;}</style><div id=\"sk-container-id-2\" class=\"sk-top-container\"><div class=\"sk-text-repr-fallback\"><pre>ExtraTreesClassifier(criterion=&#x27;entropy&#x27;, max_features=0.45450215891045476,\n",
       "                     max_leaf_nodes=54, n_estimators=42, n_jobs=-1,\n",
       "                     random_state=12032022)</pre><b>In a Jupyter environment, please rerun this cell to show the HTML representation or trust the notebook. <br />On GitHub, the HTML representation is unable to render, please try loading this page with nbviewer.org.</b></div><div class=\"sk-container\" hidden><div class=\"sk-item\"><div class=\"sk-estimator sk-toggleable\"><input class=\"sk-toggleable__control sk-hidden--visually\" id=\"sk-estimator-id-8\" type=\"checkbox\" checked><label for=\"sk-estimator-id-8\" class=\"sk-toggleable__label sk-toggleable__label-arrow\">ExtraTreesClassifier</label><div class=\"sk-toggleable__content\"><pre>ExtraTreesClassifier(criterion=&#x27;entropy&#x27;, max_features=0.45450215891045476,\n",
       "                     max_leaf_nodes=54, n_estimators=42, n_jobs=-1,\n",
       "                     random_state=12032022)</pre></div></div></div></div></div>"
      ],
      "text/plain": [
       "ExtraTreesClassifier(criterion='entropy', max_features=0.45450215891045476,\n",
       "                     max_leaf_nodes=54, n_estimators=42, n_jobs=-1,\n",
       "                     random_state=12032022)"
      ]
     },
     "execution_count": 20,
     "metadata": {},
     "output_type": "execute_result"
    }
   ],
   "source": [
    "automl.model.estimator"
   ]
  },
  {
   "cell_type": "code",
   "execution_count": 21,
   "id": "70cfa66f-c883-4a97-9f0f-2fd5a3ea02d6",
   "metadata": {
    "tags": []
   },
   "outputs": [
    {
     "name": "stdout",
     "output_type": "stream",
     "text": [
      "Predicted labels ['obek_1' 'obek_1' 'obek_4' ... 'obek_5' 'obek_3' 'obek_3']\n",
      "True labels 1389    obek_1\n",
      "4374    obek_1\n",
      "5369    obek_4\n",
      "4639    obek_6\n",
      "2624    obek_4\n",
      "         ...  \n",
      "5113    obek_5\n",
      "4852    obek_5\n",
      "427     obek_5\n",
      "4468    obek_3\n",
      "5416    obek_3\n",
      "Name: Öbek İsmi, Length: 1092, dtype: object\n"
     ]
    }
   ],
   "source": [
    "'''compute predictions of testing dataset''' \n",
    "y_pred = automl.predict(X_test)\n",
    "print('Predicted labels', y_pred)\n",
    "print('True labels', y_test)\n",
    "y_pred_proba = automl.predict_proba(X_test)[:,1]"
   ]
  },
  {
   "cell_type": "code",
   "execution_count": 22,
   "id": "08502c23-34c1-48d1-a4ca-5624f0398c2f",
   "metadata": {
    "collapsed": true,
    "jupyter": {
     "outputs_hidden": true
    },
    "tags": []
   },
   "outputs": [
    {
     "name": "stdout",
     "output_type": "stream",
     "text": [
      "accuracy = 0.9587912087912088\n"
     ]
    },
    {
     "ename": "ValueError",
     "evalue": "multi_class must be in ('ovo', 'ovr')",
     "output_type": "error",
     "traceback": [
      "\u001b[1;31m---------------------------------------------------------------------------\u001b[0m",
      "\u001b[1;31mValueError\u001b[0m                                Traceback (most recent call last)",
      "\u001b[1;32m~\\AppData\\Local\\Temp\\ipykernel_7112\\461625124.py\u001b[0m in \u001b[0;36m<cell line: 0>\u001b[1;34m()\u001b[0m\n\u001b[0;32m      2\u001b[0m \u001b[1;32mfrom\u001b[0m \u001b[0mflaml\u001b[0m\u001b[1;33m.\u001b[0m\u001b[0mml\u001b[0m \u001b[1;32mimport\u001b[0m \u001b[0msklearn_metric_loss_score\u001b[0m\u001b[1;33m\u001b[0m\u001b[1;33m\u001b[0m\u001b[0m\n\u001b[0;32m      3\u001b[0m \u001b[0mprint\u001b[0m\u001b[1;33m(\u001b[0m\u001b[1;34m'accuracy'\u001b[0m\u001b[1;33m,\u001b[0m \u001b[1;34m'='\u001b[0m\u001b[1;33m,\u001b[0m \u001b[1;36m1\u001b[0m \u001b[1;33m-\u001b[0m \u001b[0msklearn_metric_loss_score\u001b[0m\u001b[1;33m(\u001b[0m\u001b[1;34m'accuracy'\u001b[0m\u001b[1;33m,\u001b[0m \u001b[0my_pred\u001b[0m\u001b[1;33m,\u001b[0m \u001b[0my_test\u001b[0m\u001b[1;33m)\u001b[0m\u001b[1;33m)\u001b[0m\u001b[1;33m\u001b[0m\u001b[1;33m\u001b[0m\u001b[0m\n\u001b[1;32m----> 4\u001b[1;33m \u001b[0mprint\u001b[0m\u001b[1;33m(\u001b[0m\u001b[1;34m'roc_auc'\u001b[0m\u001b[1;33m,\u001b[0m \u001b[1;34m'='\u001b[0m\u001b[1;33m,\u001b[0m \u001b[1;36m1\u001b[0m \u001b[1;33m-\u001b[0m \u001b[0msklearn_metric_loss_score\u001b[0m\u001b[1;33m(\u001b[0m\u001b[1;34m'roc_auc'\u001b[0m\u001b[1;33m,\u001b[0m \u001b[0my_pred_proba\u001b[0m\u001b[1;33m,\u001b[0m \u001b[0my_test\u001b[0m\u001b[1;33m)\u001b[0m\u001b[1;33m)\u001b[0m\u001b[1;33m\u001b[0m\u001b[1;33m\u001b[0m\u001b[0m\n\u001b[0m\u001b[0;32m      5\u001b[0m \u001b[0mprint\u001b[0m\u001b[1;33m(\u001b[0m\u001b[1;34m'log_loss'\u001b[0m\u001b[1;33m,\u001b[0m \u001b[1;34m'='\u001b[0m\u001b[1;33m,\u001b[0m \u001b[0msklearn_metric_loss_score\u001b[0m\u001b[1;33m(\u001b[0m\u001b[1;34m'log_loss'\u001b[0m\u001b[1;33m,\u001b[0m \u001b[0my_pred_proba\u001b[0m\u001b[1;33m,\u001b[0m \u001b[0my_test\u001b[0m\u001b[1;33m)\u001b[0m\u001b[1;33m)\u001b[0m\u001b[1;33m\u001b[0m\u001b[1;33m\u001b[0m\u001b[0m\n",
      "\u001b[1;32m~\\anaconda3\\envs\\project_env2\\Lib\\site-packages\\flaml\\automl\\ml.py\u001b[0m in \u001b[0;36msklearn_metric_loss_score\u001b[1;34m(metric_name, y_predict, y_true, labels, sample_weight, groups)\u001b[0m\n\u001b[0;32m    297\u001b[0m         \u001b[0mscore\u001b[0m \u001b[1;33m=\u001b[0m \u001b[1;36m1.0\u001b[0m \u001b[1;33m-\u001b[0m \u001b[0maccuracy_score\u001b[0m\u001b[1;33m(\u001b[0m\u001b[0my_true\u001b[0m\u001b[1;33m,\u001b[0m \u001b[0my_predict\u001b[0m\u001b[1;33m,\u001b[0m \u001b[0msample_weight\u001b[0m\u001b[1;33m=\u001b[0m\u001b[0msample_weight\u001b[0m\u001b[1;33m)\u001b[0m\u001b[1;33m\u001b[0m\u001b[1;33m\u001b[0m\u001b[0m\n\u001b[0;32m    298\u001b[0m     \u001b[1;32melif\u001b[0m \u001b[0mmetric_name\u001b[0m \u001b[1;33m==\u001b[0m \u001b[1;34m\"roc_auc\"\u001b[0m\u001b[1;33m:\u001b[0m\u001b[1;33m\u001b[0m\u001b[1;33m\u001b[0m\u001b[0m\n\u001b[1;32m--> 299\u001b[1;33m         \u001b[0mscore\u001b[0m \u001b[1;33m=\u001b[0m \u001b[1;36m1.0\u001b[0m \u001b[1;33m-\u001b[0m \u001b[0mroc_auc_score\u001b[0m\u001b[1;33m(\u001b[0m\u001b[0my_true\u001b[0m\u001b[1;33m,\u001b[0m \u001b[0my_predict\u001b[0m\u001b[1;33m,\u001b[0m \u001b[0msample_weight\u001b[0m\u001b[1;33m=\u001b[0m\u001b[0msample_weight\u001b[0m\u001b[1;33m)\u001b[0m\u001b[1;33m\u001b[0m\u001b[1;33m\u001b[0m\u001b[0m\n\u001b[0m\u001b[0;32m    300\u001b[0m     \u001b[1;32melif\u001b[0m \u001b[0mmetric_name\u001b[0m \u001b[1;33m==\u001b[0m \u001b[1;34m\"roc_auc_ovr\"\u001b[0m\u001b[1;33m:\u001b[0m\u001b[1;33m\u001b[0m\u001b[1;33m\u001b[0m\u001b[0m\n\u001b[0;32m    301\u001b[0m         \u001b[0mscore\u001b[0m \u001b[1;33m=\u001b[0m \u001b[1;36m1.0\u001b[0m \u001b[1;33m-\u001b[0m \u001b[0mroc_auc_score\u001b[0m\u001b[1;33m(\u001b[0m\u001b[0my_true\u001b[0m\u001b[1;33m,\u001b[0m \u001b[0my_predict\u001b[0m\u001b[1;33m,\u001b[0m \u001b[0msample_weight\u001b[0m\u001b[1;33m=\u001b[0m\u001b[0msample_weight\u001b[0m\u001b[1;33m,\u001b[0m \u001b[0mmulti_class\u001b[0m\u001b[1;33m=\u001b[0m\u001b[1;34m\"ovr\"\u001b[0m\u001b[1;33m)\u001b[0m\u001b[1;33m\u001b[0m\u001b[1;33m\u001b[0m\u001b[0m\n",
      "\u001b[1;32m~\\anaconda3\\envs\\project_env2\\Lib\\site-packages\\sklearn\\metrics\\_ranking.py\u001b[0m in \u001b[0;36mroc_auc_score\u001b[1;34m(y_true, y_score, average, sample_weight, max_fpr, multi_class, labels)\u001b[0m\n\u001b[0;32m    563\u001b[0m             )\n\u001b[0;32m    564\u001b[0m         \u001b[1;32mif\u001b[0m \u001b[0mmulti_class\u001b[0m \u001b[1;33m==\u001b[0m \u001b[1;34m\"raise\"\u001b[0m\u001b[1;33m:\u001b[0m\u001b[1;33m\u001b[0m\u001b[1;33m\u001b[0m\u001b[0m\n\u001b[1;32m--> 565\u001b[1;33m             \u001b[1;32mraise\u001b[0m \u001b[0mValueError\u001b[0m\u001b[1;33m(\u001b[0m\u001b[1;34m\"multi_class must be in ('ovo', 'ovr')\"\u001b[0m\u001b[1;33m)\u001b[0m\u001b[1;33m\u001b[0m\u001b[1;33m\u001b[0m\u001b[0m\n\u001b[0m\u001b[0;32m    566\u001b[0m         return _multiclass_roc_auc_score(\n\u001b[0;32m    567\u001b[0m             \u001b[0my_true\u001b[0m\u001b[1;33m,\u001b[0m \u001b[0my_score\u001b[0m\u001b[1;33m,\u001b[0m \u001b[0mlabels\u001b[0m\u001b[1;33m,\u001b[0m \u001b[0mmulti_class\u001b[0m\u001b[1;33m,\u001b[0m \u001b[0maverage\u001b[0m\u001b[1;33m,\u001b[0m \u001b[0msample_weight\u001b[0m\u001b[1;33m\u001b[0m\u001b[1;33m\u001b[0m\u001b[0m\n",
      "\u001b[1;31mValueError\u001b[0m: multi_class must be in ('ovo', 'ovr')"
     ]
    }
   ],
   "source": [
    "''' compute different metric values on testing dataset'''\n",
    "from flaml.ml import sklearn_metric_loss_score\n",
    "print('accuracy', '=', 1 - sklearn_metric_loss_score('accuracy', y_pred, y_test))\n",
    "print('roc_auc', '=', 1 - sklearn_metric_loss_score('roc_auc', y_pred_proba, y_test))\n",
    "print('log_loss', '=', sklearn_metric_loss_score('log_loss', y_pred_proba, y_test))"
   ]
  },
  {
   "cell_type": "code",
   "execution_count": 25,
   "id": "5392bc87-fbe3-41fe-8680-9cd7dd24dbbc",
   "metadata": {
    "collapsed": true,
    "jupyter": {
     "outputs_hidden": true
    },
    "tags": []
   },
   "outputs": [
    {
     "name": "stdout",
     "output_type": "stream",
     "text": [
      "Test_Set\n",
      "[[131   1   3   0   0   0   1   2]\n",
      " [  0 104   2   0   0   0   1   2]\n",
      " [  0   0 135   0   1   3   0   0]\n",
      " [  1   0   2 137   0   1   2   1]\n",
      " [  1   1   1   1 134   2   0   1]\n",
      " [  1   1   0   0   0 133   2   1]\n",
      " [  1   1   1   0   0   1 135   0]\n",
      " [  0   0   2   2   0   0   2 138]]\n",
      "              precision    recall  f1-score   support\n",
      "\n",
      "      obek_1       0.97      0.95      0.96       138\n",
      "      obek_2       0.96      0.95      0.96       109\n",
      "      obek_3       0.92      0.97      0.95       139\n",
      "      obek_4       0.98      0.95      0.96       144\n",
      "      obek_5       0.99      0.95      0.97       141\n",
      "      obek_6       0.95      0.96      0.96       138\n",
      "      obek_7       0.94      0.97      0.96       139\n",
      "      obek_8       0.95      0.96      0.96       144\n",
      "\n",
      "    accuracy                           0.96      1092\n",
      "   macro avg       0.96      0.96      0.96      1092\n",
      "weighted avg       0.96      0.96      0.96      1092\n",
      "\n",
      "\n",
      "Train_Set\n",
      "[[527   1   5   8   4   3   5   1]\n",
      " [  3 412   2   2   3   7   6   3]\n",
      " [  5   0 536   1   1   5   6   2]\n",
      " [  4   2   9 537   8   5   3   8]\n",
      " [  4   0   2   2 547   3   2   5]\n",
      " [  3   3   3   4   2 529   3   3]\n",
      " [  3   3   9   6   2   4 525   4]\n",
      " [  3   4   2   4   6   1   1 552]]\n",
      "              precision    recall  f1-score   support\n",
      "\n",
      "      obek_1       0.95      0.95      0.95       554\n",
      "      obek_2       0.97      0.94      0.95       438\n",
      "      obek_3       0.94      0.96      0.95       556\n",
      "      obek_4       0.95      0.93      0.94       576\n",
      "      obek_5       0.95      0.97      0.96       565\n",
      "      obek_6       0.95      0.96      0.96       550\n",
      "      obek_7       0.95      0.94      0.95       556\n",
      "      obek_8       0.96      0.96      0.96       573\n",
      "\n",
      "    accuracy                           0.95      4368\n",
      "   macro avg       0.95      0.95      0.95      4368\n",
      "weighted avg       0.95      0.95      0.95      4368\n",
      "\n"
     ]
    }
   ],
   "source": [
    "eval_metric(automl, X_train, y_train, X_test, y_test)"
   ]
  },
  {
   "cell_type": "markdown",
   "id": "9ec03de5-d3ce-430f-b262-43e02bc1a883",
   "metadata": {},
   "source": [
    "# ------------------------------"
   ]
  },
  {
   "cell_type": "code",
   "execution_count": 53,
   "id": "1f7ebc9f-d326-4d6a-83cf-851ec18082cf",
   "metadata": {
    "tags": []
   },
   "outputs": [],
   "source": [
    "train = pd.read_csv('train.csv')\n",
    "test = pd.read_csv('test_x.csv')\n",
    "\n",
    "df = train.copy()"
   ]
  },
  {
   "cell_type": "code",
   "execution_count": 54,
   "id": "e7493ec1-209a-4e13-8c31-19a37602672c",
   "metadata": {
    "tags": []
   },
   "outputs": [],
   "source": [
    "from sklearn.model_selection import train_test_split\n",
    "\n",
    "X = df.drop([\"Öbek İsmi\", 'Yıllık Ortalama Sepete Atılan Ürün Adedi', 'Eğitime Devam Etme Durumu'], axis=1)\n",
    "y = df[\"Öbek İsmi\"]\n",
    "\n",
    "X_train, X_test, y_train, y_test = train_test_split(X, y, test_size=0.2, stratify=y, random_state=42)"
   ]
  },
  {
   "cell_type": "code",
   "execution_count": 57,
   "id": "69d1cd88-4a21-4e11-94a3-0e96f4fb794c",
   "metadata": {
    "tags": []
   },
   "outputs": [],
   "source": [
    "ord_enc = OrdinalEncoder(handle_unknown='use_encoded_value', \n",
    "                         unknown_value=-1)\n",
    "\n",
    "column_trans = make_column_transformer((ord_enc, cat), \n",
    "                                       remainder='passthrough')"
   ]
  },
  {
   "cell_type": "code",
   "execution_count": 58,
   "id": "e9314995-7dc6-45e3-b941-3f23193f6c9a",
   "metadata": {
    "tags": []
   },
   "outputs": [
    {
     "data": {
      "text/html": [
       "<style>#sk-container-id-8 {color: black;background-color: white;}#sk-container-id-8 pre{padding: 0;}#sk-container-id-8 div.sk-toggleable {background-color: white;}#sk-container-id-8 label.sk-toggleable__label {cursor: pointer;display: block;width: 100%;margin-bottom: 0;padding: 0.3em;box-sizing: border-box;text-align: center;}#sk-container-id-8 label.sk-toggleable__label-arrow:before {content: \"▸\";float: left;margin-right: 0.25em;color: #696969;}#sk-container-id-8 label.sk-toggleable__label-arrow:hover:before {color: black;}#sk-container-id-8 div.sk-estimator:hover label.sk-toggleable__label-arrow:before {color: black;}#sk-container-id-8 div.sk-toggleable__content {max-height: 0;max-width: 0;overflow: hidden;text-align: left;background-color: #f0f8ff;}#sk-container-id-8 div.sk-toggleable__content pre {margin: 0.2em;color: black;border-radius: 0.25em;background-color: #f0f8ff;}#sk-container-id-8 input.sk-toggleable__control:checked~div.sk-toggleable__content {max-height: 200px;max-width: 100%;overflow: auto;}#sk-container-id-8 input.sk-toggleable__control:checked~label.sk-toggleable__label-arrow:before {content: \"▾\";}#sk-container-id-8 div.sk-estimator input.sk-toggleable__control:checked~label.sk-toggleable__label {background-color: #d4ebff;}#sk-container-id-8 div.sk-label input.sk-toggleable__control:checked~label.sk-toggleable__label {background-color: #d4ebff;}#sk-container-id-8 input.sk-hidden--visually {border: 0;clip: rect(1px 1px 1px 1px);clip: rect(1px, 1px, 1px, 1px);height: 1px;margin: -1px;overflow: hidden;padding: 0;position: absolute;width: 1px;}#sk-container-id-8 div.sk-estimator {font-family: monospace;background-color: #f0f8ff;border: 1px dotted black;border-radius: 0.25em;box-sizing: border-box;margin-bottom: 0.5em;}#sk-container-id-8 div.sk-estimator:hover {background-color: #d4ebff;}#sk-container-id-8 div.sk-parallel-item::after {content: \"\";width: 100%;border-bottom: 1px solid gray;flex-grow: 1;}#sk-container-id-8 div.sk-label:hover label.sk-toggleable__label {background-color: #d4ebff;}#sk-container-id-8 div.sk-serial::before {content: \"\";position: absolute;border-left: 1px solid gray;box-sizing: border-box;top: 0;bottom: 0;left: 50%;z-index: 0;}#sk-container-id-8 div.sk-serial {display: flex;flex-direction: column;align-items: center;background-color: white;padding-right: 0.2em;padding-left: 0.2em;position: relative;}#sk-container-id-8 div.sk-item {position: relative;z-index: 1;}#sk-container-id-8 div.sk-parallel {display: flex;align-items: stretch;justify-content: center;background-color: white;position: relative;}#sk-container-id-8 div.sk-item::before, #sk-container-id-8 div.sk-parallel-item::before {content: \"\";position: absolute;border-left: 1px solid gray;box-sizing: border-box;top: 0;bottom: 0;left: 50%;z-index: -1;}#sk-container-id-8 div.sk-parallel-item {display: flex;flex-direction: column;z-index: 1;position: relative;background-color: white;}#sk-container-id-8 div.sk-parallel-item:first-child::after {align-self: flex-end;width: 50%;}#sk-container-id-8 div.sk-parallel-item:last-child::after {align-self: flex-start;width: 50%;}#sk-container-id-8 div.sk-parallel-item:only-child::after {width: 0;}#sk-container-id-8 div.sk-dashed-wrapped {border: 1px dashed gray;margin: 0 0.4em 0.5em 0.4em;box-sizing: border-box;padding-bottom: 0.4em;background-color: white;}#sk-container-id-8 div.sk-label label {font-family: monospace;font-weight: bold;display: inline-block;line-height: 1.2em;}#sk-container-id-8 div.sk-label-container {text-align: center;}#sk-container-id-8 div.sk-container {/* jupyter's `normalize.less` sets `[hidden] { display: none; }` but bootstrap.min.css set `[hidden] { display: none !important; }` so we also need the `!important` here to be able to override the default hidden behavior on the sphinx rendered scikit-learn.org. See: https://github.com/scikit-learn/scikit-learn/issues/21755 */display: inline-block !important;position: relative;}#sk-container-id-8 div.sk-text-repr-fallback {display: none;}</style><div id=\"sk-container-id-8\" class=\"sk-top-container\"><div class=\"sk-text-repr-fallback\"><pre>Pipeline(steps=[(&#x27;OrdinalEncoder&#x27;,\n",
       "                 ColumnTransformer(remainder=&#x27;passthrough&#x27;,\n",
       "                                   transformers=[(&#x27;ordinalencoder&#x27;,\n",
       "                                                  OrdinalEncoder(handle_unknown=&#x27;use_encoded_value&#x27;,\n",
       "                                                                 unknown_value=-1),\n",
       "                                                  Index([&#x27;Cinsiyet&#x27;, &#x27;Yaş Grubu&#x27;, &#x27;Medeni Durum&#x27;, &#x27;Eğitim Düzeyi&#x27;,\n",
       "       &#x27;İstihdam Durumu&#x27;, &#x27;Yaşadığı Şehir&#x27;, &#x27;En Çok İlgilendiği Ürün Grubu&#x27;],\n",
       "      dtype=&#x27;object&#x27;))])),\n",
       "                (&#x27;XGB_model&#x27;,\n",
       "                 XGBClassifier(base_sc...\n",
       "                               grow_policy=None, importance_type=None,\n",
       "                               interaction_constraints=None, learning_rate=None,\n",
       "                               max_bin=None, max_cat_threshold=None,\n",
       "                               max_cat_to_onehot=None, max_delta_step=None,\n",
       "                               max_depth=None, max_leaves=None,\n",
       "                               min_child_weight=None, missing=nan,\n",
       "                               monotone_constraints=None, n_estimators=100,\n",
       "                               n_jobs=None, num_parallel_tree=None,\n",
       "                               objective=&#x27;multi:softprob&#x27;, predictor=None, ...))])</pre><b>In a Jupyter environment, please rerun this cell to show the HTML representation or trust the notebook. <br />On GitHub, the HTML representation is unable to render, please try loading this page with nbviewer.org.</b></div><div class=\"sk-container\" hidden><div class=\"sk-item sk-dashed-wrapped\"><div class=\"sk-label-container\"><div class=\"sk-label sk-toggleable\"><input class=\"sk-toggleable__control sk-hidden--visually\" id=\"sk-estimator-id-38\" type=\"checkbox\" ><label for=\"sk-estimator-id-38\" class=\"sk-toggleable__label sk-toggleable__label-arrow\">Pipeline</label><div class=\"sk-toggleable__content\"><pre>Pipeline(steps=[(&#x27;OrdinalEncoder&#x27;,\n",
       "                 ColumnTransformer(remainder=&#x27;passthrough&#x27;,\n",
       "                                   transformers=[(&#x27;ordinalencoder&#x27;,\n",
       "                                                  OrdinalEncoder(handle_unknown=&#x27;use_encoded_value&#x27;,\n",
       "                                                                 unknown_value=-1),\n",
       "                                                  Index([&#x27;Cinsiyet&#x27;, &#x27;Yaş Grubu&#x27;, &#x27;Medeni Durum&#x27;, &#x27;Eğitim Düzeyi&#x27;,\n",
       "       &#x27;İstihdam Durumu&#x27;, &#x27;Yaşadığı Şehir&#x27;, &#x27;En Çok İlgilendiği Ürün Grubu&#x27;],\n",
       "      dtype=&#x27;object&#x27;))])),\n",
       "                (&#x27;XGB_model&#x27;,\n",
       "                 XGBClassifier(base_sc...\n",
       "                               grow_policy=None, importance_type=None,\n",
       "                               interaction_constraints=None, learning_rate=None,\n",
       "                               max_bin=None, max_cat_threshold=None,\n",
       "                               max_cat_to_onehot=None, max_delta_step=None,\n",
       "                               max_depth=None, max_leaves=None,\n",
       "                               min_child_weight=None, missing=nan,\n",
       "                               monotone_constraints=None, n_estimators=100,\n",
       "                               n_jobs=None, num_parallel_tree=None,\n",
       "                               objective=&#x27;multi:softprob&#x27;, predictor=None, ...))])</pre></div></div></div><div class=\"sk-serial\"><div class=\"sk-item sk-dashed-wrapped\"><div class=\"sk-label-container\"><div class=\"sk-label sk-toggleable\"><input class=\"sk-toggleable__control sk-hidden--visually\" id=\"sk-estimator-id-39\" type=\"checkbox\" ><label for=\"sk-estimator-id-39\" class=\"sk-toggleable__label sk-toggleable__label-arrow\">OrdinalEncoder: ColumnTransformer</label><div class=\"sk-toggleable__content\"><pre>ColumnTransformer(remainder=&#x27;passthrough&#x27;,\n",
       "                  transformers=[(&#x27;ordinalencoder&#x27;,\n",
       "                                 OrdinalEncoder(handle_unknown=&#x27;use_encoded_value&#x27;,\n",
       "                                                unknown_value=-1),\n",
       "                                 Index([&#x27;Cinsiyet&#x27;, &#x27;Yaş Grubu&#x27;, &#x27;Medeni Durum&#x27;, &#x27;Eğitim Düzeyi&#x27;,\n",
       "       &#x27;İstihdam Durumu&#x27;, &#x27;Yaşadığı Şehir&#x27;, &#x27;En Çok İlgilendiği Ürün Grubu&#x27;],\n",
       "      dtype=&#x27;object&#x27;))])</pre></div></div></div><div class=\"sk-parallel\"><div class=\"sk-parallel-item\"><div class=\"sk-item\"><div class=\"sk-label-container\"><div class=\"sk-label sk-toggleable\"><input class=\"sk-toggleable__control sk-hidden--visually\" id=\"sk-estimator-id-40\" type=\"checkbox\" ><label for=\"sk-estimator-id-40\" class=\"sk-toggleable__label sk-toggleable__label-arrow\">ordinalencoder</label><div class=\"sk-toggleable__content\"><pre>Index([&#x27;Cinsiyet&#x27;, &#x27;Yaş Grubu&#x27;, &#x27;Medeni Durum&#x27;, &#x27;Eğitim Düzeyi&#x27;,\n",
       "       &#x27;İstihdam Durumu&#x27;, &#x27;Yaşadığı Şehir&#x27;, &#x27;En Çok İlgilendiği Ürün Grubu&#x27;],\n",
       "      dtype=&#x27;object&#x27;)</pre></div></div></div><div class=\"sk-serial\"><div class=\"sk-item\"><div class=\"sk-estimator sk-toggleable\"><input class=\"sk-toggleable__control sk-hidden--visually\" id=\"sk-estimator-id-41\" type=\"checkbox\" ><label for=\"sk-estimator-id-41\" class=\"sk-toggleable__label sk-toggleable__label-arrow\">OrdinalEncoder</label><div class=\"sk-toggleable__content\"><pre>OrdinalEncoder(handle_unknown=&#x27;use_encoded_value&#x27;, unknown_value=-1)</pre></div></div></div></div></div></div><div class=\"sk-parallel-item\"><div class=\"sk-item\"><div class=\"sk-label-container\"><div class=\"sk-label sk-toggleable\"><input class=\"sk-toggleable__control sk-hidden--visually\" id=\"sk-estimator-id-42\" type=\"checkbox\" ><label for=\"sk-estimator-id-42\" class=\"sk-toggleable__label sk-toggleable__label-arrow\">remainder</label><div class=\"sk-toggleable__content\"><pre>[&#x27;index&#x27;, &#x27;Yıllık Ortalama Gelir&#x27;, &#x27;Yıllık Ortalama Satın Alım Miktarı&#x27;, &#x27;Yıllık Ortalama Sipariş Verilen Ürün Adedi&#x27;]</pre></div></div></div><div class=\"sk-serial\"><div class=\"sk-item\"><div class=\"sk-estimator sk-toggleable\"><input class=\"sk-toggleable__control sk-hidden--visually\" id=\"sk-estimator-id-43\" type=\"checkbox\" ><label for=\"sk-estimator-id-43\" class=\"sk-toggleable__label sk-toggleable__label-arrow\">passthrough</label><div class=\"sk-toggleable__content\"><pre>passthrough</pre></div></div></div></div></div></div></div></div><div class=\"sk-item\"><div class=\"sk-estimator sk-toggleable\"><input class=\"sk-toggleable__control sk-hidden--visually\" id=\"sk-estimator-id-44\" type=\"checkbox\" ><label for=\"sk-estimator-id-44\" class=\"sk-toggleable__label sk-toggleable__label-arrow\">XGBClassifier</label><div class=\"sk-toggleable__content\"><pre>XGBClassifier(base_score=None, booster=None, callbacks=None,\n",
       "              colsample_bylevel=None, colsample_bynode=None,\n",
       "              colsample_bytree=None, early_stopping_rounds=None,\n",
       "              enable_categorical=False, eval_metric=None, feature_types=None,\n",
       "              gamma=None, gpu_id=None, grow_policy=None, importance_type=None,\n",
       "              interaction_constraints=None, learning_rate=None, max_bin=None,\n",
       "              max_cat_threshold=None, max_cat_to_onehot=None,\n",
       "              max_delta_step=None, max_depth=None, max_leaves=None,\n",
       "              min_child_weight=None, missing=nan, monotone_constraints=None,\n",
       "              n_estimators=100, n_jobs=None, num_parallel_tree=None,\n",
       "              objective=&#x27;multi:softprob&#x27;, predictor=None, ...)</pre></div></div></div></div></div></div></div>"
      ],
      "text/plain": [
       "Pipeline(steps=[('OrdinalEncoder',\n",
       "                 ColumnTransformer(remainder='passthrough',\n",
       "                                   transformers=[('ordinalencoder',\n",
       "                                                  OrdinalEncoder(handle_unknown='use_encoded_value',\n",
       "                                                                 unknown_value=-1),\n",
       "                                                  Index(['Cinsiyet', 'Yaş Grubu', 'Medeni Durum', 'Eğitim Düzeyi',\n",
       "       'İstihdam Durumu', 'Yaşadığı Şehir', 'En Çok İlgilendiği Ürün Grubu'],\n",
       "      dtype='object'))])),\n",
       "                ('XGB_model',\n",
       "                 XGBClassifier(base_sc...\n",
       "                               grow_policy=None, importance_type=None,\n",
       "                               interaction_constraints=None, learning_rate=None,\n",
       "                               max_bin=None, max_cat_threshold=None,\n",
       "                               max_cat_to_onehot=None, max_delta_step=None,\n",
       "                               max_depth=None, max_leaves=None,\n",
       "                               min_child_weight=None, missing=nan,\n",
       "                               monotone_constraints=None, n_estimators=100,\n",
       "                               n_jobs=None, num_parallel_tree=None,\n",
       "                               objective='multi:softprob', predictor=None, ...))])"
      ]
     },
     "execution_count": 58,
     "metadata": {},
     "output_type": "execute_result"
    }
   ],
   "source": [
    "operations_xgb = [(\"OrdinalEncoder\", column_trans), \n",
    "                  (\"XGB_model\", XGBClassifier(random_state=42))]\n",
    "\n",
    "xgb_model = Pipeline(steps=operations_xgb)\n",
    "\n",
    "y_train_xgb = y_train.map({'obek_1':0, 'obek_2':1, 'obek_3':2,\n",
    "                           'obek_4':3, 'obek_5':4, 'obek_6':5,\n",
    "                           'obek_7':6, 'obek_8':7}) \n",
    "\n",
    "y_test_xgb = y_test.map({'obek_1':0, 'obek_2':1, 'obek_3':2,\n",
    "                         'obek_4':3, 'obek_5':4, 'obek_6':5,\n",
    "                         'obek_7':6, 'obek_8':7})\n",
    "\n",
    "xgb_model.fit(X_train, y_train_xgb)"
   ]
  },
  {
   "cell_type": "code",
   "execution_count": 59,
   "id": "a18e737f-1964-433a-ac5b-f372a12bbe8d",
   "metadata": {
    "tags": []
   },
   "outputs": [
    {
     "name": "stdout",
     "output_type": "stream",
     "text": [
      "Test_Set\n",
      "[[132   1   2   0   0   0   1   2]\n",
      " [  1  99   2   1   2   1   1   2]\n",
      " [  0   0 135   0   1   3   0   0]\n",
      " [  1   0   2 137   0   1   2   1]\n",
      " [  2   4   1   1 130   2   0   1]\n",
      " [  1   1   0   0   0 133   2   1]\n",
      " [  1   1   1   0   0   1 135   0]\n",
      " [  0   0   2   2   0   0   2 138]]\n",
      "              precision    recall  f1-score   support\n",
      "\n",
      "           0       0.96      0.96      0.96       138\n",
      "           1       0.93      0.91      0.92       109\n",
      "           2       0.93      0.97      0.95       139\n",
      "           3       0.97      0.95      0.96       144\n",
      "           4       0.98      0.92      0.95       141\n",
      "           5       0.94      0.96      0.95       138\n",
      "           6       0.94      0.97      0.96       139\n",
      "           7       0.95      0.96      0.96       144\n",
      "\n",
      "    accuracy                           0.95      1092\n",
      "   macro avg       0.95      0.95      0.95      1092\n",
      "weighted avg       0.95      0.95      0.95      1092\n",
      "\n",
      "\n",
      "Train_Set\n",
      "[[554   0   0   0   0   0   0   0]\n",
      " [  0 438   0   0   0   0   0   0]\n",
      " [  0   0 556   0   0   0   0   0]\n",
      " [  0   0   0 576   0   0   0   0]\n",
      " [  0   0   0   0 565   0   0   0]\n",
      " [  0   0   0   0   0 550   0   0]\n",
      " [  0   0   0   0   0   0 556   0]\n",
      " [  0   0   0   0   0   0   0 573]]\n",
      "              precision    recall  f1-score   support\n",
      "\n",
      "           0       1.00      1.00      1.00       554\n",
      "           1       1.00      1.00      1.00       438\n",
      "           2       1.00      1.00      1.00       556\n",
      "           3       1.00      1.00      1.00       576\n",
      "           4       1.00      1.00      1.00       565\n",
      "           5       1.00      1.00      1.00       550\n",
      "           6       1.00      1.00      1.00       556\n",
      "           7       1.00      1.00      1.00       573\n",
      "\n",
      "    accuracy                           1.00      4368\n",
      "   macro avg       1.00      1.00      1.00      4368\n",
      "weighted avg       1.00      1.00      1.00      4368\n",
      "\n"
     ]
    }
   ],
   "source": [
    "eval_metric(xgb_model, X_train, y_train_xgb, X_test, y_test_xgb)"
   ]
  },
  {
   "cell_type": "markdown",
   "id": "c6978092-5715-4975-b2b4-45f64bea0c03",
   "metadata": {},
   "source": [
    "### GridSearchCV"
   ]
  },
  {
   "cell_type": "code",
   "execution_count": 60,
   "id": "b4e6956c-ae96-4a11-ae1b-d6552bc89c00",
   "metadata": {
    "tags": []
   },
   "outputs": [
    {
     "name": "stdout",
     "output_type": "stream",
     "text": [
      "[22:16:00] WARNING: D:\\bld\\xgboost-split_1685694922754\\work\\src\\learner.cc:767: \n",
      "Parameters: { \"n_max_depth\" } are not used.\n",
      "\n"
     ]
    },
    {
     "data": {
      "text/html": [
       "<style>#sk-container-id-9 {color: black;background-color: white;}#sk-container-id-9 pre{padding: 0;}#sk-container-id-9 div.sk-toggleable {background-color: white;}#sk-container-id-9 label.sk-toggleable__label {cursor: pointer;display: block;width: 100%;margin-bottom: 0;padding: 0.3em;box-sizing: border-box;text-align: center;}#sk-container-id-9 label.sk-toggleable__label-arrow:before {content: \"▸\";float: left;margin-right: 0.25em;color: #696969;}#sk-container-id-9 label.sk-toggleable__label-arrow:hover:before {color: black;}#sk-container-id-9 div.sk-estimator:hover label.sk-toggleable__label-arrow:before {color: black;}#sk-container-id-9 div.sk-toggleable__content {max-height: 0;max-width: 0;overflow: hidden;text-align: left;background-color: #f0f8ff;}#sk-container-id-9 div.sk-toggleable__content pre {margin: 0.2em;color: black;border-radius: 0.25em;background-color: #f0f8ff;}#sk-container-id-9 input.sk-toggleable__control:checked~div.sk-toggleable__content {max-height: 200px;max-width: 100%;overflow: auto;}#sk-container-id-9 input.sk-toggleable__control:checked~label.sk-toggleable__label-arrow:before {content: \"▾\";}#sk-container-id-9 div.sk-estimator input.sk-toggleable__control:checked~label.sk-toggleable__label {background-color: #d4ebff;}#sk-container-id-9 div.sk-label input.sk-toggleable__control:checked~label.sk-toggleable__label {background-color: #d4ebff;}#sk-container-id-9 input.sk-hidden--visually {border: 0;clip: rect(1px 1px 1px 1px);clip: rect(1px, 1px, 1px, 1px);height: 1px;margin: -1px;overflow: hidden;padding: 0;position: absolute;width: 1px;}#sk-container-id-9 div.sk-estimator {font-family: monospace;background-color: #f0f8ff;border: 1px dotted black;border-radius: 0.25em;box-sizing: border-box;margin-bottom: 0.5em;}#sk-container-id-9 div.sk-estimator:hover {background-color: #d4ebff;}#sk-container-id-9 div.sk-parallel-item::after {content: \"\";width: 100%;border-bottom: 1px solid gray;flex-grow: 1;}#sk-container-id-9 div.sk-label:hover label.sk-toggleable__label {background-color: #d4ebff;}#sk-container-id-9 div.sk-serial::before {content: \"\";position: absolute;border-left: 1px solid gray;box-sizing: border-box;top: 0;bottom: 0;left: 50%;z-index: 0;}#sk-container-id-9 div.sk-serial {display: flex;flex-direction: column;align-items: center;background-color: white;padding-right: 0.2em;padding-left: 0.2em;position: relative;}#sk-container-id-9 div.sk-item {position: relative;z-index: 1;}#sk-container-id-9 div.sk-parallel {display: flex;align-items: stretch;justify-content: center;background-color: white;position: relative;}#sk-container-id-9 div.sk-item::before, #sk-container-id-9 div.sk-parallel-item::before {content: \"\";position: absolute;border-left: 1px solid gray;box-sizing: border-box;top: 0;bottom: 0;left: 50%;z-index: -1;}#sk-container-id-9 div.sk-parallel-item {display: flex;flex-direction: column;z-index: 1;position: relative;background-color: white;}#sk-container-id-9 div.sk-parallel-item:first-child::after {align-self: flex-end;width: 50%;}#sk-container-id-9 div.sk-parallel-item:last-child::after {align-self: flex-start;width: 50%;}#sk-container-id-9 div.sk-parallel-item:only-child::after {width: 0;}#sk-container-id-9 div.sk-dashed-wrapped {border: 1px dashed gray;margin: 0 0.4em 0.5em 0.4em;box-sizing: border-box;padding-bottom: 0.4em;background-color: white;}#sk-container-id-9 div.sk-label label {font-family: monospace;font-weight: bold;display: inline-block;line-height: 1.2em;}#sk-container-id-9 div.sk-label-container {text-align: center;}#sk-container-id-9 div.sk-container {/* jupyter's `normalize.less` sets `[hidden] { display: none; }` but bootstrap.min.css set `[hidden] { display: none !important; }` so we also need the `!important` here to be able to override the default hidden behavior on the sphinx rendered scikit-learn.org. See: https://github.com/scikit-learn/scikit-learn/issues/21755 */display: inline-block !important;position: relative;}#sk-container-id-9 div.sk-text-repr-fallback {display: none;}</style><div id=\"sk-container-id-9\" class=\"sk-top-container\"><div class=\"sk-text-repr-fallback\"><pre>GridSearchCV(cv=5,\n",
       "             estimator=Pipeline(steps=[(&#x27;OrdinalEncoder&#x27;,\n",
       "                                        ColumnTransformer(remainder=&#x27;passthrough&#x27;,\n",
       "                                                          transformers=[(&#x27;ordinalencoder&#x27;,\n",
       "                                                                         OrdinalEncoder(handle_unknown=&#x27;use_encoded_value&#x27;,\n",
       "                                                                                        unknown_value=-1),\n",
       "                                                                         Index([&#x27;Cinsiyet&#x27;, &#x27;Yaş Grubu&#x27;, &#x27;Medeni Durum&#x27;, &#x27;Eğitim Düzeyi&#x27;,\n",
       "       &#x27;İstihdam Durumu&#x27;, &#x27;Yaşadığı Şehir&#x27;, &#x27;En Çok İlgilendiği Ürün Grubu&#x27;],\n",
       "      dtype=&#x27;object&#x27;))])),\n",
       "                                       (&#x27;XGB_...\n",
       "                                                      max_leaves=None,\n",
       "                                                      min_child_weight=None,\n",
       "                                                      missing=nan,\n",
       "                                                      monotone_constraints=None,\n",
       "                                                      n_estimators=100,\n",
       "                                                      n_jobs=None,\n",
       "                                                      num_parallel_tree=None,\n",
       "                                                      predictor=None,\n",
       "                                                      random_state=42, ...))]),\n",
       "             n_jobs=-1,\n",
       "             param_grid={&#x27;XGB_model__learning_rate&#x27;: [0.03, 0.05, 0.1, 0.3],\n",
       "                         &#x27;XGB_model__n_estimators&#x27;: [20, 50, 100],\n",
       "                         &#x27;XGB_model__n_max_depth&#x27;: [3, 5, 7]},\n",
       "             return_train_score=True, scoring=&#x27;accuracy&#x27;)</pre><b>In a Jupyter environment, please rerun this cell to show the HTML representation or trust the notebook. <br />On GitHub, the HTML representation is unable to render, please try loading this page with nbviewer.org.</b></div><div class=\"sk-container\" hidden><div class=\"sk-item sk-dashed-wrapped\"><div class=\"sk-label-container\"><div class=\"sk-label sk-toggleable\"><input class=\"sk-toggleable__control sk-hidden--visually\" id=\"sk-estimator-id-45\" type=\"checkbox\" ><label for=\"sk-estimator-id-45\" class=\"sk-toggleable__label sk-toggleable__label-arrow\">GridSearchCV</label><div class=\"sk-toggleable__content\"><pre>GridSearchCV(cv=5,\n",
       "             estimator=Pipeline(steps=[(&#x27;OrdinalEncoder&#x27;,\n",
       "                                        ColumnTransformer(remainder=&#x27;passthrough&#x27;,\n",
       "                                                          transformers=[(&#x27;ordinalencoder&#x27;,\n",
       "                                                                         OrdinalEncoder(handle_unknown=&#x27;use_encoded_value&#x27;,\n",
       "                                                                                        unknown_value=-1),\n",
       "                                                                         Index([&#x27;Cinsiyet&#x27;, &#x27;Yaş Grubu&#x27;, &#x27;Medeni Durum&#x27;, &#x27;Eğitim Düzeyi&#x27;,\n",
       "       &#x27;İstihdam Durumu&#x27;, &#x27;Yaşadığı Şehir&#x27;, &#x27;En Çok İlgilendiği Ürün Grubu&#x27;],\n",
       "      dtype=&#x27;object&#x27;))])),\n",
       "                                       (&#x27;XGB_...\n",
       "                                                      max_leaves=None,\n",
       "                                                      min_child_weight=None,\n",
       "                                                      missing=nan,\n",
       "                                                      monotone_constraints=None,\n",
       "                                                      n_estimators=100,\n",
       "                                                      n_jobs=None,\n",
       "                                                      num_parallel_tree=None,\n",
       "                                                      predictor=None,\n",
       "                                                      random_state=42, ...))]),\n",
       "             n_jobs=-1,\n",
       "             param_grid={&#x27;XGB_model__learning_rate&#x27;: [0.03, 0.05, 0.1, 0.3],\n",
       "                         &#x27;XGB_model__n_estimators&#x27;: [20, 50, 100],\n",
       "                         &#x27;XGB_model__n_max_depth&#x27;: [3, 5, 7]},\n",
       "             return_train_score=True, scoring=&#x27;accuracy&#x27;)</pre></div></div></div><div class=\"sk-parallel\"><div class=\"sk-parallel-item\"><div class=\"sk-item\"><div class=\"sk-label-container\"><div class=\"sk-label sk-toggleable\"><input class=\"sk-toggleable__control sk-hidden--visually\" id=\"sk-estimator-id-46\" type=\"checkbox\" ><label for=\"sk-estimator-id-46\" class=\"sk-toggleable__label sk-toggleable__label-arrow\">estimator: Pipeline</label><div class=\"sk-toggleable__content\"><pre>Pipeline(steps=[(&#x27;OrdinalEncoder&#x27;,\n",
       "                 ColumnTransformer(remainder=&#x27;passthrough&#x27;,\n",
       "                                   transformers=[(&#x27;ordinalencoder&#x27;,\n",
       "                                                  OrdinalEncoder(handle_unknown=&#x27;use_encoded_value&#x27;,\n",
       "                                                                 unknown_value=-1),\n",
       "                                                  Index([&#x27;Cinsiyet&#x27;, &#x27;Yaş Grubu&#x27;, &#x27;Medeni Durum&#x27;, &#x27;Eğitim Düzeyi&#x27;,\n",
       "       &#x27;İstihdam Durumu&#x27;, &#x27;Yaşadığı Şehir&#x27;, &#x27;En Çok İlgilendiği Ürün Grubu&#x27;],\n",
       "      dtype=&#x27;object&#x27;))])),\n",
       "                (&#x27;XGB_model&#x27;,\n",
       "                 XGBClassifier(base_sc...\n",
       "                               feature_types=None, gamma=None, gpu_id=None,\n",
       "                               grow_policy=None, importance_type=None,\n",
       "                               interaction_constraints=None, learning_rate=None,\n",
       "                               max_bin=None, max_cat_threshold=None,\n",
       "                               max_cat_to_onehot=None, max_delta_step=None,\n",
       "                               max_depth=None, max_leaves=None,\n",
       "                               min_child_weight=None, missing=nan,\n",
       "                               monotone_constraints=None, n_estimators=100,\n",
       "                               n_jobs=None, num_parallel_tree=None,\n",
       "                               predictor=None, random_state=42, ...))])</pre></div></div></div><div class=\"sk-serial\"><div class=\"sk-item\"><div class=\"sk-serial\"><div class=\"sk-item sk-dashed-wrapped\"><div class=\"sk-label-container\"><div class=\"sk-label sk-toggleable\"><input class=\"sk-toggleable__control sk-hidden--visually\" id=\"sk-estimator-id-47\" type=\"checkbox\" ><label for=\"sk-estimator-id-47\" class=\"sk-toggleable__label sk-toggleable__label-arrow\">OrdinalEncoder: ColumnTransformer</label><div class=\"sk-toggleable__content\"><pre>ColumnTransformer(remainder=&#x27;passthrough&#x27;,\n",
       "                  transformers=[(&#x27;ordinalencoder&#x27;,\n",
       "                                 OrdinalEncoder(handle_unknown=&#x27;use_encoded_value&#x27;,\n",
       "                                                unknown_value=-1),\n",
       "                                 Index([&#x27;Cinsiyet&#x27;, &#x27;Yaş Grubu&#x27;, &#x27;Medeni Durum&#x27;, &#x27;Eğitim Düzeyi&#x27;,\n",
       "       &#x27;İstihdam Durumu&#x27;, &#x27;Yaşadığı Şehir&#x27;, &#x27;En Çok İlgilendiği Ürün Grubu&#x27;],\n",
       "      dtype=&#x27;object&#x27;))])</pre></div></div></div><div class=\"sk-parallel\"><div class=\"sk-parallel-item\"><div class=\"sk-item\"><div class=\"sk-label-container\"><div class=\"sk-label sk-toggleable\"><input class=\"sk-toggleable__control sk-hidden--visually\" id=\"sk-estimator-id-48\" type=\"checkbox\" ><label for=\"sk-estimator-id-48\" class=\"sk-toggleable__label sk-toggleable__label-arrow\">ordinalencoder</label><div class=\"sk-toggleable__content\"><pre>Index([&#x27;Cinsiyet&#x27;, &#x27;Yaş Grubu&#x27;, &#x27;Medeni Durum&#x27;, &#x27;Eğitim Düzeyi&#x27;,\n",
       "       &#x27;İstihdam Durumu&#x27;, &#x27;Yaşadığı Şehir&#x27;, &#x27;En Çok İlgilendiği Ürün Grubu&#x27;],\n",
       "      dtype=&#x27;object&#x27;)</pre></div></div></div><div class=\"sk-serial\"><div class=\"sk-item\"><div class=\"sk-estimator sk-toggleable\"><input class=\"sk-toggleable__control sk-hidden--visually\" id=\"sk-estimator-id-49\" type=\"checkbox\" ><label for=\"sk-estimator-id-49\" class=\"sk-toggleable__label sk-toggleable__label-arrow\">OrdinalEncoder</label><div class=\"sk-toggleable__content\"><pre>OrdinalEncoder(handle_unknown=&#x27;use_encoded_value&#x27;, unknown_value=-1)</pre></div></div></div></div></div></div><div class=\"sk-parallel-item\"><div class=\"sk-item\"><div class=\"sk-label-container\"><div class=\"sk-label sk-toggleable\"><input class=\"sk-toggleable__control sk-hidden--visually\" id=\"sk-estimator-id-50\" type=\"checkbox\" ><label for=\"sk-estimator-id-50\" class=\"sk-toggleable__label sk-toggleable__label-arrow\">remainder</label><div class=\"sk-toggleable__content\"><pre>[&#x27;index&#x27;, &#x27;Yıllık Ortalama Gelir&#x27;, &#x27;Yıllık Ortalama Satın Alım Miktarı&#x27;, &#x27;Yıllık Ortalama Sipariş Verilen Ürün Adedi&#x27;]</pre></div></div></div><div class=\"sk-serial\"><div class=\"sk-item\"><div class=\"sk-estimator sk-toggleable\"><input class=\"sk-toggleable__control sk-hidden--visually\" id=\"sk-estimator-id-51\" type=\"checkbox\" ><label for=\"sk-estimator-id-51\" class=\"sk-toggleable__label sk-toggleable__label-arrow\">passthrough</label><div class=\"sk-toggleable__content\"><pre>passthrough</pre></div></div></div></div></div></div></div></div><div class=\"sk-item\"><div class=\"sk-estimator sk-toggleable\"><input class=\"sk-toggleable__control sk-hidden--visually\" id=\"sk-estimator-id-52\" type=\"checkbox\" ><label for=\"sk-estimator-id-52\" class=\"sk-toggleable__label sk-toggleable__label-arrow\">XGBClassifier</label><div class=\"sk-toggleable__content\"><pre>XGBClassifier(base_score=None, booster=None, callbacks=None,\n",
       "              colsample_bylevel=None, colsample_bynode=None,\n",
       "              colsample_bytree=None, early_stopping_rounds=None,\n",
       "              enable_categorical=False, eval_metric=None, feature_types=None,\n",
       "              gamma=None, gpu_id=None, grow_policy=None, importance_type=None,\n",
       "              interaction_constraints=None, learning_rate=None, max_bin=None,\n",
       "              max_cat_threshold=None, max_cat_to_onehot=None,\n",
       "              max_delta_step=None, max_depth=None, max_leaves=None,\n",
       "              min_child_weight=None, missing=nan, monotone_constraints=None,\n",
       "              n_estimators=100, n_jobs=None, num_parallel_tree=None,\n",
       "              predictor=None, random_state=42, ...)</pre></div></div></div></div></div></div></div></div></div></div></div></div>"
      ],
      "text/plain": [
       "GridSearchCV(cv=5,\n",
       "             estimator=Pipeline(steps=[('OrdinalEncoder',\n",
       "                                        ColumnTransformer(remainder='passthrough',\n",
       "                                                          transformers=[('ordinalencoder',\n",
       "                                                                         OrdinalEncoder(handle_unknown='use_encoded_value',\n",
       "                                                                                        unknown_value=-1),\n",
       "                                                                         Index(['Cinsiyet', 'Yaş Grubu', 'Medeni Durum', 'Eğitim Düzeyi',\n",
       "       'İstihdam Durumu', 'Yaşadığı Şehir', 'En Çok İlgilendiği Ürün Grubu'],\n",
       "      dtype='object'))])),\n",
       "                                       ('XGB_...\n",
       "                                                      max_leaves=None,\n",
       "                                                      min_child_weight=None,\n",
       "                                                      missing=nan,\n",
       "                                                      monotone_constraints=None,\n",
       "                                                      n_estimators=100,\n",
       "                                                      n_jobs=None,\n",
       "                                                      num_parallel_tree=None,\n",
       "                                                      predictor=None,\n",
       "                                                      random_state=42, ...))]),\n",
       "             n_jobs=-1,\n",
       "             param_grid={'XGB_model__learning_rate': [0.03, 0.05, 0.1, 0.3],\n",
       "                         'XGB_model__n_estimators': [20, 50, 100],\n",
       "                         'XGB_model__n_max_depth': [3, 5, 7]},\n",
       "             return_train_score=True, scoring='accuracy')"
      ]
     },
     "execution_count": 60,
     "metadata": {},
     "output_type": "execute_result"
    }
   ],
   "source": [
    "param_grid = {\n",
    "              \"XGB_model__n_estimators\":[20, 50, 100],\n",
    "              'XGB_model__n_max_depth':[3, 5, 7],\n",
    "              \"XGB_model__learning_rate\": [0.03, 0.05, 0.1, 0.3]\n",
    "}\n",
    "\n",
    "operations_xgb = [(\"OrdinalEncoder\", column_trans), \n",
    "                  (\"XGB_model\", XGBClassifier(random_state=42))]\n",
    "\n",
    "model = Pipeline(steps=operations_xgb)\n",
    "\n",
    "xgb_grid_model = GridSearchCV(model,\n",
    "                              param_grid,\n",
    "                              scoring=\"accuracy\", \n",
    "                              cv=5,\n",
    "                              n_jobs=-1,\n",
    "                              return_train_score=True)\n",
    "\n",
    "xgb_grid_model.fit(X_train, y_train_xgb)"
   ]
  },
  {
   "cell_type": "code",
   "execution_count": 61,
   "id": "0b81c3a8-8e1d-4a23-b8ca-f253394a481d",
   "metadata": {
    "tags": []
   },
   "outputs": [
    {
     "name": "stdout",
     "output_type": "stream",
     "text": [
      "Test_Set\n",
      "[[132   1   2   0   0   0   1   2]\n",
      " [  2  99   2   0   2   1   1   2]\n",
      " [  0   0 135   0   1   3   0   0]\n",
      " [  1   0   2 136   0   2   2   1]\n",
      " [  2   4   1   1 130   2   0   1]\n",
      " [  1   1   0   0   0 133   2   1]\n",
      " [  1   1   1   0   0   1 135   0]\n",
      " [  0   0   2   2   0   0   2 138]]\n",
      "              precision    recall  f1-score   support\n",
      "\n",
      "           0       0.95      0.96      0.95       138\n",
      "           1       0.93      0.91      0.92       109\n",
      "           2       0.93      0.97      0.95       139\n",
      "           3       0.98      0.94      0.96       144\n",
      "           4       0.98      0.92      0.95       141\n",
      "           5       0.94      0.96      0.95       138\n",
      "           6       0.94      0.97      0.96       139\n",
      "           7       0.95      0.96      0.96       144\n",
      "\n",
      "    accuracy                           0.95      1092\n",
      "   macro avg       0.95      0.95      0.95      1092\n",
      "weighted avg       0.95      0.95      0.95      1092\n",
      "\n",
      "\n",
      "Train_Set\n",
      "[[553   0   0   0   0   0   1   0]\n",
      " [  0 438   0   0   0   0   0   0]\n",
      " [  0   0 555   0   1   0   0   0]\n",
      " [  0   0   0 576   0   0   0   0]\n",
      " [  0   0   0   0 565   0   0   0]\n",
      " [  0   0   0   0   0 550   0   0]\n",
      " [  0   0   0   0   0   0 556   0]\n",
      " [  0   0   0   0   0   0   0 573]]\n",
      "              precision    recall  f1-score   support\n",
      "\n",
      "           0       1.00      1.00      1.00       554\n",
      "           1       1.00      1.00      1.00       438\n",
      "           2       1.00      1.00      1.00       556\n",
      "           3       1.00      1.00      1.00       576\n",
      "           4       1.00      1.00      1.00       565\n",
      "           5       1.00      1.00      1.00       550\n",
      "           6       1.00      1.00      1.00       556\n",
      "           7       1.00      1.00      1.00       573\n",
      "\n",
      "    accuracy                           1.00      4368\n",
      "   macro avg       1.00      1.00      1.00      4368\n",
      "weighted avg       1.00      1.00      1.00      4368\n",
      "\n"
     ]
    }
   ],
   "source": [
    "eval_metric(xgb_grid_model, X_train, y_train_xgb, X_test, y_test_xgb)"
   ]
  },
  {
   "cell_type": "markdown",
   "id": "91383638-8989-4b94-b3b1-2a5a6877e4b2",
   "metadata": {},
   "source": [
    "# ------------------------------"
   ]
  },
  {
   "cell_type": "code",
   "execution_count": 18,
   "id": "173f9412-a0e0-409f-8e04-4bda072ea0e2",
   "metadata": {},
   "outputs": [],
   "source": [
    "from sklearn.ensemble import ExtraTreesClassifier\n",
    "from sklearn.datasets import make_classification"
   ]
  },
  {
   "cell_type": "code",
   "execution_count": 19,
   "id": "52769b64-6e39-4bb1-9ac9-f0a34f21a7a2",
   "metadata": {
    "tags": []
   },
   "outputs": [],
   "source": [
    "operations_etc = [(\"OrdinalEncoder\", column_trans), \n",
    "                  (\"ETC_model\", ExtraTreesClassifier(random_state=42))]"
   ]
  },
  {
   "cell_type": "code",
   "execution_count": 20,
   "id": "44e2fe96-5a9a-4fff-ba60-d340d987f2a3",
   "metadata": {
    "tags": []
   },
   "outputs": [],
   "source": [
    "model = Pipeline(steps=operations_etc)"
   ]
  },
  {
   "cell_type": "code",
   "execution_count": 21,
   "id": "34278686-94bb-4f1f-b11c-955d281cf673",
   "metadata": {
    "tags": []
   },
   "outputs": [
    {
     "data": {
      "text/html": [
       "<style>#sk-container-id-2 {color: black;background-color: white;}#sk-container-id-2 pre{padding: 0;}#sk-container-id-2 div.sk-toggleable {background-color: white;}#sk-container-id-2 label.sk-toggleable__label {cursor: pointer;display: block;width: 100%;margin-bottom: 0;padding: 0.3em;box-sizing: border-box;text-align: center;}#sk-container-id-2 label.sk-toggleable__label-arrow:before {content: \"▸\";float: left;margin-right: 0.25em;color: #696969;}#sk-container-id-2 label.sk-toggleable__label-arrow:hover:before {color: black;}#sk-container-id-2 div.sk-estimator:hover label.sk-toggleable__label-arrow:before {color: black;}#sk-container-id-2 div.sk-toggleable__content {max-height: 0;max-width: 0;overflow: hidden;text-align: left;background-color: #f0f8ff;}#sk-container-id-2 div.sk-toggleable__content pre {margin: 0.2em;color: black;border-radius: 0.25em;background-color: #f0f8ff;}#sk-container-id-2 input.sk-toggleable__control:checked~div.sk-toggleable__content {max-height: 200px;max-width: 100%;overflow: auto;}#sk-container-id-2 input.sk-toggleable__control:checked~label.sk-toggleable__label-arrow:before {content: \"▾\";}#sk-container-id-2 div.sk-estimator input.sk-toggleable__control:checked~label.sk-toggleable__label {background-color: #d4ebff;}#sk-container-id-2 div.sk-label input.sk-toggleable__control:checked~label.sk-toggleable__label {background-color: #d4ebff;}#sk-container-id-2 input.sk-hidden--visually {border: 0;clip: rect(1px 1px 1px 1px);clip: rect(1px, 1px, 1px, 1px);height: 1px;margin: -1px;overflow: hidden;padding: 0;position: absolute;width: 1px;}#sk-container-id-2 div.sk-estimator {font-family: monospace;background-color: #f0f8ff;border: 1px dotted black;border-radius: 0.25em;box-sizing: border-box;margin-bottom: 0.5em;}#sk-container-id-2 div.sk-estimator:hover {background-color: #d4ebff;}#sk-container-id-2 div.sk-parallel-item::after {content: \"\";width: 100%;border-bottom: 1px solid gray;flex-grow: 1;}#sk-container-id-2 div.sk-label:hover label.sk-toggleable__label {background-color: #d4ebff;}#sk-container-id-2 div.sk-serial::before {content: \"\";position: absolute;border-left: 1px solid gray;box-sizing: border-box;top: 0;bottom: 0;left: 50%;z-index: 0;}#sk-container-id-2 div.sk-serial {display: flex;flex-direction: column;align-items: center;background-color: white;padding-right: 0.2em;padding-left: 0.2em;position: relative;}#sk-container-id-2 div.sk-item {position: relative;z-index: 1;}#sk-container-id-2 div.sk-parallel {display: flex;align-items: stretch;justify-content: center;background-color: white;position: relative;}#sk-container-id-2 div.sk-item::before, #sk-container-id-2 div.sk-parallel-item::before {content: \"\";position: absolute;border-left: 1px solid gray;box-sizing: border-box;top: 0;bottom: 0;left: 50%;z-index: -1;}#sk-container-id-2 div.sk-parallel-item {display: flex;flex-direction: column;z-index: 1;position: relative;background-color: white;}#sk-container-id-2 div.sk-parallel-item:first-child::after {align-self: flex-end;width: 50%;}#sk-container-id-2 div.sk-parallel-item:last-child::after {align-self: flex-start;width: 50%;}#sk-container-id-2 div.sk-parallel-item:only-child::after {width: 0;}#sk-container-id-2 div.sk-dashed-wrapped {border: 1px dashed gray;margin: 0 0.4em 0.5em 0.4em;box-sizing: border-box;padding-bottom: 0.4em;background-color: white;}#sk-container-id-2 div.sk-label label {font-family: monospace;font-weight: bold;display: inline-block;line-height: 1.2em;}#sk-container-id-2 div.sk-label-container {text-align: center;}#sk-container-id-2 div.sk-container {/* jupyter's `normalize.less` sets `[hidden] { display: none; }` but bootstrap.min.css set `[hidden] { display: none !important; }` so we also need the `!important` here to be able to override the default hidden behavior on the sphinx rendered scikit-learn.org. See: https://github.com/scikit-learn/scikit-learn/issues/21755 */display: inline-block !important;position: relative;}#sk-container-id-2 div.sk-text-repr-fallback {display: none;}</style><div id=\"sk-container-id-2\" class=\"sk-top-container\"><div class=\"sk-text-repr-fallback\"><pre>Pipeline(steps=[(&#x27;OrdinalEncoder&#x27;,\n",
       "                 ColumnTransformer(remainder=&#x27;passthrough&#x27;,\n",
       "                                   transformers=[(&#x27;ordinalencoder&#x27;,\n",
       "                                                  OrdinalEncoder(handle_unknown=&#x27;use_encoded_value&#x27;,\n",
       "                                                                 unknown_value=-1),\n",
       "                                                  Index([&#x27;Cinsiyet&#x27;, &#x27;Yaş Grubu&#x27;, &#x27;Medeni Durum&#x27;, &#x27;Eğitim Düzeyi&#x27;,\n",
       "       &#x27;İstihdam Durumu&#x27;, &#x27;Yaşadığı Şehir&#x27;, &#x27;En Çok İlgilendiği Ürün Grubu&#x27;,\n",
       "       &#x27;Eğitime Devam Etme Durumu&#x27;],\n",
       "      dtype=&#x27;object&#x27;))])),\n",
       "                (&#x27;ETC_model&#x27;, ExtraTreesClassifier(random_state=42))])</pre><b>In a Jupyter environment, please rerun this cell to show the HTML representation or trust the notebook. <br />On GitHub, the HTML representation is unable to render, please try loading this page with nbviewer.org.</b></div><div class=\"sk-container\" hidden><div class=\"sk-item sk-dashed-wrapped\"><div class=\"sk-label-container\"><div class=\"sk-label sk-toggleable\"><input class=\"sk-toggleable__control sk-hidden--visually\" id=\"sk-estimator-id-8\" type=\"checkbox\" ><label for=\"sk-estimator-id-8\" class=\"sk-toggleable__label sk-toggleable__label-arrow\">Pipeline</label><div class=\"sk-toggleable__content\"><pre>Pipeline(steps=[(&#x27;OrdinalEncoder&#x27;,\n",
       "                 ColumnTransformer(remainder=&#x27;passthrough&#x27;,\n",
       "                                   transformers=[(&#x27;ordinalencoder&#x27;,\n",
       "                                                  OrdinalEncoder(handle_unknown=&#x27;use_encoded_value&#x27;,\n",
       "                                                                 unknown_value=-1),\n",
       "                                                  Index([&#x27;Cinsiyet&#x27;, &#x27;Yaş Grubu&#x27;, &#x27;Medeni Durum&#x27;, &#x27;Eğitim Düzeyi&#x27;,\n",
       "       &#x27;İstihdam Durumu&#x27;, &#x27;Yaşadığı Şehir&#x27;, &#x27;En Çok İlgilendiği Ürün Grubu&#x27;,\n",
       "       &#x27;Eğitime Devam Etme Durumu&#x27;],\n",
       "      dtype=&#x27;object&#x27;))])),\n",
       "                (&#x27;ETC_model&#x27;, ExtraTreesClassifier(random_state=42))])</pre></div></div></div><div class=\"sk-serial\"><div class=\"sk-item sk-dashed-wrapped\"><div class=\"sk-label-container\"><div class=\"sk-label sk-toggleable\"><input class=\"sk-toggleable__control sk-hidden--visually\" id=\"sk-estimator-id-9\" type=\"checkbox\" ><label for=\"sk-estimator-id-9\" class=\"sk-toggleable__label sk-toggleable__label-arrow\">OrdinalEncoder: ColumnTransformer</label><div class=\"sk-toggleable__content\"><pre>ColumnTransformer(remainder=&#x27;passthrough&#x27;,\n",
       "                  transformers=[(&#x27;ordinalencoder&#x27;,\n",
       "                                 OrdinalEncoder(handle_unknown=&#x27;use_encoded_value&#x27;,\n",
       "                                                unknown_value=-1),\n",
       "                                 Index([&#x27;Cinsiyet&#x27;, &#x27;Yaş Grubu&#x27;, &#x27;Medeni Durum&#x27;, &#x27;Eğitim Düzeyi&#x27;,\n",
       "       &#x27;İstihdam Durumu&#x27;, &#x27;Yaşadığı Şehir&#x27;, &#x27;En Çok İlgilendiği Ürün Grubu&#x27;,\n",
       "       &#x27;Eğitime Devam Etme Durumu&#x27;],\n",
       "      dtype=&#x27;object&#x27;))])</pre></div></div></div><div class=\"sk-parallel\"><div class=\"sk-parallel-item\"><div class=\"sk-item\"><div class=\"sk-label-container\"><div class=\"sk-label sk-toggleable\"><input class=\"sk-toggleable__control sk-hidden--visually\" id=\"sk-estimator-id-10\" type=\"checkbox\" ><label for=\"sk-estimator-id-10\" class=\"sk-toggleable__label sk-toggleable__label-arrow\">ordinalencoder</label><div class=\"sk-toggleable__content\"><pre>Index([&#x27;Cinsiyet&#x27;, &#x27;Yaş Grubu&#x27;, &#x27;Medeni Durum&#x27;, &#x27;Eğitim Düzeyi&#x27;,\n",
       "       &#x27;İstihdam Durumu&#x27;, &#x27;Yaşadığı Şehir&#x27;, &#x27;En Çok İlgilendiği Ürün Grubu&#x27;,\n",
       "       &#x27;Eğitime Devam Etme Durumu&#x27;],\n",
       "      dtype=&#x27;object&#x27;)</pre></div></div></div><div class=\"sk-serial\"><div class=\"sk-item\"><div class=\"sk-estimator sk-toggleable\"><input class=\"sk-toggleable__control sk-hidden--visually\" id=\"sk-estimator-id-11\" type=\"checkbox\" ><label for=\"sk-estimator-id-11\" class=\"sk-toggleable__label sk-toggleable__label-arrow\">OrdinalEncoder</label><div class=\"sk-toggleable__content\"><pre>OrdinalEncoder(handle_unknown=&#x27;use_encoded_value&#x27;, unknown_value=-1)</pre></div></div></div></div></div></div><div class=\"sk-parallel-item\"><div class=\"sk-item\"><div class=\"sk-label-container\"><div class=\"sk-label sk-toggleable\"><input class=\"sk-toggleable__control sk-hidden--visually\" id=\"sk-estimator-id-12\" type=\"checkbox\" ><label for=\"sk-estimator-id-12\" class=\"sk-toggleable__label sk-toggleable__label-arrow\">remainder</label><div class=\"sk-toggleable__content\"><pre>[&#x27;index&#x27;, &#x27;Yıllık Ortalama Gelir&#x27;, &#x27;Yıllık Ortalama Satın Alım Miktarı&#x27;, &#x27;Yıllık Ortalama Sipariş Verilen Ürün Adedi&#x27;, &#x27;Yıllık Ortalama Sepete Atılan Ürün Adedi&#x27;]</pre></div></div></div><div class=\"sk-serial\"><div class=\"sk-item\"><div class=\"sk-estimator sk-toggleable\"><input class=\"sk-toggleable__control sk-hidden--visually\" id=\"sk-estimator-id-13\" type=\"checkbox\" ><label for=\"sk-estimator-id-13\" class=\"sk-toggleable__label sk-toggleable__label-arrow\">passthrough</label><div class=\"sk-toggleable__content\"><pre>passthrough</pre></div></div></div></div></div></div></div></div><div class=\"sk-item\"><div class=\"sk-estimator sk-toggleable\"><input class=\"sk-toggleable__control sk-hidden--visually\" id=\"sk-estimator-id-14\" type=\"checkbox\" ><label for=\"sk-estimator-id-14\" class=\"sk-toggleable__label sk-toggleable__label-arrow\">ExtraTreesClassifier</label><div class=\"sk-toggleable__content\"><pre>ExtraTreesClassifier(random_state=42)</pre></div></div></div></div></div></div></div>"
      ],
      "text/plain": [
       "Pipeline(steps=[('OrdinalEncoder',\n",
       "                 ColumnTransformer(remainder='passthrough',\n",
       "                                   transformers=[('ordinalencoder',\n",
       "                                                  OrdinalEncoder(handle_unknown='use_encoded_value',\n",
       "                                                                 unknown_value=-1),\n",
       "                                                  Index(['Cinsiyet', 'Yaş Grubu', 'Medeni Durum', 'Eğitim Düzeyi',\n",
       "       'İstihdam Durumu', 'Yaşadığı Şehir', 'En Çok İlgilendiği Ürün Grubu',\n",
       "       'Eğitime Devam Etme Durumu'],\n",
       "      dtype='object'))])),\n",
       "                ('ETC_model', ExtraTreesClassifier(random_state=42))])"
      ]
     },
     "execution_count": 21,
     "metadata": {},
     "output_type": "execute_result"
    }
   ],
   "source": [
    "model.fit(X_train, y_train)"
   ]
  },
  {
   "cell_type": "code",
   "execution_count": 22,
   "id": "4a3287a5-8ca8-4394-8bca-0736ee73921e",
   "metadata": {},
   "outputs": [
    {
     "name": "stdout",
     "output_type": "stream",
     "text": [
      "Test_Set\n",
      "[[132   1   2   0   0   0   1   2]\n",
      " [  0 104   2   0   0   0   1   2]\n",
      " [  0   0 135   0   1   3   0   0]\n",
      " [  1   0   2 137   0   1   2   1]\n",
      " [  1   1   1   1 134   2   0   1]\n",
      " [  1   1   0   0   0 133   2   1]\n",
      " [  1   1   1   0   0   1 135   0]\n",
      " [  0   0   2   2   0   0   2 138]]\n",
      "              precision    recall  f1-score   support\n",
      "\n",
      "      obek_1       0.97      0.96      0.96       138\n",
      "      obek_2       0.96      0.95      0.96       109\n",
      "      obek_3       0.93      0.97      0.95       139\n",
      "      obek_4       0.98      0.95      0.96       144\n",
      "      obek_5       0.99      0.95      0.97       141\n",
      "      obek_6       0.95      0.96      0.96       138\n",
      "      obek_7       0.94      0.97      0.96       139\n",
      "      obek_8       0.95      0.96      0.96       144\n",
      "\n",
      "    accuracy                           0.96      1092\n",
      "   macro avg       0.96      0.96      0.96      1092\n",
      "weighted avg       0.96      0.96      0.96      1092\n",
      "\n",
      "\n",
      "Train_Set\n",
      "[[554   0   0   0   0   0   0   0]\n",
      " [  0 438   0   0   0   0   0   0]\n",
      " [  0   0 556   0   0   0   0   0]\n",
      " [  0   0   0 576   0   0   0   0]\n",
      " [  0   0   0   0 565   0   0   0]\n",
      " [  0   0   0   0   0 550   0   0]\n",
      " [  0   0   0   0   0   0 556   0]\n",
      " [  0   0   0   0   0   0   0 573]]\n",
      "              precision    recall  f1-score   support\n",
      "\n",
      "      obek_1       1.00      1.00      1.00       554\n",
      "      obek_2       1.00      1.00      1.00       438\n",
      "      obek_3       1.00      1.00      1.00       556\n",
      "      obek_4       1.00      1.00      1.00       576\n",
      "      obek_5       1.00      1.00      1.00       565\n",
      "      obek_6       1.00      1.00      1.00       550\n",
      "      obek_7       1.00      1.00      1.00       556\n",
      "      obek_8       1.00      1.00      1.00       573\n",
      "\n",
      "    accuracy                           1.00      4368\n",
      "   macro avg       1.00      1.00      1.00      4368\n",
      "weighted avg       1.00      1.00      1.00      4368\n",
      "\n"
     ]
    }
   ],
   "source": [
    "eval_metric(model, X_train, y_train, X_test, y_test)"
   ]
  },
  {
   "cell_type": "markdown",
   "id": "d64d32f7-01cb-4dfd-b49c-5e73382b7841",
   "metadata": {},
   "source": [
    "### GridSearchCV"
   ]
  },
  {
   "cell_type": "code",
   "execution_count": 25,
   "id": "0816b5d3-42c6-48de-87e2-4664ae0bb39d",
   "metadata": {
    "tags": []
   },
   "outputs": [
    {
     "data": {
      "text/html": [
       "<style>#sk-container-id-3 {color: black;background-color: white;}#sk-container-id-3 pre{padding: 0;}#sk-container-id-3 div.sk-toggleable {background-color: white;}#sk-container-id-3 label.sk-toggleable__label {cursor: pointer;display: block;width: 100%;margin-bottom: 0;padding: 0.3em;box-sizing: border-box;text-align: center;}#sk-container-id-3 label.sk-toggleable__label-arrow:before {content: \"▸\";float: left;margin-right: 0.25em;color: #696969;}#sk-container-id-3 label.sk-toggleable__label-arrow:hover:before {color: black;}#sk-container-id-3 div.sk-estimator:hover label.sk-toggleable__label-arrow:before {color: black;}#sk-container-id-3 div.sk-toggleable__content {max-height: 0;max-width: 0;overflow: hidden;text-align: left;background-color: #f0f8ff;}#sk-container-id-3 div.sk-toggleable__content pre {margin: 0.2em;color: black;border-radius: 0.25em;background-color: #f0f8ff;}#sk-container-id-3 input.sk-toggleable__control:checked~div.sk-toggleable__content {max-height: 200px;max-width: 100%;overflow: auto;}#sk-container-id-3 input.sk-toggleable__control:checked~label.sk-toggleable__label-arrow:before {content: \"▾\";}#sk-container-id-3 div.sk-estimator input.sk-toggleable__control:checked~label.sk-toggleable__label {background-color: #d4ebff;}#sk-container-id-3 div.sk-label input.sk-toggleable__control:checked~label.sk-toggleable__label {background-color: #d4ebff;}#sk-container-id-3 input.sk-hidden--visually {border: 0;clip: rect(1px 1px 1px 1px);clip: rect(1px, 1px, 1px, 1px);height: 1px;margin: -1px;overflow: hidden;padding: 0;position: absolute;width: 1px;}#sk-container-id-3 div.sk-estimator {font-family: monospace;background-color: #f0f8ff;border: 1px dotted black;border-radius: 0.25em;box-sizing: border-box;margin-bottom: 0.5em;}#sk-container-id-3 div.sk-estimator:hover {background-color: #d4ebff;}#sk-container-id-3 div.sk-parallel-item::after {content: \"\";width: 100%;border-bottom: 1px solid gray;flex-grow: 1;}#sk-container-id-3 div.sk-label:hover label.sk-toggleable__label {background-color: #d4ebff;}#sk-container-id-3 div.sk-serial::before {content: \"\";position: absolute;border-left: 1px solid gray;box-sizing: border-box;top: 0;bottom: 0;left: 50%;z-index: 0;}#sk-container-id-3 div.sk-serial {display: flex;flex-direction: column;align-items: center;background-color: white;padding-right: 0.2em;padding-left: 0.2em;position: relative;}#sk-container-id-3 div.sk-item {position: relative;z-index: 1;}#sk-container-id-3 div.sk-parallel {display: flex;align-items: stretch;justify-content: center;background-color: white;position: relative;}#sk-container-id-3 div.sk-item::before, #sk-container-id-3 div.sk-parallel-item::before {content: \"\";position: absolute;border-left: 1px solid gray;box-sizing: border-box;top: 0;bottom: 0;left: 50%;z-index: -1;}#sk-container-id-3 div.sk-parallel-item {display: flex;flex-direction: column;z-index: 1;position: relative;background-color: white;}#sk-container-id-3 div.sk-parallel-item:first-child::after {align-self: flex-end;width: 50%;}#sk-container-id-3 div.sk-parallel-item:last-child::after {align-self: flex-start;width: 50%;}#sk-container-id-3 div.sk-parallel-item:only-child::after {width: 0;}#sk-container-id-3 div.sk-dashed-wrapped {border: 1px dashed gray;margin: 0 0.4em 0.5em 0.4em;box-sizing: border-box;padding-bottom: 0.4em;background-color: white;}#sk-container-id-3 div.sk-label label {font-family: monospace;font-weight: bold;display: inline-block;line-height: 1.2em;}#sk-container-id-3 div.sk-label-container {text-align: center;}#sk-container-id-3 div.sk-container {/* jupyter's `normalize.less` sets `[hidden] { display: none; }` but bootstrap.min.css set `[hidden] { display: none !important; }` so we also need the `!important` here to be able to override the default hidden behavior on the sphinx rendered scikit-learn.org. See: https://github.com/scikit-learn/scikit-learn/issues/21755 */display: inline-block !important;position: relative;}#sk-container-id-3 div.sk-text-repr-fallback {display: none;}</style><div id=\"sk-container-id-3\" class=\"sk-top-container\"><div class=\"sk-text-repr-fallback\"><pre>GridSearchCV(cv=5,\n",
       "             estimator=Pipeline(steps=[(&#x27;OrdinalEncoder&#x27;,\n",
       "                                        ColumnTransformer(remainder=&#x27;passthrough&#x27;,\n",
       "                                                          transformers=[(&#x27;ordinalencoder&#x27;,\n",
       "                                                                         OrdinalEncoder(handle_unknown=&#x27;use_encoded_value&#x27;,\n",
       "                                                                                        unknown_value=-1),\n",
       "                                                                         Index([&#x27;Cinsiyet&#x27;, &#x27;Yaş Grubu&#x27;, &#x27;Medeni Durum&#x27;, &#x27;Eğitim Düzeyi&#x27;,\n",
       "       &#x27;İstihdam Durumu&#x27;, &#x27;Yaşadığı Şehir&#x27;, &#x27;En Çok İlgilendiği Ürün Grubu&#x27;,\n",
       "       &#x27;Eğitime Devam Etme Durumu&#x27;],\n",
       "      d...\n",
       "                         &#x27;ETC_model__class_weight&#x27;: [None, &#x27;balanced&#x27;,\n",
       "                                                     &#x27;balanced_subsample&#x27;],\n",
       "                         &#x27;ETC_model__criterion&#x27;: [&#x27;gini&#x27;, &#x27;entropy&#x27;],\n",
       "                         &#x27;ETC_model__max_depth&#x27;: [None, 10, 20, 30],\n",
       "                         &#x27;ETC_model__max_features&#x27;: [&#x27;auto&#x27;, &#x27;sqrt&#x27;, &#x27;log2&#x27;],\n",
       "                         &#x27;ETC_model__min_samples_leaf&#x27;: [1, 2, 4],\n",
       "                         &#x27;ETC_model__min_samples_split&#x27;: [2, 5, 10],\n",
       "                         &#x27;ETC_model__n_estimators&#x27;: [50, 100, 200]},\n",
       "             return_train_score=True, scoring=&#x27;accuracy&#x27;)</pre><b>In a Jupyter environment, please rerun this cell to show the HTML representation or trust the notebook. <br />On GitHub, the HTML representation is unable to render, please try loading this page with nbviewer.org.</b></div><div class=\"sk-container\" hidden><div class=\"sk-item sk-dashed-wrapped\"><div class=\"sk-label-container\"><div class=\"sk-label sk-toggleable\"><input class=\"sk-toggleable__control sk-hidden--visually\" id=\"sk-estimator-id-15\" type=\"checkbox\" ><label for=\"sk-estimator-id-15\" class=\"sk-toggleable__label sk-toggleable__label-arrow\">GridSearchCV</label><div class=\"sk-toggleable__content\"><pre>GridSearchCV(cv=5,\n",
       "             estimator=Pipeline(steps=[(&#x27;OrdinalEncoder&#x27;,\n",
       "                                        ColumnTransformer(remainder=&#x27;passthrough&#x27;,\n",
       "                                                          transformers=[(&#x27;ordinalencoder&#x27;,\n",
       "                                                                         OrdinalEncoder(handle_unknown=&#x27;use_encoded_value&#x27;,\n",
       "                                                                                        unknown_value=-1),\n",
       "                                                                         Index([&#x27;Cinsiyet&#x27;, &#x27;Yaş Grubu&#x27;, &#x27;Medeni Durum&#x27;, &#x27;Eğitim Düzeyi&#x27;,\n",
       "       &#x27;İstihdam Durumu&#x27;, &#x27;Yaşadığı Şehir&#x27;, &#x27;En Çok İlgilendiği Ürün Grubu&#x27;,\n",
       "       &#x27;Eğitime Devam Etme Durumu&#x27;],\n",
       "      d...\n",
       "                         &#x27;ETC_model__class_weight&#x27;: [None, &#x27;balanced&#x27;,\n",
       "                                                     &#x27;balanced_subsample&#x27;],\n",
       "                         &#x27;ETC_model__criterion&#x27;: [&#x27;gini&#x27;, &#x27;entropy&#x27;],\n",
       "                         &#x27;ETC_model__max_depth&#x27;: [None, 10, 20, 30],\n",
       "                         &#x27;ETC_model__max_features&#x27;: [&#x27;auto&#x27;, &#x27;sqrt&#x27;, &#x27;log2&#x27;],\n",
       "                         &#x27;ETC_model__min_samples_leaf&#x27;: [1, 2, 4],\n",
       "                         &#x27;ETC_model__min_samples_split&#x27;: [2, 5, 10],\n",
       "                         &#x27;ETC_model__n_estimators&#x27;: [50, 100, 200]},\n",
       "             return_train_score=True, scoring=&#x27;accuracy&#x27;)</pre></div></div></div><div class=\"sk-parallel\"><div class=\"sk-parallel-item\"><div class=\"sk-item\"><div class=\"sk-label-container\"><div class=\"sk-label sk-toggleable\"><input class=\"sk-toggleable__control sk-hidden--visually\" id=\"sk-estimator-id-16\" type=\"checkbox\" ><label for=\"sk-estimator-id-16\" class=\"sk-toggleable__label sk-toggleable__label-arrow\">estimator: Pipeline</label><div class=\"sk-toggleable__content\"><pre>Pipeline(steps=[(&#x27;OrdinalEncoder&#x27;,\n",
       "                 ColumnTransformer(remainder=&#x27;passthrough&#x27;,\n",
       "                                   transformers=[(&#x27;ordinalencoder&#x27;,\n",
       "                                                  OrdinalEncoder(handle_unknown=&#x27;use_encoded_value&#x27;,\n",
       "                                                                 unknown_value=-1),\n",
       "                                                  Index([&#x27;Cinsiyet&#x27;, &#x27;Yaş Grubu&#x27;, &#x27;Medeni Durum&#x27;, &#x27;Eğitim Düzeyi&#x27;,\n",
       "       &#x27;İstihdam Durumu&#x27;, &#x27;Yaşadığı Şehir&#x27;, &#x27;En Çok İlgilendiği Ürün Grubu&#x27;,\n",
       "       &#x27;Eğitime Devam Etme Durumu&#x27;],\n",
       "      dtype=&#x27;object&#x27;))])),\n",
       "                (&#x27;ETC_model&#x27;, ExtraTreesClassifier(random_state=42))])</pre></div></div></div><div class=\"sk-serial\"><div class=\"sk-item\"><div class=\"sk-serial\"><div class=\"sk-item sk-dashed-wrapped\"><div class=\"sk-label-container\"><div class=\"sk-label sk-toggleable\"><input class=\"sk-toggleable__control sk-hidden--visually\" id=\"sk-estimator-id-17\" type=\"checkbox\" ><label for=\"sk-estimator-id-17\" class=\"sk-toggleable__label sk-toggleable__label-arrow\">OrdinalEncoder: ColumnTransformer</label><div class=\"sk-toggleable__content\"><pre>ColumnTransformer(remainder=&#x27;passthrough&#x27;,\n",
       "                  transformers=[(&#x27;ordinalencoder&#x27;,\n",
       "                                 OrdinalEncoder(handle_unknown=&#x27;use_encoded_value&#x27;,\n",
       "                                                unknown_value=-1),\n",
       "                                 Index([&#x27;Cinsiyet&#x27;, &#x27;Yaş Grubu&#x27;, &#x27;Medeni Durum&#x27;, &#x27;Eğitim Düzeyi&#x27;,\n",
       "       &#x27;İstihdam Durumu&#x27;, &#x27;Yaşadığı Şehir&#x27;, &#x27;En Çok İlgilendiği Ürün Grubu&#x27;,\n",
       "       &#x27;Eğitime Devam Etme Durumu&#x27;],\n",
       "      dtype=&#x27;object&#x27;))])</pre></div></div></div><div class=\"sk-parallel\"><div class=\"sk-parallel-item\"><div class=\"sk-item\"><div class=\"sk-label-container\"><div class=\"sk-label sk-toggleable\"><input class=\"sk-toggleable__control sk-hidden--visually\" id=\"sk-estimator-id-18\" type=\"checkbox\" ><label for=\"sk-estimator-id-18\" class=\"sk-toggleable__label sk-toggleable__label-arrow\">ordinalencoder</label><div class=\"sk-toggleable__content\"><pre>Index([&#x27;Cinsiyet&#x27;, &#x27;Yaş Grubu&#x27;, &#x27;Medeni Durum&#x27;, &#x27;Eğitim Düzeyi&#x27;,\n",
       "       &#x27;İstihdam Durumu&#x27;, &#x27;Yaşadığı Şehir&#x27;, &#x27;En Çok İlgilendiği Ürün Grubu&#x27;,\n",
       "       &#x27;Eğitime Devam Etme Durumu&#x27;],\n",
       "      dtype=&#x27;object&#x27;)</pre></div></div></div><div class=\"sk-serial\"><div class=\"sk-item\"><div class=\"sk-estimator sk-toggleable\"><input class=\"sk-toggleable__control sk-hidden--visually\" id=\"sk-estimator-id-19\" type=\"checkbox\" ><label for=\"sk-estimator-id-19\" class=\"sk-toggleable__label sk-toggleable__label-arrow\">OrdinalEncoder</label><div class=\"sk-toggleable__content\"><pre>OrdinalEncoder(handle_unknown=&#x27;use_encoded_value&#x27;, unknown_value=-1)</pre></div></div></div></div></div></div><div class=\"sk-parallel-item\"><div class=\"sk-item\"><div class=\"sk-label-container\"><div class=\"sk-label sk-toggleable\"><input class=\"sk-toggleable__control sk-hidden--visually\" id=\"sk-estimator-id-20\" type=\"checkbox\" ><label for=\"sk-estimator-id-20\" class=\"sk-toggleable__label sk-toggleable__label-arrow\">remainder</label><div class=\"sk-toggleable__content\"><pre>[&#x27;index&#x27;, &#x27;Yıllık Ortalama Gelir&#x27;, &#x27;Yıllık Ortalama Satın Alım Miktarı&#x27;, &#x27;Yıllık Ortalama Sipariş Verilen Ürün Adedi&#x27;, &#x27;Yıllık Ortalama Sepete Atılan Ürün Adedi&#x27;]</pre></div></div></div><div class=\"sk-serial\"><div class=\"sk-item\"><div class=\"sk-estimator sk-toggleable\"><input class=\"sk-toggleable__control sk-hidden--visually\" id=\"sk-estimator-id-21\" type=\"checkbox\" ><label for=\"sk-estimator-id-21\" class=\"sk-toggleable__label sk-toggleable__label-arrow\">passthrough</label><div class=\"sk-toggleable__content\"><pre>passthrough</pre></div></div></div></div></div></div></div></div><div class=\"sk-item\"><div class=\"sk-estimator sk-toggleable\"><input class=\"sk-toggleable__control sk-hidden--visually\" id=\"sk-estimator-id-22\" type=\"checkbox\" ><label for=\"sk-estimator-id-22\" class=\"sk-toggleable__label sk-toggleable__label-arrow\">ExtraTreesClassifier</label><div class=\"sk-toggleable__content\"><pre>ExtraTreesClassifier(random_state=42)</pre></div></div></div></div></div></div></div></div></div></div></div></div>"
      ],
      "text/plain": [
       "GridSearchCV(cv=5,\n",
       "             estimator=Pipeline(steps=[('OrdinalEncoder',\n",
       "                                        ColumnTransformer(remainder='passthrough',\n",
       "                                                          transformers=[('ordinalencoder',\n",
       "                                                                         OrdinalEncoder(handle_unknown='use_encoded_value',\n",
       "                                                                                        unknown_value=-1),\n",
       "                                                                         Index(['Cinsiyet', 'Yaş Grubu', 'Medeni Durum', 'Eğitim Düzeyi',\n",
       "       'İstihdam Durumu', 'Yaşadığı Şehir', 'En Çok İlgilendiği Ürün Grubu',\n",
       "       'Eğitime Devam Etme Durumu'],\n",
       "      d...\n",
       "                         'ETC_model__class_weight': [None, 'balanced',\n",
       "                                                     'balanced_subsample'],\n",
       "                         'ETC_model__criterion': ['gini', 'entropy'],\n",
       "                         'ETC_model__max_depth': [None, 10, 20, 30],\n",
       "                         'ETC_model__max_features': ['auto', 'sqrt', 'log2'],\n",
       "                         'ETC_model__min_samples_leaf': [1, 2, 4],\n",
       "                         'ETC_model__min_samples_split': [2, 5, 10],\n",
       "                         'ETC_model__n_estimators': [50, 100, 200]},\n",
       "             return_train_score=True, scoring='accuracy')"
      ]
     },
     "execution_count": 25,
     "metadata": {},
     "output_type": "execute_result"
    }
   ],
   "source": [
    "param_grid = {\n",
    "    'ETC_model__n_estimators': [50, 100, 200],                  # Ağaç sayısı\n",
    "    'ETC_model__criterion': ['gini', 'entropy'],                 # Bölme kriteri\n",
    "    'ETC_model__max_depth': [None, 10, 20, 30],                  # Maksimum derinlik\n",
    "    'ETC_model__min_samples_split': [2, 5, 10],                  # Bir düğümü bölmek için gereken minimum örnek sayısı\n",
    "    'ETC_model__min_samples_leaf': [1, 2, 4],                    # Bir yaprak düğümünde olması gereken minimum örnek sayısı\n",
    "    'ETC_model__max_features': ['auto', 'sqrt', 'log2'],         # Her ağaç için kullanılacak maksimum özellik sayısı\n",
    "    'ETC_model__bootstrap': [True, False],                       # Örnekleme yapılıp yapılmayacağı\n",
    "    'ETC_model__class_weight': [None, 'balanced', 'balanced_subsample']  # Sınıf ağırlıkları\n",
    "}\n",
    "\n",
    "operations_etc = [(\"OrdinalEncoder\", column_trans), \n",
    "                  (\"ETC_model\", ExtraTreesClassifier(random_state=42))]\n",
    "\n",
    "model = Pipeline(steps=operations_etc)\n",
    "\n",
    "etc_grid_model = GridSearchCV(model,\n",
    "                               param_grid,\n",
    "                               scoring=\"accuracy\", \n",
    "                               cv=5,\n",
    "                               n_jobs=-1,\n",
    "                               return_train_score=True)\n",
    "\n",
    "etc_grid_model.fit(X_train, y_train)"
   ]
  },
  {
   "cell_type": "code",
   "execution_count": 26,
   "id": "5139d6ce-f633-47ff-ac26-022b4068a6fc",
   "metadata": {
    "tags": []
   },
   "outputs": [
    {
     "name": "stdout",
     "output_type": "stream",
     "text": [
      "Test_Set\n",
      "[[132   1   2   0   0   0   1   2]\n",
      " [  0 104   2   0   0   0   1   2]\n",
      " [  0   0 135   0   1   3   0   0]\n",
      " [  1   0   2 137   0   1   2   1]\n",
      " [  1   1   1   1 134   2   0   1]\n",
      " [  1   1   0   0   0 133   2   1]\n",
      " [  1   1   1   0   0   1 135   0]\n",
      " [  0   0   2   2   0   0   2 138]]\n",
      "              precision    recall  f1-score   support\n",
      "\n",
      "      obek_1       0.97      0.96      0.96       138\n",
      "      obek_2       0.96      0.95      0.96       109\n",
      "      obek_3       0.93      0.97      0.95       139\n",
      "      obek_4       0.98      0.95      0.96       144\n",
      "      obek_5       0.99      0.95      0.97       141\n",
      "      obek_6       0.95      0.96      0.96       138\n",
      "      obek_7       0.94      0.97      0.96       139\n",
      "      obek_8       0.95      0.96      0.96       144\n",
      "\n",
      "    accuracy                           0.96      1092\n",
      "   macro avg       0.96      0.96      0.96      1092\n",
      "weighted avg       0.96      0.96      0.96      1092\n",
      "\n",
      "\n",
      "Train_Set\n",
      "[[527   1   5   8   4   3   5   1]\n",
      " [  3 413   2   2   2   7   6   3]\n",
      " [  5   0 537   1   1   5   5   2]\n",
      " [  3   2   9 538   8   5   3   8]\n",
      " [  4   0   2   2 547   3   2   5]\n",
      " [  3   3   3   4   2 529   3   3]\n",
      " [  3   3   8   6   2   4 526   4]\n",
      " [  3   4   2   4   6   1   1 552]]\n",
      "              precision    recall  f1-score   support\n",
      "\n",
      "      obek_1       0.96      0.95      0.95       554\n",
      "      obek_2       0.97      0.94      0.96       438\n",
      "      obek_3       0.95      0.97      0.96       556\n",
      "      obek_4       0.95      0.93      0.94       576\n",
      "      obek_5       0.96      0.97      0.96       565\n",
      "      obek_6       0.95      0.96      0.96       550\n",
      "      obek_7       0.95      0.95      0.95       556\n",
      "      obek_8       0.96      0.96      0.96       573\n",
      "\n",
      "    accuracy                           0.95      4368\n",
      "   macro avg       0.95      0.95      0.95      4368\n",
      "weighted avg       0.95      0.95      0.95      4368\n",
      "\n"
     ]
    }
   ],
   "source": [
    "eval_metric(etc_grid_model, X_train, y_train, X_test, y_test)"
   ]
  },
  {
   "cell_type": "code",
   "execution_count": null,
   "id": "07ed797c-c434-48ee-938a-8e80abd74456",
   "metadata": {},
   "outputs": [],
   "source": []
  },
  {
   "cell_type": "code",
   "execution_count": null,
   "id": "fa13b931-b6ca-495d-a951-af8038c16ecf",
   "metadata": {},
   "outputs": [],
   "source": []
  },
  {
   "cell_type": "code",
   "execution_count": null,
   "id": "438dbfac-1208-485a-9453-80271675cf6c",
   "metadata": {},
   "outputs": [],
   "source": []
  },
  {
   "cell_type": "code",
   "execution_count": null,
   "id": "770216ea-268b-4889-b951-0f740f6b1d57",
   "metadata": {},
   "outputs": [],
   "source": []
  },
  {
   "cell_type": "markdown",
   "id": "dd1d27c7-bbc1-4e9a-ad4d-a25832235f39",
   "metadata": {},
   "source": [
    "# ------------------------------"
   ]
  },
  {
   "cell_type": "code",
   "execution_count": null,
   "id": "43762063-a5af-4fbb-9447-c9e9e39442d2",
   "metadata": {},
   "outputs": [],
   "source": [
    "predict = model.predict(test)"
   ]
  },
  {
   "cell_type": "code",
   "execution_count": 9,
   "id": "a6092ccd-2cbd-49e2-954e-a0d0462c6956",
   "metadata": {
    "tags": []
   },
   "outputs": [
    {
     "data": {
      "text/html": [
       "<div>\n",
       "<style scoped>\n",
       "    .dataframe tbody tr th:only-of-type {\n",
       "        vertical-align: middle;\n",
       "    }\n",
       "\n",
       "    .dataframe tbody tr th {\n",
       "        vertical-align: top;\n",
       "    }\n",
       "\n",
       "    .dataframe thead th {\n",
       "        text-align: right;\n",
       "    }\n",
       "</style>\n",
       "<table border=\"1\" class=\"dataframe\">\n",
       "  <thead>\n",
       "    <tr style=\"text-align: right;\">\n",
       "      <th></th>\n",
       "      <th>Öbek İsmi</th>\n",
       "    </tr>\n",
       "    <tr>\n",
       "      <th>id</th>\n",
       "      <th></th>\n",
       "    </tr>\n",
       "  </thead>\n",
       "  <tbody>\n",
       "    <tr>\n",
       "      <th>0</th>\n",
       "      <td>2</td>\n",
       "    </tr>\n",
       "    <tr>\n",
       "      <th>1</th>\n",
       "      <td>2</td>\n",
       "    </tr>\n",
       "    <tr>\n",
       "      <th>2</th>\n",
       "      <td>1</td>\n",
       "    </tr>\n",
       "    <tr>\n",
       "      <th>3</th>\n",
       "      <td>5</td>\n",
       "    </tr>\n",
       "    <tr>\n",
       "      <th>4</th>\n",
       "      <td>0</td>\n",
       "    </tr>\n",
       "    <tr>\n",
       "      <th>...</th>\n",
       "      <td>...</td>\n",
       "    </tr>\n",
       "    <tr>\n",
       "      <th>2335</th>\n",
       "      <td>7</td>\n",
       "    </tr>\n",
       "    <tr>\n",
       "      <th>2336</th>\n",
       "      <td>1</td>\n",
       "    </tr>\n",
       "    <tr>\n",
       "      <th>2337</th>\n",
       "      <td>6</td>\n",
       "    </tr>\n",
       "    <tr>\n",
       "      <th>2338</th>\n",
       "      <td>4</td>\n",
       "    </tr>\n",
       "    <tr>\n",
       "      <th>2339</th>\n",
       "      <td>5</td>\n",
       "    </tr>\n",
       "  </tbody>\n",
       "</table>\n",
       "<p>2340 rows × 1 columns</p>\n",
       "</div>"
      ],
      "text/plain": [
       "      Öbek İsmi\n",
       "id             \n",
       "0             2\n",
       "1             2\n",
       "2             1\n",
       "3             5\n",
       "4             0\n",
       "...         ...\n",
       "2335          7\n",
       "2336          1\n",
       "2337          6\n",
       "2338          4\n",
       "2339          5\n",
       "\n",
       "[2340 rows x 1 columns]"
      ]
     },
     "execution_count": 9,
     "metadata": {},
     "output_type": "execute_result"
    }
   ],
   "source": [
    "data = {\n",
    "    'id': range(2340),\n",
    "    'Öbek İsmi': predict\n",
    "}\n",
    "sub_df = pd.DataFrame(data)\n",
    "sub_df.set_index('id', inplace=True)\n",
    "sub_df"
   ]
  },
  {
   "cell_type": "code",
   "execution_count": 10,
   "id": "fb239fb1-6bc4-4bcd-8030-5ad645e008ac",
   "metadata": {
    "tags": []
   },
   "outputs": [],
   "source": [
    "sub_df['Öbek İsmi'] = sub_df['Öbek İsmi'].map({0: 'obek_1', 1:'obek_2', 2:'obek_3', 3:'obek_4', 4:'obek_5', 5:'obek_6', 6:'obek_7', 7:'obek_8'})"
   ]
  },
  {
   "cell_type": "code",
   "execution_count": 11,
   "id": "9abc6fae-7342-46a5-bca2-26f13920a594",
   "metadata": {
    "tags": []
   },
   "outputs": [
    {
     "data": {
      "text/html": [
       "<div>\n",
       "<style scoped>\n",
       "    .dataframe tbody tr th:only-of-type {\n",
       "        vertical-align: middle;\n",
       "    }\n",
       "\n",
       "    .dataframe tbody tr th {\n",
       "        vertical-align: top;\n",
       "    }\n",
       "\n",
       "    .dataframe thead th {\n",
       "        text-align: right;\n",
       "    }\n",
       "</style>\n",
       "<table border=\"1\" class=\"dataframe\">\n",
       "  <thead>\n",
       "    <tr style=\"text-align: right;\">\n",
       "      <th></th>\n",
       "      <th>Öbek İsmi</th>\n",
       "    </tr>\n",
       "    <tr>\n",
       "      <th>id</th>\n",
       "      <th></th>\n",
       "    </tr>\n",
       "  </thead>\n",
       "  <tbody>\n",
       "    <tr>\n",
       "      <th>0</th>\n",
       "      <td>obek_3</td>\n",
       "    </tr>\n",
       "    <tr>\n",
       "      <th>1</th>\n",
       "      <td>obek_3</td>\n",
       "    </tr>\n",
       "    <tr>\n",
       "      <th>2</th>\n",
       "      <td>obek_2</td>\n",
       "    </tr>\n",
       "    <tr>\n",
       "      <th>3</th>\n",
       "      <td>obek_6</td>\n",
       "    </tr>\n",
       "    <tr>\n",
       "      <th>4</th>\n",
       "      <td>obek_1</td>\n",
       "    </tr>\n",
       "    <tr>\n",
       "      <th>...</th>\n",
       "      <td>...</td>\n",
       "    </tr>\n",
       "    <tr>\n",
       "      <th>2335</th>\n",
       "      <td>obek_8</td>\n",
       "    </tr>\n",
       "    <tr>\n",
       "      <th>2336</th>\n",
       "      <td>obek_2</td>\n",
       "    </tr>\n",
       "    <tr>\n",
       "      <th>2337</th>\n",
       "      <td>obek_7</td>\n",
       "    </tr>\n",
       "    <tr>\n",
       "      <th>2338</th>\n",
       "      <td>obek_5</td>\n",
       "    </tr>\n",
       "    <tr>\n",
       "      <th>2339</th>\n",
       "      <td>obek_6</td>\n",
       "    </tr>\n",
       "  </tbody>\n",
       "</table>\n",
       "<p>2340 rows × 1 columns</p>\n",
       "</div>"
      ],
      "text/plain": [
       "     Öbek İsmi\n",
       "id            \n",
       "0       obek_3\n",
       "1       obek_3\n",
       "2       obek_2\n",
       "3       obek_6\n",
       "4       obek_1\n",
       "...        ...\n",
       "2335    obek_8\n",
       "2336    obek_2\n",
       "2337    obek_7\n",
       "2338    obek_5\n",
       "2339    obek_6\n",
       "\n",
       "[2340 rows x 1 columns]"
      ]
     },
     "execution_count": 11,
     "metadata": {},
     "output_type": "execute_result"
    }
   ],
   "source": [
    "sub_df"
   ]
  },
  {
   "cell_type": "code",
   "execution_count": 12,
   "id": "508c3690-e65e-40a1-85b3-7c94a9c3af7a",
   "metadata": {
    "tags": []
   },
   "outputs": [],
   "source": [
    "sub_df.to_csv('submission2.csv')"
   ]
  },
  {
   "cell_type": "code",
   "execution_count": null,
   "id": "df5a6cd5-e7d9-4874-91bb-29be3914b5aa",
   "metadata": {},
   "outputs": [],
   "source": []
  }
 ],
 "metadata": {
  "kernelspec": {
   "display_name": "Python 3 (ipykernel)",
   "language": "python",
   "name": "python3"
  },
  "language_info": {
   "codemirror_mode": {
    "name": "ipython",
    "version": 3
   },
   "file_extension": ".py",
   "mimetype": "text/x-python",
   "name": "python",
   "nbconvert_exporter": "python",
   "pygments_lexer": "ipython3",
   "version": "3.9.13"
  }
 },
 "nbformat": 4,
 "nbformat_minor": 5
}
