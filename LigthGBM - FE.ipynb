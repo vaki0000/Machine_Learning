{
 "cells": [
  {
   "cell_type": "code",
   "execution_count": 1,
   "id": "51fe1d76-1e5b-4104-ba17-1c2ea37b850b",
   "metadata": {
    "tags": []
   },
   "outputs": [],
   "source": [
    "# libraries for EDA\n",
    "import numpy as np\n",
    "import pandas as pd\n",
    "import matplotlib.pyplot as plt\n",
    "import seaborn as sns\n",
    "\n",
    "#To display the plots\n",
    "%matplotlib inline\n",
    "\n",
    "# scikit learn library for machine learning algorithms, data preprocessing, and evaluation\n",
    "from sklearn.preprocessing import StandardScaler, MinMaxScaler, RobustScaler, OrdinalEncoder, LabelEncoder, OneHotEncoder\n",
    "from sklearn.model_selection import train_test_split, GridSearchCV, RandomizedSearchCV, cross_validate, cross_val_score\n",
    "from sklearn.linear_model import LogisticRegression\n",
    "from sklearn.svm import SVC\n",
    "from sklearn.neighbors import KNeighborsClassifier\n",
    "from sklearn.tree import DecisionTreeClassifier\n",
    "from sklearn.ensemble import BaggingClassifier, RandomForestClassifier\n",
    "from xgboost import XGBClassifier\n",
    "\n",
    "from sklearn.metrics import classification_report, confusion_matrix, log_loss, recall_score, accuracy_score, precision_score, f1_score, roc_auc_score\n",
    "from sklearn.metrics import make_scorer, average_precision_score, PrecisionRecallDisplay, precision_recall_curve, roc_curve\n",
    "from sklearn.metrics import ConfusionMatrixDisplay\n",
    "\n",
    "from sklearn.compose import make_column_transformer, ColumnTransformer\n",
    "from sklearn.preprocessing import MinMaxScaler, StandardScaler, RobustScaler, PowerTransformer\n",
    "from sklearn.pipeline import Pipeline\n",
    "\n",
    "import scikitplot as skplt\n",
    "\n",
    "# yellowbrick library for visualizing the model performance\n",
    "from yellowbrick.classifier import ConfusionMatrix, PrecisionRecallCurve\n",
    "from yellowbrick.classifier import PrecisionRecallCurve\n",
    "from sklearn.pipeline import Pipeline\n",
    "\n",
    "# to get rid of the warnings\n",
    "import warnings\n",
    "warnings.filterwarnings(\"ignore\")\n",
    "warnings.warn(\"this will not show\")\n",
    "\n",
    "plt.rcParams[\"figure.figsize\"] = (10,6)\n",
    "sns.set_style(\"whitegrid\", {'axes.grid' : True})\n",
    "\n",
    "# To display maximum columns\n",
    "pd.set_option('display.max_columns', 50)\n",
    "\n",
    "# To display maximum rows\n",
    "pd.set_option('display.max_rows', 50)\n",
    "\n",
    "# To set float format\n",
    "pd.set_option('display.float_format', lambda x: '%.2f' % x)"
   ]
  },
  {
   "cell_type": "code",
   "execution_count": 2,
   "id": "52a64c63-4a4f-47f0-b28b-b88382e2d9c4",
   "metadata": {
    "tags": []
   },
   "outputs": [],
   "source": [
    "def eval_metric(model, X_train, y_train, X_test, y_test):   \n",
    "    y_pred = model.predict(X_test)\n",
    "    y_train_pred = model.predict(X_train)\n",
    "    \n",
    "    print(\"Test_Set\")\n",
    "    print(confusion_matrix(y_test, y_pred))\n",
    "    print(classification_report(y_test, y_pred))\n",
    "    print()\n",
    "    print(\"Train_Set\")\n",
    "    print(confusion_matrix(y_train, y_train_pred))\n",
    "    print(classification_report(y_train, y_train_pred))"
   ]
  },
  {
   "cell_type": "code",
   "execution_count": 3,
   "id": "637cfebe-558d-4fe4-b2b6-774f20fdfe24",
   "metadata": {
    "tags": []
   },
   "outputs": [],
   "source": [
    "train = pd.read_csv('train.csv')\n",
    "test = pd.read_csv('test_x.csv')\n",
    "\n",
    "df = train.copy()"
   ]
  },
  {
   "cell_type": "code",
   "execution_count": 4,
   "id": "c33f6592-49e4-4958-9d2b-47a16756131e",
   "metadata": {
    "tags": []
   },
   "outputs": [],
   "source": [
    "df['A'] = df['Yıllık Ortalama Sipariş Verilen Ürün Adedi'] / df['Yıllık Ortalama Sepete Atılan Ürün Adedi']\n",
    "df['B'] = df['Yıllık Ortalama Satın Alım Miktarı'] / df['Yıllık Ortalama Gelir'] \n",
    "df['C'] = df['Yıllık Ortalama Satın Alım Miktarı'] / df['Yıllık Ortalama Sipariş Verilen Ürün Adedi']\n",
    "df[\"D\"]= df['Cinsiyet'] + \" \" + df['Yaş Grubu'] + \" \" + df[\"Medeni Durum\"]"
   ]
  },
  {
   "cell_type": "code",
   "execution_count": 5,
   "id": "2c4a0215-1946-43c1-ae0f-f71083c38cbe",
   "metadata": {
    "tags": []
   },
   "outputs": [],
   "source": [
    "test['A'] = test['Yıllık Ortalama Sipariş Verilen Ürün Adedi'] / test['Yıllık Ortalama Sepete Atılan Ürün Adedi'] \n",
    "test['B'] = test['Yıllık Ortalama Satın Alım Miktarı'] / test['Yıllık Ortalama Gelir']\n",
    "test['C'] = test['Yıllık Ortalama Satın Alım Miktarı'] / test['Yıllık Ortalama Sipariş Verilen Ürün Adedi']\n",
    "test[\"D\"]= test['Cinsiyet'] + \" \" + test['Yaş Grubu'] + \" \" + test[\"Medeni Durum\"]"
   ]
  },
  {
   "cell_type": "code",
   "execution_count": 6,
   "id": "5a18e135-bbdb-4d07-bf8e-a74f4430bbc0",
   "metadata": {
    "tags": []
   },
   "outputs": [
    {
     "data": {
      "text/html": [
       "<div>\n",
       "<style scoped>\n",
       "    .dataframe tbody tr th:only-of-type {\n",
       "        vertical-align: middle;\n",
       "    }\n",
       "\n",
       "    .dataframe tbody tr th {\n",
       "        vertical-align: top;\n",
       "    }\n",
       "\n",
       "    .dataframe thead th {\n",
       "        text-align: right;\n",
       "    }\n",
       "</style>\n",
       "<table border=\"1\" class=\"dataframe\">\n",
       "  <thead>\n",
       "    <tr style=\"text-align: right;\">\n",
       "      <th></th>\n",
       "      <th>index</th>\n",
       "      <th>Cinsiyet</th>\n",
       "      <th>Yaş Grubu</th>\n",
       "      <th>Medeni Durum</th>\n",
       "      <th>Eğitim Düzeyi</th>\n",
       "      <th>İstihdam Durumu</th>\n",
       "      <th>Yıllık Ortalama Gelir</th>\n",
       "      <th>Yaşadığı Şehir</th>\n",
       "      <th>En Çok İlgilendiği Ürün Grubu</th>\n",
       "      <th>Yıllık Ortalama Satın Alım Miktarı</th>\n",
       "      <th>Yıllık Ortalama Sipariş Verilen Ürün Adedi</th>\n",
       "      <th>Eğitime Devam Etme Durumu</th>\n",
       "      <th>Öbek İsmi</th>\n",
       "      <th>Yıllık Ortalama Sepete Atılan Ürün Adedi</th>\n",
       "      <th>A</th>\n",
       "      <th>B</th>\n",
       "      <th>C</th>\n",
       "    </tr>\n",
       "  </thead>\n",
       "  <tbody>\n",
       "    <tr>\n",
       "      <th>0</th>\n",
       "      <td>0</td>\n",
       "      <td>Kadın</td>\n",
       "      <td>31-40</td>\n",
       "      <td>Bekar</td>\n",
       "      <td>Yüksek Lisans Mezunu</td>\n",
       "      <td>Düzenli ve Ücretli Bir İşi Var</td>\n",
       "      <td>748266.44</td>\n",
       "      <td>Büyük Şehir</td>\n",
       "      <td>Elektronik ve Teknolojik Ürünler</td>\n",
       "      <td>32010.90</td>\n",
       "      <td>37.31</td>\n",
       "      <td>Etmiyor</td>\n",
       "      <td>obek_4</td>\n",
       "      <td>102.94</td>\n",
       "      <td>0.36</td>\n",
       "      <td>0.04</td>\n",
       "      <td>0.04</td>\n",
       "    </tr>\n",
       "    <tr>\n",
       "      <th>1</th>\n",
       "      <td>1</td>\n",
       "      <td>Erkek</td>\n",
       "      <td>&gt;60</td>\n",
       "      <td>Evli</td>\n",
       "      <td>Lise Mezunu</td>\n",
       "      <td>Kendi İşinin Sahibi</td>\n",
       "      <td>246298.61</td>\n",
       "      <td>Küçük Şehir</td>\n",
       "      <td>Spor Malzemeleri</td>\n",
       "      <td>4145.73</td>\n",
       "      <td>11.55</td>\n",
       "      <td>Etmiyor</td>\n",
       "      <td>obek_5</td>\n",
       "      <td>82.18</td>\n",
       "      <td>0.14</td>\n",
       "      <td>0.02</td>\n",
       "      <td>0.02</td>\n",
       "    </tr>\n",
       "    <tr>\n",
       "      <th>2</th>\n",
       "      <td>2</td>\n",
       "      <td>Erkek</td>\n",
       "      <td>18-30</td>\n",
       "      <td>Bekar</td>\n",
       "      <td>Lise Mezunu</td>\n",
       "      <td>Düzenli ve Ücretli Bir İşi Var</td>\n",
       "      <td>268582.73</td>\n",
       "      <td>Küçük Şehir</td>\n",
       "      <td>Giyim</td>\n",
       "      <td>9924.38</td>\n",
       "      <td>55.35</td>\n",
       "      <td>Ediyor</td>\n",
       "      <td>obek_8</td>\n",
       "      <td>141.66</td>\n",
       "      <td>0.39</td>\n",
       "      <td>0.04</td>\n",
       "      <td>0.04</td>\n",
       "    </tr>\n",
       "    <tr>\n",
       "      <th>3</th>\n",
       "      <td>3</td>\n",
       "      <td>Erkek</td>\n",
       "      <td>51-60</td>\n",
       "      <td>Evli</td>\n",
       "      <td>Lise Mezunu</td>\n",
       "      <td>Kendi İşinin Sahibi</td>\n",
       "      <td>327721.84</td>\n",
       "      <td>Kırsal</td>\n",
       "      <td>Giyim</td>\n",
       "      <td>6417.78</td>\n",
       "      <td>15.42</td>\n",
       "      <td>Etmiyor</td>\n",
       "      <td>obek_3</td>\n",
       "      <td>17.10</td>\n",
       "      <td>0.90</td>\n",
       "      <td>0.02</td>\n",
       "      <td>0.02</td>\n",
       "    </tr>\n",
       "    <tr>\n",
       "      <th>4</th>\n",
       "      <td>4</td>\n",
       "      <td>Erkek</td>\n",
       "      <td>31-40</td>\n",
       "      <td>Evli</td>\n",
       "      <td>Ortaokul Mezunu</td>\n",
       "      <td>İşsiz veya Düzenli Bir İşi Yok</td>\n",
       "      <td>397431.63</td>\n",
       "      <td>Büyük Şehir</td>\n",
       "      <td>Giyim</td>\n",
       "      <td>7886.66</td>\n",
       "      <td>14.69</td>\n",
       "      <td>Etmiyor</td>\n",
       "      <td>obek_3</td>\n",
       "      <td>20.47</td>\n",
       "      <td>0.72</td>\n",
       "      <td>0.02</td>\n",
       "      <td>0.02</td>\n",
       "    </tr>\n",
       "  </tbody>\n",
       "</table>\n",
       "</div>"
      ],
      "text/plain": [
       "   index Cinsiyet Yaş Grubu Medeni Durum         Eğitim Düzeyi  \\\n",
       "0      0    Kadın     31-40        Bekar  Yüksek Lisans Mezunu   \n",
       "1      1    Erkek       >60         Evli           Lise Mezunu   \n",
       "2      2    Erkek     18-30        Bekar           Lise Mezunu   \n",
       "3      3    Erkek     51-60         Evli           Lise Mezunu   \n",
       "4      4    Erkek     31-40         Evli       Ortaokul Mezunu   \n",
       "\n",
       "                  İstihdam Durumu  Yıllık Ortalama Gelir Yaşadığı Şehir  \\\n",
       "0  Düzenli ve Ücretli Bir İşi Var              748266.44    Büyük Şehir   \n",
       "1             Kendi İşinin Sahibi              246298.61    Küçük Şehir   \n",
       "2  Düzenli ve Ücretli Bir İşi Var              268582.73    Küçük Şehir   \n",
       "3             Kendi İşinin Sahibi              327721.84         Kırsal   \n",
       "4  İşsiz veya Düzenli Bir İşi Yok              397431.63    Büyük Şehir   \n",
       "\n",
       "      En Çok İlgilendiği Ürün Grubu  Yıllık Ortalama Satın Alım Miktarı  \\\n",
       "0  Elektronik ve Teknolojik Ürünler                            32010.90   \n",
       "1                  Spor Malzemeleri                             4145.73   \n",
       "2                             Giyim                             9924.38   \n",
       "3                             Giyim                             6417.78   \n",
       "4                             Giyim                             7886.66   \n",
       "\n",
       "   Yıllık Ortalama Sipariş Verilen Ürün Adedi Eğitime Devam Etme Durumu  \\\n",
       "0                                       37.31                   Etmiyor   \n",
       "1                                       11.55                   Etmiyor   \n",
       "2                                       55.35                    Ediyor   \n",
       "3                                       15.42                   Etmiyor   \n",
       "4                                       14.69                   Etmiyor   \n",
       "\n",
       "  Öbek İsmi  Yıllık Ortalama Sepete Atılan Ürün Adedi    A    B    C  \n",
       "0    obek_4                                    102.94 0.36 0.04 0.04  \n",
       "1    obek_5                                     82.18 0.14 0.02 0.02  \n",
       "2    obek_8                                    141.66 0.39 0.04 0.04  \n",
       "3    obek_3                                     17.10 0.90 0.02 0.02  \n",
       "4    obek_3                                     20.47 0.72 0.02 0.02  "
      ]
     },
     "execution_count": 6,
     "metadata": {},
     "output_type": "execute_result"
    }
   ],
   "source": [
    "df.head()"
   ]
  },
  {
   "cell_type": "code",
   "execution_count": 7,
   "id": "102f0a69-1cc9-445e-bb9d-6a4b7336a901",
   "metadata": {
    "tags": []
   },
   "outputs": [],
   "source": [
    "from sklearn.model_selection import train_test_split\n",
    "\n",
    "X = df.drop([\"Öbek İsmi\", 'index'], axis=1)\n",
    "y = df[\"Öbek İsmi\"]\n",
    "\n",
    "X_train, X_test, y_train, y_test = train_test_split(X, y, test_size=0.2, stratify=y, random_state=42)"
   ]
  },
  {
   "cell_type": "code",
   "execution_count": 8,
   "id": "4ac769a5-3df2-4a7e-874a-5074cf6bf967",
   "metadata": {
    "tags": []
   },
   "outputs": [
    {
     "data": {
      "text/plain": [
       "Index(['Cinsiyet', 'Yaş Grubu', 'Medeni Durum', 'Eğitim Düzeyi',\n",
       "       'İstihdam Durumu', 'Yaşadığı Şehir', 'En Çok İlgilendiği Ürün Grubu',\n",
       "       'Eğitime Devam Etme Durumu'],\n",
       "      dtype='object')"
      ]
     },
     "execution_count": 8,
     "metadata": {},
     "output_type": "execute_result"
    }
   ],
   "source": [
    "cat = X_train.select_dtypes(\"object\").columns\n",
    "cat"
   ]
  },
  {
   "cell_type": "code",
   "execution_count": 9,
   "id": "c3792dde-24a7-477c-9948-2dee4da6f2e5",
   "metadata": {
    "tags": []
   },
   "outputs": [],
   "source": [
    "ord_enc = OrdinalEncoder(handle_unknown='use_encoded_value', \n",
    "                         unknown_value=-1)\n",
    "\n",
    "column_trans = make_column_transformer((ord_enc, cat), \n",
    "                                        remainder='passthrough')"
   ]
  },
  {
   "cell_type": "code",
   "execution_count": 10,
   "id": "d12c47b9-9938-4e38-b35a-7fad829ed3d2",
   "metadata": {
    "tags": []
   },
   "outputs": [
    {
     "data": {
      "text/html": [
       "<style>#sk-container-id-1 {color: black;background-color: white;}#sk-container-id-1 pre{padding: 0;}#sk-container-id-1 div.sk-toggleable {background-color: white;}#sk-container-id-1 label.sk-toggleable__label {cursor: pointer;display: block;width: 100%;margin-bottom: 0;padding: 0.3em;box-sizing: border-box;text-align: center;}#sk-container-id-1 label.sk-toggleable__label-arrow:before {content: \"▸\";float: left;margin-right: 0.25em;color: #696969;}#sk-container-id-1 label.sk-toggleable__label-arrow:hover:before {color: black;}#sk-container-id-1 div.sk-estimator:hover label.sk-toggleable__label-arrow:before {color: black;}#sk-container-id-1 div.sk-toggleable__content {max-height: 0;max-width: 0;overflow: hidden;text-align: left;background-color: #f0f8ff;}#sk-container-id-1 div.sk-toggleable__content pre {margin: 0.2em;color: black;border-radius: 0.25em;background-color: #f0f8ff;}#sk-container-id-1 input.sk-toggleable__control:checked~div.sk-toggleable__content {max-height: 200px;max-width: 100%;overflow: auto;}#sk-container-id-1 input.sk-toggleable__control:checked~label.sk-toggleable__label-arrow:before {content: \"▾\";}#sk-container-id-1 div.sk-estimator input.sk-toggleable__control:checked~label.sk-toggleable__label {background-color: #d4ebff;}#sk-container-id-1 div.sk-label input.sk-toggleable__control:checked~label.sk-toggleable__label {background-color: #d4ebff;}#sk-container-id-1 input.sk-hidden--visually {border: 0;clip: rect(1px 1px 1px 1px);clip: rect(1px, 1px, 1px, 1px);height: 1px;margin: -1px;overflow: hidden;padding: 0;position: absolute;width: 1px;}#sk-container-id-1 div.sk-estimator {font-family: monospace;background-color: #f0f8ff;border: 1px dotted black;border-radius: 0.25em;box-sizing: border-box;margin-bottom: 0.5em;}#sk-container-id-1 div.sk-estimator:hover {background-color: #d4ebff;}#sk-container-id-1 div.sk-parallel-item::after {content: \"\";width: 100%;border-bottom: 1px solid gray;flex-grow: 1;}#sk-container-id-1 div.sk-label:hover label.sk-toggleable__label {background-color: #d4ebff;}#sk-container-id-1 div.sk-serial::before {content: \"\";position: absolute;border-left: 1px solid gray;box-sizing: border-box;top: 0;bottom: 0;left: 50%;z-index: 0;}#sk-container-id-1 div.sk-serial {display: flex;flex-direction: column;align-items: center;background-color: white;padding-right: 0.2em;padding-left: 0.2em;position: relative;}#sk-container-id-1 div.sk-item {position: relative;z-index: 1;}#sk-container-id-1 div.sk-parallel {display: flex;align-items: stretch;justify-content: center;background-color: white;position: relative;}#sk-container-id-1 div.sk-item::before, #sk-container-id-1 div.sk-parallel-item::before {content: \"\";position: absolute;border-left: 1px solid gray;box-sizing: border-box;top: 0;bottom: 0;left: 50%;z-index: -1;}#sk-container-id-1 div.sk-parallel-item {display: flex;flex-direction: column;z-index: 1;position: relative;background-color: white;}#sk-container-id-1 div.sk-parallel-item:first-child::after {align-self: flex-end;width: 50%;}#sk-container-id-1 div.sk-parallel-item:last-child::after {align-self: flex-start;width: 50%;}#sk-container-id-1 div.sk-parallel-item:only-child::after {width: 0;}#sk-container-id-1 div.sk-dashed-wrapped {border: 1px dashed gray;margin: 0 0.4em 0.5em 0.4em;box-sizing: border-box;padding-bottom: 0.4em;background-color: white;}#sk-container-id-1 div.sk-label label {font-family: monospace;font-weight: bold;display: inline-block;line-height: 1.2em;}#sk-container-id-1 div.sk-label-container {text-align: center;}#sk-container-id-1 div.sk-container {/* jupyter's `normalize.less` sets `[hidden] { display: none; }` but bootstrap.min.css set `[hidden] { display: none !important; }` so we also need the `!important` here to be able to override the default hidden behavior on the sphinx rendered scikit-learn.org. See: https://github.com/scikit-learn/scikit-learn/issues/21755 */display: inline-block !important;position: relative;}#sk-container-id-1 div.sk-text-repr-fallback {display: none;}</style><div id=\"sk-container-id-1\" class=\"sk-top-container\"><div class=\"sk-text-repr-fallback\"><pre>Pipeline(steps=[(&#x27;OrdinalEncoder&#x27;,\n",
       "                 ColumnTransformer(remainder=&#x27;passthrough&#x27;,\n",
       "                                   transformers=[(&#x27;ordinalencoder&#x27;,\n",
       "                                                  OrdinalEncoder(handle_unknown=&#x27;use_encoded_value&#x27;,\n",
       "                                                                 unknown_value=-1),\n",
       "                                                  Index([&#x27;Cinsiyet&#x27;, &#x27;Yaş Grubu&#x27;, &#x27;Medeni Durum&#x27;, &#x27;Eğitim Düzeyi&#x27;,\n",
       "       &#x27;İstihdam Durumu&#x27;, &#x27;Yaşadığı Şehir&#x27;, &#x27;En Çok İlgilendiği Ürün Grubu&#x27;,\n",
       "       &#x27;Eğitime Devam Etme Durumu&#x27;],\n",
       "      dtype=&#x27;object&#x27;))])),\n",
       "                (&#x27;lightgbm_model&#x27;, LGBMClassifier(random_state=42))])</pre><b>In a Jupyter environment, please rerun this cell to show the HTML representation or trust the notebook. <br />On GitHub, the HTML representation is unable to render, please try loading this page with nbviewer.org.</b></div><div class=\"sk-container\" hidden><div class=\"sk-item sk-dashed-wrapped\"><div class=\"sk-label-container\"><div class=\"sk-label sk-toggleable\"><input class=\"sk-toggleable__control sk-hidden--visually\" id=\"sk-estimator-id-1\" type=\"checkbox\" ><label for=\"sk-estimator-id-1\" class=\"sk-toggleable__label sk-toggleable__label-arrow\">Pipeline</label><div class=\"sk-toggleable__content\"><pre>Pipeline(steps=[(&#x27;OrdinalEncoder&#x27;,\n",
       "                 ColumnTransformer(remainder=&#x27;passthrough&#x27;,\n",
       "                                   transformers=[(&#x27;ordinalencoder&#x27;,\n",
       "                                                  OrdinalEncoder(handle_unknown=&#x27;use_encoded_value&#x27;,\n",
       "                                                                 unknown_value=-1),\n",
       "                                                  Index([&#x27;Cinsiyet&#x27;, &#x27;Yaş Grubu&#x27;, &#x27;Medeni Durum&#x27;, &#x27;Eğitim Düzeyi&#x27;,\n",
       "       &#x27;İstihdam Durumu&#x27;, &#x27;Yaşadığı Şehir&#x27;, &#x27;En Çok İlgilendiği Ürün Grubu&#x27;,\n",
       "       &#x27;Eğitime Devam Etme Durumu&#x27;],\n",
       "      dtype=&#x27;object&#x27;))])),\n",
       "                (&#x27;lightgbm_model&#x27;, LGBMClassifier(random_state=42))])</pre></div></div></div><div class=\"sk-serial\"><div class=\"sk-item sk-dashed-wrapped\"><div class=\"sk-label-container\"><div class=\"sk-label sk-toggleable\"><input class=\"sk-toggleable__control sk-hidden--visually\" id=\"sk-estimator-id-2\" type=\"checkbox\" ><label for=\"sk-estimator-id-2\" class=\"sk-toggleable__label sk-toggleable__label-arrow\">OrdinalEncoder: ColumnTransformer</label><div class=\"sk-toggleable__content\"><pre>ColumnTransformer(remainder=&#x27;passthrough&#x27;,\n",
       "                  transformers=[(&#x27;ordinalencoder&#x27;,\n",
       "                                 OrdinalEncoder(handle_unknown=&#x27;use_encoded_value&#x27;,\n",
       "                                                unknown_value=-1),\n",
       "                                 Index([&#x27;Cinsiyet&#x27;, &#x27;Yaş Grubu&#x27;, &#x27;Medeni Durum&#x27;, &#x27;Eğitim Düzeyi&#x27;,\n",
       "       &#x27;İstihdam Durumu&#x27;, &#x27;Yaşadığı Şehir&#x27;, &#x27;En Çok İlgilendiği Ürün Grubu&#x27;,\n",
       "       &#x27;Eğitime Devam Etme Durumu&#x27;],\n",
       "      dtype=&#x27;object&#x27;))])</pre></div></div></div><div class=\"sk-parallel\"><div class=\"sk-parallel-item\"><div class=\"sk-item\"><div class=\"sk-label-container\"><div class=\"sk-label sk-toggleable\"><input class=\"sk-toggleable__control sk-hidden--visually\" id=\"sk-estimator-id-3\" type=\"checkbox\" ><label for=\"sk-estimator-id-3\" class=\"sk-toggleable__label sk-toggleable__label-arrow\">ordinalencoder</label><div class=\"sk-toggleable__content\"><pre>Index([&#x27;Cinsiyet&#x27;, &#x27;Yaş Grubu&#x27;, &#x27;Medeni Durum&#x27;, &#x27;Eğitim Düzeyi&#x27;,\n",
       "       &#x27;İstihdam Durumu&#x27;, &#x27;Yaşadığı Şehir&#x27;, &#x27;En Çok İlgilendiği Ürün Grubu&#x27;,\n",
       "       &#x27;Eğitime Devam Etme Durumu&#x27;],\n",
       "      dtype=&#x27;object&#x27;)</pre></div></div></div><div class=\"sk-serial\"><div class=\"sk-item\"><div class=\"sk-estimator sk-toggleable\"><input class=\"sk-toggleable__control sk-hidden--visually\" id=\"sk-estimator-id-4\" type=\"checkbox\" ><label for=\"sk-estimator-id-4\" class=\"sk-toggleable__label sk-toggleable__label-arrow\">OrdinalEncoder</label><div class=\"sk-toggleable__content\"><pre>OrdinalEncoder(handle_unknown=&#x27;use_encoded_value&#x27;, unknown_value=-1)</pre></div></div></div></div></div></div><div class=\"sk-parallel-item\"><div class=\"sk-item\"><div class=\"sk-label-container\"><div class=\"sk-label sk-toggleable\"><input class=\"sk-toggleable__control sk-hidden--visually\" id=\"sk-estimator-id-5\" type=\"checkbox\" ><label for=\"sk-estimator-id-5\" class=\"sk-toggleable__label sk-toggleable__label-arrow\">remainder</label><div class=\"sk-toggleable__content\"><pre>[&#x27;Yıllık Ortalama Gelir&#x27;, &#x27;Yıllık Ortalama Satın Alım Miktarı&#x27;, &#x27;Yıllık Ortalama Sipariş Verilen Ürün Adedi&#x27;, &#x27;Yıllık Ortalama Sepete Atılan Ürün Adedi&#x27;, &#x27;A&#x27;, &#x27;B&#x27;, &#x27;C&#x27;]</pre></div></div></div><div class=\"sk-serial\"><div class=\"sk-item\"><div class=\"sk-estimator sk-toggleable\"><input class=\"sk-toggleable__control sk-hidden--visually\" id=\"sk-estimator-id-6\" type=\"checkbox\" ><label for=\"sk-estimator-id-6\" class=\"sk-toggleable__label sk-toggleable__label-arrow\">passthrough</label><div class=\"sk-toggleable__content\"><pre>passthrough</pre></div></div></div></div></div></div></div></div><div class=\"sk-item\"><div class=\"sk-estimator sk-toggleable\"><input class=\"sk-toggleable__control sk-hidden--visually\" id=\"sk-estimator-id-7\" type=\"checkbox\" ><label for=\"sk-estimator-id-7\" class=\"sk-toggleable__label sk-toggleable__label-arrow\">LGBMClassifier</label><div class=\"sk-toggleable__content\"><pre>LGBMClassifier(random_state=42)</pre></div></div></div></div></div></div></div>"
      ],
      "text/plain": [
       "Pipeline(steps=[('OrdinalEncoder',\n",
       "                 ColumnTransformer(remainder='passthrough',\n",
       "                                   transformers=[('ordinalencoder',\n",
       "                                                  OrdinalEncoder(handle_unknown='use_encoded_value',\n",
       "                                                                 unknown_value=-1),\n",
       "                                                  Index(['Cinsiyet', 'Yaş Grubu', 'Medeni Durum', 'Eğitim Düzeyi',\n",
       "       'İstihdam Durumu', 'Yaşadığı Şehir', 'En Çok İlgilendiği Ürün Grubu',\n",
       "       'Eğitime Devam Etme Durumu'],\n",
       "      dtype='object'))])),\n",
       "                ('lightgbm_model', LGBMClassifier(random_state=42))])"
      ]
     },
     "execution_count": 10,
     "metadata": {},
     "output_type": "execute_result"
    }
   ],
   "source": [
    "import lightgbm as lgb\n",
    "\n",
    "operations_lightgbm = [(\"OrdinalEncoder\", column_trans), \n",
    "                       (\"lightgbm_model\", lgb.LGBMClassifier(random_state=42))]\n",
    "\n",
    "lightgbm_model = Pipeline(steps=operations_lightgbm)\n",
    "\n",
    "lightgbm_model.fit(X_train, y_train)"
   ]
  },
  {
   "cell_type": "code",
   "execution_count": 11,
   "id": "ea37daf3-2038-4595-b2c2-57149725e01b",
   "metadata": {
    "tags": []
   },
   "outputs": [
    {
     "name": "stdout",
     "output_type": "stream",
     "text": [
      "Test_Set\n",
      "[[131   1   3   0   0   0   1   2]\n",
      " [  0 104   2   0   0   0   1   2]\n",
      " [  0   0 135   0   1   3   0   0]\n",
      " [  1   0   2 137   0   1   2   1]\n",
      " [  1   1   1   1 134   2   0   1]\n",
      " [  1   1   0   0   0 133   2   1]\n",
      " [  1   2   1   0   0   1 134   0]\n",
      " [  0   0   2   2   0   0   2 138]]\n",
      "              precision    recall  f1-score   support\n",
      "\n",
      "      obek_1       0.97      0.95      0.96       138\n",
      "      obek_2       0.95      0.95      0.95       109\n",
      "      obek_3       0.92      0.97      0.95       139\n",
      "      obek_4       0.98      0.95      0.96       144\n",
      "      obek_5       0.99      0.95      0.97       141\n",
      "      obek_6       0.95      0.96      0.96       138\n",
      "      obek_7       0.94      0.96      0.95       139\n",
      "      obek_8       0.95      0.96      0.96       144\n",
      "\n",
      "    accuracy                           0.96      1092\n",
      "   macro avg       0.96      0.96      0.96      1092\n",
      "weighted avg       0.96      0.96      0.96      1092\n",
      "\n",
      "\n",
      "Train_Set\n",
      "[[554   0   0   0   0   0   0   0]\n",
      " [  0 438   0   0   0   0   0   0]\n",
      " [  0   0 556   0   0   0   0   0]\n",
      " [  0   0   0 576   0   0   0   0]\n",
      " [  0   0   0   0 565   0   0   0]\n",
      " [  0   0   0   0   0 550   0   0]\n",
      " [  0   0   0   0   0   0 556   0]\n",
      " [  0   0   0   0   0   0   0 573]]\n",
      "              precision    recall  f1-score   support\n",
      "\n",
      "      obek_1       1.00      1.00      1.00       554\n",
      "      obek_2       1.00      1.00      1.00       438\n",
      "      obek_3       1.00      1.00      1.00       556\n",
      "      obek_4       1.00      1.00      1.00       576\n",
      "      obek_5       1.00      1.00      1.00       565\n",
      "      obek_6       1.00      1.00      1.00       550\n",
      "      obek_7       1.00      1.00      1.00       556\n",
      "      obek_8       1.00      1.00      1.00       573\n",
      "\n",
      "    accuracy                           1.00      4368\n",
      "   macro avg       1.00      1.00      1.00      4368\n",
      "weighted avg       1.00      1.00      1.00      4368\n",
      "\n"
     ]
    }
   ],
   "source": [
    "eval_metric(lightgbm_model, X_train, y_train, X_test, y_test)"
   ]
  },
  {
   "cell_type": "code",
   "execution_count": 12,
   "id": "9d1ff787-476b-4e2c-9e9e-b65445d43b2d",
   "metadata": {
    "tags": []
   },
   "outputs": [
    {
     "name": "stdout",
     "output_type": "stream",
     "text": [
      "LightGBM Model accuracy score: 0.9579\n"
     ]
    }
   ],
   "source": [
    "from sklearn.metrics import accuracy_score\n",
    "\n",
    "y_pred = lightgbm_model.predict(X_test)\n",
    "accuracy=accuracy_score(y_pred, y_test)\n",
    "print('LightGBM Model accuracy score: {0:0.4f}'.format(accuracy_score(y_test, y_pred)))"
   ]
  },
  {
   "cell_type": "code",
   "execution_count": null,
   "id": "d338212b-e092-498a-b300-4268f6139b67",
   "metadata": {},
   "outputs": [],
   "source": []
  },
  {
   "cell_type": "code",
   "execution_count": 13,
   "id": "dec6a49d-b08e-46d7-a8dc-3d315d35c373",
   "metadata": {
    "tags": []
   },
   "outputs": [
    {
     "data": {
      "text/html": [
       "<style>#sk-container-id-2 {color: black;background-color: white;}#sk-container-id-2 pre{padding: 0;}#sk-container-id-2 div.sk-toggleable {background-color: white;}#sk-container-id-2 label.sk-toggleable__label {cursor: pointer;display: block;width: 100%;margin-bottom: 0;padding: 0.3em;box-sizing: border-box;text-align: center;}#sk-container-id-2 label.sk-toggleable__label-arrow:before {content: \"▸\";float: left;margin-right: 0.25em;color: #696969;}#sk-container-id-2 label.sk-toggleable__label-arrow:hover:before {color: black;}#sk-container-id-2 div.sk-estimator:hover label.sk-toggleable__label-arrow:before {color: black;}#sk-container-id-2 div.sk-toggleable__content {max-height: 0;max-width: 0;overflow: hidden;text-align: left;background-color: #f0f8ff;}#sk-container-id-2 div.sk-toggleable__content pre {margin: 0.2em;color: black;border-radius: 0.25em;background-color: #f0f8ff;}#sk-container-id-2 input.sk-toggleable__control:checked~div.sk-toggleable__content {max-height: 200px;max-width: 100%;overflow: auto;}#sk-container-id-2 input.sk-toggleable__control:checked~label.sk-toggleable__label-arrow:before {content: \"▾\";}#sk-container-id-2 div.sk-estimator input.sk-toggleable__control:checked~label.sk-toggleable__label {background-color: #d4ebff;}#sk-container-id-2 div.sk-label input.sk-toggleable__control:checked~label.sk-toggleable__label {background-color: #d4ebff;}#sk-container-id-2 input.sk-hidden--visually {border: 0;clip: rect(1px 1px 1px 1px);clip: rect(1px, 1px, 1px, 1px);height: 1px;margin: -1px;overflow: hidden;padding: 0;position: absolute;width: 1px;}#sk-container-id-2 div.sk-estimator {font-family: monospace;background-color: #f0f8ff;border: 1px dotted black;border-radius: 0.25em;box-sizing: border-box;margin-bottom: 0.5em;}#sk-container-id-2 div.sk-estimator:hover {background-color: #d4ebff;}#sk-container-id-2 div.sk-parallel-item::after {content: \"\";width: 100%;border-bottom: 1px solid gray;flex-grow: 1;}#sk-container-id-2 div.sk-label:hover label.sk-toggleable__label {background-color: #d4ebff;}#sk-container-id-2 div.sk-serial::before {content: \"\";position: absolute;border-left: 1px solid gray;box-sizing: border-box;top: 0;bottom: 0;left: 50%;z-index: 0;}#sk-container-id-2 div.sk-serial {display: flex;flex-direction: column;align-items: center;background-color: white;padding-right: 0.2em;padding-left: 0.2em;position: relative;}#sk-container-id-2 div.sk-item {position: relative;z-index: 1;}#sk-container-id-2 div.sk-parallel {display: flex;align-items: stretch;justify-content: center;background-color: white;position: relative;}#sk-container-id-2 div.sk-item::before, #sk-container-id-2 div.sk-parallel-item::before {content: \"\";position: absolute;border-left: 1px solid gray;box-sizing: border-box;top: 0;bottom: 0;left: 50%;z-index: -1;}#sk-container-id-2 div.sk-parallel-item {display: flex;flex-direction: column;z-index: 1;position: relative;background-color: white;}#sk-container-id-2 div.sk-parallel-item:first-child::after {align-self: flex-end;width: 50%;}#sk-container-id-2 div.sk-parallel-item:last-child::after {align-self: flex-start;width: 50%;}#sk-container-id-2 div.sk-parallel-item:only-child::after {width: 0;}#sk-container-id-2 div.sk-dashed-wrapped {border: 1px dashed gray;margin: 0 0.4em 0.5em 0.4em;box-sizing: border-box;padding-bottom: 0.4em;background-color: white;}#sk-container-id-2 div.sk-label label {font-family: monospace;font-weight: bold;display: inline-block;line-height: 1.2em;}#sk-container-id-2 div.sk-label-container {text-align: center;}#sk-container-id-2 div.sk-container {/* jupyter's `normalize.less` sets `[hidden] { display: none; }` but bootstrap.min.css set `[hidden] { display: none !important; }` so we also need the `!important` here to be able to override the default hidden behavior on the sphinx rendered scikit-learn.org. See: https://github.com/scikit-learn/scikit-learn/issues/21755 */display: inline-block !important;position: relative;}#sk-container-id-2 div.sk-text-repr-fallback {display: none;}</style><div id=\"sk-container-id-2\" class=\"sk-top-container\"><div class=\"sk-text-repr-fallback\"><pre>Pipeline(steps=[(&#x27;OrdinalEncoder&#x27;,\n",
       "                 ColumnTransformer(remainder=&#x27;passthrough&#x27;,\n",
       "                                   transformers=[(&#x27;ordinalencoder&#x27;,\n",
       "                                                  OrdinalEncoder(handle_unknown=&#x27;use_encoded_value&#x27;,\n",
       "                                                                 unknown_value=-1),\n",
       "                                                  Index([&#x27;Cinsiyet&#x27;, &#x27;Yaş Grubu&#x27;, &#x27;Medeni Durum&#x27;, &#x27;Eğitim Düzeyi&#x27;,\n",
       "       &#x27;İstihdam Durumu&#x27;, &#x27;Yaşadığı Şehir&#x27;, &#x27;En Çok İlgilendiği Ürün Grubu&#x27;,\n",
       "       &#x27;Eğitime Devam Etme Durumu&#x27;],\n",
       "      dtype=&#x27;object&#x27;))])),\n",
       "                (&#x27;lightgbm_model&#x27;,\n",
       "                 LGBMClassifier(boosting_type=&#x27;dart&#x27;, colsample_bytree=0.6,\n",
       "                                is_unbalance=True, learning_rate=0.01,\n",
       "                                min_child_samples=30, n_estimators=1000,\n",
       "                                num_leaves=70, random_state=42, reg_alpha=0,\n",
       "                                scale_pos_weight=4, subsample_for_bin=3000))])</pre><b>In a Jupyter environment, please rerun this cell to show the HTML representation or trust the notebook. <br />On GitHub, the HTML representation is unable to render, please try loading this page with nbviewer.org.</b></div><div class=\"sk-container\" hidden><div class=\"sk-item sk-dashed-wrapped\"><div class=\"sk-label-container\"><div class=\"sk-label sk-toggleable\"><input class=\"sk-toggleable__control sk-hidden--visually\" id=\"sk-estimator-id-8\" type=\"checkbox\" ><label for=\"sk-estimator-id-8\" class=\"sk-toggleable__label sk-toggleable__label-arrow\">Pipeline</label><div class=\"sk-toggleable__content\"><pre>Pipeline(steps=[(&#x27;OrdinalEncoder&#x27;,\n",
       "                 ColumnTransformer(remainder=&#x27;passthrough&#x27;,\n",
       "                                   transformers=[(&#x27;ordinalencoder&#x27;,\n",
       "                                                  OrdinalEncoder(handle_unknown=&#x27;use_encoded_value&#x27;,\n",
       "                                                                 unknown_value=-1),\n",
       "                                                  Index([&#x27;Cinsiyet&#x27;, &#x27;Yaş Grubu&#x27;, &#x27;Medeni Durum&#x27;, &#x27;Eğitim Düzeyi&#x27;,\n",
       "       &#x27;İstihdam Durumu&#x27;, &#x27;Yaşadığı Şehir&#x27;, &#x27;En Çok İlgilendiği Ürün Grubu&#x27;,\n",
       "       &#x27;Eğitime Devam Etme Durumu&#x27;],\n",
       "      dtype=&#x27;object&#x27;))])),\n",
       "                (&#x27;lightgbm_model&#x27;,\n",
       "                 LGBMClassifier(boosting_type=&#x27;dart&#x27;, colsample_bytree=0.6,\n",
       "                                is_unbalance=True, learning_rate=0.01,\n",
       "                                min_child_samples=30, n_estimators=1000,\n",
       "                                num_leaves=70, random_state=42, reg_alpha=0,\n",
       "                                scale_pos_weight=4, subsample_for_bin=3000))])</pre></div></div></div><div class=\"sk-serial\"><div class=\"sk-item sk-dashed-wrapped\"><div class=\"sk-label-container\"><div class=\"sk-label sk-toggleable\"><input class=\"sk-toggleable__control sk-hidden--visually\" id=\"sk-estimator-id-9\" type=\"checkbox\" ><label for=\"sk-estimator-id-9\" class=\"sk-toggleable__label sk-toggleable__label-arrow\">OrdinalEncoder: ColumnTransformer</label><div class=\"sk-toggleable__content\"><pre>ColumnTransformer(remainder=&#x27;passthrough&#x27;,\n",
       "                  transformers=[(&#x27;ordinalencoder&#x27;,\n",
       "                                 OrdinalEncoder(handle_unknown=&#x27;use_encoded_value&#x27;,\n",
       "                                                unknown_value=-1),\n",
       "                                 Index([&#x27;Cinsiyet&#x27;, &#x27;Yaş Grubu&#x27;, &#x27;Medeni Durum&#x27;, &#x27;Eğitim Düzeyi&#x27;,\n",
       "       &#x27;İstihdam Durumu&#x27;, &#x27;Yaşadığı Şehir&#x27;, &#x27;En Çok İlgilendiği Ürün Grubu&#x27;,\n",
       "       &#x27;Eğitime Devam Etme Durumu&#x27;],\n",
       "      dtype=&#x27;object&#x27;))])</pre></div></div></div><div class=\"sk-parallel\"><div class=\"sk-parallel-item\"><div class=\"sk-item\"><div class=\"sk-label-container\"><div class=\"sk-label sk-toggleable\"><input class=\"sk-toggleable__control sk-hidden--visually\" id=\"sk-estimator-id-10\" type=\"checkbox\" ><label for=\"sk-estimator-id-10\" class=\"sk-toggleable__label sk-toggleable__label-arrow\">ordinalencoder</label><div class=\"sk-toggleable__content\"><pre>Index([&#x27;Cinsiyet&#x27;, &#x27;Yaş Grubu&#x27;, &#x27;Medeni Durum&#x27;, &#x27;Eğitim Düzeyi&#x27;,\n",
       "       &#x27;İstihdam Durumu&#x27;, &#x27;Yaşadığı Şehir&#x27;, &#x27;En Çok İlgilendiği Ürün Grubu&#x27;,\n",
       "       &#x27;Eğitime Devam Etme Durumu&#x27;],\n",
       "      dtype=&#x27;object&#x27;)</pre></div></div></div><div class=\"sk-serial\"><div class=\"sk-item\"><div class=\"sk-estimator sk-toggleable\"><input class=\"sk-toggleable__control sk-hidden--visually\" id=\"sk-estimator-id-11\" type=\"checkbox\" ><label for=\"sk-estimator-id-11\" class=\"sk-toggleable__label sk-toggleable__label-arrow\">OrdinalEncoder</label><div class=\"sk-toggleable__content\"><pre>OrdinalEncoder(handle_unknown=&#x27;use_encoded_value&#x27;, unknown_value=-1)</pre></div></div></div></div></div></div><div class=\"sk-parallel-item\"><div class=\"sk-item\"><div class=\"sk-label-container\"><div class=\"sk-label sk-toggleable\"><input class=\"sk-toggleable__control sk-hidden--visually\" id=\"sk-estimator-id-12\" type=\"checkbox\" ><label for=\"sk-estimator-id-12\" class=\"sk-toggleable__label sk-toggleable__label-arrow\">remainder</label><div class=\"sk-toggleable__content\"><pre>[&#x27;Yıllık Ortalama Gelir&#x27;, &#x27;Yıllık Ortalama Satın Alım Miktarı&#x27;, &#x27;Yıllık Ortalama Sipariş Verilen Ürün Adedi&#x27;, &#x27;Yıllık Ortalama Sepete Atılan Ürün Adedi&#x27;, &#x27;A&#x27;, &#x27;B&#x27;, &#x27;C&#x27;]</pre></div></div></div><div class=\"sk-serial\"><div class=\"sk-item\"><div class=\"sk-estimator sk-toggleable\"><input class=\"sk-toggleable__control sk-hidden--visually\" id=\"sk-estimator-id-13\" type=\"checkbox\" ><label for=\"sk-estimator-id-13\" class=\"sk-toggleable__label sk-toggleable__label-arrow\">passthrough</label><div class=\"sk-toggleable__content\"><pre>passthrough</pre></div></div></div></div></div></div></div></div><div class=\"sk-item\"><div class=\"sk-estimator sk-toggleable\"><input class=\"sk-toggleable__control sk-hidden--visually\" id=\"sk-estimator-id-14\" type=\"checkbox\" ><label for=\"sk-estimator-id-14\" class=\"sk-toggleable__label sk-toggleable__label-arrow\">LGBMClassifier</label><div class=\"sk-toggleable__content\"><pre>LGBMClassifier(boosting_type=&#x27;dart&#x27;, colsample_bytree=0.6, is_unbalance=True,\n",
       "               learning_rate=0.01, min_child_samples=30, n_estimators=1000,\n",
       "               num_leaves=70, random_state=42, reg_alpha=0, scale_pos_weight=4,\n",
       "               subsample_for_bin=3000)</pre></div></div></div></div></div></div></div>"
      ],
      "text/plain": [
       "Pipeline(steps=[('OrdinalEncoder',\n",
       "                 ColumnTransformer(remainder='passthrough',\n",
       "                                   transformers=[('ordinalencoder',\n",
       "                                                  OrdinalEncoder(handle_unknown='use_encoded_value',\n",
       "                                                                 unknown_value=-1),\n",
       "                                                  Index(['Cinsiyet', 'Yaş Grubu', 'Medeni Durum', 'Eğitim Düzeyi',\n",
       "       'İstihdam Durumu', 'Yaşadığı Şehir', 'En Çok İlgilendiği Ürün Grubu',\n",
       "       'Eğitime Devam Etme Durumu'],\n",
       "      dtype='object'))])),\n",
       "                ('lightgbm_model',\n",
       "                 LGBMClassifier(boosting_type='dart', colsample_bytree=0.6,\n",
       "                                is_unbalance=True, learning_rate=0.01,\n",
       "                                min_child_samples=30, n_estimators=1000,\n",
       "                                num_leaves=70, random_state=42, reg_alpha=0,\n",
       "                                scale_pos_weight=4, subsample_for_bin=3000))])"
      ]
     },
     "execution_count": 13,
     "metadata": {},
     "output_type": "execute_result"
    }
   ],
   "source": [
    "import lightgbm as lgb\n",
    "\n",
    "operations_lightgbm = [(\"OrdinalEncoder\", column_trans), \n",
    "                       (\"lightgbm_model\", lgb.LGBMClassifier(boosting_type='dart',\n",
    "                                                             colsample_bytree=0.6,\n",
    "                                                             is_unbalance=True,\n",
    "                                                             learning_rate=0.01,\n",
    "                                                             min_child_samples=30,\n",
    "                                                             n_estimators=1000,\n",
    "                                                             num_leaves=70,\n",
    "                                                             reg_alpha=0,\n",
    "                                                             scale_pos_weight=4,\n",
    "                                                             subsample_for_bin=3000,\n",
    "                                                             random_state=42))]\n",
    "\n",
    "lightgbm_model = Pipeline(steps=operations_lightgbm)\n",
    "\n",
    "lightgbm_model.fit(X_train, y_train)"
   ]
  },
  {
   "cell_type": "code",
   "execution_count": 14,
   "id": "f174c878-8b53-48ff-addb-a86cbe690255",
   "metadata": {
    "tags": []
   },
   "outputs": [
    {
     "name": "stdout",
     "output_type": "stream",
     "text": [
      "Test_Set\n",
      "[[132   1   2   0   0   0   1   2]\n",
      " [  0 104   2   0   0   0   1   2]\n",
      " [  0   0 135   0   1   3   0   0]\n",
      " [  1   0   2 137   0   1   2   1]\n",
      " [  1   1   1   1 134   2   0   1]\n",
      " [  1   1   0   0   0 133   2   1]\n",
      " [  1   1   1   0   0   1 135   0]\n",
      " [  0   0   2   2   0   0   2 138]]\n",
      "              precision    recall  f1-score   support\n",
      "\n",
      "      obek_1       0.97      0.96      0.96       138\n",
      "      obek_2       0.96      0.95      0.96       109\n",
      "      obek_3       0.93      0.97      0.95       139\n",
      "      obek_4       0.98      0.95      0.96       144\n",
      "      obek_5       0.99      0.95      0.97       141\n",
      "      obek_6       0.95      0.96      0.96       138\n",
      "      obek_7       0.94      0.97      0.96       139\n",
      "      obek_8       0.95      0.96      0.96       144\n",
      "\n",
      "    accuracy                           0.96      1092\n",
      "   macro avg       0.96      0.96      0.96      1092\n",
      "weighted avg       0.96      0.96      0.96      1092\n",
      "\n",
      "\n",
      "Train_Set\n",
      "[[531   1   5   7   2   3   4   1]\n",
      " [  3 423   2   1   1   5   3   0]\n",
      " [  4   0 538   1   1   5   5   2]\n",
      " [  1   2   5 556   3   4   3   2]\n",
      " [  3   0   2   0 555   1   1   3]\n",
      " [  3   1   2   2   1 535   3   3]\n",
      " [  3   2   4   4   0   3 536   4]\n",
      " [  1   1   2   3   3   1   0 562]]\n",
      "              precision    recall  f1-score   support\n",
      "\n",
      "      obek_1       0.97      0.96      0.96       554\n",
      "      obek_2       0.98      0.97      0.97       438\n",
      "      obek_3       0.96      0.97      0.96       556\n",
      "      obek_4       0.97      0.97      0.97       576\n",
      "      obek_5       0.98      0.98      0.98       565\n",
      "      obek_6       0.96      0.97      0.97       550\n",
      "      obek_7       0.97      0.96      0.96       556\n",
      "      obek_8       0.97      0.98      0.98       573\n",
      "\n",
      "    accuracy                           0.97      4368\n",
      "   macro avg       0.97      0.97      0.97      4368\n",
      "weighted avg       0.97      0.97      0.97      4368\n",
      "\n"
     ]
    }
   ],
   "source": [
    "eval_metric(lightgbm_model, X_train, y_train, X_test, y_test)"
   ]
  },
  {
   "cell_type": "code",
   "execution_count": 15,
   "id": "4c8657ed-eec3-45cc-9763-7cddf0451918",
   "metadata": {
    "tags": []
   },
   "outputs": [
    {
     "name": "stdout",
     "output_type": "stream",
     "text": [
      "LightGBM Model accuracy score: 0.9597\n"
     ]
    }
   ],
   "source": [
    "from sklearn.metrics import accuracy_score\n",
    "\n",
    "y_pred = lightgbm_model.predict(X_test)\n",
    "accuracy=accuracy_score(y_pred, y_test)\n",
    "print('LightGBM Model accuracy score: {0:0.4f}'.format(accuracy_score(y_test, y_pred)))"
   ]
  },
  {
   "cell_type": "code",
   "execution_count": 16,
   "id": "084965b4-ab3d-47a5-a89c-beb8108bc902",
   "metadata": {
    "tags": []
   },
   "outputs": [],
   "source": [
    "predict = lightgbm_model.predict(test)"
   ]
  },
  {
   "cell_type": "code",
   "execution_count": 17,
   "id": "f6fbca76-dba5-429c-aeac-04479ed05e46",
   "metadata": {
    "tags": []
   },
   "outputs": [
    {
     "data": {
      "text/html": [
       "<div>\n",
       "<style scoped>\n",
       "    .dataframe tbody tr th:only-of-type {\n",
       "        vertical-align: middle;\n",
       "    }\n",
       "\n",
       "    .dataframe tbody tr th {\n",
       "        vertical-align: top;\n",
       "    }\n",
       "\n",
       "    .dataframe thead th {\n",
       "        text-align: right;\n",
       "    }\n",
       "</style>\n",
       "<table border=\"1\" class=\"dataframe\">\n",
       "  <thead>\n",
       "    <tr style=\"text-align: right;\">\n",
       "      <th></th>\n",
       "      <th>Öbek İsmi</th>\n",
       "    </tr>\n",
       "    <tr>\n",
       "      <th>id</th>\n",
       "      <th></th>\n",
       "    </tr>\n",
       "  </thead>\n",
       "  <tbody>\n",
       "    <tr>\n",
       "      <th>0</th>\n",
       "      <td>obek_3</td>\n",
       "    </tr>\n",
       "    <tr>\n",
       "      <th>1</th>\n",
       "      <td>obek_3</td>\n",
       "    </tr>\n",
       "    <tr>\n",
       "      <th>2</th>\n",
       "      <td>obek_2</td>\n",
       "    </tr>\n",
       "    <tr>\n",
       "      <th>3</th>\n",
       "      <td>obek_6</td>\n",
       "    </tr>\n",
       "    <tr>\n",
       "      <th>4</th>\n",
       "      <td>obek_1</td>\n",
       "    </tr>\n",
       "    <tr>\n",
       "      <th>...</th>\n",
       "      <td>...</td>\n",
       "    </tr>\n",
       "    <tr>\n",
       "      <th>2335</th>\n",
       "      <td>obek_8</td>\n",
       "    </tr>\n",
       "    <tr>\n",
       "      <th>2336</th>\n",
       "      <td>obek_2</td>\n",
       "    </tr>\n",
       "    <tr>\n",
       "      <th>2337</th>\n",
       "      <td>obek_7</td>\n",
       "    </tr>\n",
       "    <tr>\n",
       "      <th>2338</th>\n",
       "      <td>obek_5</td>\n",
       "    </tr>\n",
       "    <tr>\n",
       "      <th>2339</th>\n",
       "      <td>obek_6</td>\n",
       "    </tr>\n",
       "  </tbody>\n",
       "</table>\n",
       "<p>2340 rows × 1 columns</p>\n",
       "</div>"
      ],
      "text/plain": [
       "     Öbek İsmi\n",
       "id            \n",
       "0       obek_3\n",
       "1       obek_3\n",
       "2       obek_2\n",
       "3       obek_6\n",
       "4       obek_1\n",
       "...        ...\n",
       "2335    obek_8\n",
       "2336    obek_2\n",
       "2337    obek_7\n",
       "2338    obek_5\n",
       "2339    obek_6\n",
       "\n",
       "[2340 rows x 1 columns]"
      ]
     },
     "execution_count": 17,
     "metadata": {},
     "output_type": "execute_result"
    }
   ],
   "source": [
    "data = {\n",
    "    'id': range(2340),\n",
    "    'Öbek İsmi': predict\n",
    "}\n",
    "sub_df = pd.DataFrame(data)\n",
    "sub_df.set_index('id', inplace=True)\n",
    "sub_df"
   ]
  },
  {
   "cell_type": "code",
   "execution_count": 19,
   "id": "1549ee1a-15bb-4982-950d-09390432b71c",
   "metadata": {
    "tags": []
   },
   "outputs": [],
   "source": [
    "sub_df.to_csv('submission_lgbm_fe2.csv')"
   ]
  },
  {
   "cell_type": "code",
   "execution_count": null,
   "id": "5d9a6a30-8c03-4c36-8913-4a0f307a83ba",
   "metadata": {},
   "outputs": [],
   "source": []
  },
  {
   "cell_type": "code",
   "execution_count": null,
   "id": "dc5920d1-4e7b-4805-9f13-2ed8014f1a3e",
   "metadata": {},
   "outputs": [],
   "source": []
  },
  {
   "cell_type": "code",
   "execution_count": null,
   "id": "0788baf6-59cc-48ff-8b7a-0f2fee567a5f",
   "metadata": {},
   "outputs": [],
   "source": []
  },
  {
   "cell_type": "code",
   "execution_count": null,
   "id": "d480c9af-54d4-4547-bd83-cf832fbd5416",
   "metadata": {},
   "outputs": [],
   "source": []
  },
  {
   "cell_type": "code",
   "execution_count": null,
   "id": "6c08ed3c-5a6e-4ba9-bce7-a3bd2a97dd7f",
   "metadata": {},
   "outputs": [],
   "source": []
  },
  {
   "cell_type": "code",
   "execution_count": null,
   "id": "7a29b019-235e-46dc-b05d-ba85acd262ef",
   "metadata": {},
   "outputs": [],
   "source": []
  }
 ],
 "metadata": {
  "kernelspec": {
   "display_name": "project_env2",
   "language": "python",
   "name": "project_env2"
  },
  "language_info": {
   "codemirror_mode": {
    "name": "ipython",
    "version": 3
   },
   "file_extension": ".py",
   "mimetype": "text/x-python",
   "name": "python",
   "nbconvert_exporter": "python",
   "pygments_lexer": "ipython3",
   "version": "3.11.4"
  }
 },
 "nbformat": 4,
 "nbformat_minor": 5
}
